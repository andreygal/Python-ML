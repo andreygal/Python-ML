{
 "cells": [
  {
   "cell_type": "markdown",
   "metadata": {},
   "source": [
    "___\n",
    "\n",
    "<a href='http://www.pieriandata.com'> <img src='../Pierian_Data_Logo.png' /></a>\n",
    "___\n",
    "# Plotly and Cufflinks"
   ]
  },
  {
   "cell_type": "markdown",
   "metadata": {},
   "source": [
    "Plotly is a library that allows you to create interactive plots that you can use in dashboards or websites (you can save them as html files or static images).\n",
    "\n",
    "## Installation\n",
    "\n",
    "In order for this all to work, you'll need to install plotly and cufflinks to call plots directly off of a pandas dataframe. These libraries are not currently available through **conda** but are available through **pip**. Install the libraries at your command line/terminal using:\n",
    "\n",
    "    pip install plotly\n",
    "    pip install cufflinks\n",
    "\n",
    "** NOTE: Make sure you only have one installation of Python on your computer when you do this, otherwise the installation may not work. **\n",
    "\n",
    "## Imports and Set-up"
   ]
  },
  {
   "cell_type": "code",
   "execution_count": 1,
   "metadata": {},
   "outputs": [],
   "source": [
    "import pandas as pd\n",
    "import numpy as np\n",
    "%matplotlib inline"
   ]
  },
  {
   "cell_type": "code",
   "execution_count": 2,
   "metadata": {},
   "outputs": [
    {
     "name": "stdout",
     "output_type": "stream",
     "text": [
      "4.6.0\n"
     ]
    }
   ],
   "source": [
    "from plotly import __version__\n",
    "from plotly.offline import download_plotlyjs, init_notebook_mode, plot, iplot\n",
    "\n",
    "print(__version__) # requires version >= 1.9.0"
   ]
  },
  {
   "cell_type": "code",
   "execution_count": 3,
   "metadata": {},
   "outputs": [],
   "source": [
    "import cufflinks as cf"
   ]
  },
  {
   "cell_type": "code",
   "execution_count": 4,
   "metadata": {},
   "outputs": [
    {
     "data": {
      "text/html": [
       "        <script type=\"text/javascript\">\n",
       "        window.PlotlyConfig = {MathJaxConfig: 'local'};\n",
       "        if (window.MathJax) {MathJax.Hub.Config({SVG: {font: \"STIX-Web\"}});}\n",
       "        if (typeof require !== 'undefined') {\n",
       "        require.undef(\"plotly\");\n",
       "        requirejs.config({\n",
       "            paths: {\n",
       "                'plotly': ['https://cdn.plot.ly/plotly-latest.min']\n",
       "            }\n",
       "        });\n",
       "        require(['plotly'], function(Plotly) {\n",
       "            window._Plotly = Plotly;\n",
       "        });\n",
       "        }\n",
       "        </script>\n",
       "        "
      ]
     },
     "metadata": {},
     "output_type": "display_data"
    }
   ],
   "source": [
    "# For Notebooks\n",
    "init_notebook_mode(connected=True)"
   ]
  },
  {
   "cell_type": "code",
   "execution_count": 5,
   "metadata": {},
   "outputs": [
    {
     "data": {
      "text/html": [
       "        <script type=\"text/javascript\">\n",
       "        window.PlotlyConfig = {MathJaxConfig: 'local'};\n",
       "        if (window.MathJax) {MathJax.Hub.Config({SVG: {font: \"STIX-Web\"}});}\n",
       "        if (typeof require !== 'undefined') {\n",
       "        require.undef(\"plotly\");\n",
       "        requirejs.config({\n",
       "            paths: {\n",
       "                'plotly': ['https://cdn.plot.ly/plotly-latest.min']\n",
       "            }\n",
       "        });\n",
       "        require(['plotly'], function(Plotly) {\n",
       "            window._Plotly = Plotly;\n",
       "        });\n",
       "        }\n",
       "        </script>\n",
       "        "
      ]
     },
     "metadata": {},
     "output_type": "display_data"
    }
   ],
   "source": [
    "# For offline use\n",
    "cf.go_offline()"
   ]
  },
  {
   "cell_type": "markdown",
   "metadata": {},
   "source": [
    "### Fake Data"
   ]
  },
  {
   "cell_type": "code",
   "execution_count": 6,
   "metadata": {},
   "outputs": [],
   "source": [
    "df = pd.DataFrame(np.random.randn(100,4),columns='A B C D'.split())"
   ]
  },
  {
   "cell_type": "code",
   "execution_count": 7,
   "metadata": {},
   "outputs": [
    {
     "data": {
      "text/html": [
       "<div>\n",
       "<style scoped>\n",
       "    .dataframe tbody tr th:only-of-type {\n",
       "        vertical-align: middle;\n",
       "    }\n",
       "\n",
       "    .dataframe tbody tr th {\n",
       "        vertical-align: top;\n",
       "    }\n",
       "\n",
       "    .dataframe thead th {\n",
       "        text-align: right;\n",
       "    }\n",
       "</style>\n",
       "<table border=\"1\" class=\"dataframe\">\n",
       "  <thead>\n",
       "    <tr style=\"text-align: right;\">\n",
       "      <th></th>\n",
       "      <th>A</th>\n",
       "      <th>B</th>\n",
       "      <th>C</th>\n",
       "      <th>D</th>\n",
       "    </tr>\n",
       "  </thead>\n",
       "  <tbody>\n",
       "    <tr>\n",
       "      <th>0</th>\n",
       "      <td>0.842580</td>\n",
       "      <td>0.097597</td>\n",
       "      <td>0.244309</td>\n",
       "      <td>1.184062</td>\n",
       "    </tr>\n",
       "    <tr>\n",
       "      <th>1</th>\n",
       "      <td>0.822873</td>\n",
       "      <td>0.613732</td>\n",
       "      <td>1.153158</td>\n",
       "      <td>1.527483</td>\n",
       "    </tr>\n",
       "    <tr>\n",
       "      <th>2</th>\n",
       "      <td>0.453021</td>\n",
       "      <td>-0.285457</td>\n",
       "      <td>-1.227946</td>\n",
       "      <td>-1.065505</td>\n",
       "    </tr>\n",
       "    <tr>\n",
       "      <th>3</th>\n",
       "      <td>-0.154646</td>\n",
       "      <td>0.121427</td>\n",
       "      <td>1.343407</td>\n",
       "      <td>-0.671280</td>\n",
       "    </tr>\n",
       "    <tr>\n",
       "      <th>4</th>\n",
       "      <td>-0.334429</td>\n",
       "      <td>-0.305380</td>\n",
       "      <td>-0.041218</td>\n",
       "      <td>1.237157</td>\n",
       "    </tr>\n",
       "  </tbody>\n",
       "</table>\n",
       "</div>"
      ],
      "text/plain": [
       "          A         B         C         D\n",
       "0  0.842580  0.097597  0.244309  1.184062\n",
       "1  0.822873  0.613732  1.153158  1.527483\n",
       "2  0.453021 -0.285457 -1.227946 -1.065505\n",
       "3 -0.154646  0.121427  1.343407 -0.671280\n",
       "4 -0.334429 -0.305380 -0.041218  1.237157"
      ]
     },
     "execution_count": 7,
     "metadata": {},
     "output_type": "execute_result"
    }
   ],
   "source": [
    "df.head()"
   ]
  },
  {
   "cell_type": "code",
   "execution_count": 8,
   "metadata": {},
   "outputs": [],
   "source": [
    "df2 = pd.DataFrame({'Category':['A','B','C'],'Values':[32,43,50]})"
   ]
  },
  {
   "cell_type": "code",
   "execution_count": 9,
   "metadata": {},
   "outputs": [
    {
     "data": {
      "text/html": [
       "<div>\n",
       "<style scoped>\n",
       "    .dataframe tbody tr th:only-of-type {\n",
       "        vertical-align: middle;\n",
       "    }\n",
       "\n",
       "    .dataframe tbody tr th {\n",
       "        vertical-align: top;\n",
       "    }\n",
       "\n",
       "    .dataframe thead th {\n",
       "        text-align: right;\n",
       "    }\n",
       "</style>\n",
       "<table border=\"1\" class=\"dataframe\">\n",
       "  <thead>\n",
       "    <tr style=\"text-align: right;\">\n",
       "      <th></th>\n",
       "      <th>Category</th>\n",
       "      <th>Values</th>\n",
       "    </tr>\n",
       "  </thead>\n",
       "  <tbody>\n",
       "    <tr>\n",
       "      <th>0</th>\n",
       "      <td>A</td>\n",
       "      <td>32</td>\n",
       "    </tr>\n",
       "    <tr>\n",
       "      <th>1</th>\n",
       "      <td>B</td>\n",
       "      <td>43</td>\n",
       "    </tr>\n",
       "    <tr>\n",
       "      <th>2</th>\n",
       "      <td>C</td>\n",
       "      <td>50</td>\n",
       "    </tr>\n",
       "  </tbody>\n",
       "</table>\n",
       "</div>"
      ],
      "text/plain": [
       "  Category  Values\n",
       "0        A      32\n",
       "1        B      43\n",
       "2        C      50"
      ]
     },
     "execution_count": 9,
     "metadata": {},
     "output_type": "execute_result"
    }
   ],
   "source": [
    "df2.head()"
   ]
  },
  {
   "cell_type": "markdown",
   "metadata": {},
   "source": [
    "## Using Cufflinks and iplot()\n",
    "\n",
    "* scatter\n",
    "* bar\n",
    "* box\n",
    "* spread\n",
    "* ratio\n",
    "* heatmap\n",
    "* surface\n",
    "* histogram\n",
    "* bubble"
   ]
  },
  {
   "cell_type": "markdown",
   "metadata": {},
   "source": [
    "## Scatter"
   ]
  },
  {
   "cell_type": "code",
   "execution_count": 11,
   "metadata": {},
   "outputs": [
    {
     "data": {
      "application/vnd.plotly.v1+json": {
       "config": {
        "linkText": "Export to plot.ly",
        "plotlyServerURL": "https://plot.ly",
        "showLink": true
       },
       "data": [
        {
         "line": {
          "color": "rgba(255, 153, 51, 1.0)",
          "dash": "solid",
          "shape": "linear",
          "width": 1.3
         },
         "marker": {
          "size": 10,
          "symbol": "circle"
         },
         "mode": "markers",
         "name": "B",
         "text": "",
         "type": "scatter",
         "x": [
          0.8425800230056536,
          0.8228729931602605,
          0.45302144958655327,
          -0.15464636949214794,
          -0.3344287501808655,
          -0.6155627897642467,
          -0.8511015145286904,
          -0.22416144352609133,
          0.6602592697073943,
          1.6688045668274765,
          -1.1078003079394538,
          0.5205314770180932,
          -0.3363048584250365,
          0.40602399155108443,
          0.19011255413451617,
          2.4654201650905123,
          0.32154357233462094,
          -0.8213877114714514,
          0.5107565293763973,
          -1.3839586003113933,
          -1.0639421497820791,
          0.6849377969963686,
          -1.1333905961531854,
          -0.11635118566959907,
          -0.37936734911283415,
          0.4456028260228318,
          1.9327013265029618,
          -0.024565439083912236,
          0.7526701692658325,
          -0.5662253860236415,
          0.8821763247769187,
          0.2805875093621268,
          -0.9788739014698855,
          0.3036651709603921,
          0.5396091606224961,
          0.6665514304418824,
          0.5352043387203083,
          1.2129258711535873,
          0.7240042780223538,
          -1.0098975715722636,
          -0.16289919477076262,
          -0.8154323532297832,
          -0.3977749740844525,
          0.7845287767499552,
          -0.5823264324213028,
          1.7668402955824636,
          -0.5784049432184615,
          -0.11684278517136609,
          0.2951817195596696,
          -1.9513260315146401,
          -0.629934701459229,
          0.045131028591535005,
          -0.8402131275960164,
          0.5006646482393786,
          1.7927717048719476,
          -0.6399442017860044,
          1.7017414053525006,
          0.5571691974779828,
          -1.0823590214650136,
          -1.6669125591790803,
          -1.1665984022067872,
          1.5447897360165155,
          0.49559664950232923,
          -0.7110348817342973,
          0.048815188290864814,
          -0.07622169384583687,
          -0.9396682102311819,
          0.9048619394581252,
          0.3236739195518902,
          0.9322713987437912,
          -0.3677385853043386,
          -1.0783725873956171,
          1.2426757883845556,
          1.7282300608014385,
          0.5351211848501362,
          0.7207300381574594,
          -0.6571632159603973,
          0.3005500199868126,
          -2.2034542653997344,
          -2.261749854662406,
          -0.4732251632090071,
          -0.5134968603809374,
          0.6522671412507076,
          -0.315077705434412,
          0.675942762735105,
          1.5233300660474078,
          -0.954080252681867,
          0.9823848551740675,
          -1.635832764245846,
          0.2167668557418693,
          -0.7951469007973236,
          1.1919912435334072,
          1.2511730130201058,
          -1.3838268497648982,
          -0.5664230216840095,
          -1.4987921435235554,
          -0.8066030673898453,
          1.092576357472236,
          -0.20879159797990765,
          0.22369880671706246
         ],
         "y": [
          0.09759749197282581,
          0.6137315514697458,
          -0.2854572156585551,
          0.12142749701404602,
          -0.30538017910705795,
          0.9653249896933419,
          0.30763722494900336,
          -1.1804135293053442,
          2.0108948250826093,
          2.3281200521482357,
          0.8375326746814203,
          -1.1552593469105479,
          0.8209178718438593,
          -2.1722914069362815,
          -0.19986657830185683,
          -0.7093964594384959,
          -0.37191912168682706,
          1.065137719776101,
          2.0031885770388995,
          0.43456347993737837,
          0.527346750628352,
          -1.2824861366308757,
          0.03924695575136877,
          -0.7168935257821382,
          -0.30359036230906783,
          -0.6962633344761804,
          0.4211274074392302,
          1.6871651877846425,
          -0.039050782188639416,
          2.072099683982022,
          0.5204468688348854,
          1.0164792926890849,
          -0.7316803836275722,
          -0.3898451347452699,
          0.6294922442320586,
          1.183797549303694,
          -0.921297878278392,
          0.222282348897835,
          0.9547244715510609,
          -0.8592356555646143,
          -0.8440219747360963,
          -1.4596730660029675,
          -0.3579668388348763,
          -1.4899713082696882,
          -2.3650778604752984,
          1.0468466219410333,
          0.9046954089969772,
          1.253496239045731,
          0.23066745133877534,
          0.42399151575975924,
          -0.5724448167613085,
          -0.0312127195328586,
          0.44684169836912685,
          1.661791445451631,
          0.39485216421711317,
          -0.9018174786830869,
          -0.2663074862302335,
          1.2333682595654787,
          0.13796620315491115,
          0.0057041245113695635,
          0.412917020734218,
          0.23865432191821495,
          0.5065339609050801,
          -0.6925694953378969,
          -0.026446794780587146,
          -0.06475640554797196,
          -0.3446106690484418,
          0.5569329770877339,
          -0.1738856363317943,
          1.4132900725586053,
          0.5334262689843003,
          -0.6694902766680653,
          -0.37074495041061745,
          -0.17119048891228544,
          -1.5647514632194899,
          0.004023378941902747,
          0.8810753994171026,
          -1.2184413372674996,
          -2.1481159031421484,
          -1.4962719748944955,
          0.38038407459807444,
          0.2765898772414553,
          -0.11068749614747805,
          -1.047817447159204,
          -0.2100501154288501,
          1.0337835973410112,
          0.7557620116787,
          -1.0507032147285573,
          -0.4880355055022291,
          2.187073071990288,
          -1.6687730112146275,
          0.5285813339439062,
          0.21622635990512282,
          0.5654349024962452,
          0.7680214651948842,
          1.124622659275688,
          -0.024373578774586648,
          -0.7540674874965095,
          1.3378437781960533,
          0.5837528107495575
         ]
        }
       ],
       "layout": {
        "legend": {
         "bgcolor": "#F5F6F9",
         "font": {
          "color": "#4D5663"
         }
        },
        "paper_bgcolor": "#F5F6F9",
        "plot_bgcolor": "#F5F6F9",
        "template": {
         "data": {
          "bar": [
           {
            "error_x": {
             "color": "#2a3f5f"
            },
            "error_y": {
             "color": "#2a3f5f"
            },
            "marker": {
             "line": {
              "color": "#E5ECF6",
              "width": 0.5
             }
            },
            "type": "bar"
           }
          ],
          "barpolar": [
           {
            "marker": {
             "line": {
              "color": "#E5ECF6",
              "width": 0.5
             }
            },
            "type": "barpolar"
           }
          ],
          "carpet": [
           {
            "aaxis": {
             "endlinecolor": "#2a3f5f",
             "gridcolor": "white",
             "linecolor": "white",
             "minorgridcolor": "white",
             "startlinecolor": "#2a3f5f"
            },
            "baxis": {
             "endlinecolor": "#2a3f5f",
             "gridcolor": "white",
             "linecolor": "white",
             "minorgridcolor": "white",
             "startlinecolor": "#2a3f5f"
            },
            "type": "carpet"
           }
          ],
          "choropleth": [
           {
            "colorbar": {
             "outlinewidth": 0,
             "ticks": ""
            },
            "type": "choropleth"
           }
          ],
          "contour": [
           {
            "colorbar": {
             "outlinewidth": 0,
             "ticks": ""
            },
            "colorscale": [
             [
              0,
              "#0d0887"
             ],
             [
              0.1111111111111111,
              "#46039f"
             ],
             [
              0.2222222222222222,
              "#7201a8"
             ],
             [
              0.3333333333333333,
              "#9c179e"
             ],
             [
              0.4444444444444444,
              "#bd3786"
             ],
             [
              0.5555555555555556,
              "#d8576b"
             ],
             [
              0.6666666666666666,
              "#ed7953"
             ],
             [
              0.7777777777777778,
              "#fb9f3a"
             ],
             [
              0.8888888888888888,
              "#fdca26"
             ],
             [
              1,
              "#f0f921"
             ]
            ],
            "type": "contour"
           }
          ],
          "contourcarpet": [
           {
            "colorbar": {
             "outlinewidth": 0,
             "ticks": ""
            },
            "type": "contourcarpet"
           }
          ],
          "heatmap": [
           {
            "colorbar": {
             "outlinewidth": 0,
             "ticks": ""
            },
            "colorscale": [
             [
              0,
              "#0d0887"
             ],
             [
              0.1111111111111111,
              "#46039f"
             ],
             [
              0.2222222222222222,
              "#7201a8"
             ],
             [
              0.3333333333333333,
              "#9c179e"
             ],
             [
              0.4444444444444444,
              "#bd3786"
             ],
             [
              0.5555555555555556,
              "#d8576b"
             ],
             [
              0.6666666666666666,
              "#ed7953"
             ],
             [
              0.7777777777777778,
              "#fb9f3a"
             ],
             [
              0.8888888888888888,
              "#fdca26"
             ],
             [
              1,
              "#f0f921"
             ]
            ],
            "type": "heatmap"
           }
          ],
          "heatmapgl": [
           {
            "colorbar": {
             "outlinewidth": 0,
             "ticks": ""
            },
            "colorscale": [
             [
              0,
              "#0d0887"
             ],
             [
              0.1111111111111111,
              "#46039f"
             ],
             [
              0.2222222222222222,
              "#7201a8"
             ],
             [
              0.3333333333333333,
              "#9c179e"
             ],
             [
              0.4444444444444444,
              "#bd3786"
             ],
             [
              0.5555555555555556,
              "#d8576b"
             ],
             [
              0.6666666666666666,
              "#ed7953"
             ],
             [
              0.7777777777777778,
              "#fb9f3a"
             ],
             [
              0.8888888888888888,
              "#fdca26"
             ],
             [
              1,
              "#f0f921"
             ]
            ],
            "type": "heatmapgl"
           }
          ],
          "histogram": [
           {
            "marker": {
             "colorbar": {
              "outlinewidth": 0,
              "ticks": ""
             }
            },
            "type": "histogram"
           }
          ],
          "histogram2d": [
           {
            "colorbar": {
             "outlinewidth": 0,
             "ticks": ""
            },
            "colorscale": [
             [
              0,
              "#0d0887"
             ],
             [
              0.1111111111111111,
              "#46039f"
             ],
             [
              0.2222222222222222,
              "#7201a8"
             ],
             [
              0.3333333333333333,
              "#9c179e"
             ],
             [
              0.4444444444444444,
              "#bd3786"
             ],
             [
              0.5555555555555556,
              "#d8576b"
             ],
             [
              0.6666666666666666,
              "#ed7953"
             ],
             [
              0.7777777777777778,
              "#fb9f3a"
             ],
             [
              0.8888888888888888,
              "#fdca26"
             ],
             [
              1,
              "#f0f921"
             ]
            ],
            "type": "histogram2d"
           }
          ],
          "histogram2dcontour": [
           {
            "colorbar": {
             "outlinewidth": 0,
             "ticks": ""
            },
            "colorscale": [
             [
              0,
              "#0d0887"
             ],
             [
              0.1111111111111111,
              "#46039f"
             ],
             [
              0.2222222222222222,
              "#7201a8"
             ],
             [
              0.3333333333333333,
              "#9c179e"
             ],
             [
              0.4444444444444444,
              "#bd3786"
             ],
             [
              0.5555555555555556,
              "#d8576b"
             ],
             [
              0.6666666666666666,
              "#ed7953"
             ],
             [
              0.7777777777777778,
              "#fb9f3a"
             ],
             [
              0.8888888888888888,
              "#fdca26"
             ],
             [
              1,
              "#f0f921"
             ]
            ],
            "type": "histogram2dcontour"
           }
          ],
          "mesh3d": [
           {
            "colorbar": {
             "outlinewidth": 0,
             "ticks": ""
            },
            "type": "mesh3d"
           }
          ],
          "parcoords": [
           {
            "line": {
             "colorbar": {
              "outlinewidth": 0,
              "ticks": ""
             }
            },
            "type": "parcoords"
           }
          ],
          "pie": [
           {
            "automargin": true,
            "type": "pie"
           }
          ],
          "scatter": [
           {
            "marker": {
             "colorbar": {
              "outlinewidth": 0,
              "ticks": ""
             }
            },
            "type": "scatter"
           }
          ],
          "scatter3d": [
           {
            "line": {
             "colorbar": {
              "outlinewidth": 0,
              "ticks": ""
             }
            },
            "marker": {
             "colorbar": {
              "outlinewidth": 0,
              "ticks": ""
             }
            },
            "type": "scatter3d"
           }
          ],
          "scattercarpet": [
           {
            "marker": {
             "colorbar": {
              "outlinewidth": 0,
              "ticks": ""
             }
            },
            "type": "scattercarpet"
           }
          ],
          "scattergeo": [
           {
            "marker": {
             "colorbar": {
              "outlinewidth": 0,
              "ticks": ""
             }
            },
            "type": "scattergeo"
           }
          ],
          "scattergl": [
           {
            "marker": {
             "colorbar": {
              "outlinewidth": 0,
              "ticks": ""
             }
            },
            "type": "scattergl"
           }
          ],
          "scattermapbox": [
           {
            "marker": {
             "colorbar": {
              "outlinewidth": 0,
              "ticks": ""
             }
            },
            "type": "scattermapbox"
           }
          ],
          "scatterpolar": [
           {
            "marker": {
             "colorbar": {
              "outlinewidth": 0,
              "ticks": ""
             }
            },
            "type": "scatterpolar"
           }
          ],
          "scatterpolargl": [
           {
            "marker": {
             "colorbar": {
              "outlinewidth": 0,
              "ticks": ""
             }
            },
            "type": "scatterpolargl"
           }
          ],
          "scatterternary": [
           {
            "marker": {
             "colorbar": {
              "outlinewidth": 0,
              "ticks": ""
             }
            },
            "type": "scatterternary"
           }
          ],
          "surface": [
           {
            "colorbar": {
             "outlinewidth": 0,
             "ticks": ""
            },
            "colorscale": [
             [
              0,
              "#0d0887"
             ],
             [
              0.1111111111111111,
              "#46039f"
             ],
             [
              0.2222222222222222,
              "#7201a8"
             ],
             [
              0.3333333333333333,
              "#9c179e"
             ],
             [
              0.4444444444444444,
              "#bd3786"
             ],
             [
              0.5555555555555556,
              "#d8576b"
             ],
             [
              0.6666666666666666,
              "#ed7953"
             ],
             [
              0.7777777777777778,
              "#fb9f3a"
             ],
             [
              0.8888888888888888,
              "#fdca26"
             ],
             [
              1,
              "#f0f921"
             ]
            ],
            "type": "surface"
           }
          ],
          "table": [
           {
            "cells": {
             "fill": {
              "color": "#EBF0F8"
             },
             "line": {
              "color": "white"
             }
            },
            "header": {
             "fill": {
              "color": "#C8D4E3"
             },
             "line": {
              "color": "white"
             }
            },
            "type": "table"
           }
          ]
         },
         "layout": {
          "annotationdefaults": {
           "arrowcolor": "#2a3f5f",
           "arrowhead": 0,
           "arrowwidth": 1
          },
          "coloraxis": {
           "colorbar": {
            "outlinewidth": 0,
            "ticks": ""
           }
          },
          "colorscale": {
           "diverging": [
            [
             0,
             "#8e0152"
            ],
            [
             0.1,
             "#c51b7d"
            ],
            [
             0.2,
             "#de77ae"
            ],
            [
             0.3,
             "#f1b6da"
            ],
            [
             0.4,
             "#fde0ef"
            ],
            [
             0.5,
             "#f7f7f7"
            ],
            [
             0.6,
             "#e6f5d0"
            ],
            [
             0.7,
             "#b8e186"
            ],
            [
             0.8,
             "#7fbc41"
            ],
            [
             0.9,
             "#4d9221"
            ],
            [
             1,
             "#276419"
            ]
           ],
           "sequential": [
            [
             0,
             "#0d0887"
            ],
            [
             0.1111111111111111,
             "#46039f"
            ],
            [
             0.2222222222222222,
             "#7201a8"
            ],
            [
             0.3333333333333333,
             "#9c179e"
            ],
            [
             0.4444444444444444,
             "#bd3786"
            ],
            [
             0.5555555555555556,
             "#d8576b"
            ],
            [
             0.6666666666666666,
             "#ed7953"
            ],
            [
             0.7777777777777778,
             "#fb9f3a"
            ],
            [
             0.8888888888888888,
             "#fdca26"
            ],
            [
             1,
             "#f0f921"
            ]
           ],
           "sequentialminus": [
            [
             0,
             "#0d0887"
            ],
            [
             0.1111111111111111,
             "#46039f"
            ],
            [
             0.2222222222222222,
             "#7201a8"
            ],
            [
             0.3333333333333333,
             "#9c179e"
            ],
            [
             0.4444444444444444,
             "#bd3786"
            ],
            [
             0.5555555555555556,
             "#d8576b"
            ],
            [
             0.6666666666666666,
             "#ed7953"
            ],
            [
             0.7777777777777778,
             "#fb9f3a"
            ],
            [
             0.8888888888888888,
             "#fdca26"
            ],
            [
             1,
             "#f0f921"
            ]
           ]
          },
          "colorway": [
           "#636efa",
           "#EF553B",
           "#00cc96",
           "#ab63fa",
           "#FFA15A",
           "#19d3f3",
           "#FF6692",
           "#B6E880",
           "#FF97FF",
           "#FECB52"
          ],
          "font": {
           "color": "#2a3f5f"
          },
          "geo": {
           "bgcolor": "white",
           "lakecolor": "white",
           "landcolor": "#E5ECF6",
           "showlakes": true,
           "showland": true,
           "subunitcolor": "white"
          },
          "hoverlabel": {
           "align": "left"
          },
          "hovermode": "closest",
          "mapbox": {
           "style": "light"
          },
          "paper_bgcolor": "white",
          "plot_bgcolor": "#E5ECF6",
          "polar": {
           "angularaxis": {
            "gridcolor": "white",
            "linecolor": "white",
            "ticks": ""
           },
           "bgcolor": "#E5ECF6",
           "radialaxis": {
            "gridcolor": "white",
            "linecolor": "white",
            "ticks": ""
           }
          },
          "scene": {
           "xaxis": {
            "backgroundcolor": "#E5ECF6",
            "gridcolor": "white",
            "gridwidth": 2,
            "linecolor": "white",
            "showbackground": true,
            "ticks": "",
            "zerolinecolor": "white"
           },
           "yaxis": {
            "backgroundcolor": "#E5ECF6",
            "gridcolor": "white",
            "gridwidth": 2,
            "linecolor": "white",
            "showbackground": true,
            "ticks": "",
            "zerolinecolor": "white"
           },
           "zaxis": {
            "backgroundcolor": "#E5ECF6",
            "gridcolor": "white",
            "gridwidth": 2,
            "linecolor": "white",
            "showbackground": true,
            "ticks": "",
            "zerolinecolor": "white"
           }
          },
          "shapedefaults": {
           "line": {
            "color": "#2a3f5f"
           }
          },
          "ternary": {
           "aaxis": {
            "gridcolor": "white",
            "linecolor": "white",
            "ticks": ""
           },
           "baxis": {
            "gridcolor": "white",
            "linecolor": "white",
            "ticks": ""
           },
           "bgcolor": "#E5ECF6",
           "caxis": {
            "gridcolor": "white",
            "linecolor": "white",
            "ticks": ""
           }
          },
          "title": {
           "x": 0.05
          },
          "xaxis": {
           "automargin": true,
           "gridcolor": "white",
           "linecolor": "white",
           "ticks": "",
           "title": {
            "standoff": 15
           },
           "zerolinecolor": "white",
           "zerolinewidth": 2
          },
          "yaxis": {
           "automargin": true,
           "gridcolor": "white",
           "linecolor": "white",
           "ticks": "",
           "title": {
            "standoff": 15
           },
           "zerolinecolor": "white",
           "zerolinewidth": 2
          }
         }
        },
        "title": {
         "font": {
          "color": "#4D5663"
         }
        },
        "xaxis": {
         "gridcolor": "#E1E5ED",
         "showgrid": true,
         "tickfont": {
          "color": "#4D5663"
         },
         "title": {
          "font": {
           "color": "#4D5663"
          },
          "text": ""
         },
         "zerolinecolor": "#E1E5ED"
        },
        "yaxis": {
         "gridcolor": "#E1E5ED",
         "showgrid": true,
         "tickfont": {
          "color": "#4D5663"
         },
         "title": {
          "font": {
           "color": "#4D5663"
          },
          "text": ""
         },
         "zerolinecolor": "#E1E5ED"
        }
       }
      },
      "text/html": [
       "<div>\n",
       "        \n",
       "        \n",
       "            <div id=\"5eb910ed-b65e-4875-bdc5-d0501b31a919\" class=\"plotly-graph-div\" style=\"height:525px; width:100%;\"></div>\n",
       "            <script type=\"text/javascript\">\n",
       "                require([\"plotly\"], function(Plotly) {\n",
       "                    window.PLOTLYENV=window.PLOTLYENV || {};\n",
       "                    window.PLOTLYENV.BASE_URL='https://plot.ly';\n",
       "                    \n",
       "                if (document.getElementById(\"5eb910ed-b65e-4875-bdc5-d0501b31a919\")) {\n",
       "                    Plotly.newPlot(\n",
       "                        '5eb910ed-b65e-4875-bdc5-d0501b31a919',\n",
       "                        [{\"line\": {\"color\": \"rgba(255, 153, 51, 1.0)\", \"dash\": \"solid\", \"shape\": \"linear\", \"width\": 1.3}, \"marker\": {\"size\": 10, \"symbol\": \"circle\"}, \"mode\": \"markers\", \"name\": \"B\", \"text\": \"\", \"type\": \"scatter\", \"x\": [0.8425800230056536, 0.8228729931602605, 0.45302144958655327, -0.15464636949214794, -0.3344287501808655, -0.6155627897642467, -0.8511015145286904, -0.22416144352609133, 0.6602592697073943, 1.6688045668274765, -1.1078003079394538, 0.5205314770180932, -0.3363048584250365, 0.40602399155108443, 0.19011255413451617, 2.4654201650905123, 0.32154357233462094, -0.8213877114714514, 0.5107565293763973, -1.3839586003113933, -1.0639421497820791, 0.6849377969963686, -1.1333905961531854, -0.11635118566959907, -0.37936734911283415, 0.4456028260228318, 1.9327013265029618, -0.024565439083912236, 0.7526701692658325, -0.5662253860236415, 0.8821763247769187, 0.2805875093621268, -0.9788739014698855, 0.3036651709603921, 0.5396091606224961, 0.6665514304418824, 0.5352043387203083, 1.2129258711535873, 0.7240042780223538, -1.0098975715722636, -0.16289919477076262, -0.8154323532297832, -0.3977749740844525, 0.7845287767499552, -0.5823264324213028, 1.7668402955824636, -0.5784049432184615, -0.11684278517136609, 0.2951817195596696, -1.9513260315146401, -0.629934701459229, 0.045131028591535005, -0.8402131275960164, 0.5006646482393786, 1.7927717048719476, -0.6399442017860044, 1.7017414053525006, 0.5571691974779828, -1.0823590214650136, -1.6669125591790803, -1.1665984022067872, 1.5447897360165155, 0.49559664950232923, -0.7110348817342973, 0.048815188290864814, -0.07622169384583687, -0.9396682102311819, 0.9048619394581252, 0.3236739195518902, 0.9322713987437912, -0.3677385853043386, -1.0783725873956171, 1.2426757883845556, 1.7282300608014385, 0.5351211848501362, 0.7207300381574594, -0.6571632159603973, 0.3005500199868126, -2.2034542653997344, -2.261749854662406, -0.4732251632090071, -0.5134968603809374, 0.6522671412507076, -0.315077705434412, 0.675942762735105, 1.5233300660474078, -0.954080252681867, 0.9823848551740675, -1.635832764245846, 0.2167668557418693, -0.7951469007973236, 1.1919912435334072, 1.2511730130201058, -1.3838268497648982, -0.5664230216840095, -1.4987921435235554, -0.8066030673898453, 1.092576357472236, -0.20879159797990765, 0.22369880671706246], \"y\": [0.09759749197282581, 0.6137315514697458, -0.2854572156585551, 0.12142749701404602, -0.30538017910705795, 0.9653249896933419, 0.30763722494900336, -1.1804135293053442, 2.0108948250826093, 2.3281200521482357, 0.8375326746814203, -1.1552593469105479, 0.8209178718438593, -2.1722914069362815, -0.19986657830185683, -0.7093964594384959, -0.37191912168682706, 1.065137719776101, 2.0031885770388995, 0.43456347993737837, 0.527346750628352, -1.2824861366308757, 0.03924695575136877, -0.7168935257821382, -0.30359036230906783, -0.6962633344761804, 0.4211274074392302, 1.6871651877846425, -0.039050782188639416, 2.072099683982022, 0.5204468688348854, 1.0164792926890849, -0.7316803836275722, -0.3898451347452699, 0.6294922442320586, 1.183797549303694, -0.921297878278392, 0.222282348897835, 0.9547244715510609, -0.8592356555646143, -0.8440219747360963, -1.4596730660029675, -0.3579668388348763, -1.4899713082696882, -2.3650778604752984, 1.0468466219410333, 0.9046954089969772, 1.253496239045731, 0.23066745133877534, 0.42399151575975924, -0.5724448167613085, -0.0312127195328586, 0.44684169836912685, 1.661791445451631, 0.39485216421711317, -0.9018174786830869, -0.2663074862302335, 1.2333682595654787, 0.13796620315491115, 0.0057041245113695635, 0.412917020734218, 0.23865432191821495, 0.5065339609050801, -0.6925694953378969, -0.026446794780587146, -0.06475640554797196, -0.3446106690484418, 0.5569329770877339, -0.1738856363317943, 1.4132900725586053, 0.5334262689843003, -0.6694902766680653, -0.37074495041061745, -0.17119048891228544, -1.5647514632194899, 0.004023378941902747, 0.8810753994171026, -1.2184413372674996, -2.1481159031421484, -1.4962719748944955, 0.38038407459807444, 0.2765898772414553, -0.11068749614747805, -1.047817447159204, -0.2100501154288501, 1.0337835973410112, 0.7557620116787, -1.0507032147285573, -0.4880355055022291, 2.187073071990288, -1.6687730112146275, 0.5285813339439062, 0.21622635990512282, 0.5654349024962452, 0.7680214651948842, 1.124622659275688, -0.024373578774586648, -0.7540674874965095, 1.3378437781960533, 0.5837528107495575]}],\n",
       "                        {\"legend\": {\"bgcolor\": \"#F5F6F9\", \"font\": {\"color\": \"#4D5663\"}}, \"paper_bgcolor\": \"#F5F6F9\", \"plot_bgcolor\": \"#F5F6F9\", \"template\": {\"data\": {\"bar\": [{\"error_x\": {\"color\": \"#2a3f5f\"}, \"error_y\": {\"color\": \"#2a3f5f\"}, \"marker\": {\"line\": {\"color\": \"#E5ECF6\", \"width\": 0.5}}, \"type\": \"bar\"}], \"barpolar\": [{\"marker\": {\"line\": {\"color\": \"#E5ECF6\", \"width\": 0.5}}, \"type\": \"barpolar\"}], \"carpet\": [{\"aaxis\": {\"endlinecolor\": \"#2a3f5f\", \"gridcolor\": \"white\", \"linecolor\": \"white\", \"minorgridcolor\": \"white\", \"startlinecolor\": \"#2a3f5f\"}, \"baxis\": {\"endlinecolor\": \"#2a3f5f\", \"gridcolor\": \"white\", \"linecolor\": \"white\", \"minorgridcolor\": \"white\", \"startlinecolor\": \"#2a3f5f\"}, \"type\": \"carpet\"}], \"choropleth\": [{\"colorbar\": {\"outlinewidth\": 0, \"ticks\": \"\"}, \"type\": \"choropleth\"}], \"contour\": [{\"colorbar\": {\"outlinewidth\": 0, \"ticks\": \"\"}, \"colorscale\": [[0.0, \"#0d0887\"], [0.1111111111111111, \"#46039f\"], [0.2222222222222222, \"#7201a8\"], [0.3333333333333333, \"#9c179e\"], [0.4444444444444444, \"#bd3786\"], [0.5555555555555556, \"#d8576b\"], [0.6666666666666666, \"#ed7953\"], [0.7777777777777778, \"#fb9f3a\"], [0.8888888888888888, \"#fdca26\"], [1.0, \"#f0f921\"]], \"type\": \"contour\"}], \"contourcarpet\": [{\"colorbar\": {\"outlinewidth\": 0, \"ticks\": \"\"}, \"type\": \"contourcarpet\"}], \"heatmap\": [{\"colorbar\": {\"outlinewidth\": 0, \"ticks\": \"\"}, \"colorscale\": [[0.0, \"#0d0887\"], [0.1111111111111111, \"#46039f\"], [0.2222222222222222, \"#7201a8\"], [0.3333333333333333, \"#9c179e\"], [0.4444444444444444, \"#bd3786\"], [0.5555555555555556, \"#d8576b\"], [0.6666666666666666, \"#ed7953\"], [0.7777777777777778, \"#fb9f3a\"], [0.8888888888888888, \"#fdca26\"], [1.0, \"#f0f921\"]], \"type\": \"heatmap\"}], \"heatmapgl\": [{\"colorbar\": {\"outlinewidth\": 0, \"ticks\": \"\"}, \"colorscale\": [[0.0, \"#0d0887\"], [0.1111111111111111, \"#46039f\"], [0.2222222222222222, \"#7201a8\"], [0.3333333333333333, \"#9c179e\"], [0.4444444444444444, \"#bd3786\"], [0.5555555555555556, \"#d8576b\"], [0.6666666666666666, \"#ed7953\"], [0.7777777777777778, \"#fb9f3a\"], [0.8888888888888888, \"#fdca26\"], [1.0, \"#f0f921\"]], \"type\": \"heatmapgl\"}], \"histogram\": [{\"marker\": {\"colorbar\": {\"outlinewidth\": 0, \"ticks\": \"\"}}, \"type\": \"histogram\"}], \"histogram2d\": [{\"colorbar\": {\"outlinewidth\": 0, \"ticks\": \"\"}, \"colorscale\": [[0.0, \"#0d0887\"], [0.1111111111111111, \"#46039f\"], [0.2222222222222222, \"#7201a8\"], [0.3333333333333333, \"#9c179e\"], [0.4444444444444444, \"#bd3786\"], [0.5555555555555556, \"#d8576b\"], [0.6666666666666666, \"#ed7953\"], [0.7777777777777778, \"#fb9f3a\"], [0.8888888888888888, \"#fdca26\"], [1.0, \"#f0f921\"]], \"type\": \"histogram2d\"}], \"histogram2dcontour\": [{\"colorbar\": {\"outlinewidth\": 0, \"ticks\": \"\"}, \"colorscale\": [[0.0, \"#0d0887\"], [0.1111111111111111, \"#46039f\"], [0.2222222222222222, \"#7201a8\"], [0.3333333333333333, \"#9c179e\"], [0.4444444444444444, \"#bd3786\"], [0.5555555555555556, \"#d8576b\"], [0.6666666666666666, \"#ed7953\"], [0.7777777777777778, \"#fb9f3a\"], [0.8888888888888888, \"#fdca26\"], [1.0, \"#f0f921\"]], \"type\": \"histogram2dcontour\"}], \"mesh3d\": [{\"colorbar\": {\"outlinewidth\": 0, \"ticks\": \"\"}, \"type\": \"mesh3d\"}], \"parcoords\": [{\"line\": {\"colorbar\": {\"outlinewidth\": 0, \"ticks\": \"\"}}, \"type\": \"parcoords\"}], \"pie\": [{\"automargin\": true, \"type\": \"pie\"}], \"scatter\": [{\"marker\": {\"colorbar\": {\"outlinewidth\": 0, \"ticks\": \"\"}}, \"type\": \"scatter\"}], \"scatter3d\": [{\"line\": {\"colorbar\": {\"outlinewidth\": 0, \"ticks\": \"\"}}, \"marker\": {\"colorbar\": {\"outlinewidth\": 0, \"ticks\": \"\"}}, \"type\": \"scatter3d\"}], \"scattercarpet\": [{\"marker\": {\"colorbar\": {\"outlinewidth\": 0, \"ticks\": \"\"}}, \"type\": \"scattercarpet\"}], \"scattergeo\": [{\"marker\": {\"colorbar\": {\"outlinewidth\": 0, \"ticks\": \"\"}}, \"type\": \"scattergeo\"}], \"scattergl\": [{\"marker\": {\"colorbar\": {\"outlinewidth\": 0, \"ticks\": \"\"}}, \"type\": \"scattergl\"}], \"scattermapbox\": [{\"marker\": {\"colorbar\": {\"outlinewidth\": 0, \"ticks\": \"\"}}, \"type\": \"scattermapbox\"}], \"scatterpolar\": [{\"marker\": {\"colorbar\": {\"outlinewidth\": 0, \"ticks\": \"\"}}, \"type\": \"scatterpolar\"}], \"scatterpolargl\": [{\"marker\": {\"colorbar\": {\"outlinewidth\": 0, \"ticks\": \"\"}}, \"type\": \"scatterpolargl\"}], \"scatterternary\": [{\"marker\": {\"colorbar\": {\"outlinewidth\": 0, \"ticks\": \"\"}}, \"type\": \"scatterternary\"}], \"surface\": [{\"colorbar\": {\"outlinewidth\": 0, \"ticks\": \"\"}, \"colorscale\": [[0.0, \"#0d0887\"], [0.1111111111111111, \"#46039f\"], [0.2222222222222222, \"#7201a8\"], [0.3333333333333333, \"#9c179e\"], [0.4444444444444444, \"#bd3786\"], [0.5555555555555556, \"#d8576b\"], [0.6666666666666666, \"#ed7953\"], [0.7777777777777778, \"#fb9f3a\"], [0.8888888888888888, \"#fdca26\"], [1.0, \"#f0f921\"]], \"type\": \"surface\"}], \"table\": [{\"cells\": {\"fill\": {\"color\": \"#EBF0F8\"}, \"line\": {\"color\": \"white\"}}, \"header\": {\"fill\": {\"color\": \"#C8D4E3\"}, \"line\": {\"color\": \"white\"}}, \"type\": \"table\"}]}, \"layout\": {\"annotationdefaults\": {\"arrowcolor\": \"#2a3f5f\", \"arrowhead\": 0, \"arrowwidth\": 1}, \"coloraxis\": {\"colorbar\": {\"outlinewidth\": 0, \"ticks\": \"\"}}, \"colorscale\": {\"diverging\": [[0, \"#8e0152\"], [0.1, \"#c51b7d\"], [0.2, \"#de77ae\"], [0.3, \"#f1b6da\"], [0.4, \"#fde0ef\"], [0.5, \"#f7f7f7\"], [0.6, \"#e6f5d0\"], [0.7, \"#b8e186\"], [0.8, \"#7fbc41\"], [0.9, \"#4d9221\"], [1, \"#276419\"]], \"sequential\": [[0.0, \"#0d0887\"], [0.1111111111111111, \"#46039f\"], [0.2222222222222222, \"#7201a8\"], [0.3333333333333333, \"#9c179e\"], [0.4444444444444444, \"#bd3786\"], [0.5555555555555556, \"#d8576b\"], [0.6666666666666666, \"#ed7953\"], [0.7777777777777778, \"#fb9f3a\"], [0.8888888888888888, \"#fdca26\"], [1.0, \"#f0f921\"]], \"sequentialminus\": [[0.0, \"#0d0887\"], [0.1111111111111111, \"#46039f\"], [0.2222222222222222, \"#7201a8\"], [0.3333333333333333, \"#9c179e\"], [0.4444444444444444, \"#bd3786\"], [0.5555555555555556, \"#d8576b\"], [0.6666666666666666, \"#ed7953\"], [0.7777777777777778, \"#fb9f3a\"], [0.8888888888888888, \"#fdca26\"], [1.0, \"#f0f921\"]]}, \"colorway\": [\"#636efa\", \"#EF553B\", \"#00cc96\", \"#ab63fa\", \"#FFA15A\", \"#19d3f3\", \"#FF6692\", \"#B6E880\", \"#FF97FF\", \"#FECB52\"], \"font\": {\"color\": \"#2a3f5f\"}, \"geo\": {\"bgcolor\": \"white\", \"lakecolor\": \"white\", \"landcolor\": \"#E5ECF6\", \"showlakes\": true, \"showland\": true, \"subunitcolor\": \"white\"}, \"hoverlabel\": {\"align\": \"left\"}, \"hovermode\": \"closest\", \"mapbox\": {\"style\": \"light\"}, \"paper_bgcolor\": \"white\", \"plot_bgcolor\": \"#E5ECF6\", \"polar\": {\"angularaxis\": {\"gridcolor\": \"white\", \"linecolor\": \"white\", \"ticks\": \"\"}, \"bgcolor\": \"#E5ECF6\", \"radialaxis\": {\"gridcolor\": \"white\", \"linecolor\": \"white\", \"ticks\": \"\"}}, \"scene\": {\"xaxis\": {\"backgroundcolor\": \"#E5ECF6\", \"gridcolor\": \"white\", \"gridwidth\": 2, \"linecolor\": \"white\", \"showbackground\": true, \"ticks\": \"\", \"zerolinecolor\": \"white\"}, \"yaxis\": {\"backgroundcolor\": \"#E5ECF6\", \"gridcolor\": \"white\", \"gridwidth\": 2, \"linecolor\": \"white\", \"showbackground\": true, \"ticks\": \"\", \"zerolinecolor\": \"white\"}, \"zaxis\": {\"backgroundcolor\": \"#E5ECF6\", \"gridcolor\": \"white\", \"gridwidth\": 2, \"linecolor\": \"white\", \"showbackground\": true, \"ticks\": \"\", \"zerolinecolor\": \"white\"}}, \"shapedefaults\": {\"line\": {\"color\": \"#2a3f5f\"}}, \"ternary\": {\"aaxis\": {\"gridcolor\": \"white\", \"linecolor\": \"white\", \"ticks\": \"\"}, \"baxis\": {\"gridcolor\": \"white\", \"linecolor\": \"white\", \"ticks\": \"\"}, \"bgcolor\": \"#E5ECF6\", \"caxis\": {\"gridcolor\": \"white\", \"linecolor\": \"white\", \"ticks\": \"\"}}, \"title\": {\"x\": 0.05}, \"xaxis\": {\"automargin\": true, \"gridcolor\": \"white\", \"linecolor\": \"white\", \"ticks\": \"\", \"title\": {\"standoff\": 15}, \"zerolinecolor\": \"white\", \"zerolinewidth\": 2}, \"yaxis\": {\"automargin\": true, \"gridcolor\": \"white\", \"linecolor\": \"white\", \"ticks\": \"\", \"title\": {\"standoff\": 15}, \"zerolinecolor\": \"white\", \"zerolinewidth\": 2}}}, \"title\": {\"font\": {\"color\": \"#4D5663\"}}, \"xaxis\": {\"gridcolor\": \"#E1E5ED\", \"showgrid\": true, \"tickfont\": {\"color\": \"#4D5663\"}, \"title\": {\"font\": {\"color\": \"#4D5663\"}, \"text\": \"\"}, \"zerolinecolor\": \"#E1E5ED\"}, \"yaxis\": {\"gridcolor\": \"#E1E5ED\", \"showgrid\": true, \"tickfont\": {\"color\": \"#4D5663\"}, \"title\": {\"font\": {\"color\": \"#4D5663\"}, \"text\": \"\"}, \"zerolinecolor\": \"#E1E5ED\"}},\n",
       "                        {\"showLink\": true, \"linkText\": \"Export to plot.ly\", \"plotlyServerURL\": \"https://plot.ly\", \"responsive\": true}\n",
       "                    ).then(function(){\n",
       "                            \n",
       "var gd = document.getElementById('5eb910ed-b65e-4875-bdc5-d0501b31a919');\n",
       "var x = new MutationObserver(function (mutations, observer) {{\n",
       "        var display = window.getComputedStyle(gd).display;\n",
       "        if (!display || display === 'none') {{\n",
       "            console.log([gd, 'removed!']);\n",
       "            Plotly.purge(gd);\n",
       "            observer.disconnect();\n",
       "        }}\n",
       "}});\n",
       "\n",
       "// Listen for the removal of the full notebook cells\n",
       "var notebookContainer = gd.closest('#notebook-container');\n",
       "if (notebookContainer) {{\n",
       "    x.observe(notebookContainer, {childList: true});\n",
       "}}\n",
       "\n",
       "// Listen for the clearing of the current output cell\n",
       "var outputEl = gd.closest('.output');\n",
       "if (outputEl) {{\n",
       "    x.observe(outputEl, {childList: true});\n",
       "}}\n",
       "\n",
       "                        })\n",
       "                };\n",
       "                });\n",
       "            </script>\n",
       "        </div>"
      ]
     },
     "metadata": {},
     "output_type": "display_data"
    }
   ],
   "source": [
    "df.iplot(kind='scatter',x='A',y='B',mode='markers',size=10)"
   ]
  },
  {
   "cell_type": "markdown",
   "metadata": {},
   "source": [
    "## Bar Plots"
   ]
  },
  {
   "cell_type": "code",
   "execution_count": 12,
   "metadata": {},
   "outputs": [
    {
     "data": {
      "application/vnd.plotly.v1+json": {
       "config": {
        "linkText": "Export to plot.ly",
        "plotlyServerURL": "https://plot.ly",
        "showLink": true
       },
       "data": [
        {
         "marker": {
          "color": "rgba(255, 153, 51, 0.6)",
          "line": {
           "color": "rgba(255, 153, 51, 1.0)",
           "width": 1
          }
         },
         "name": "Values",
         "orientation": "v",
         "text": "",
         "type": "bar",
         "x": [
          "A",
          "B",
          "C"
         ],
         "y": [
          32,
          43,
          50
         ]
        }
       ],
       "layout": {
        "legend": {
         "bgcolor": "#F5F6F9",
         "font": {
          "color": "#4D5663"
         }
        },
        "paper_bgcolor": "#F5F6F9",
        "plot_bgcolor": "#F5F6F9",
        "template": {
         "data": {
          "bar": [
           {
            "error_x": {
             "color": "#2a3f5f"
            },
            "error_y": {
             "color": "#2a3f5f"
            },
            "marker": {
             "line": {
              "color": "#E5ECF6",
              "width": 0.5
             }
            },
            "type": "bar"
           }
          ],
          "barpolar": [
           {
            "marker": {
             "line": {
              "color": "#E5ECF6",
              "width": 0.5
             }
            },
            "type": "barpolar"
           }
          ],
          "carpet": [
           {
            "aaxis": {
             "endlinecolor": "#2a3f5f",
             "gridcolor": "white",
             "linecolor": "white",
             "minorgridcolor": "white",
             "startlinecolor": "#2a3f5f"
            },
            "baxis": {
             "endlinecolor": "#2a3f5f",
             "gridcolor": "white",
             "linecolor": "white",
             "minorgridcolor": "white",
             "startlinecolor": "#2a3f5f"
            },
            "type": "carpet"
           }
          ],
          "choropleth": [
           {
            "colorbar": {
             "outlinewidth": 0,
             "ticks": ""
            },
            "type": "choropleth"
           }
          ],
          "contour": [
           {
            "colorbar": {
             "outlinewidth": 0,
             "ticks": ""
            },
            "colorscale": [
             [
              0,
              "#0d0887"
             ],
             [
              0.1111111111111111,
              "#46039f"
             ],
             [
              0.2222222222222222,
              "#7201a8"
             ],
             [
              0.3333333333333333,
              "#9c179e"
             ],
             [
              0.4444444444444444,
              "#bd3786"
             ],
             [
              0.5555555555555556,
              "#d8576b"
             ],
             [
              0.6666666666666666,
              "#ed7953"
             ],
             [
              0.7777777777777778,
              "#fb9f3a"
             ],
             [
              0.8888888888888888,
              "#fdca26"
             ],
             [
              1,
              "#f0f921"
             ]
            ],
            "type": "contour"
           }
          ],
          "contourcarpet": [
           {
            "colorbar": {
             "outlinewidth": 0,
             "ticks": ""
            },
            "type": "contourcarpet"
           }
          ],
          "heatmap": [
           {
            "colorbar": {
             "outlinewidth": 0,
             "ticks": ""
            },
            "colorscale": [
             [
              0,
              "#0d0887"
             ],
             [
              0.1111111111111111,
              "#46039f"
             ],
             [
              0.2222222222222222,
              "#7201a8"
             ],
             [
              0.3333333333333333,
              "#9c179e"
             ],
             [
              0.4444444444444444,
              "#bd3786"
             ],
             [
              0.5555555555555556,
              "#d8576b"
             ],
             [
              0.6666666666666666,
              "#ed7953"
             ],
             [
              0.7777777777777778,
              "#fb9f3a"
             ],
             [
              0.8888888888888888,
              "#fdca26"
             ],
             [
              1,
              "#f0f921"
             ]
            ],
            "type": "heatmap"
           }
          ],
          "heatmapgl": [
           {
            "colorbar": {
             "outlinewidth": 0,
             "ticks": ""
            },
            "colorscale": [
             [
              0,
              "#0d0887"
             ],
             [
              0.1111111111111111,
              "#46039f"
             ],
             [
              0.2222222222222222,
              "#7201a8"
             ],
             [
              0.3333333333333333,
              "#9c179e"
             ],
             [
              0.4444444444444444,
              "#bd3786"
             ],
             [
              0.5555555555555556,
              "#d8576b"
             ],
             [
              0.6666666666666666,
              "#ed7953"
             ],
             [
              0.7777777777777778,
              "#fb9f3a"
             ],
             [
              0.8888888888888888,
              "#fdca26"
             ],
             [
              1,
              "#f0f921"
             ]
            ],
            "type": "heatmapgl"
           }
          ],
          "histogram": [
           {
            "marker": {
             "colorbar": {
              "outlinewidth": 0,
              "ticks": ""
             }
            },
            "type": "histogram"
           }
          ],
          "histogram2d": [
           {
            "colorbar": {
             "outlinewidth": 0,
             "ticks": ""
            },
            "colorscale": [
             [
              0,
              "#0d0887"
             ],
             [
              0.1111111111111111,
              "#46039f"
             ],
             [
              0.2222222222222222,
              "#7201a8"
             ],
             [
              0.3333333333333333,
              "#9c179e"
             ],
             [
              0.4444444444444444,
              "#bd3786"
             ],
             [
              0.5555555555555556,
              "#d8576b"
             ],
             [
              0.6666666666666666,
              "#ed7953"
             ],
             [
              0.7777777777777778,
              "#fb9f3a"
             ],
             [
              0.8888888888888888,
              "#fdca26"
             ],
             [
              1,
              "#f0f921"
             ]
            ],
            "type": "histogram2d"
           }
          ],
          "histogram2dcontour": [
           {
            "colorbar": {
             "outlinewidth": 0,
             "ticks": ""
            },
            "colorscale": [
             [
              0,
              "#0d0887"
             ],
             [
              0.1111111111111111,
              "#46039f"
             ],
             [
              0.2222222222222222,
              "#7201a8"
             ],
             [
              0.3333333333333333,
              "#9c179e"
             ],
             [
              0.4444444444444444,
              "#bd3786"
             ],
             [
              0.5555555555555556,
              "#d8576b"
             ],
             [
              0.6666666666666666,
              "#ed7953"
             ],
             [
              0.7777777777777778,
              "#fb9f3a"
             ],
             [
              0.8888888888888888,
              "#fdca26"
             ],
             [
              1,
              "#f0f921"
             ]
            ],
            "type": "histogram2dcontour"
           }
          ],
          "mesh3d": [
           {
            "colorbar": {
             "outlinewidth": 0,
             "ticks": ""
            },
            "type": "mesh3d"
           }
          ],
          "parcoords": [
           {
            "line": {
             "colorbar": {
              "outlinewidth": 0,
              "ticks": ""
             }
            },
            "type": "parcoords"
           }
          ],
          "pie": [
           {
            "automargin": true,
            "type": "pie"
           }
          ],
          "scatter": [
           {
            "marker": {
             "colorbar": {
              "outlinewidth": 0,
              "ticks": ""
             }
            },
            "type": "scatter"
           }
          ],
          "scatter3d": [
           {
            "line": {
             "colorbar": {
              "outlinewidth": 0,
              "ticks": ""
             }
            },
            "marker": {
             "colorbar": {
              "outlinewidth": 0,
              "ticks": ""
             }
            },
            "type": "scatter3d"
           }
          ],
          "scattercarpet": [
           {
            "marker": {
             "colorbar": {
              "outlinewidth": 0,
              "ticks": ""
             }
            },
            "type": "scattercarpet"
           }
          ],
          "scattergeo": [
           {
            "marker": {
             "colorbar": {
              "outlinewidth": 0,
              "ticks": ""
             }
            },
            "type": "scattergeo"
           }
          ],
          "scattergl": [
           {
            "marker": {
             "colorbar": {
              "outlinewidth": 0,
              "ticks": ""
             }
            },
            "type": "scattergl"
           }
          ],
          "scattermapbox": [
           {
            "marker": {
             "colorbar": {
              "outlinewidth": 0,
              "ticks": ""
             }
            },
            "type": "scattermapbox"
           }
          ],
          "scatterpolar": [
           {
            "marker": {
             "colorbar": {
              "outlinewidth": 0,
              "ticks": ""
             }
            },
            "type": "scatterpolar"
           }
          ],
          "scatterpolargl": [
           {
            "marker": {
             "colorbar": {
              "outlinewidth": 0,
              "ticks": ""
             }
            },
            "type": "scatterpolargl"
           }
          ],
          "scatterternary": [
           {
            "marker": {
             "colorbar": {
              "outlinewidth": 0,
              "ticks": ""
             }
            },
            "type": "scatterternary"
           }
          ],
          "surface": [
           {
            "colorbar": {
             "outlinewidth": 0,
             "ticks": ""
            },
            "colorscale": [
             [
              0,
              "#0d0887"
             ],
             [
              0.1111111111111111,
              "#46039f"
             ],
             [
              0.2222222222222222,
              "#7201a8"
             ],
             [
              0.3333333333333333,
              "#9c179e"
             ],
             [
              0.4444444444444444,
              "#bd3786"
             ],
             [
              0.5555555555555556,
              "#d8576b"
             ],
             [
              0.6666666666666666,
              "#ed7953"
             ],
             [
              0.7777777777777778,
              "#fb9f3a"
             ],
             [
              0.8888888888888888,
              "#fdca26"
             ],
             [
              1,
              "#f0f921"
             ]
            ],
            "type": "surface"
           }
          ],
          "table": [
           {
            "cells": {
             "fill": {
              "color": "#EBF0F8"
             },
             "line": {
              "color": "white"
             }
            },
            "header": {
             "fill": {
              "color": "#C8D4E3"
             },
             "line": {
              "color": "white"
             }
            },
            "type": "table"
           }
          ]
         },
         "layout": {
          "annotationdefaults": {
           "arrowcolor": "#2a3f5f",
           "arrowhead": 0,
           "arrowwidth": 1
          },
          "coloraxis": {
           "colorbar": {
            "outlinewidth": 0,
            "ticks": ""
           }
          },
          "colorscale": {
           "diverging": [
            [
             0,
             "#8e0152"
            ],
            [
             0.1,
             "#c51b7d"
            ],
            [
             0.2,
             "#de77ae"
            ],
            [
             0.3,
             "#f1b6da"
            ],
            [
             0.4,
             "#fde0ef"
            ],
            [
             0.5,
             "#f7f7f7"
            ],
            [
             0.6,
             "#e6f5d0"
            ],
            [
             0.7,
             "#b8e186"
            ],
            [
             0.8,
             "#7fbc41"
            ],
            [
             0.9,
             "#4d9221"
            ],
            [
             1,
             "#276419"
            ]
           ],
           "sequential": [
            [
             0,
             "#0d0887"
            ],
            [
             0.1111111111111111,
             "#46039f"
            ],
            [
             0.2222222222222222,
             "#7201a8"
            ],
            [
             0.3333333333333333,
             "#9c179e"
            ],
            [
             0.4444444444444444,
             "#bd3786"
            ],
            [
             0.5555555555555556,
             "#d8576b"
            ],
            [
             0.6666666666666666,
             "#ed7953"
            ],
            [
             0.7777777777777778,
             "#fb9f3a"
            ],
            [
             0.8888888888888888,
             "#fdca26"
            ],
            [
             1,
             "#f0f921"
            ]
           ],
           "sequentialminus": [
            [
             0,
             "#0d0887"
            ],
            [
             0.1111111111111111,
             "#46039f"
            ],
            [
             0.2222222222222222,
             "#7201a8"
            ],
            [
             0.3333333333333333,
             "#9c179e"
            ],
            [
             0.4444444444444444,
             "#bd3786"
            ],
            [
             0.5555555555555556,
             "#d8576b"
            ],
            [
             0.6666666666666666,
             "#ed7953"
            ],
            [
             0.7777777777777778,
             "#fb9f3a"
            ],
            [
             0.8888888888888888,
             "#fdca26"
            ],
            [
             1,
             "#f0f921"
            ]
           ]
          },
          "colorway": [
           "#636efa",
           "#EF553B",
           "#00cc96",
           "#ab63fa",
           "#FFA15A",
           "#19d3f3",
           "#FF6692",
           "#B6E880",
           "#FF97FF",
           "#FECB52"
          ],
          "font": {
           "color": "#2a3f5f"
          },
          "geo": {
           "bgcolor": "white",
           "lakecolor": "white",
           "landcolor": "#E5ECF6",
           "showlakes": true,
           "showland": true,
           "subunitcolor": "white"
          },
          "hoverlabel": {
           "align": "left"
          },
          "hovermode": "closest",
          "mapbox": {
           "style": "light"
          },
          "paper_bgcolor": "white",
          "plot_bgcolor": "#E5ECF6",
          "polar": {
           "angularaxis": {
            "gridcolor": "white",
            "linecolor": "white",
            "ticks": ""
           },
           "bgcolor": "#E5ECF6",
           "radialaxis": {
            "gridcolor": "white",
            "linecolor": "white",
            "ticks": ""
           }
          },
          "scene": {
           "xaxis": {
            "backgroundcolor": "#E5ECF6",
            "gridcolor": "white",
            "gridwidth": 2,
            "linecolor": "white",
            "showbackground": true,
            "ticks": "",
            "zerolinecolor": "white"
           },
           "yaxis": {
            "backgroundcolor": "#E5ECF6",
            "gridcolor": "white",
            "gridwidth": 2,
            "linecolor": "white",
            "showbackground": true,
            "ticks": "",
            "zerolinecolor": "white"
           },
           "zaxis": {
            "backgroundcolor": "#E5ECF6",
            "gridcolor": "white",
            "gridwidth": 2,
            "linecolor": "white",
            "showbackground": true,
            "ticks": "",
            "zerolinecolor": "white"
           }
          },
          "shapedefaults": {
           "line": {
            "color": "#2a3f5f"
           }
          },
          "ternary": {
           "aaxis": {
            "gridcolor": "white",
            "linecolor": "white",
            "ticks": ""
           },
           "baxis": {
            "gridcolor": "white",
            "linecolor": "white",
            "ticks": ""
           },
           "bgcolor": "#E5ECF6",
           "caxis": {
            "gridcolor": "white",
            "linecolor": "white",
            "ticks": ""
           }
          },
          "title": {
           "x": 0.05
          },
          "xaxis": {
           "automargin": true,
           "gridcolor": "white",
           "linecolor": "white",
           "ticks": "",
           "title": {
            "standoff": 15
           },
           "zerolinecolor": "white",
           "zerolinewidth": 2
          },
          "yaxis": {
           "automargin": true,
           "gridcolor": "white",
           "linecolor": "white",
           "ticks": "",
           "title": {
            "standoff": 15
           },
           "zerolinecolor": "white",
           "zerolinewidth": 2
          }
         }
        },
        "title": {
         "font": {
          "color": "#4D5663"
         }
        },
        "xaxis": {
         "gridcolor": "#E1E5ED",
         "showgrid": true,
         "tickfont": {
          "color": "#4D5663"
         },
         "title": {
          "font": {
           "color": "#4D5663"
          },
          "text": ""
         },
         "zerolinecolor": "#E1E5ED"
        },
        "yaxis": {
         "gridcolor": "#E1E5ED",
         "showgrid": true,
         "tickfont": {
          "color": "#4D5663"
         },
         "title": {
          "font": {
           "color": "#4D5663"
          },
          "text": ""
         },
         "zerolinecolor": "#E1E5ED"
        }
       }
      },
      "text/html": [
       "<div>\n",
       "        \n",
       "        \n",
       "            <div id=\"59d6addf-7216-40a9-98ff-8169cfaa719c\" class=\"plotly-graph-div\" style=\"height:525px; width:100%;\"></div>\n",
       "            <script type=\"text/javascript\">\n",
       "                require([\"plotly\"], function(Plotly) {\n",
       "                    window.PLOTLYENV=window.PLOTLYENV || {};\n",
       "                    window.PLOTLYENV.BASE_URL='https://plot.ly';\n",
       "                    \n",
       "                if (document.getElementById(\"59d6addf-7216-40a9-98ff-8169cfaa719c\")) {\n",
       "                    Plotly.newPlot(\n",
       "                        '59d6addf-7216-40a9-98ff-8169cfaa719c',\n",
       "                        [{\"marker\": {\"color\": \"rgba(255, 153, 51, 0.6)\", \"line\": {\"color\": \"rgba(255, 153, 51, 1.0)\", \"width\": 1}}, \"name\": \"Values\", \"orientation\": \"v\", \"text\": \"\", \"type\": \"bar\", \"x\": [\"A\", \"B\", \"C\"], \"y\": [32, 43, 50]}],\n",
       "                        {\"legend\": {\"bgcolor\": \"#F5F6F9\", \"font\": {\"color\": \"#4D5663\"}}, \"paper_bgcolor\": \"#F5F6F9\", \"plot_bgcolor\": \"#F5F6F9\", \"template\": {\"data\": {\"bar\": [{\"error_x\": {\"color\": \"#2a3f5f\"}, \"error_y\": {\"color\": \"#2a3f5f\"}, \"marker\": {\"line\": {\"color\": \"#E5ECF6\", \"width\": 0.5}}, \"type\": \"bar\"}], \"barpolar\": [{\"marker\": {\"line\": {\"color\": \"#E5ECF6\", \"width\": 0.5}}, \"type\": \"barpolar\"}], \"carpet\": [{\"aaxis\": {\"endlinecolor\": \"#2a3f5f\", \"gridcolor\": \"white\", \"linecolor\": \"white\", \"minorgridcolor\": \"white\", \"startlinecolor\": \"#2a3f5f\"}, \"baxis\": {\"endlinecolor\": \"#2a3f5f\", \"gridcolor\": \"white\", \"linecolor\": \"white\", \"minorgridcolor\": \"white\", \"startlinecolor\": \"#2a3f5f\"}, \"type\": \"carpet\"}], \"choropleth\": [{\"colorbar\": {\"outlinewidth\": 0, \"ticks\": \"\"}, \"type\": \"choropleth\"}], \"contour\": [{\"colorbar\": {\"outlinewidth\": 0, \"ticks\": \"\"}, \"colorscale\": [[0.0, \"#0d0887\"], [0.1111111111111111, \"#46039f\"], [0.2222222222222222, \"#7201a8\"], [0.3333333333333333, \"#9c179e\"], [0.4444444444444444, \"#bd3786\"], [0.5555555555555556, \"#d8576b\"], [0.6666666666666666, \"#ed7953\"], [0.7777777777777778, \"#fb9f3a\"], [0.8888888888888888, \"#fdca26\"], [1.0, \"#f0f921\"]], \"type\": \"contour\"}], \"contourcarpet\": [{\"colorbar\": {\"outlinewidth\": 0, \"ticks\": \"\"}, \"type\": \"contourcarpet\"}], \"heatmap\": [{\"colorbar\": {\"outlinewidth\": 0, \"ticks\": \"\"}, \"colorscale\": [[0.0, \"#0d0887\"], [0.1111111111111111, \"#46039f\"], [0.2222222222222222, \"#7201a8\"], [0.3333333333333333, \"#9c179e\"], [0.4444444444444444, \"#bd3786\"], [0.5555555555555556, \"#d8576b\"], [0.6666666666666666, \"#ed7953\"], [0.7777777777777778, \"#fb9f3a\"], [0.8888888888888888, \"#fdca26\"], [1.0, \"#f0f921\"]], \"type\": \"heatmap\"}], \"heatmapgl\": [{\"colorbar\": {\"outlinewidth\": 0, \"ticks\": \"\"}, \"colorscale\": [[0.0, \"#0d0887\"], [0.1111111111111111, \"#46039f\"], [0.2222222222222222, \"#7201a8\"], [0.3333333333333333, \"#9c179e\"], [0.4444444444444444, \"#bd3786\"], [0.5555555555555556, \"#d8576b\"], [0.6666666666666666, \"#ed7953\"], [0.7777777777777778, \"#fb9f3a\"], [0.8888888888888888, \"#fdca26\"], [1.0, \"#f0f921\"]], \"type\": \"heatmapgl\"}], \"histogram\": [{\"marker\": {\"colorbar\": {\"outlinewidth\": 0, \"ticks\": \"\"}}, \"type\": \"histogram\"}], \"histogram2d\": [{\"colorbar\": {\"outlinewidth\": 0, \"ticks\": \"\"}, \"colorscale\": [[0.0, \"#0d0887\"], [0.1111111111111111, \"#46039f\"], [0.2222222222222222, \"#7201a8\"], [0.3333333333333333, \"#9c179e\"], [0.4444444444444444, \"#bd3786\"], [0.5555555555555556, \"#d8576b\"], [0.6666666666666666, \"#ed7953\"], [0.7777777777777778, \"#fb9f3a\"], [0.8888888888888888, \"#fdca26\"], [1.0, \"#f0f921\"]], \"type\": \"histogram2d\"}], \"histogram2dcontour\": [{\"colorbar\": {\"outlinewidth\": 0, \"ticks\": \"\"}, \"colorscale\": [[0.0, \"#0d0887\"], [0.1111111111111111, \"#46039f\"], [0.2222222222222222, \"#7201a8\"], [0.3333333333333333, \"#9c179e\"], [0.4444444444444444, \"#bd3786\"], [0.5555555555555556, \"#d8576b\"], [0.6666666666666666, \"#ed7953\"], [0.7777777777777778, \"#fb9f3a\"], [0.8888888888888888, \"#fdca26\"], [1.0, \"#f0f921\"]], \"type\": \"histogram2dcontour\"}], \"mesh3d\": [{\"colorbar\": {\"outlinewidth\": 0, \"ticks\": \"\"}, \"type\": \"mesh3d\"}], \"parcoords\": [{\"line\": {\"colorbar\": {\"outlinewidth\": 0, \"ticks\": \"\"}}, \"type\": \"parcoords\"}], \"pie\": [{\"automargin\": true, \"type\": \"pie\"}], \"scatter\": [{\"marker\": {\"colorbar\": {\"outlinewidth\": 0, \"ticks\": \"\"}}, \"type\": \"scatter\"}], \"scatter3d\": [{\"line\": {\"colorbar\": {\"outlinewidth\": 0, \"ticks\": \"\"}}, \"marker\": {\"colorbar\": {\"outlinewidth\": 0, \"ticks\": \"\"}}, \"type\": \"scatter3d\"}], \"scattercarpet\": [{\"marker\": {\"colorbar\": {\"outlinewidth\": 0, \"ticks\": \"\"}}, \"type\": \"scattercarpet\"}], \"scattergeo\": [{\"marker\": {\"colorbar\": {\"outlinewidth\": 0, \"ticks\": \"\"}}, \"type\": \"scattergeo\"}], \"scattergl\": [{\"marker\": {\"colorbar\": {\"outlinewidth\": 0, \"ticks\": \"\"}}, \"type\": \"scattergl\"}], \"scattermapbox\": [{\"marker\": {\"colorbar\": {\"outlinewidth\": 0, \"ticks\": \"\"}}, \"type\": \"scattermapbox\"}], \"scatterpolar\": [{\"marker\": {\"colorbar\": {\"outlinewidth\": 0, \"ticks\": \"\"}}, \"type\": \"scatterpolar\"}], \"scatterpolargl\": [{\"marker\": {\"colorbar\": {\"outlinewidth\": 0, \"ticks\": \"\"}}, \"type\": \"scatterpolargl\"}], \"scatterternary\": [{\"marker\": {\"colorbar\": {\"outlinewidth\": 0, \"ticks\": \"\"}}, \"type\": \"scatterternary\"}], \"surface\": [{\"colorbar\": {\"outlinewidth\": 0, \"ticks\": \"\"}, \"colorscale\": [[0.0, \"#0d0887\"], [0.1111111111111111, \"#46039f\"], [0.2222222222222222, \"#7201a8\"], [0.3333333333333333, \"#9c179e\"], [0.4444444444444444, \"#bd3786\"], [0.5555555555555556, \"#d8576b\"], [0.6666666666666666, \"#ed7953\"], [0.7777777777777778, \"#fb9f3a\"], [0.8888888888888888, \"#fdca26\"], [1.0, \"#f0f921\"]], \"type\": \"surface\"}], \"table\": [{\"cells\": {\"fill\": {\"color\": \"#EBF0F8\"}, \"line\": {\"color\": \"white\"}}, \"header\": {\"fill\": {\"color\": \"#C8D4E3\"}, \"line\": {\"color\": \"white\"}}, \"type\": \"table\"}]}, \"layout\": {\"annotationdefaults\": {\"arrowcolor\": \"#2a3f5f\", \"arrowhead\": 0, \"arrowwidth\": 1}, \"coloraxis\": {\"colorbar\": {\"outlinewidth\": 0, \"ticks\": \"\"}}, \"colorscale\": {\"diverging\": [[0, \"#8e0152\"], [0.1, \"#c51b7d\"], [0.2, \"#de77ae\"], [0.3, \"#f1b6da\"], [0.4, \"#fde0ef\"], [0.5, \"#f7f7f7\"], [0.6, \"#e6f5d0\"], [0.7, \"#b8e186\"], [0.8, \"#7fbc41\"], [0.9, \"#4d9221\"], [1, \"#276419\"]], \"sequential\": [[0.0, \"#0d0887\"], [0.1111111111111111, \"#46039f\"], [0.2222222222222222, \"#7201a8\"], [0.3333333333333333, \"#9c179e\"], [0.4444444444444444, \"#bd3786\"], [0.5555555555555556, \"#d8576b\"], [0.6666666666666666, \"#ed7953\"], [0.7777777777777778, \"#fb9f3a\"], [0.8888888888888888, \"#fdca26\"], [1.0, \"#f0f921\"]], \"sequentialminus\": [[0.0, \"#0d0887\"], [0.1111111111111111, \"#46039f\"], [0.2222222222222222, \"#7201a8\"], [0.3333333333333333, \"#9c179e\"], [0.4444444444444444, \"#bd3786\"], [0.5555555555555556, \"#d8576b\"], [0.6666666666666666, \"#ed7953\"], [0.7777777777777778, \"#fb9f3a\"], [0.8888888888888888, \"#fdca26\"], [1.0, \"#f0f921\"]]}, \"colorway\": [\"#636efa\", \"#EF553B\", \"#00cc96\", \"#ab63fa\", \"#FFA15A\", \"#19d3f3\", \"#FF6692\", \"#B6E880\", \"#FF97FF\", \"#FECB52\"], \"font\": {\"color\": \"#2a3f5f\"}, \"geo\": {\"bgcolor\": \"white\", \"lakecolor\": \"white\", \"landcolor\": \"#E5ECF6\", \"showlakes\": true, \"showland\": true, \"subunitcolor\": \"white\"}, \"hoverlabel\": {\"align\": \"left\"}, \"hovermode\": \"closest\", \"mapbox\": {\"style\": \"light\"}, \"paper_bgcolor\": \"white\", \"plot_bgcolor\": \"#E5ECF6\", \"polar\": {\"angularaxis\": {\"gridcolor\": \"white\", \"linecolor\": \"white\", \"ticks\": \"\"}, \"bgcolor\": \"#E5ECF6\", \"radialaxis\": {\"gridcolor\": \"white\", \"linecolor\": \"white\", \"ticks\": \"\"}}, \"scene\": {\"xaxis\": {\"backgroundcolor\": \"#E5ECF6\", \"gridcolor\": \"white\", \"gridwidth\": 2, \"linecolor\": \"white\", \"showbackground\": true, \"ticks\": \"\", \"zerolinecolor\": \"white\"}, \"yaxis\": {\"backgroundcolor\": \"#E5ECF6\", \"gridcolor\": \"white\", \"gridwidth\": 2, \"linecolor\": \"white\", \"showbackground\": true, \"ticks\": \"\", \"zerolinecolor\": \"white\"}, \"zaxis\": {\"backgroundcolor\": \"#E5ECF6\", \"gridcolor\": \"white\", \"gridwidth\": 2, \"linecolor\": \"white\", \"showbackground\": true, \"ticks\": \"\", \"zerolinecolor\": \"white\"}}, \"shapedefaults\": {\"line\": {\"color\": \"#2a3f5f\"}}, \"ternary\": {\"aaxis\": {\"gridcolor\": \"white\", \"linecolor\": \"white\", \"ticks\": \"\"}, \"baxis\": {\"gridcolor\": \"white\", \"linecolor\": \"white\", \"ticks\": \"\"}, \"bgcolor\": \"#E5ECF6\", \"caxis\": {\"gridcolor\": \"white\", \"linecolor\": \"white\", \"ticks\": \"\"}}, \"title\": {\"x\": 0.05}, \"xaxis\": {\"automargin\": true, \"gridcolor\": \"white\", \"linecolor\": \"white\", \"ticks\": \"\", \"title\": {\"standoff\": 15}, \"zerolinecolor\": \"white\", \"zerolinewidth\": 2}, \"yaxis\": {\"automargin\": true, \"gridcolor\": \"white\", \"linecolor\": \"white\", \"ticks\": \"\", \"title\": {\"standoff\": 15}, \"zerolinecolor\": \"white\", \"zerolinewidth\": 2}}}, \"title\": {\"font\": {\"color\": \"#4D5663\"}}, \"xaxis\": {\"gridcolor\": \"#E1E5ED\", \"showgrid\": true, \"tickfont\": {\"color\": \"#4D5663\"}, \"title\": {\"font\": {\"color\": \"#4D5663\"}, \"text\": \"\"}, \"zerolinecolor\": \"#E1E5ED\"}, \"yaxis\": {\"gridcolor\": \"#E1E5ED\", \"showgrid\": true, \"tickfont\": {\"color\": \"#4D5663\"}, \"title\": {\"font\": {\"color\": \"#4D5663\"}, \"text\": \"\"}, \"zerolinecolor\": \"#E1E5ED\"}},\n",
       "                        {\"showLink\": true, \"linkText\": \"Export to plot.ly\", \"plotlyServerURL\": \"https://plot.ly\", \"responsive\": true}\n",
       "                    ).then(function(){\n",
       "                            \n",
       "var gd = document.getElementById('59d6addf-7216-40a9-98ff-8169cfaa719c');\n",
       "var x = new MutationObserver(function (mutations, observer) {{\n",
       "        var display = window.getComputedStyle(gd).display;\n",
       "        if (!display || display === 'none') {{\n",
       "            console.log([gd, 'removed!']);\n",
       "            Plotly.purge(gd);\n",
       "            observer.disconnect();\n",
       "        }}\n",
       "}});\n",
       "\n",
       "// Listen for the removal of the full notebook cells\n",
       "var notebookContainer = gd.closest('#notebook-container');\n",
       "if (notebookContainer) {{\n",
       "    x.observe(notebookContainer, {childList: true});\n",
       "}}\n",
       "\n",
       "// Listen for the clearing of the current output cell\n",
       "var outputEl = gd.closest('.output');\n",
       "if (outputEl) {{\n",
       "    x.observe(outputEl, {childList: true});\n",
       "}}\n",
       "\n",
       "                        })\n",
       "                };\n",
       "                });\n",
       "            </script>\n",
       "        </div>"
      ]
     },
     "metadata": {},
     "output_type": "display_data"
    }
   ],
   "source": [
    "df2.iplot(kind='bar',x='Category',y='Values')"
   ]
  },
  {
   "cell_type": "code",
   "execution_count": 17,
   "metadata": {},
   "outputs": [
    {
     "data": {
      "application/vnd.plotly.v1+json": {
       "config": {
        "linkText": "Export to plot.ly",
        "plotlyServerURL": "https://plot.ly",
        "showLink": true
       },
       "data": [
        {
         "marker": {
          "color": "rgba(255, 153, 51, 0.6)",
          "line": {
           "color": "rgba(255, 153, 51, 1.0)",
           "width": 1
          }
         },
         "name": "None",
         "orientation": "v",
         "text": "",
         "type": "bar",
         "x": [
          "A",
          "B",
          "C",
          "D"
         ],
         "y": [
          100,
          100,
          100,
          100
         ]
        }
       ],
       "layout": {
        "legend": {
         "bgcolor": "#F5F6F9",
         "font": {
          "color": "#4D5663"
         }
        },
        "paper_bgcolor": "#F5F6F9",
        "plot_bgcolor": "#F5F6F9",
        "template": {
         "data": {
          "bar": [
           {
            "error_x": {
             "color": "#2a3f5f"
            },
            "error_y": {
             "color": "#2a3f5f"
            },
            "marker": {
             "line": {
              "color": "#E5ECF6",
              "width": 0.5
             }
            },
            "type": "bar"
           }
          ],
          "barpolar": [
           {
            "marker": {
             "line": {
              "color": "#E5ECF6",
              "width": 0.5
             }
            },
            "type": "barpolar"
           }
          ],
          "carpet": [
           {
            "aaxis": {
             "endlinecolor": "#2a3f5f",
             "gridcolor": "white",
             "linecolor": "white",
             "minorgridcolor": "white",
             "startlinecolor": "#2a3f5f"
            },
            "baxis": {
             "endlinecolor": "#2a3f5f",
             "gridcolor": "white",
             "linecolor": "white",
             "minorgridcolor": "white",
             "startlinecolor": "#2a3f5f"
            },
            "type": "carpet"
           }
          ],
          "choropleth": [
           {
            "colorbar": {
             "outlinewidth": 0,
             "ticks": ""
            },
            "type": "choropleth"
           }
          ],
          "contour": [
           {
            "colorbar": {
             "outlinewidth": 0,
             "ticks": ""
            },
            "colorscale": [
             [
              0,
              "#0d0887"
             ],
             [
              0.1111111111111111,
              "#46039f"
             ],
             [
              0.2222222222222222,
              "#7201a8"
             ],
             [
              0.3333333333333333,
              "#9c179e"
             ],
             [
              0.4444444444444444,
              "#bd3786"
             ],
             [
              0.5555555555555556,
              "#d8576b"
             ],
             [
              0.6666666666666666,
              "#ed7953"
             ],
             [
              0.7777777777777778,
              "#fb9f3a"
             ],
             [
              0.8888888888888888,
              "#fdca26"
             ],
             [
              1,
              "#f0f921"
             ]
            ],
            "type": "contour"
           }
          ],
          "contourcarpet": [
           {
            "colorbar": {
             "outlinewidth": 0,
             "ticks": ""
            },
            "type": "contourcarpet"
           }
          ],
          "heatmap": [
           {
            "colorbar": {
             "outlinewidth": 0,
             "ticks": ""
            },
            "colorscale": [
             [
              0,
              "#0d0887"
             ],
             [
              0.1111111111111111,
              "#46039f"
             ],
             [
              0.2222222222222222,
              "#7201a8"
             ],
             [
              0.3333333333333333,
              "#9c179e"
             ],
             [
              0.4444444444444444,
              "#bd3786"
             ],
             [
              0.5555555555555556,
              "#d8576b"
             ],
             [
              0.6666666666666666,
              "#ed7953"
             ],
             [
              0.7777777777777778,
              "#fb9f3a"
             ],
             [
              0.8888888888888888,
              "#fdca26"
             ],
             [
              1,
              "#f0f921"
             ]
            ],
            "type": "heatmap"
           }
          ],
          "heatmapgl": [
           {
            "colorbar": {
             "outlinewidth": 0,
             "ticks": ""
            },
            "colorscale": [
             [
              0,
              "#0d0887"
             ],
             [
              0.1111111111111111,
              "#46039f"
             ],
             [
              0.2222222222222222,
              "#7201a8"
             ],
             [
              0.3333333333333333,
              "#9c179e"
             ],
             [
              0.4444444444444444,
              "#bd3786"
             ],
             [
              0.5555555555555556,
              "#d8576b"
             ],
             [
              0.6666666666666666,
              "#ed7953"
             ],
             [
              0.7777777777777778,
              "#fb9f3a"
             ],
             [
              0.8888888888888888,
              "#fdca26"
             ],
             [
              1,
              "#f0f921"
             ]
            ],
            "type": "heatmapgl"
           }
          ],
          "histogram": [
           {
            "marker": {
             "colorbar": {
              "outlinewidth": 0,
              "ticks": ""
             }
            },
            "type": "histogram"
           }
          ],
          "histogram2d": [
           {
            "colorbar": {
             "outlinewidth": 0,
             "ticks": ""
            },
            "colorscale": [
             [
              0,
              "#0d0887"
             ],
             [
              0.1111111111111111,
              "#46039f"
             ],
             [
              0.2222222222222222,
              "#7201a8"
             ],
             [
              0.3333333333333333,
              "#9c179e"
             ],
             [
              0.4444444444444444,
              "#bd3786"
             ],
             [
              0.5555555555555556,
              "#d8576b"
             ],
             [
              0.6666666666666666,
              "#ed7953"
             ],
             [
              0.7777777777777778,
              "#fb9f3a"
             ],
             [
              0.8888888888888888,
              "#fdca26"
             ],
             [
              1,
              "#f0f921"
             ]
            ],
            "type": "histogram2d"
           }
          ],
          "histogram2dcontour": [
           {
            "colorbar": {
             "outlinewidth": 0,
             "ticks": ""
            },
            "colorscale": [
             [
              0,
              "#0d0887"
             ],
             [
              0.1111111111111111,
              "#46039f"
             ],
             [
              0.2222222222222222,
              "#7201a8"
             ],
             [
              0.3333333333333333,
              "#9c179e"
             ],
             [
              0.4444444444444444,
              "#bd3786"
             ],
             [
              0.5555555555555556,
              "#d8576b"
             ],
             [
              0.6666666666666666,
              "#ed7953"
             ],
             [
              0.7777777777777778,
              "#fb9f3a"
             ],
             [
              0.8888888888888888,
              "#fdca26"
             ],
             [
              1,
              "#f0f921"
             ]
            ],
            "type": "histogram2dcontour"
           }
          ],
          "mesh3d": [
           {
            "colorbar": {
             "outlinewidth": 0,
             "ticks": ""
            },
            "type": "mesh3d"
           }
          ],
          "parcoords": [
           {
            "line": {
             "colorbar": {
              "outlinewidth": 0,
              "ticks": ""
             }
            },
            "type": "parcoords"
           }
          ],
          "pie": [
           {
            "automargin": true,
            "type": "pie"
           }
          ],
          "scatter": [
           {
            "marker": {
             "colorbar": {
              "outlinewidth": 0,
              "ticks": ""
             }
            },
            "type": "scatter"
           }
          ],
          "scatter3d": [
           {
            "line": {
             "colorbar": {
              "outlinewidth": 0,
              "ticks": ""
             }
            },
            "marker": {
             "colorbar": {
              "outlinewidth": 0,
              "ticks": ""
             }
            },
            "type": "scatter3d"
           }
          ],
          "scattercarpet": [
           {
            "marker": {
             "colorbar": {
              "outlinewidth": 0,
              "ticks": ""
             }
            },
            "type": "scattercarpet"
           }
          ],
          "scattergeo": [
           {
            "marker": {
             "colorbar": {
              "outlinewidth": 0,
              "ticks": ""
             }
            },
            "type": "scattergeo"
           }
          ],
          "scattergl": [
           {
            "marker": {
             "colorbar": {
              "outlinewidth": 0,
              "ticks": ""
             }
            },
            "type": "scattergl"
           }
          ],
          "scattermapbox": [
           {
            "marker": {
             "colorbar": {
              "outlinewidth": 0,
              "ticks": ""
             }
            },
            "type": "scattermapbox"
           }
          ],
          "scatterpolar": [
           {
            "marker": {
             "colorbar": {
              "outlinewidth": 0,
              "ticks": ""
             }
            },
            "type": "scatterpolar"
           }
          ],
          "scatterpolargl": [
           {
            "marker": {
             "colorbar": {
              "outlinewidth": 0,
              "ticks": ""
             }
            },
            "type": "scatterpolargl"
           }
          ],
          "scatterternary": [
           {
            "marker": {
             "colorbar": {
              "outlinewidth": 0,
              "ticks": ""
             }
            },
            "type": "scatterternary"
           }
          ],
          "surface": [
           {
            "colorbar": {
             "outlinewidth": 0,
             "ticks": ""
            },
            "colorscale": [
             [
              0,
              "#0d0887"
             ],
             [
              0.1111111111111111,
              "#46039f"
             ],
             [
              0.2222222222222222,
              "#7201a8"
             ],
             [
              0.3333333333333333,
              "#9c179e"
             ],
             [
              0.4444444444444444,
              "#bd3786"
             ],
             [
              0.5555555555555556,
              "#d8576b"
             ],
             [
              0.6666666666666666,
              "#ed7953"
             ],
             [
              0.7777777777777778,
              "#fb9f3a"
             ],
             [
              0.8888888888888888,
              "#fdca26"
             ],
             [
              1,
              "#f0f921"
             ]
            ],
            "type": "surface"
           }
          ],
          "table": [
           {
            "cells": {
             "fill": {
              "color": "#EBF0F8"
             },
             "line": {
              "color": "white"
             }
            },
            "header": {
             "fill": {
              "color": "#C8D4E3"
             },
             "line": {
              "color": "white"
             }
            },
            "type": "table"
           }
          ]
         },
         "layout": {
          "annotationdefaults": {
           "arrowcolor": "#2a3f5f",
           "arrowhead": 0,
           "arrowwidth": 1
          },
          "coloraxis": {
           "colorbar": {
            "outlinewidth": 0,
            "ticks": ""
           }
          },
          "colorscale": {
           "diverging": [
            [
             0,
             "#8e0152"
            ],
            [
             0.1,
             "#c51b7d"
            ],
            [
             0.2,
             "#de77ae"
            ],
            [
             0.3,
             "#f1b6da"
            ],
            [
             0.4,
             "#fde0ef"
            ],
            [
             0.5,
             "#f7f7f7"
            ],
            [
             0.6,
             "#e6f5d0"
            ],
            [
             0.7,
             "#b8e186"
            ],
            [
             0.8,
             "#7fbc41"
            ],
            [
             0.9,
             "#4d9221"
            ],
            [
             1,
             "#276419"
            ]
           ],
           "sequential": [
            [
             0,
             "#0d0887"
            ],
            [
             0.1111111111111111,
             "#46039f"
            ],
            [
             0.2222222222222222,
             "#7201a8"
            ],
            [
             0.3333333333333333,
             "#9c179e"
            ],
            [
             0.4444444444444444,
             "#bd3786"
            ],
            [
             0.5555555555555556,
             "#d8576b"
            ],
            [
             0.6666666666666666,
             "#ed7953"
            ],
            [
             0.7777777777777778,
             "#fb9f3a"
            ],
            [
             0.8888888888888888,
             "#fdca26"
            ],
            [
             1,
             "#f0f921"
            ]
           ],
           "sequentialminus": [
            [
             0,
             "#0d0887"
            ],
            [
             0.1111111111111111,
             "#46039f"
            ],
            [
             0.2222222222222222,
             "#7201a8"
            ],
            [
             0.3333333333333333,
             "#9c179e"
            ],
            [
             0.4444444444444444,
             "#bd3786"
            ],
            [
             0.5555555555555556,
             "#d8576b"
            ],
            [
             0.6666666666666666,
             "#ed7953"
            ],
            [
             0.7777777777777778,
             "#fb9f3a"
            ],
            [
             0.8888888888888888,
             "#fdca26"
            ],
            [
             1,
             "#f0f921"
            ]
           ]
          },
          "colorway": [
           "#636efa",
           "#EF553B",
           "#00cc96",
           "#ab63fa",
           "#FFA15A",
           "#19d3f3",
           "#FF6692",
           "#B6E880",
           "#FF97FF",
           "#FECB52"
          ],
          "font": {
           "color": "#2a3f5f"
          },
          "geo": {
           "bgcolor": "white",
           "lakecolor": "white",
           "landcolor": "#E5ECF6",
           "showlakes": true,
           "showland": true,
           "subunitcolor": "white"
          },
          "hoverlabel": {
           "align": "left"
          },
          "hovermode": "closest",
          "mapbox": {
           "style": "light"
          },
          "paper_bgcolor": "white",
          "plot_bgcolor": "#E5ECF6",
          "polar": {
           "angularaxis": {
            "gridcolor": "white",
            "linecolor": "white",
            "ticks": ""
           },
           "bgcolor": "#E5ECF6",
           "radialaxis": {
            "gridcolor": "white",
            "linecolor": "white",
            "ticks": ""
           }
          },
          "scene": {
           "xaxis": {
            "backgroundcolor": "#E5ECF6",
            "gridcolor": "white",
            "gridwidth": 2,
            "linecolor": "white",
            "showbackground": true,
            "ticks": "",
            "zerolinecolor": "white"
           },
           "yaxis": {
            "backgroundcolor": "#E5ECF6",
            "gridcolor": "white",
            "gridwidth": 2,
            "linecolor": "white",
            "showbackground": true,
            "ticks": "",
            "zerolinecolor": "white"
           },
           "zaxis": {
            "backgroundcolor": "#E5ECF6",
            "gridcolor": "white",
            "gridwidth": 2,
            "linecolor": "white",
            "showbackground": true,
            "ticks": "",
            "zerolinecolor": "white"
           }
          },
          "shapedefaults": {
           "line": {
            "color": "#2a3f5f"
           }
          },
          "ternary": {
           "aaxis": {
            "gridcolor": "white",
            "linecolor": "white",
            "ticks": ""
           },
           "baxis": {
            "gridcolor": "white",
            "linecolor": "white",
            "ticks": ""
           },
           "bgcolor": "#E5ECF6",
           "caxis": {
            "gridcolor": "white",
            "linecolor": "white",
            "ticks": ""
           }
          },
          "title": {
           "x": 0.05
          },
          "xaxis": {
           "automargin": true,
           "gridcolor": "white",
           "linecolor": "white",
           "ticks": "",
           "title": {
            "standoff": 15
           },
           "zerolinecolor": "white",
           "zerolinewidth": 2
          },
          "yaxis": {
           "automargin": true,
           "gridcolor": "white",
           "linecolor": "white",
           "ticks": "",
           "title": {
            "standoff": 15
           },
           "zerolinecolor": "white",
           "zerolinewidth": 2
          }
         }
        },
        "title": {
         "font": {
          "color": "#4D5663"
         }
        },
        "xaxis": {
         "gridcolor": "#E1E5ED",
         "showgrid": true,
         "tickfont": {
          "color": "#4D5663"
         },
         "title": {
          "font": {
           "color": "#4D5663"
          },
          "text": ""
         },
         "zerolinecolor": "#E1E5ED"
        },
        "yaxis": {
         "gridcolor": "#E1E5ED",
         "showgrid": true,
         "tickfont": {
          "color": "#4D5663"
         },
         "title": {
          "font": {
           "color": "#4D5663"
          },
          "text": ""
         },
         "zerolinecolor": "#E1E5ED"
        }
       }
      },
      "text/html": [
       "<div>\n",
       "        \n",
       "        \n",
       "            <div id=\"3a47d19c-0f5f-4255-bc3f-09ba39b68986\" class=\"plotly-graph-div\" style=\"height:525px; width:100%;\"></div>\n",
       "            <script type=\"text/javascript\">\n",
       "                require([\"plotly\"], function(Plotly) {\n",
       "                    window.PLOTLYENV=window.PLOTLYENV || {};\n",
       "                    window.PLOTLYENV.BASE_URL='https://plot.ly';\n",
       "                    \n",
       "                if (document.getElementById(\"3a47d19c-0f5f-4255-bc3f-09ba39b68986\")) {\n",
       "                    Plotly.newPlot(\n",
       "                        '3a47d19c-0f5f-4255-bc3f-09ba39b68986',\n",
       "                        [{\"marker\": {\"color\": \"rgba(255, 153, 51, 0.6)\", \"line\": {\"color\": \"rgba(255, 153, 51, 1.0)\", \"width\": 1}}, \"name\": \"None\", \"orientation\": \"v\", \"text\": \"\", \"type\": \"bar\", \"x\": [\"A\", \"B\", \"C\", \"D\"], \"y\": [100, 100, 100, 100]}],\n",
       "                        {\"legend\": {\"bgcolor\": \"#F5F6F9\", \"font\": {\"color\": \"#4D5663\"}}, \"paper_bgcolor\": \"#F5F6F9\", \"plot_bgcolor\": \"#F5F6F9\", \"template\": {\"data\": {\"bar\": [{\"error_x\": {\"color\": \"#2a3f5f\"}, \"error_y\": {\"color\": \"#2a3f5f\"}, \"marker\": {\"line\": {\"color\": \"#E5ECF6\", \"width\": 0.5}}, \"type\": \"bar\"}], \"barpolar\": [{\"marker\": {\"line\": {\"color\": \"#E5ECF6\", \"width\": 0.5}}, \"type\": \"barpolar\"}], \"carpet\": [{\"aaxis\": {\"endlinecolor\": \"#2a3f5f\", \"gridcolor\": \"white\", \"linecolor\": \"white\", \"minorgridcolor\": \"white\", \"startlinecolor\": \"#2a3f5f\"}, \"baxis\": {\"endlinecolor\": \"#2a3f5f\", \"gridcolor\": \"white\", \"linecolor\": \"white\", \"minorgridcolor\": \"white\", \"startlinecolor\": \"#2a3f5f\"}, \"type\": \"carpet\"}], \"choropleth\": [{\"colorbar\": {\"outlinewidth\": 0, \"ticks\": \"\"}, \"type\": \"choropleth\"}], \"contour\": [{\"colorbar\": {\"outlinewidth\": 0, \"ticks\": \"\"}, \"colorscale\": [[0.0, \"#0d0887\"], [0.1111111111111111, \"#46039f\"], [0.2222222222222222, \"#7201a8\"], [0.3333333333333333, \"#9c179e\"], [0.4444444444444444, \"#bd3786\"], [0.5555555555555556, \"#d8576b\"], [0.6666666666666666, \"#ed7953\"], [0.7777777777777778, \"#fb9f3a\"], [0.8888888888888888, \"#fdca26\"], [1.0, \"#f0f921\"]], \"type\": \"contour\"}], \"contourcarpet\": [{\"colorbar\": {\"outlinewidth\": 0, \"ticks\": \"\"}, \"type\": \"contourcarpet\"}], \"heatmap\": [{\"colorbar\": {\"outlinewidth\": 0, \"ticks\": \"\"}, \"colorscale\": [[0.0, \"#0d0887\"], [0.1111111111111111, \"#46039f\"], [0.2222222222222222, \"#7201a8\"], [0.3333333333333333, \"#9c179e\"], [0.4444444444444444, \"#bd3786\"], [0.5555555555555556, \"#d8576b\"], [0.6666666666666666, \"#ed7953\"], [0.7777777777777778, \"#fb9f3a\"], [0.8888888888888888, \"#fdca26\"], [1.0, \"#f0f921\"]], \"type\": \"heatmap\"}], \"heatmapgl\": [{\"colorbar\": {\"outlinewidth\": 0, \"ticks\": \"\"}, \"colorscale\": [[0.0, \"#0d0887\"], [0.1111111111111111, \"#46039f\"], [0.2222222222222222, \"#7201a8\"], [0.3333333333333333, \"#9c179e\"], [0.4444444444444444, \"#bd3786\"], [0.5555555555555556, \"#d8576b\"], [0.6666666666666666, \"#ed7953\"], [0.7777777777777778, \"#fb9f3a\"], [0.8888888888888888, \"#fdca26\"], [1.0, \"#f0f921\"]], \"type\": \"heatmapgl\"}], \"histogram\": [{\"marker\": {\"colorbar\": {\"outlinewidth\": 0, \"ticks\": \"\"}}, \"type\": \"histogram\"}], \"histogram2d\": [{\"colorbar\": {\"outlinewidth\": 0, \"ticks\": \"\"}, \"colorscale\": [[0.0, \"#0d0887\"], [0.1111111111111111, \"#46039f\"], [0.2222222222222222, \"#7201a8\"], [0.3333333333333333, \"#9c179e\"], [0.4444444444444444, \"#bd3786\"], [0.5555555555555556, \"#d8576b\"], [0.6666666666666666, \"#ed7953\"], [0.7777777777777778, \"#fb9f3a\"], [0.8888888888888888, \"#fdca26\"], [1.0, \"#f0f921\"]], \"type\": \"histogram2d\"}], \"histogram2dcontour\": [{\"colorbar\": {\"outlinewidth\": 0, \"ticks\": \"\"}, \"colorscale\": [[0.0, \"#0d0887\"], [0.1111111111111111, \"#46039f\"], [0.2222222222222222, \"#7201a8\"], [0.3333333333333333, \"#9c179e\"], [0.4444444444444444, \"#bd3786\"], [0.5555555555555556, \"#d8576b\"], [0.6666666666666666, \"#ed7953\"], [0.7777777777777778, \"#fb9f3a\"], [0.8888888888888888, \"#fdca26\"], [1.0, \"#f0f921\"]], \"type\": \"histogram2dcontour\"}], \"mesh3d\": [{\"colorbar\": {\"outlinewidth\": 0, \"ticks\": \"\"}, \"type\": \"mesh3d\"}], \"parcoords\": [{\"line\": {\"colorbar\": {\"outlinewidth\": 0, \"ticks\": \"\"}}, \"type\": \"parcoords\"}], \"pie\": [{\"automargin\": true, \"type\": \"pie\"}], \"scatter\": [{\"marker\": {\"colorbar\": {\"outlinewidth\": 0, \"ticks\": \"\"}}, \"type\": \"scatter\"}], \"scatter3d\": [{\"line\": {\"colorbar\": {\"outlinewidth\": 0, \"ticks\": \"\"}}, \"marker\": {\"colorbar\": {\"outlinewidth\": 0, \"ticks\": \"\"}}, \"type\": \"scatter3d\"}], \"scattercarpet\": [{\"marker\": {\"colorbar\": {\"outlinewidth\": 0, \"ticks\": \"\"}}, \"type\": \"scattercarpet\"}], \"scattergeo\": [{\"marker\": {\"colorbar\": {\"outlinewidth\": 0, \"ticks\": \"\"}}, \"type\": \"scattergeo\"}], \"scattergl\": [{\"marker\": {\"colorbar\": {\"outlinewidth\": 0, \"ticks\": \"\"}}, \"type\": \"scattergl\"}], \"scattermapbox\": [{\"marker\": {\"colorbar\": {\"outlinewidth\": 0, \"ticks\": \"\"}}, \"type\": \"scattermapbox\"}], \"scatterpolar\": [{\"marker\": {\"colorbar\": {\"outlinewidth\": 0, \"ticks\": \"\"}}, \"type\": \"scatterpolar\"}], \"scatterpolargl\": [{\"marker\": {\"colorbar\": {\"outlinewidth\": 0, \"ticks\": \"\"}}, \"type\": \"scatterpolargl\"}], \"scatterternary\": [{\"marker\": {\"colorbar\": {\"outlinewidth\": 0, \"ticks\": \"\"}}, \"type\": \"scatterternary\"}], \"surface\": [{\"colorbar\": {\"outlinewidth\": 0, \"ticks\": \"\"}, \"colorscale\": [[0.0, \"#0d0887\"], [0.1111111111111111, \"#46039f\"], [0.2222222222222222, \"#7201a8\"], [0.3333333333333333, \"#9c179e\"], [0.4444444444444444, \"#bd3786\"], [0.5555555555555556, \"#d8576b\"], [0.6666666666666666, \"#ed7953\"], [0.7777777777777778, \"#fb9f3a\"], [0.8888888888888888, \"#fdca26\"], [1.0, \"#f0f921\"]], \"type\": \"surface\"}], \"table\": [{\"cells\": {\"fill\": {\"color\": \"#EBF0F8\"}, \"line\": {\"color\": \"white\"}}, \"header\": {\"fill\": {\"color\": \"#C8D4E3\"}, \"line\": {\"color\": \"white\"}}, \"type\": \"table\"}]}, \"layout\": {\"annotationdefaults\": {\"arrowcolor\": \"#2a3f5f\", \"arrowhead\": 0, \"arrowwidth\": 1}, \"coloraxis\": {\"colorbar\": {\"outlinewidth\": 0, \"ticks\": \"\"}}, \"colorscale\": {\"diverging\": [[0, \"#8e0152\"], [0.1, \"#c51b7d\"], [0.2, \"#de77ae\"], [0.3, \"#f1b6da\"], [0.4, \"#fde0ef\"], [0.5, \"#f7f7f7\"], [0.6, \"#e6f5d0\"], [0.7, \"#b8e186\"], [0.8, \"#7fbc41\"], [0.9, \"#4d9221\"], [1, \"#276419\"]], \"sequential\": [[0.0, \"#0d0887\"], [0.1111111111111111, \"#46039f\"], [0.2222222222222222, \"#7201a8\"], [0.3333333333333333, \"#9c179e\"], [0.4444444444444444, \"#bd3786\"], [0.5555555555555556, \"#d8576b\"], [0.6666666666666666, \"#ed7953\"], [0.7777777777777778, \"#fb9f3a\"], [0.8888888888888888, \"#fdca26\"], [1.0, \"#f0f921\"]], \"sequentialminus\": [[0.0, \"#0d0887\"], [0.1111111111111111, \"#46039f\"], [0.2222222222222222, \"#7201a8\"], [0.3333333333333333, \"#9c179e\"], [0.4444444444444444, \"#bd3786\"], [0.5555555555555556, \"#d8576b\"], [0.6666666666666666, \"#ed7953\"], [0.7777777777777778, \"#fb9f3a\"], [0.8888888888888888, \"#fdca26\"], [1.0, \"#f0f921\"]]}, \"colorway\": [\"#636efa\", \"#EF553B\", \"#00cc96\", \"#ab63fa\", \"#FFA15A\", \"#19d3f3\", \"#FF6692\", \"#B6E880\", \"#FF97FF\", \"#FECB52\"], \"font\": {\"color\": \"#2a3f5f\"}, \"geo\": {\"bgcolor\": \"white\", \"lakecolor\": \"white\", \"landcolor\": \"#E5ECF6\", \"showlakes\": true, \"showland\": true, \"subunitcolor\": \"white\"}, \"hoverlabel\": {\"align\": \"left\"}, \"hovermode\": \"closest\", \"mapbox\": {\"style\": \"light\"}, \"paper_bgcolor\": \"white\", \"plot_bgcolor\": \"#E5ECF6\", \"polar\": {\"angularaxis\": {\"gridcolor\": \"white\", \"linecolor\": \"white\", \"ticks\": \"\"}, \"bgcolor\": \"#E5ECF6\", \"radialaxis\": {\"gridcolor\": \"white\", \"linecolor\": \"white\", \"ticks\": \"\"}}, \"scene\": {\"xaxis\": {\"backgroundcolor\": \"#E5ECF6\", \"gridcolor\": \"white\", \"gridwidth\": 2, \"linecolor\": \"white\", \"showbackground\": true, \"ticks\": \"\", \"zerolinecolor\": \"white\"}, \"yaxis\": {\"backgroundcolor\": \"#E5ECF6\", \"gridcolor\": \"white\", \"gridwidth\": 2, \"linecolor\": \"white\", \"showbackground\": true, \"ticks\": \"\", \"zerolinecolor\": \"white\"}, \"zaxis\": {\"backgroundcolor\": \"#E5ECF6\", \"gridcolor\": \"white\", \"gridwidth\": 2, \"linecolor\": \"white\", \"showbackground\": true, \"ticks\": \"\", \"zerolinecolor\": \"white\"}}, \"shapedefaults\": {\"line\": {\"color\": \"#2a3f5f\"}}, \"ternary\": {\"aaxis\": {\"gridcolor\": \"white\", \"linecolor\": \"white\", \"ticks\": \"\"}, \"baxis\": {\"gridcolor\": \"white\", \"linecolor\": \"white\", \"ticks\": \"\"}, \"bgcolor\": \"#E5ECF6\", \"caxis\": {\"gridcolor\": \"white\", \"linecolor\": \"white\", \"ticks\": \"\"}}, \"title\": {\"x\": 0.05}, \"xaxis\": {\"automargin\": true, \"gridcolor\": \"white\", \"linecolor\": \"white\", \"ticks\": \"\", \"title\": {\"standoff\": 15}, \"zerolinecolor\": \"white\", \"zerolinewidth\": 2}, \"yaxis\": {\"automargin\": true, \"gridcolor\": \"white\", \"linecolor\": \"white\", \"ticks\": \"\", \"title\": {\"standoff\": 15}, \"zerolinecolor\": \"white\", \"zerolinewidth\": 2}}}, \"title\": {\"font\": {\"color\": \"#4D5663\"}}, \"xaxis\": {\"gridcolor\": \"#E1E5ED\", \"showgrid\": true, \"tickfont\": {\"color\": \"#4D5663\"}, \"title\": {\"font\": {\"color\": \"#4D5663\"}, \"text\": \"\"}, \"zerolinecolor\": \"#E1E5ED\"}, \"yaxis\": {\"gridcolor\": \"#E1E5ED\", \"showgrid\": true, \"tickfont\": {\"color\": \"#4D5663\"}, \"title\": {\"font\": {\"color\": \"#4D5663\"}, \"text\": \"\"}, \"zerolinecolor\": \"#E1E5ED\"}},\n",
       "                        {\"showLink\": true, \"linkText\": \"Export to plot.ly\", \"plotlyServerURL\": \"https://plot.ly\", \"responsive\": true}\n",
       "                    ).then(function(){\n",
       "                            \n",
       "var gd = document.getElementById('3a47d19c-0f5f-4255-bc3f-09ba39b68986');\n",
       "var x = new MutationObserver(function (mutations, observer) {{\n",
       "        var display = window.getComputedStyle(gd).display;\n",
       "        if (!display || display === 'none') {{\n",
       "            console.log([gd, 'removed!']);\n",
       "            Plotly.purge(gd);\n",
       "            observer.disconnect();\n",
       "        }}\n",
       "}});\n",
       "\n",
       "// Listen for the removal of the full notebook cells\n",
       "var notebookContainer = gd.closest('#notebook-container');\n",
       "if (notebookContainer) {{\n",
       "    x.observe(notebookContainer, {childList: true});\n",
       "}}\n",
       "\n",
       "// Listen for the clearing of the current output cell\n",
       "var outputEl = gd.closest('.output');\n",
       "if (outputEl) {{\n",
       "    x.observe(outputEl, {childList: true});\n",
       "}}\n",
       "\n",
       "                        })\n",
       "                };\n",
       "                });\n",
       "            </script>\n",
       "        </div>"
      ]
     },
     "metadata": {},
     "output_type": "display_data"
    }
   ],
   "source": [
    "df.count().iplot(kind='bar')"
   ]
  },
  {
   "cell_type": "markdown",
   "metadata": {},
   "source": [
    "## Boxplots"
   ]
  },
  {
   "cell_type": "code",
   "execution_count": 19,
   "metadata": {},
   "outputs": [
    {
     "data": {
      "application/vnd.plotly.v1+json": {
       "config": {
        "linkText": "Export to plot.ly",
        "plotlyServerURL": "https://plot.ly",
        "showLink": true
       },
       "data": [
        {
         "boxpoints": false,
         "line": {
          "width": 1.3
         },
         "marker": {
          "color": "rgba(255, 153, 51, 1.0)"
         },
         "name": "A",
         "orientation": "v",
         "type": "box",
         "y": [
          0.8425800230056536,
          0.8228729931602605,
          0.45302144958655327,
          -0.15464636949214794,
          -0.3344287501808655,
          -0.6155627897642467,
          -0.8511015145286904,
          -0.22416144352609133,
          0.6602592697073943,
          1.6688045668274765,
          -1.1078003079394538,
          0.5205314770180932,
          -0.3363048584250365,
          0.40602399155108443,
          0.19011255413451617,
          2.4654201650905123,
          0.32154357233462094,
          -0.8213877114714514,
          0.5107565293763973,
          -1.3839586003113933,
          -1.0639421497820791,
          0.6849377969963686,
          -1.1333905961531854,
          -0.11635118566959907,
          -0.37936734911283415,
          0.4456028260228318,
          1.9327013265029618,
          -0.024565439083912236,
          0.7526701692658325,
          -0.5662253860236415,
          0.8821763247769187,
          0.2805875093621268,
          -0.9788739014698855,
          0.3036651709603921,
          0.5396091606224961,
          0.6665514304418824,
          0.5352043387203083,
          1.2129258711535873,
          0.7240042780223538,
          -1.0098975715722636,
          -0.16289919477076262,
          -0.8154323532297832,
          -0.3977749740844525,
          0.7845287767499552,
          -0.5823264324213028,
          1.7668402955824636,
          -0.5784049432184615,
          -0.11684278517136609,
          0.2951817195596696,
          -1.9513260315146401,
          -0.629934701459229,
          0.045131028591535005,
          -0.8402131275960164,
          0.5006646482393786,
          1.7927717048719476,
          -0.6399442017860044,
          1.7017414053525006,
          0.5571691974779828,
          -1.0823590214650136,
          -1.6669125591790803,
          -1.1665984022067872,
          1.5447897360165155,
          0.49559664950232923,
          -0.7110348817342973,
          0.048815188290864814,
          -0.07622169384583687,
          -0.9396682102311819,
          0.9048619394581252,
          0.3236739195518902,
          0.9322713987437912,
          -0.3677385853043386,
          -1.0783725873956171,
          1.2426757883845556,
          1.7282300608014385,
          0.5351211848501362,
          0.7207300381574594,
          -0.6571632159603973,
          0.3005500199868126,
          -2.2034542653997344,
          -2.261749854662406,
          -0.4732251632090071,
          -0.5134968603809374,
          0.6522671412507076,
          -0.315077705434412,
          0.675942762735105,
          1.5233300660474078,
          -0.954080252681867,
          0.9823848551740675,
          -1.635832764245846,
          0.2167668557418693,
          -0.7951469007973236,
          1.1919912435334072,
          1.2511730130201058,
          -1.3838268497648982,
          -0.5664230216840095,
          -1.4987921435235554,
          -0.8066030673898453,
          1.092576357472236,
          -0.20879159797990765,
          0.22369880671706246
         ]
        },
        {
         "boxpoints": false,
         "line": {
          "width": 1.3
         },
         "marker": {
          "color": "rgba(55, 128, 191, 1.0)"
         },
         "name": "B",
         "orientation": "v",
         "type": "box",
         "y": [
          0.09759749197282581,
          0.6137315514697458,
          -0.2854572156585551,
          0.12142749701404602,
          -0.30538017910705795,
          0.9653249896933419,
          0.30763722494900336,
          -1.1804135293053442,
          2.0108948250826093,
          2.3281200521482357,
          0.8375326746814203,
          -1.1552593469105479,
          0.8209178718438593,
          -2.1722914069362815,
          -0.19986657830185683,
          -0.7093964594384959,
          -0.37191912168682706,
          1.065137719776101,
          2.0031885770388995,
          0.43456347993737837,
          0.527346750628352,
          -1.2824861366308757,
          0.03924695575136877,
          -0.7168935257821382,
          -0.30359036230906783,
          -0.6962633344761804,
          0.4211274074392302,
          1.6871651877846425,
          -0.039050782188639416,
          2.072099683982022,
          0.5204468688348854,
          1.0164792926890849,
          -0.7316803836275722,
          -0.3898451347452699,
          0.6294922442320586,
          1.183797549303694,
          -0.921297878278392,
          0.222282348897835,
          0.9547244715510609,
          -0.8592356555646143,
          -0.8440219747360963,
          -1.4596730660029675,
          -0.3579668388348763,
          -1.4899713082696882,
          -2.3650778604752984,
          1.0468466219410333,
          0.9046954089969772,
          1.253496239045731,
          0.23066745133877534,
          0.42399151575975924,
          -0.5724448167613085,
          -0.0312127195328586,
          0.44684169836912685,
          1.661791445451631,
          0.39485216421711317,
          -0.9018174786830869,
          -0.2663074862302335,
          1.2333682595654787,
          0.13796620315491115,
          0.0057041245113695635,
          0.412917020734218,
          0.23865432191821495,
          0.5065339609050801,
          -0.6925694953378969,
          -0.026446794780587146,
          -0.06475640554797196,
          -0.3446106690484418,
          0.5569329770877339,
          -0.1738856363317943,
          1.4132900725586053,
          0.5334262689843003,
          -0.6694902766680653,
          -0.37074495041061745,
          -0.17119048891228544,
          -1.5647514632194899,
          0.004023378941902747,
          0.8810753994171026,
          -1.2184413372674996,
          -2.1481159031421484,
          -1.4962719748944955,
          0.38038407459807444,
          0.2765898772414553,
          -0.11068749614747805,
          -1.047817447159204,
          -0.2100501154288501,
          1.0337835973410112,
          0.7557620116787,
          -1.0507032147285573,
          -0.4880355055022291,
          2.187073071990288,
          -1.6687730112146275,
          0.5285813339439062,
          0.21622635990512282,
          0.5654349024962452,
          0.7680214651948842,
          1.124622659275688,
          -0.024373578774586648,
          -0.7540674874965095,
          1.3378437781960533,
          0.5837528107495575
         ]
        },
        {
         "boxpoints": false,
         "line": {
          "width": 1.3
         },
         "marker": {
          "color": "rgba(50, 171, 96, 1.0)"
         },
         "name": "C",
         "orientation": "v",
         "type": "box",
         "y": [
          0.24430933548097938,
          1.153157602825409,
          -1.2279459252863203,
          1.34340724612936,
          -0.041217502047060275,
          0.41171615392618505,
          1.5385559112446923,
          0.7648732837580414,
          1.2378221548680792,
          0.8511119537704597,
          1.9690704973099573,
          -1.8007532668730664,
          2.211973052243103,
          -0.7983479866474343,
          -0.29133270666818645,
          -0.2289200971962283,
          1.1412626871206657,
          0.3842870026485587,
          -1.6005022711784263,
          0.6692586074246968,
          1.7735671759213478,
          1.9066771495638766,
          0.9253219764391617,
          1.8582921789382436,
          -0.15884192047449688,
          -0.39439741097725123,
          -0.2131805015106247,
          1.5741254666344635,
          -1.0100141106641953,
          -0.03476626901184274,
          -0.8335710814137562,
          -0.0653294080398027,
          -0.12828440976953612,
          -0.9096442945756971,
          -0.22250174965853964,
          -1.0459393019196757,
          0.5022898453992217,
          -0.41463437973204087,
          0.38459399713052483,
          -0.7403464056984084,
          2.1359896146811814,
          1.734780254189919,
          -0.9025801865894815,
          0.3238163927053441,
          1.3472241632251434,
          -0.3945797957321719,
          0.2771037961882595,
          -0.6569062211767643,
          0.6674534973140019,
          2.293379398802492,
          -0.5841650469229548,
          -0.34249580540799407,
          -0.8634874002341889,
          -0.3259320769993883,
          0.33668399721733394,
          -1.3330431325215952,
          1.381662448939186,
          0.6183398648741613,
          0.809238047601535,
          0.7880679042469689,
          0.5842877879690729,
          -0.8706838222745634,
          -0.40908624865416454,
          0.6664524585549024,
          0.0747499839073245,
          0.8295433441676373,
          -0.2362185970845391,
          -0.9264137234251151,
          -1.2849226628774835,
          1.3655036094147055,
          -0.5625816562288798,
          -2.2635612706842365,
          1.2033885621650329,
          -0.28087317812398044,
          -0.7813035190340818,
          -1.7519181672150388,
          -2.228152552477639,
          -0.4907622535720897,
          -0.03653668122069601,
          -0.8108740162363595,
          2.4177594473685597,
          2.46316891258294,
          -1.7451934795051316,
          0.7691652719656158,
          0.5816674802232281,
          1.5052698101150037,
          0.047409094104972634,
          1.0377271562410213,
          0.29542513549251703,
          -0.8663848619675543,
          0.6700696195512402,
          0.8374786403455478,
          0.568879257414912,
          -1.2354708353599495,
          -1.1596129743241204,
          0.40109989839742444,
          0.03378650387113606,
          0.7485891058768023,
          1.770630426917514,
          0.005838117675093689
         ]
        },
        {
         "boxpoints": false,
         "line": {
          "width": 1.3
         },
         "marker": {
          "color": "rgba(128, 0, 128, 1.0)"
         },
         "name": "D",
         "orientation": "v",
         "type": "box",
         "y": [
          1.184062315155887,
          1.527483216771176,
          -1.0655051484545195,
          -0.6712804772540937,
          1.2371574403508276,
          1.2236238969124587,
          -0.28045735708845626,
          0.5369439714930251,
          -0.5638007803370333,
          0.68712613704467,
          -0.7287440735648303,
          -0.8952305631023365,
          0.3335254264840793,
          1.272238600063057,
          -1.3243852900837494,
          1.392162823999808,
          1.3001977211877824,
          -0.1542139604045163,
          0.33022950912113225,
          -1.9571234379781695,
          0.707180351643294,
          -1.249109612850024,
          1.2129536630531366,
          -1.0767534894287658,
          -1.3213062316384054,
          -1.4872244226905027,
          0.8397338356265742,
          -0.3915542509891903,
          -0.02477733133517658,
          1.7074401615142256,
          0.25729119013882734,
          -1.5100323633656736,
          -0.09753628257118523,
          0.3571576691260107,
          0.3853401782528403,
          -0.11556419449201895,
          1.9009948600521027,
          -2.411028782040256,
          -0.5594357347699908,
          -0.11278987704667931,
          -0.7465254935335087,
          -0.3676830048285222,
          0.3656382522253938,
          0.6606360733105158,
          1.4216595984196339,
          -0.4259169824157992,
          0.814969265296277,
          -0.495696993792867,
          -0.29919033881126783,
          1.0413642963182843,
          0.8476541736422291,
          -2.261162219489303,
          0.3203861626520892,
          -0.06977502458511345,
          -0.5283915208910475,
          -1.3028688036421616,
          0.20687433546990835,
          2.1293401958604528,
          -0.2140889080223543,
          0.29109948457084767,
          -0.3661037119211918,
          -1.0279872418856912,
          -0.9155602344639235,
          -2.3089877676430834,
          0.27632576778296936,
          0.19431709899160535,
          1.9114522640897547,
          1.5764762791456104,
          1.1657075545856808,
          0.928435488307569,
          -1.4845418793709166,
          -2.4076974875848656,
          -1.0240745445257948,
          -0.03118671284458697,
          -0.2191144485962299,
          -0.9446152419219586,
          0.08030568123631247,
          -0.6455931102542941,
          0.7635236364240873,
          -0.373200458556742,
          1.4865572238803655,
          3.168375539296968,
          -0.05542321652642558,
          1.140301099757501,
          -1.8174723416024499,
          -0.08071578336944459,
          1.2026104163099178,
          0.5039704657875177,
          -1.171311689434029,
          0.2617423451571207,
          0.568487315710609,
          0.06604297698075867,
          0.848213756418194,
          -0.18746021047415282,
          -0.6420253276627698,
          0.5556320263205276,
          1.0091823937409712,
          0.09966301567257936,
          -0.11011429558125099,
          0.4267380945547899
         ]
        }
       ],
       "layout": {
        "legend": {
         "bgcolor": "#F5F6F9",
         "font": {
          "color": "#4D5663"
         }
        },
        "paper_bgcolor": "#F5F6F9",
        "plot_bgcolor": "#F5F6F9",
        "template": {
         "data": {
          "bar": [
           {
            "error_x": {
             "color": "#2a3f5f"
            },
            "error_y": {
             "color": "#2a3f5f"
            },
            "marker": {
             "line": {
              "color": "#E5ECF6",
              "width": 0.5
             }
            },
            "type": "bar"
           }
          ],
          "barpolar": [
           {
            "marker": {
             "line": {
              "color": "#E5ECF6",
              "width": 0.5
             }
            },
            "type": "barpolar"
           }
          ],
          "carpet": [
           {
            "aaxis": {
             "endlinecolor": "#2a3f5f",
             "gridcolor": "white",
             "linecolor": "white",
             "minorgridcolor": "white",
             "startlinecolor": "#2a3f5f"
            },
            "baxis": {
             "endlinecolor": "#2a3f5f",
             "gridcolor": "white",
             "linecolor": "white",
             "minorgridcolor": "white",
             "startlinecolor": "#2a3f5f"
            },
            "type": "carpet"
           }
          ],
          "choropleth": [
           {
            "colorbar": {
             "outlinewidth": 0,
             "ticks": ""
            },
            "type": "choropleth"
           }
          ],
          "contour": [
           {
            "colorbar": {
             "outlinewidth": 0,
             "ticks": ""
            },
            "colorscale": [
             [
              0,
              "#0d0887"
             ],
             [
              0.1111111111111111,
              "#46039f"
             ],
             [
              0.2222222222222222,
              "#7201a8"
             ],
             [
              0.3333333333333333,
              "#9c179e"
             ],
             [
              0.4444444444444444,
              "#bd3786"
             ],
             [
              0.5555555555555556,
              "#d8576b"
             ],
             [
              0.6666666666666666,
              "#ed7953"
             ],
             [
              0.7777777777777778,
              "#fb9f3a"
             ],
             [
              0.8888888888888888,
              "#fdca26"
             ],
             [
              1,
              "#f0f921"
             ]
            ],
            "type": "contour"
           }
          ],
          "contourcarpet": [
           {
            "colorbar": {
             "outlinewidth": 0,
             "ticks": ""
            },
            "type": "contourcarpet"
           }
          ],
          "heatmap": [
           {
            "colorbar": {
             "outlinewidth": 0,
             "ticks": ""
            },
            "colorscale": [
             [
              0,
              "#0d0887"
             ],
             [
              0.1111111111111111,
              "#46039f"
             ],
             [
              0.2222222222222222,
              "#7201a8"
             ],
             [
              0.3333333333333333,
              "#9c179e"
             ],
             [
              0.4444444444444444,
              "#bd3786"
             ],
             [
              0.5555555555555556,
              "#d8576b"
             ],
             [
              0.6666666666666666,
              "#ed7953"
             ],
             [
              0.7777777777777778,
              "#fb9f3a"
             ],
             [
              0.8888888888888888,
              "#fdca26"
             ],
             [
              1,
              "#f0f921"
             ]
            ],
            "type": "heatmap"
           }
          ],
          "heatmapgl": [
           {
            "colorbar": {
             "outlinewidth": 0,
             "ticks": ""
            },
            "colorscale": [
             [
              0,
              "#0d0887"
             ],
             [
              0.1111111111111111,
              "#46039f"
             ],
             [
              0.2222222222222222,
              "#7201a8"
             ],
             [
              0.3333333333333333,
              "#9c179e"
             ],
             [
              0.4444444444444444,
              "#bd3786"
             ],
             [
              0.5555555555555556,
              "#d8576b"
             ],
             [
              0.6666666666666666,
              "#ed7953"
             ],
             [
              0.7777777777777778,
              "#fb9f3a"
             ],
             [
              0.8888888888888888,
              "#fdca26"
             ],
             [
              1,
              "#f0f921"
             ]
            ],
            "type": "heatmapgl"
           }
          ],
          "histogram": [
           {
            "marker": {
             "colorbar": {
              "outlinewidth": 0,
              "ticks": ""
             }
            },
            "type": "histogram"
           }
          ],
          "histogram2d": [
           {
            "colorbar": {
             "outlinewidth": 0,
             "ticks": ""
            },
            "colorscale": [
             [
              0,
              "#0d0887"
             ],
             [
              0.1111111111111111,
              "#46039f"
             ],
             [
              0.2222222222222222,
              "#7201a8"
             ],
             [
              0.3333333333333333,
              "#9c179e"
             ],
             [
              0.4444444444444444,
              "#bd3786"
             ],
             [
              0.5555555555555556,
              "#d8576b"
             ],
             [
              0.6666666666666666,
              "#ed7953"
             ],
             [
              0.7777777777777778,
              "#fb9f3a"
             ],
             [
              0.8888888888888888,
              "#fdca26"
             ],
             [
              1,
              "#f0f921"
             ]
            ],
            "type": "histogram2d"
           }
          ],
          "histogram2dcontour": [
           {
            "colorbar": {
             "outlinewidth": 0,
             "ticks": ""
            },
            "colorscale": [
             [
              0,
              "#0d0887"
             ],
             [
              0.1111111111111111,
              "#46039f"
             ],
             [
              0.2222222222222222,
              "#7201a8"
             ],
             [
              0.3333333333333333,
              "#9c179e"
             ],
             [
              0.4444444444444444,
              "#bd3786"
             ],
             [
              0.5555555555555556,
              "#d8576b"
             ],
             [
              0.6666666666666666,
              "#ed7953"
             ],
             [
              0.7777777777777778,
              "#fb9f3a"
             ],
             [
              0.8888888888888888,
              "#fdca26"
             ],
             [
              1,
              "#f0f921"
             ]
            ],
            "type": "histogram2dcontour"
           }
          ],
          "mesh3d": [
           {
            "colorbar": {
             "outlinewidth": 0,
             "ticks": ""
            },
            "type": "mesh3d"
           }
          ],
          "parcoords": [
           {
            "line": {
             "colorbar": {
              "outlinewidth": 0,
              "ticks": ""
             }
            },
            "type": "parcoords"
           }
          ],
          "pie": [
           {
            "automargin": true,
            "type": "pie"
           }
          ],
          "scatter": [
           {
            "marker": {
             "colorbar": {
              "outlinewidth": 0,
              "ticks": ""
             }
            },
            "type": "scatter"
           }
          ],
          "scatter3d": [
           {
            "line": {
             "colorbar": {
              "outlinewidth": 0,
              "ticks": ""
             }
            },
            "marker": {
             "colorbar": {
              "outlinewidth": 0,
              "ticks": ""
             }
            },
            "type": "scatter3d"
           }
          ],
          "scattercarpet": [
           {
            "marker": {
             "colorbar": {
              "outlinewidth": 0,
              "ticks": ""
             }
            },
            "type": "scattercarpet"
           }
          ],
          "scattergeo": [
           {
            "marker": {
             "colorbar": {
              "outlinewidth": 0,
              "ticks": ""
             }
            },
            "type": "scattergeo"
           }
          ],
          "scattergl": [
           {
            "marker": {
             "colorbar": {
              "outlinewidth": 0,
              "ticks": ""
             }
            },
            "type": "scattergl"
           }
          ],
          "scattermapbox": [
           {
            "marker": {
             "colorbar": {
              "outlinewidth": 0,
              "ticks": ""
             }
            },
            "type": "scattermapbox"
           }
          ],
          "scatterpolar": [
           {
            "marker": {
             "colorbar": {
              "outlinewidth": 0,
              "ticks": ""
             }
            },
            "type": "scatterpolar"
           }
          ],
          "scatterpolargl": [
           {
            "marker": {
             "colorbar": {
              "outlinewidth": 0,
              "ticks": ""
             }
            },
            "type": "scatterpolargl"
           }
          ],
          "scatterternary": [
           {
            "marker": {
             "colorbar": {
              "outlinewidth": 0,
              "ticks": ""
             }
            },
            "type": "scatterternary"
           }
          ],
          "surface": [
           {
            "colorbar": {
             "outlinewidth": 0,
             "ticks": ""
            },
            "colorscale": [
             [
              0,
              "#0d0887"
             ],
             [
              0.1111111111111111,
              "#46039f"
             ],
             [
              0.2222222222222222,
              "#7201a8"
             ],
             [
              0.3333333333333333,
              "#9c179e"
             ],
             [
              0.4444444444444444,
              "#bd3786"
             ],
             [
              0.5555555555555556,
              "#d8576b"
             ],
             [
              0.6666666666666666,
              "#ed7953"
             ],
             [
              0.7777777777777778,
              "#fb9f3a"
             ],
             [
              0.8888888888888888,
              "#fdca26"
             ],
             [
              1,
              "#f0f921"
             ]
            ],
            "type": "surface"
           }
          ],
          "table": [
           {
            "cells": {
             "fill": {
              "color": "#EBF0F8"
             },
             "line": {
              "color": "white"
             }
            },
            "header": {
             "fill": {
              "color": "#C8D4E3"
             },
             "line": {
              "color": "white"
             }
            },
            "type": "table"
           }
          ]
         },
         "layout": {
          "annotationdefaults": {
           "arrowcolor": "#2a3f5f",
           "arrowhead": 0,
           "arrowwidth": 1
          },
          "coloraxis": {
           "colorbar": {
            "outlinewidth": 0,
            "ticks": ""
           }
          },
          "colorscale": {
           "diverging": [
            [
             0,
             "#8e0152"
            ],
            [
             0.1,
             "#c51b7d"
            ],
            [
             0.2,
             "#de77ae"
            ],
            [
             0.3,
             "#f1b6da"
            ],
            [
             0.4,
             "#fde0ef"
            ],
            [
             0.5,
             "#f7f7f7"
            ],
            [
             0.6,
             "#e6f5d0"
            ],
            [
             0.7,
             "#b8e186"
            ],
            [
             0.8,
             "#7fbc41"
            ],
            [
             0.9,
             "#4d9221"
            ],
            [
             1,
             "#276419"
            ]
           ],
           "sequential": [
            [
             0,
             "#0d0887"
            ],
            [
             0.1111111111111111,
             "#46039f"
            ],
            [
             0.2222222222222222,
             "#7201a8"
            ],
            [
             0.3333333333333333,
             "#9c179e"
            ],
            [
             0.4444444444444444,
             "#bd3786"
            ],
            [
             0.5555555555555556,
             "#d8576b"
            ],
            [
             0.6666666666666666,
             "#ed7953"
            ],
            [
             0.7777777777777778,
             "#fb9f3a"
            ],
            [
             0.8888888888888888,
             "#fdca26"
            ],
            [
             1,
             "#f0f921"
            ]
           ],
           "sequentialminus": [
            [
             0,
             "#0d0887"
            ],
            [
             0.1111111111111111,
             "#46039f"
            ],
            [
             0.2222222222222222,
             "#7201a8"
            ],
            [
             0.3333333333333333,
             "#9c179e"
            ],
            [
             0.4444444444444444,
             "#bd3786"
            ],
            [
             0.5555555555555556,
             "#d8576b"
            ],
            [
             0.6666666666666666,
             "#ed7953"
            ],
            [
             0.7777777777777778,
             "#fb9f3a"
            ],
            [
             0.8888888888888888,
             "#fdca26"
            ],
            [
             1,
             "#f0f921"
            ]
           ]
          },
          "colorway": [
           "#636efa",
           "#EF553B",
           "#00cc96",
           "#ab63fa",
           "#FFA15A",
           "#19d3f3",
           "#FF6692",
           "#B6E880",
           "#FF97FF",
           "#FECB52"
          ],
          "font": {
           "color": "#2a3f5f"
          },
          "geo": {
           "bgcolor": "white",
           "lakecolor": "white",
           "landcolor": "#E5ECF6",
           "showlakes": true,
           "showland": true,
           "subunitcolor": "white"
          },
          "hoverlabel": {
           "align": "left"
          },
          "hovermode": "closest",
          "mapbox": {
           "style": "light"
          },
          "paper_bgcolor": "white",
          "plot_bgcolor": "#E5ECF6",
          "polar": {
           "angularaxis": {
            "gridcolor": "white",
            "linecolor": "white",
            "ticks": ""
           },
           "bgcolor": "#E5ECF6",
           "radialaxis": {
            "gridcolor": "white",
            "linecolor": "white",
            "ticks": ""
           }
          },
          "scene": {
           "xaxis": {
            "backgroundcolor": "#E5ECF6",
            "gridcolor": "white",
            "gridwidth": 2,
            "linecolor": "white",
            "showbackground": true,
            "ticks": "",
            "zerolinecolor": "white"
           },
           "yaxis": {
            "backgroundcolor": "#E5ECF6",
            "gridcolor": "white",
            "gridwidth": 2,
            "linecolor": "white",
            "showbackground": true,
            "ticks": "",
            "zerolinecolor": "white"
           },
           "zaxis": {
            "backgroundcolor": "#E5ECF6",
            "gridcolor": "white",
            "gridwidth": 2,
            "linecolor": "white",
            "showbackground": true,
            "ticks": "",
            "zerolinecolor": "white"
           }
          },
          "shapedefaults": {
           "line": {
            "color": "#2a3f5f"
           }
          },
          "ternary": {
           "aaxis": {
            "gridcolor": "white",
            "linecolor": "white",
            "ticks": ""
           },
           "baxis": {
            "gridcolor": "white",
            "linecolor": "white",
            "ticks": ""
           },
           "bgcolor": "#E5ECF6",
           "caxis": {
            "gridcolor": "white",
            "linecolor": "white",
            "ticks": ""
           }
          },
          "title": {
           "x": 0.05
          },
          "xaxis": {
           "automargin": true,
           "gridcolor": "white",
           "linecolor": "white",
           "ticks": "",
           "title": {
            "standoff": 15
           },
           "zerolinecolor": "white",
           "zerolinewidth": 2
          },
          "yaxis": {
           "automargin": true,
           "gridcolor": "white",
           "linecolor": "white",
           "ticks": "",
           "title": {
            "standoff": 15
           },
           "zerolinecolor": "white",
           "zerolinewidth": 2
          }
         }
        },
        "title": {
         "font": {
          "color": "#4D5663"
         }
        },
        "xaxis": {
         "gridcolor": "#E1E5ED",
         "showgrid": true,
         "tickfont": {
          "color": "#4D5663"
         },
         "title": {
          "font": {
           "color": "#4D5663"
          },
          "text": ""
         },
         "zerolinecolor": "#E1E5ED"
        },
        "yaxis": {
         "gridcolor": "#E1E5ED",
         "showgrid": true,
         "tickfont": {
          "color": "#4D5663"
         },
         "title": {
          "font": {
           "color": "#4D5663"
          },
          "text": ""
         },
         "zerolinecolor": "#E1E5ED"
        }
       }
      },
      "text/html": [
       "<div>\n",
       "        \n",
       "        \n",
       "            <div id=\"37ccb57f-86a7-44e7-9567-f68f717d5b17\" class=\"plotly-graph-div\" style=\"height:525px; width:100%;\"></div>\n",
       "            <script type=\"text/javascript\">\n",
       "                require([\"plotly\"], function(Plotly) {\n",
       "                    window.PLOTLYENV=window.PLOTLYENV || {};\n",
       "                    window.PLOTLYENV.BASE_URL='https://plot.ly';\n",
       "                    \n",
       "                if (document.getElementById(\"37ccb57f-86a7-44e7-9567-f68f717d5b17\")) {\n",
       "                    Plotly.newPlot(\n",
       "                        '37ccb57f-86a7-44e7-9567-f68f717d5b17',\n",
       "                        [{\"boxpoints\": false, \"line\": {\"width\": 1.3}, \"marker\": {\"color\": \"rgba(255, 153, 51, 1.0)\"}, \"name\": \"A\", \"orientation\": \"v\", \"type\": \"box\", \"y\": [0.8425800230056536, 0.8228729931602605, 0.45302144958655327, -0.15464636949214794, -0.3344287501808655, -0.6155627897642467, -0.8511015145286904, -0.22416144352609133, 0.6602592697073943, 1.6688045668274765, -1.1078003079394538, 0.5205314770180932, -0.3363048584250365, 0.40602399155108443, 0.19011255413451617, 2.4654201650905123, 0.32154357233462094, -0.8213877114714514, 0.5107565293763973, -1.3839586003113933, -1.0639421497820791, 0.6849377969963686, -1.1333905961531854, -0.11635118566959907, -0.37936734911283415, 0.4456028260228318, 1.9327013265029618, -0.024565439083912236, 0.7526701692658325, -0.5662253860236415, 0.8821763247769187, 0.2805875093621268, -0.9788739014698855, 0.3036651709603921, 0.5396091606224961, 0.6665514304418824, 0.5352043387203083, 1.2129258711535873, 0.7240042780223538, -1.0098975715722636, -0.16289919477076262, -0.8154323532297832, -0.3977749740844525, 0.7845287767499552, -0.5823264324213028, 1.7668402955824636, -0.5784049432184615, -0.11684278517136609, 0.2951817195596696, -1.9513260315146401, -0.629934701459229, 0.045131028591535005, -0.8402131275960164, 0.5006646482393786, 1.7927717048719476, -0.6399442017860044, 1.7017414053525006, 0.5571691974779828, -1.0823590214650136, -1.6669125591790803, -1.1665984022067872, 1.5447897360165155, 0.49559664950232923, -0.7110348817342973, 0.048815188290864814, -0.07622169384583687, -0.9396682102311819, 0.9048619394581252, 0.3236739195518902, 0.9322713987437912, -0.3677385853043386, -1.0783725873956171, 1.2426757883845556, 1.7282300608014385, 0.5351211848501362, 0.7207300381574594, -0.6571632159603973, 0.3005500199868126, -2.2034542653997344, -2.261749854662406, -0.4732251632090071, -0.5134968603809374, 0.6522671412507076, -0.315077705434412, 0.675942762735105, 1.5233300660474078, -0.954080252681867, 0.9823848551740675, -1.635832764245846, 0.2167668557418693, -0.7951469007973236, 1.1919912435334072, 1.2511730130201058, -1.3838268497648982, -0.5664230216840095, -1.4987921435235554, -0.8066030673898453, 1.092576357472236, -0.20879159797990765, 0.22369880671706246]}, {\"boxpoints\": false, \"line\": {\"width\": 1.3}, \"marker\": {\"color\": \"rgba(55, 128, 191, 1.0)\"}, \"name\": \"B\", \"orientation\": \"v\", \"type\": \"box\", \"y\": [0.09759749197282581, 0.6137315514697458, -0.2854572156585551, 0.12142749701404602, -0.30538017910705795, 0.9653249896933419, 0.30763722494900336, -1.1804135293053442, 2.0108948250826093, 2.3281200521482357, 0.8375326746814203, -1.1552593469105479, 0.8209178718438593, -2.1722914069362815, -0.19986657830185683, -0.7093964594384959, -0.37191912168682706, 1.065137719776101, 2.0031885770388995, 0.43456347993737837, 0.527346750628352, -1.2824861366308757, 0.03924695575136877, -0.7168935257821382, -0.30359036230906783, -0.6962633344761804, 0.4211274074392302, 1.6871651877846425, -0.039050782188639416, 2.072099683982022, 0.5204468688348854, 1.0164792926890849, -0.7316803836275722, -0.3898451347452699, 0.6294922442320586, 1.183797549303694, -0.921297878278392, 0.222282348897835, 0.9547244715510609, -0.8592356555646143, -0.8440219747360963, -1.4596730660029675, -0.3579668388348763, -1.4899713082696882, -2.3650778604752984, 1.0468466219410333, 0.9046954089969772, 1.253496239045731, 0.23066745133877534, 0.42399151575975924, -0.5724448167613085, -0.0312127195328586, 0.44684169836912685, 1.661791445451631, 0.39485216421711317, -0.9018174786830869, -0.2663074862302335, 1.2333682595654787, 0.13796620315491115, 0.0057041245113695635, 0.412917020734218, 0.23865432191821495, 0.5065339609050801, -0.6925694953378969, -0.026446794780587146, -0.06475640554797196, -0.3446106690484418, 0.5569329770877339, -0.1738856363317943, 1.4132900725586053, 0.5334262689843003, -0.6694902766680653, -0.37074495041061745, -0.17119048891228544, -1.5647514632194899, 0.004023378941902747, 0.8810753994171026, -1.2184413372674996, -2.1481159031421484, -1.4962719748944955, 0.38038407459807444, 0.2765898772414553, -0.11068749614747805, -1.047817447159204, -0.2100501154288501, 1.0337835973410112, 0.7557620116787, -1.0507032147285573, -0.4880355055022291, 2.187073071990288, -1.6687730112146275, 0.5285813339439062, 0.21622635990512282, 0.5654349024962452, 0.7680214651948842, 1.124622659275688, -0.024373578774586648, -0.7540674874965095, 1.3378437781960533, 0.5837528107495575]}, {\"boxpoints\": false, \"line\": {\"width\": 1.3}, \"marker\": {\"color\": \"rgba(50, 171, 96, 1.0)\"}, \"name\": \"C\", \"orientation\": \"v\", \"type\": \"box\", \"y\": [0.24430933548097938, 1.153157602825409, -1.2279459252863203, 1.34340724612936, -0.041217502047060275, 0.41171615392618505, 1.5385559112446923, 0.7648732837580414, 1.2378221548680792, 0.8511119537704597, 1.9690704973099573, -1.8007532668730664, 2.211973052243103, -0.7983479866474343, -0.29133270666818645, -0.2289200971962283, 1.1412626871206657, 0.3842870026485587, -1.6005022711784263, 0.6692586074246968, 1.7735671759213478, 1.9066771495638766, 0.9253219764391617, 1.8582921789382436, -0.15884192047449688, -0.39439741097725123, -0.2131805015106247, 1.5741254666344635, -1.0100141106641953, -0.03476626901184274, -0.8335710814137562, -0.0653294080398027, -0.12828440976953612, -0.9096442945756971, -0.22250174965853964, -1.0459393019196757, 0.5022898453992217, -0.41463437973204087, 0.38459399713052483, -0.7403464056984084, 2.1359896146811814, 1.734780254189919, -0.9025801865894815, 0.3238163927053441, 1.3472241632251434, -0.3945797957321719, 0.2771037961882595, -0.6569062211767643, 0.6674534973140019, 2.293379398802492, -0.5841650469229548, -0.34249580540799407, -0.8634874002341889, -0.3259320769993883, 0.33668399721733394, -1.3330431325215952, 1.381662448939186, 0.6183398648741613, 0.809238047601535, 0.7880679042469689, 0.5842877879690729, -0.8706838222745634, -0.40908624865416454, 0.6664524585549024, 0.0747499839073245, 0.8295433441676373, -0.2362185970845391, -0.9264137234251151, -1.2849226628774835, 1.3655036094147055, -0.5625816562288798, -2.2635612706842365, 1.2033885621650329, -0.28087317812398044, -0.7813035190340818, -1.7519181672150388, -2.228152552477639, -0.4907622535720897, -0.03653668122069601, -0.8108740162363595, 2.4177594473685597, 2.46316891258294, -1.7451934795051316, 0.7691652719656158, 0.5816674802232281, 1.5052698101150037, 0.047409094104972634, 1.0377271562410213, 0.29542513549251703, -0.8663848619675543, 0.6700696195512402, 0.8374786403455478, 0.568879257414912, -1.2354708353599495, -1.1596129743241204, 0.40109989839742444, 0.03378650387113606, 0.7485891058768023, 1.770630426917514, 0.005838117675093689]}, {\"boxpoints\": false, \"line\": {\"width\": 1.3}, \"marker\": {\"color\": \"rgba(128, 0, 128, 1.0)\"}, \"name\": \"D\", \"orientation\": \"v\", \"type\": \"box\", \"y\": [1.184062315155887, 1.527483216771176, -1.0655051484545195, -0.6712804772540937, 1.2371574403508276, 1.2236238969124587, -0.28045735708845626, 0.5369439714930251, -0.5638007803370333, 0.68712613704467, -0.7287440735648303, -0.8952305631023365, 0.3335254264840793, 1.272238600063057, -1.3243852900837494, 1.392162823999808, 1.3001977211877824, -0.1542139604045163, 0.33022950912113225, -1.9571234379781695, 0.707180351643294, -1.249109612850024, 1.2129536630531366, -1.0767534894287658, -1.3213062316384054, -1.4872244226905027, 0.8397338356265742, -0.3915542509891903, -0.02477733133517658, 1.7074401615142256, 0.25729119013882734, -1.5100323633656736, -0.09753628257118523, 0.3571576691260107, 0.3853401782528403, -0.11556419449201895, 1.9009948600521027, -2.411028782040256, -0.5594357347699908, -0.11278987704667931, -0.7465254935335087, -0.3676830048285222, 0.3656382522253938, 0.6606360733105158, 1.4216595984196339, -0.4259169824157992, 0.814969265296277, -0.495696993792867, -0.29919033881126783, 1.0413642963182843, 0.8476541736422291, -2.261162219489303, 0.3203861626520892, -0.06977502458511345, -0.5283915208910475, -1.3028688036421616, 0.20687433546990835, 2.1293401958604528, -0.2140889080223543, 0.29109948457084767, -0.3661037119211918, -1.0279872418856912, -0.9155602344639235, -2.3089877676430834, 0.27632576778296936, 0.19431709899160535, 1.9114522640897547, 1.5764762791456104, 1.1657075545856808, 0.928435488307569, -1.4845418793709166, -2.4076974875848656, -1.0240745445257948, -0.03118671284458697, -0.2191144485962299, -0.9446152419219586, 0.08030568123631247, -0.6455931102542941, 0.7635236364240873, -0.373200458556742, 1.4865572238803655, 3.168375539296968, -0.05542321652642558, 1.140301099757501, -1.8174723416024499, -0.08071578336944459, 1.2026104163099178, 0.5039704657875177, -1.171311689434029, 0.2617423451571207, 0.568487315710609, 0.06604297698075867, 0.848213756418194, -0.18746021047415282, -0.6420253276627698, 0.5556320263205276, 1.0091823937409712, 0.09966301567257936, -0.11011429558125099, 0.4267380945547899]}],\n",
       "                        {\"legend\": {\"bgcolor\": \"#F5F6F9\", \"font\": {\"color\": \"#4D5663\"}}, \"paper_bgcolor\": \"#F5F6F9\", \"plot_bgcolor\": \"#F5F6F9\", \"template\": {\"data\": {\"bar\": [{\"error_x\": {\"color\": \"#2a3f5f\"}, \"error_y\": {\"color\": \"#2a3f5f\"}, \"marker\": {\"line\": {\"color\": \"#E5ECF6\", \"width\": 0.5}}, \"type\": \"bar\"}], \"barpolar\": [{\"marker\": {\"line\": {\"color\": \"#E5ECF6\", \"width\": 0.5}}, \"type\": \"barpolar\"}], \"carpet\": [{\"aaxis\": {\"endlinecolor\": \"#2a3f5f\", \"gridcolor\": \"white\", \"linecolor\": \"white\", \"minorgridcolor\": \"white\", \"startlinecolor\": \"#2a3f5f\"}, \"baxis\": {\"endlinecolor\": \"#2a3f5f\", \"gridcolor\": \"white\", \"linecolor\": \"white\", \"minorgridcolor\": \"white\", \"startlinecolor\": \"#2a3f5f\"}, \"type\": \"carpet\"}], \"choropleth\": [{\"colorbar\": {\"outlinewidth\": 0, \"ticks\": \"\"}, \"type\": \"choropleth\"}], \"contour\": [{\"colorbar\": {\"outlinewidth\": 0, \"ticks\": \"\"}, \"colorscale\": [[0.0, \"#0d0887\"], [0.1111111111111111, \"#46039f\"], [0.2222222222222222, \"#7201a8\"], [0.3333333333333333, \"#9c179e\"], [0.4444444444444444, \"#bd3786\"], [0.5555555555555556, \"#d8576b\"], [0.6666666666666666, \"#ed7953\"], [0.7777777777777778, \"#fb9f3a\"], [0.8888888888888888, \"#fdca26\"], [1.0, \"#f0f921\"]], \"type\": \"contour\"}], \"contourcarpet\": [{\"colorbar\": {\"outlinewidth\": 0, \"ticks\": \"\"}, \"type\": \"contourcarpet\"}], \"heatmap\": [{\"colorbar\": {\"outlinewidth\": 0, \"ticks\": \"\"}, \"colorscale\": [[0.0, \"#0d0887\"], [0.1111111111111111, \"#46039f\"], [0.2222222222222222, \"#7201a8\"], [0.3333333333333333, \"#9c179e\"], [0.4444444444444444, \"#bd3786\"], [0.5555555555555556, \"#d8576b\"], [0.6666666666666666, \"#ed7953\"], [0.7777777777777778, \"#fb9f3a\"], [0.8888888888888888, \"#fdca26\"], [1.0, \"#f0f921\"]], \"type\": \"heatmap\"}], \"heatmapgl\": [{\"colorbar\": {\"outlinewidth\": 0, \"ticks\": \"\"}, \"colorscale\": [[0.0, \"#0d0887\"], [0.1111111111111111, \"#46039f\"], [0.2222222222222222, \"#7201a8\"], [0.3333333333333333, \"#9c179e\"], [0.4444444444444444, \"#bd3786\"], [0.5555555555555556, \"#d8576b\"], [0.6666666666666666, \"#ed7953\"], [0.7777777777777778, \"#fb9f3a\"], [0.8888888888888888, \"#fdca26\"], [1.0, \"#f0f921\"]], \"type\": \"heatmapgl\"}], \"histogram\": [{\"marker\": {\"colorbar\": {\"outlinewidth\": 0, \"ticks\": \"\"}}, \"type\": \"histogram\"}], \"histogram2d\": [{\"colorbar\": {\"outlinewidth\": 0, \"ticks\": \"\"}, \"colorscale\": [[0.0, \"#0d0887\"], [0.1111111111111111, \"#46039f\"], [0.2222222222222222, \"#7201a8\"], [0.3333333333333333, \"#9c179e\"], [0.4444444444444444, \"#bd3786\"], [0.5555555555555556, \"#d8576b\"], [0.6666666666666666, \"#ed7953\"], [0.7777777777777778, \"#fb9f3a\"], [0.8888888888888888, \"#fdca26\"], [1.0, \"#f0f921\"]], \"type\": \"histogram2d\"}], \"histogram2dcontour\": [{\"colorbar\": {\"outlinewidth\": 0, \"ticks\": \"\"}, \"colorscale\": [[0.0, \"#0d0887\"], [0.1111111111111111, \"#46039f\"], [0.2222222222222222, \"#7201a8\"], [0.3333333333333333, \"#9c179e\"], [0.4444444444444444, \"#bd3786\"], [0.5555555555555556, \"#d8576b\"], [0.6666666666666666, \"#ed7953\"], [0.7777777777777778, \"#fb9f3a\"], [0.8888888888888888, \"#fdca26\"], [1.0, \"#f0f921\"]], \"type\": \"histogram2dcontour\"}], \"mesh3d\": [{\"colorbar\": {\"outlinewidth\": 0, \"ticks\": \"\"}, \"type\": \"mesh3d\"}], \"parcoords\": [{\"line\": {\"colorbar\": {\"outlinewidth\": 0, \"ticks\": \"\"}}, \"type\": \"parcoords\"}], \"pie\": [{\"automargin\": true, \"type\": \"pie\"}], \"scatter\": [{\"marker\": {\"colorbar\": {\"outlinewidth\": 0, \"ticks\": \"\"}}, \"type\": \"scatter\"}], \"scatter3d\": [{\"line\": {\"colorbar\": {\"outlinewidth\": 0, \"ticks\": \"\"}}, \"marker\": {\"colorbar\": {\"outlinewidth\": 0, \"ticks\": \"\"}}, \"type\": \"scatter3d\"}], \"scattercarpet\": [{\"marker\": {\"colorbar\": {\"outlinewidth\": 0, \"ticks\": \"\"}}, \"type\": \"scattercarpet\"}], \"scattergeo\": [{\"marker\": {\"colorbar\": {\"outlinewidth\": 0, \"ticks\": \"\"}}, \"type\": \"scattergeo\"}], \"scattergl\": [{\"marker\": {\"colorbar\": {\"outlinewidth\": 0, \"ticks\": \"\"}}, \"type\": \"scattergl\"}], \"scattermapbox\": [{\"marker\": {\"colorbar\": {\"outlinewidth\": 0, \"ticks\": \"\"}}, \"type\": \"scattermapbox\"}], \"scatterpolar\": [{\"marker\": {\"colorbar\": {\"outlinewidth\": 0, \"ticks\": \"\"}}, \"type\": \"scatterpolar\"}], \"scatterpolargl\": [{\"marker\": {\"colorbar\": {\"outlinewidth\": 0, \"ticks\": \"\"}}, \"type\": \"scatterpolargl\"}], \"scatterternary\": [{\"marker\": {\"colorbar\": {\"outlinewidth\": 0, \"ticks\": \"\"}}, \"type\": \"scatterternary\"}], \"surface\": [{\"colorbar\": {\"outlinewidth\": 0, \"ticks\": \"\"}, \"colorscale\": [[0.0, \"#0d0887\"], [0.1111111111111111, \"#46039f\"], [0.2222222222222222, \"#7201a8\"], [0.3333333333333333, \"#9c179e\"], [0.4444444444444444, \"#bd3786\"], [0.5555555555555556, \"#d8576b\"], [0.6666666666666666, \"#ed7953\"], [0.7777777777777778, \"#fb9f3a\"], [0.8888888888888888, \"#fdca26\"], [1.0, \"#f0f921\"]], \"type\": \"surface\"}], \"table\": [{\"cells\": {\"fill\": {\"color\": \"#EBF0F8\"}, \"line\": {\"color\": \"white\"}}, \"header\": {\"fill\": {\"color\": \"#C8D4E3\"}, \"line\": {\"color\": \"white\"}}, \"type\": \"table\"}]}, \"layout\": {\"annotationdefaults\": {\"arrowcolor\": \"#2a3f5f\", \"arrowhead\": 0, \"arrowwidth\": 1}, \"coloraxis\": {\"colorbar\": {\"outlinewidth\": 0, \"ticks\": \"\"}}, \"colorscale\": {\"diverging\": [[0, \"#8e0152\"], [0.1, \"#c51b7d\"], [0.2, \"#de77ae\"], [0.3, \"#f1b6da\"], [0.4, \"#fde0ef\"], [0.5, \"#f7f7f7\"], [0.6, \"#e6f5d0\"], [0.7, \"#b8e186\"], [0.8, \"#7fbc41\"], [0.9, \"#4d9221\"], [1, \"#276419\"]], \"sequential\": [[0.0, \"#0d0887\"], [0.1111111111111111, \"#46039f\"], [0.2222222222222222, \"#7201a8\"], [0.3333333333333333, \"#9c179e\"], [0.4444444444444444, \"#bd3786\"], [0.5555555555555556, \"#d8576b\"], [0.6666666666666666, \"#ed7953\"], [0.7777777777777778, \"#fb9f3a\"], [0.8888888888888888, \"#fdca26\"], [1.0, \"#f0f921\"]], \"sequentialminus\": [[0.0, \"#0d0887\"], [0.1111111111111111, \"#46039f\"], [0.2222222222222222, \"#7201a8\"], [0.3333333333333333, \"#9c179e\"], [0.4444444444444444, \"#bd3786\"], [0.5555555555555556, \"#d8576b\"], [0.6666666666666666, \"#ed7953\"], [0.7777777777777778, \"#fb9f3a\"], [0.8888888888888888, \"#fdca26\"], [1.0, \"#f0f921\"]]}, \"colorway\": [\"#636efa\", \"#EF553B\", \"#00cc96\", \"#ab63fa\", \"#FFA15A\", \"#19d3f3\", \"#FF6692\", \"#B6E880\", \"#FF97FF\", \"#FECB52\"], \"font\": {\"color\": \"#2a3f5f\"}, \"geo\": {\"bgcolor\": \"white\", \"lakecolor\": \"white\", \"landcolor\": \"#E5ECF6\", \"showlakes\": true, \"showland\": true, \"subunitcolor\": \"white\"}, \"hoverlabel\": {\"align\": \"left\"}, \"hovermode\": \"closest\", \"mapbox\": {\"style\": \"light\"}, \"paper_bgcolor\": \"white\", \"plot_bgcolor\": \"#E5ECF6\", \"polar\": {\"angularaxis\": {\"gridcolor\": \"white\", \"linecolor\": \"white\", \"ticks\": \"\"}, \"bgcolor\": \"#E5ECF6\", \"radialaxis\": {\"gridcolor\": \"white\", \"linecolor\": \"white\", \"ticks\": \"\"}}, \"scene\": {\"xaxis\": {\"backgroundcolor\": \"#E5ECF6\", \"gridcolor\": \"white\", \"gridwidth\": 2, \"linecolor\": \"white\", \"showbackground\": true, \"ticks\": \"\", \"zerolinecolor\": \"white\"}, \"yaxis\": {\"backgroundcolor\": \"#E5ECF6\", \"gridcolor\": \"white\", \"gridwidth\": 2, \"linecolor\": \"white\", \"showbackground\": true, \"ticks\": \"\", \"zerolinecolor\": \"white\"}, \"zaxis\": {\"backgroundcolor\": \"#E5ECF6\", \"gridcolor\": \"white\", \"gridwidth\": 2, \"linecolor\": \"white\", \"showbackground\": true, \"ticks\": \"\", \"zerolinecolor\": \"white\"}}, \"shapedefaults\": {\"line\": {\"color\": \"#2a3f5f\"}}, \"ternary\": {\"aaxis\": {\"gridcolor\": \"white\", \"linecolor\": \"white\", \"ticks\": \"\"}, \"baxis\": {\"gridcolor\": \"white\", \"linecolor\": \"white\", \"ticks\": \"\"}, \"bgcolor\": \"#E5ECF6\", \"caxis\": {\"gridcolor\": \"white\", \"linecolor\": \"white\", \"ticks\": \"\"}}, \"title\": {\"x\": 0.05}, \"xaxis\": {\"automargin\": true, \"gridcolor\": \"white\", \"linecolor\": \"white\", \"ticks\": \"\", \"title\": {\"standoff\": 15}, \"zerolinecolor\": \"white\", \"zerolinewidth\": 2}, \"yaxis\": {\"automargin\": true, \"gridcolor\": \"white\", \"linecolor\": \"white\", \"ticks\": \"\", \"title\": {\"standoff\": 15}, \"zerolinecolor\": \"white\", \"zerolinewidth\": 2}}}, \"title\": {\"font\": {\"color\": \"#4D5663\"}}, \"xaxis\": {\"gridcolor\": \"#E1E5ED\", \"showgrid\": true, \"tickfont\": {\"color\": \"#4D5663\"}, \"title\": {\"font\": {\"color\": \"#4D5663\"}, \"text\": \"\"}, \"zerolinecolor\": \"#E1E5ED\"}, \"yaxis\": {\"gridcolor\": \"#E1E5ED\", \"showgrid\": true, \"tickfont\": {\"color\": \"#4D5663\"}, \"title\": {\"font\": {\"color\": \"#4D5663\"}, \"text\": \"\"}, \"zerolinecolor\": \"#E1E5ED\"}},\n",
       "                        {\"showLink\": true, \"linkText\": \"Export to plot.ly\", \"plotlyServerURL\": \"https://plot.ly\", \"responsive\": true}\n",
       "                    ).then(function(){\n",
       "                            \n",
       "var gd = document.getElementById('37ccb57f-86a7-44e7-9567-f68f717d5b17');\n",
       "var x = new MutationObserver(function (mutations, observer) {{\n",
       "        var display = window.getComputedStyle(gd).display;\n",
       "        if (!display || display === 'none') {{\n",
       "            console.log([gd, 'removed!']);\n",
       "            Plotly.purge(gd);\n",
       "            observer.disconnect();\n",
       "        }}\n",
       "}});\n",
       "\n",
       "// Listen for the removal of the full notebook cells\n",
       "var notebookContainer = gd.closest('#notebook-container');\n",
       "if (notebookContainer) {{\n",
       "    x.observe(notebookContainer, {childList: true});\n",
       "}}\n",
       "\n",
       "// Listen for the clearing of the current output cell\n",
       "var outputEl = gd.closest('.output');\n",
       "if (outputEl) {{\n",
       "    x.observe(outputEl, {childList: true});\n",
       "}}\n",
       "\n",
       "                        })\n",
       "                };\n",
       "                });\n",
       "            </script>\n",
       "        </div>"
      ]
     },
     "metadata": {},
     "output_type": "display_data"
    }
   ],
   "source": [
    "df.iplot(kind='box')"
   ]
  },
  {
   "cell_type": "markdown",
   "metadata": {},
   "source": [
    "## 3d Surface"
   ]
  },
  {
   "cell_type": "code",
   "execution_count": 14,
   "metadata": {},
   "outputs": [
    {
     "data": {
      "application/vnd.plotly.v1+json": {
       "config": {
        "linkText": "Export to plot.ly",
        "plotlyServerURL": "https://plot.ly",
        "showLink": true
       },
       "data": [
        {
         "colorscale": [
          [
           0,
           "rgb(165,0,38)"
          ],
          [
           0.1,
           "rgb(215,48,39)"
          ],
          [
           0.2,
           "rgb(244,109,67)"
          ],
          [
           0.3,
           "rgb(253,174,97)"
          ],
          [
           0.4,
           "rgb(254,224,144)"
          ],
          [
           0.5,
           "rgb(255,255,191)"
          ],
          [
           0.6,
           "rgb(224,243,248)"
          ],
          [
           0.7,
           "rgb(171,217,233)"
          ],
          [
           0.8,
           "rgb(116,173,209)"
          ],
          [
           0.9,
           "rgb(69,117,180)"
          ],
          [
           1,
           "rgb(49,54,149)"
          ]
         ],
         "type": "surface",
         "x": [
          0,
          1,
          2,
          3,
          4
         ],
         "y": [
          "x",
          "y",
          "z"
         ],
         "z": [
          [
           1,
           2,
           3,
           4,
           5
          ],
          [
           10,
           20,
           30,
           20,
           10
          ],
          [
           5,
           4,
           3,
           2,
           1
          ]
         ]
        }
       ],
       "layout": {
        "legend": {
         "bgcolor": "#F5F6F9",
         "font": {
          "color": "#4D5663"
         }
        },
        "paper_bgcolor": "#F5F6F9",
        "plot_bgcolor": "#F5F6F9",
        "template": {
         "data": {
          "bar": [
           {
            "error_x": {
             "color": "#2a3f5f"
            },
            "error_y": {
             "color": "#2a3f5f"
            },
            "marker": {
             "line": {
              "color": "#E5ECF6",
              "width": 0.5
             }
            },
            "type": "bar"
           }
          ],
          "barpolar": [
           {
            "marker": {
             "line": {
              "color": "#E5ECF6",
              "width": 0.5
             }
            },
            "type": "barpolar"
           }
          ],
          "carpet": [
           {
            "aaxis": {
             "endlinecolor": "#2a3f5f",
             "gridcolor": "white",
             "linecolor": "white",
             "minorgridcolor": "white",
             "startlinecolor": "#2a3f5f"
            },
            "baxis": {
             "endlinecolor": "#2a3f5f",
             "gridcolor": "white",
             "linecolor": "white",
             "minorgridcolor": "white",
             "startlinecolor": "#2a3f5f"
            },
            "type": "carpet"
           }
          ],
          "choropleth": [
           {
            "colorbar": {
             "outlinewidth": 0,
             "ticks": ""
            },
            "type": "choropleth"
           }
          ],
          "contour": [
           {
            "colorbar": {
             "outlinewidth": 0,
             "ticks": ""
            },
            "colorscale": [
             [
              0,
              "#0d0887"
             ],
             [
              0.1111111111111111,
              "#46039f"
             ],
             [
              0.2222222222222222,
              "#7201a8"
             ],
             [
              0.3333333333333333,
              "#9c179e"
             ],
             [
              0.4444444444444444,
              "#bd3786"
             ],
             [
              0.5555555555555556,
              "#d8576b"
             ],
             [
              0.6666666666666666,
              "#ed7953"
             ],
             [
              0.7777777777777778,
              "#fb9f3a"
             ],
             [
              0.8888888888888888,
              "#fdca26"
             ],
             [
              1,
              "#f0f921"
             ]
            ],
            "type": "contour"
           }
          ],
          "contourcarpet": [
           {
            "colorbar": {
             "outlinewidth": 0,
             "ticks": ""
            },
            "type": "contourcarpet"
           }
          ],
          "heatmap": [
           {
            "colorbar": {
             "outlinewidth": 0,
             "ticks": ""
            },
            "colorscale": [
             [
              0,
              "#0d0887"
             ],
             [
              0.1111111111111111,
              "#46039f"
             ],
             [
              0.2222222222222222,
              "#7201a8"
             ],
             [
              0.3333333333333333,
              "#9c179e"
             ],
             [
              0.4444444444444444,
              "#bd3786"
             ],
             [
              0.5555555555555556,
              "#d8576b"
             ],
             [
              0.6666666666666666,
              "#ed7953"
             ],
             [
              0.7777777777777778,
              "#fb9f3a"
             ],
             [
              0.8888888888888888,
              "#fdca26"
             ],
             [
              1,
              "#f0f921"
             ]
            ],
            "type": "heatmap"
           }
          ],
          "heatmapgl": [
           {
            "colorbar": {
             "outlinewidth": 0,
             "ticks": ""
            },
            "colorscale": [
             [
              0,
              "#0d0887"
             ],
             [
              0.1111111111111111,
              "#46039f"
             ],
             [
              0.2222222222222222,
              "#7201a8"
             ],
             [
              0.3333333333333333,
              "#9c179e"
             ],
             [
              0.4444444444444444,
              "#bd3786"
             ],
             [
              0.5555555555555556,
              "#d8576b"
             ],
             [
              0.6666666666666666,
              "#ed7953"
             ],
             [
              0.7777777777777778,
              "#fb9f3a"
             ],
             [
              0.8888888888888888,
              "#fdca26"
             ],
             [
              1,
              "#f0f921"
             ]
            ],
            "type": "heatmapgl"
           }
          ],
          "histogram": [
           {
            "marker": {
             "colorbar": {
              "outlinewidth": 0,
              "ticks": ""
             }
            },
            "type": "histogram"
           }
          ],
          "histogram2d": [
           {
            "colorbar": {
             "outlinewidth": 0,
             "ticks": ""
            },
            "colorscale": [
             [
              0,
              "#0d0887"
             ],
             [
              0.1111111111111111,
              "#46039f"
             ],
             [
              0.2222222222222222,
              "#7201a8"
             ],
             [
              0.3333333333333333,
              "#9c179e"
             ],
             [
              0.4444444444444444,
              "#bd3786"
             ],
             [
              0.5555555555555556,
              "#d8576b"
             ],
             [
              0.6666666666666666,
              "#ed7953"
             ],
             [
              0.7777777777777778,
              "#fb9f3a"
             ],
             [
              0.8888888888888888,
              "#fdca26"
             ],
             [
              1,
              "#f0f921"
             ]
            ],
            "type": "histogram2d"
           }
          ],
          "histogram2dcontour": [
           {
            "colorbar": {
             "outlinewidth": 0,
             "ticks": ""
            },
            "colorscale": [
             [
              0,
              "#0d0887"
             ],
             [
              0.1111111111111111,
              "#46039f"
             ],
             [
              0.2222222222222222,
              "#7201a8"
             ],
             [
              0.3333333333333333,
              "#9c179e"
             ],
             [
              0.4444444444444444,
              "#bd3786"
             ],
             [
              0.5555555555555556,
              "#d8576b"
             ],
             [
              0.6666666666666666,
              "#ed7953"
             ],
             [
              0.7777777777777778,
              "#fb9f3a"
             ],
             [
              0.8888888888888888,
              "#fdca26"
             ],
             [
              1,
              "#f0f921"
             ]
            ],
            "type": "histogram2dcontour"
           }
          ],
          "mesh3d": [
           {
            "colorbar": {
             "outlinewidth": 0,
             "ticks": ""
            },
            "type": "mesh3d"
           }
          ],
          "parcoords": [
           {
            "line": {
             "colorbar": {
              "outlinewidth": 0,
              "ticks": ""
             }
            },
            "type": "parcoords"
           }
          ],
          "pie": [
           {
            "automargin": true,
            "type": "pie"
           }
          ],
          "scatter": [
           {
            "marker": {
             "colorbar": {
              "outlinewidth": 0,
              "ticks": ""
             }
            },
            "type": "scatter"
           }
          ],
          "scatter3d": [
           {
            "line": {
             "colorbar": {
              "outlinewidth": 0,
              "ticks": ""
             }
            },
            "marker": {
             "colorbar": {
              "outlinewidth": 0,
              "ticks": ""
             }
            },
            "type": "scatter3d"
           }
          ],
          "scattercarpet": [
           {
            "marker": {
             "colorbar": {
              "outlinewidth": 0,
              "ticks": ""
             }
            },
            "type": "scattercarpet"
           }
          ],
          "scattergeo": [
           {
            "marker": {
             "colorbar": {
              "outlinewidth": 0,
              "ticks": ""
             }
            },
            "type": "scattergeo"
           }
          ],
          "scattergl": [
           {
            "marker": {
             "colorbar": {
              "outlinewidth": 0,
              "ticks": ""
             }
            },
            "type": "scattergl"
           }
          ],
          "scattermapbox": [
           {
            "marker": {
             "colorbar": {
              "outlinewidth": 0,
              "ticks": ""
             }
            },
            "type": "scattermapbox"
           }
          ],
          "scatterpolar": [
           {
            "marker": {
             "colorbar": {
              "outlinewidth": 0,
              "ticks": ""
             }
            },
            "type": "scatterpolar"
           }
          ],
          "scatterpolargl": [
           {
            "marker": {
             "colorbar": {
              "outlinewidth": 0,
              "ticks": ""
             }
            },
            "type": "scatterpolargl"
           }
          ],
          "scatterternary": [
           {
            "marker": {
             "colorbar": {
              "outlinewidth": 0,
              "ticks": ""
             }
            },
            "type": "scatterternary"
           }
          ],
          "surface": [
           {
            "colorbar": {
             "outlinewidth": 0,
             "ticks": ""
            },
            "colorscale": [
             [
              0,
              "#0d0887"
             ],
             [
              0.1111111111111111,
              "#46039f"
             ],
             [
              0.2222222222222222,
              "#7201a8"
             ],
             [
              0.3333333333333333,
              "#9c179e"
             ],
             [
              0.4444444444444444,
              "#bd3786"
             ],
             [
              0.5555555555555556,
              "#d8576b"
             ],
             [
              0.6666666666666666,
              "#ed7953"
             ],
             [
              0.7777777777777778,
              "#fb9f3a"
             ],
             [
              0.8888888888888888,
              "#fdca26"
             ],
             [
              1,
              "#f0f921"
             ]
            ],
            "type": "surface"
           }
          ],
          "table": [
           {
            "cells": {
             "fill": {
              "color": "#EBF0F8"
             },
             "line": {
              "color": "white"
             }
            },
            "header": {
             "fill": {
              "color": "#C8D4E3"
             },
             "line": {
              "color": "white"
             }
            },
            "type": "table"
           }
          ]
         },
         "layout": {
          "annotationdefaults": {
           "arrowcolor": "#2a3f5f",
           "arrowhead": 0,
           "arrowwidth": 1
          },
          "coloraxis": {
           "colorbar": {
            "outlinewidth": 0,
            "ticks": ""
           }
          },
          "colorscale": {
           "diverging": [
            [
             0,
             "#8e0152"
            ],
            [
             0.1,
             "#c51b7d"
            ],
            [
             0.2,
             "#de77ae"
            ],
            [
             0.3,
             "#f1b6da"
            ],
            [
             0.4,
             "#fde0ef"
            ],
            [
             0.5,
             "#f7f7f7"
            ],
            [
             0.6,
             "#e6f5d0"
            ],
            [
             0.7,
             "#b8e186"
            ],
            [
             0.8,
             "#7fbc41"
            ],
            [
             0.9,
             "#4d9221"
            ],
            [
             1,
             "#276419"
            ]
           ],
           "sequential": [
            [
             0,
             "#0d0887"
            ],
            [
             0.1111111111111111,
             "#46039f"
            ],
            [
             0.2222222222222222,
             "#7201a8"
            ],
            [
             0.3333333333333333,
             "#9c179e"
            ],
            [
             0.4444444444444444,
             "#bd3786"
            ],
            [
             0.5555555555555556,
             "#d8576b"
            ],
            [
             0.6666666666666666,
             "#ed7953"
            ],
            [
             0.7777777777777778,
             "#fb9f3a"
            ],
            [
             0.8888888888888888,
             "#fdca26"
            ],
            [
             1,
             "#f0f921"
            ]
           ],
           "sequentialminus": [
            [
             0,
             "#0d0887"
            ],
            [
             0.1111111111111111,
             "#46039f"
            ],
            [
             0.2222222222222222,
             "#7201a8"
            ],
            [
             0.3333333333333333,
             "#9c179e"
            ],
            [
             0.4444444444444444,
             "#bd3786"
            ],
            [
             0.5555555555555556,
             "#d8576b"
            ],
            [
             0.6666666666666666,
             "#ed7953"
            ],
            [
             0.7777777777777778,
             "#fb9f3a"
            ],
            [
             0.8888888888888888,
             "#fdca26"
            ],
            [
             1,
             "#f0f921"
            ]
           ]
          },
          "colorway": [
           "#636efa",
           "#EF553B",
           "#00cc96",
           "#ab63fa",
           "#FFA15A",
           "#19d3f3",
           "#FF6692",
           "#B6E880",
           "#FF97FF",
           "#FECB52"
          ],
          "font": {
           "color": "#2a3f5f"
          },
          "geo": {
           "bgcolor": "white",
           "lakecolor": "white",
           "landcolor": "#E5ECF6",
           "showlakes": true,
           "showland": true,
           "subunitcolor": "white"
          },
          "hoverlabel": {
           "align": "left"
          },
          "hovermode": "closest",
          "mapbox": {
           "style": "light"
          },
          "paper_bgcolor": "white",
          "plot_bgcolor": "#E5ECF6",
          "polar": {
           "angularaxis": {
            "gridcolor": "white",
            "linecolor": "white",
            "ticks": ""
           },
           "bgcolor": "#E5ECF6",
           "radialaxis": {
            "gridcolor": "white",
            "linecolor": "white",
            "ticks": ""
           }
          },
          "scene": {
           "xaxis": {
            "backgroundcolor": "#E5ECF6",
            "gridcolor": "white",
            "gridwidth": 2,
            "linecolor": "white",
            "showbackground": true,
            "ticks": "",
            "zerolinecolor": "white"
           },
           "yaxis": {
            "backgroundcolor": "#E5ECF6",
            "gridcolor": "white",
            "gridwidth": 2,
            "linecolor": "white",
            "showbackground": true,
            "ticks": "",
            "zerolinecolor": "white"
           },
           "zaxis": {
            "backgroundcolor": "#E5ECF6",
            "gridcolor": "white",
            "gridwidth": 2,
            "linecolor": "white",
            "showbackground": true,
            "ticks": "",
            "zerolinecolor": "white"
           }
          },
          "shapedefaults": {
           "line": {
            "color": "#2a3f5f"
           }
          },
          "ternary": {
           "aaxis": {
            "gridcolor": "white",
            "linecolor": "white",
            "ticks": ""
           },
           "baxis": {
            "gridcolor": "white",
            "linecolor": "white",
            "ticks": ""
           },
           "bgcolor": "#E5ECF6",
           "caxis": {
            "gridcolor": "white",
            "linecolor": "white",
            "ticks": ""
           }
          },
          "title": {
           "x": 0.05
          },
          "xaxis": {
           "automargin": true,
           "gridcolor": "white",
           "linecolor": "white",
           "ticks": "",
           "title": {
            "standoff": 15
           },
           "zerolinecolor": "white",
           "zerolinewidth": 2
          },
          "yaxis": {
           "automargin": true,
           "gridcolor": "white",
           "linecolor": "white",
           "ticks": "",
           "title": {
            "standoff": 15
           },
           "zerolinecolor": "white",
           "zerolinewidth": 2
          }
         }
        },
        "title": {
         "font": {
          "color": "#4D5663"
         }
        },
        "xaxis": {
         "gridcolor": "#E1E5ED",
         "showgrid": true,
         "tickfont": {
          "color": "#4D5663"
         },
         "title": {
          "font": {
           "color": "#4D5663"
          },
          "text": ""
         },
         "zerolinecolor": "#E1E5ED"
        },
        "yaxis": {
         "gridcolor": "#E1E5ED",
         "showgrid": true,
         "tickfont": {
          "color": "#4D5663"
         },
         "title": {
          "font": {
           "color": "#4D5663"
          },
          "text": ""
         },
         "zerolinecolor": "#E1E5ED"
        }
       }
      },
      "text/html": [
       "<div>\n",
       "        \n",
       "        \n",
       "            <div id=\"411ca498-43e0-42d7-93da-ef9eddeb922a\" class=\"plotly-graph-div\" style=\"height:525px; width:100%;\"></div>\n",
       "            <script type=\"text/javascript\">\n",
       "                require([\"plotly\"], function(Plotly) {\n",
       "                    window.PLOTLYENV=window.PLOTLYENV || {};\n",
       "                    window.PLOTLYENV.BASE_URL='https://plot.ly';\n",
       "                    \n",
       "                if (document.getElementById(\"411ca498-43e0-42d7-93da-ef9eddeb922a\")) {\n",
       "                    Plotly.newPlot(\n",
       "                        '411ca498-43e0-42d7-93da-ef9eddeb922a',\n",
       "                        [{\"colorscale\": [[0.0, \"rgb(165,0,38)\"], [0.1, \"rgb(215,48,39)\"], [0.2, \"rgb(244,109,67)\"], [0.3, \"rgb(253,174,97)\"], [0.4, \"rgb(254,224,144)\"], [0.5, \"rgb(255,255,191)\"], [0.6, \"rgb(224,243,248)\"], [0.7, \"rgb(171,217,233)\"], [0.8, \"rgb(116,173,209)\"], [0.9, \"rgb(69,117,180)\"], [1.0, \"rgb(49,54,149)\"]], \"type\": \"surface\", \"x\": [0, 1, 2, 3, 4], \"y\": [\"x\", \"y\", \"z\"], \"z\": [[1, 2, 3, 4, 5], [10, 20, 30, 20, 10], [5, 4, 3, 2, 1]]}],\n",
       "                        {\"legend\": {\"bgcolor\": \"#F5F6F9\", \"font\": {\"color\": \"#4D5663\"}}, \"paper_bgcolor\": \"#F5F6F9\", \"plot_bgcolor\": \"#F5F6F9\", \"template\": {\"data\": {\"bar\": [{\"error_x\": {\"color\": \"#2a3f5f\"}, \"error_y\": {\"color\": \"#2a3f5f\"}, \"marker\": {\"line\": {\"color\": \"#E5ECF6\", \"width\": 0.5}}, \"type\": \"bar\"}], \"barpolar\": [{\"marker\": {\"line\": {\"color\": \"#E5ECF6\", \"width\": 0.5}}, \"type\": \"barpolar\"}], \"carpet\": [{\"aaxis\": {\"endlinecolor\": \"#2a3f5f\", \"gridcolor\": \"white\", \"linecolor\": \"white\", \"minorgridcolor\": \"white\", \"startlinecolor\": \"#2a3f5f\"}, \"baxis\": {\"endlinecolor\": \"#2a3f5f\", \"gridcolor\": \"white\", \"linecolor\": \"white\", \"minorgridcolor\": \"white\", \"startlinecolor\": \"#2a3f5f\"}, \"type\": \"carpet\"}], \"choropleth\": [{\"colorbar\": {\"outlinewidth\": 0, \"ticks\": \"\"}, \"type\": \"choropleth\"}], \"contour\": [{\"colorbar\": {\"outlinewidth\": 0, \"ticks\": \"\"}, \"colorscale\": [[0.0, \"#0d0887\"], [0.1111111111111111, \"#46039f\"], [0.2222222222222222, \"#7201a8\"], [0.3333333333333333, \"#9c179e\"], [0.4444444444444444, \"#bd3786\"], [0.5555555555555556, \"#d8576b\"], [0.6666666666666666, \"#ed7953\"], [0.7777777777777778, \"#fb9f3a\"], [0.8888888888888888, \"#fdca26\"], [1.0, \"#f0f921\"]], \"type\": \"contour\"}], \"contourcarpet\": [{\"colorbar\": {\"outlinewidth\": 0, \"ticks\": \"\"}, \"type\": \"contourcarpet\"}], \"heatmap\": [{\"colorbar\": {\"outlinewidth\": 0, \"ticks\": \"\"}, \"colorscale\": [[0.0, \"#0d0887\"], [0.1111111111111111, \"#46039f\"], [0.2222222222222222, \"#7201a8\"], [0.3333333333333333, \"#9c179e\"], [0.4444444444444444, \"#bd3786\"], [0.5555555555555556, \"#d8576b\"], [0.6666666666666666, \"#ed7953\"], [0.7777777777777778, \"#fb9f3a\"], [0.8888888888888888, \"#fdca26\"], [1.0, \"#f0f921\"]], \"type\": \"heatmap\"}], \"heatmapgl\": [{\"colorbar\": {\"outlinewidth\": 0, \"ticks\": \"\"}, \"colorscale\": [[0.0, \"#0d0887\"], [0.1111111111111111, \"#46039f\"], [0.2222222222222222, \"#7201a8\"], [0.3333333333333333, \"#9c179e\"], [0.4444444444444444, \"#bd3786\"], [0.5555555555555556, \"#d8576b\"], [0.6666666666666666, \"#ed7953\"], [0.7777777777777778, \"#fb9f3a\"], [0.8888888888888888, \"#fdca26\"], [1.0, \"#f0f921\"]], \"type\": \"heatmapgl\"}], \"histogram\": [{\"marker\": {\"colorbar\": {\"outlinewidth\": 0, \"ticks\": \"\"}}, \"type\": \"histogram\"}], \"histogram2d\": [{\"colorbar\": {\"outlinewidth\": 0, \"ticks\": \"\"}, \"colorscale\": [[0.0, \"#0d0887\"], [0.1111111111111111, \"#46039f\"], [0.2222222222222222, \"#7201a8\"], [0.3333333333333333, \"#9c179e\"], [0.4444444444444444, \"#bd3786\"], [0.5555555555555556, \"#d8576b\"], [0.6666666666666666, \"#ed7953\"], [0.7777777777777778, \"#fb9f3a\"], [0.8888888888888888, \"#fdca26\"], [1.0, \"#f0f921\"]], \"type\": \"histogram2d\"}], \"histogram2dcontour\": [{\"colorbar\": {\"outlinewidth\": 0, \"ticks\": \"\"}, \"colorscale\": [[0.0, \"#0d0887\"], [0.1111111111111111, \"#46039f\"], [0.2222222222222222, \"#7201a8\"], [0.3333333333333333, \"#9c179e\"], [0.4444444444444444, \"#bd3786\"], [0.5555555555555556, \"#d8576b\"], [0.6666666666666666, \"#ed7953\"], [0.7777777777777778, \"#fb9f3a\"], [0.8888888888888888, \"#fdca26\"], [1.0, \"#f0f921\"]], \"type\": \"histogram2dcontour\"}], \"mesh3d\": [{\"colorbar\": {\"outlinewidth\": 0, \"ticks\": \"\"}, \"type\": \"mesh3d\"}], \"parcoords\": [{\"line\": {\"colorbar\": {\"outlinewidth\": 0, \"ticks\": \"\"}}, \"type\": \"parcoords\"}], \"pie\": [{\"automargin\": true, \"type\": \"pie\"}], \"scatter\": [{\"marker\": {\"colorbar\": {\"outlinewidth\": 0, \"ticks\": \"\"}}, \"type\": \"scatter\"}], \"scatter3d\": [{\"line\": {\"colorbar\": {\"outlinewidth\": 0, \"ticks\": \"\"}}, \"marker\": {\"colorbar\": {\"outlinewidth\": 0, \"ticks\": \"\"}}, \"type\": \"scatter3d\"}], \"scattercarpet\": [{\"marker\": {\"colorbar\": {\"outlinewidth\": 0, \"ticks\": \"\"}}, \"type\": \"scattercarpet\"}], \"scattergeo\": [{\"marker\": {\"colorbar\": {\"outlinewidth\": 0, \"ticks\": \"\"}}, \"type\": \"scattergeo\"}], \"scattergl\": [{\"marker\": {\"colorbar\": {\"outlinewidth\": 0, \"ticks\": \"\"}}, \"type\": \"scattergl\"}], \"scattermapbox\": [{\"marker\": {\"colorbar\": {\"outlinewidth\": 0, \"ticks\": \"\"}}, \"type\": \"scattermapbox\"}], \"scatterpolar\": [{\"marker\": {\"colorbar\": {\"outlinewidth\": 0, \"ticks\": \"\"}}, \"type\": \"scatterpolar\"}], \"scatterpolargl\": [{\"marker\": {\"colorbar\": {\"outlinewidth\": 0, \"ticks\": \"\"}}, \"type\": \"scatterpolargl\"}], \"scatterternary\": [{\"marker\": {\"colorbar\": {\"outlinewidth\": 0, \"ticks\": \"\"}}, \"type\": \"scatterternary\"}], \"surface\": [{\"colorbar\": {\"outlinewidth\": 0, \"ticks\": \"\"}, \"colorscale\": [[0.0, \"#0d0887\"], [0.1111111111111111, \"#46039f\"], [0.2222222222222222, \"#7201a8\"], [0.3333333333333333, \"#9c179e\"], [0.4444444444444444, \"#bd3786\"], [0.5555555555555556, \"#d8576b\"], [0.6666666666666666, \"#ed7953\"], [0.7777777777777778, \"#fb9f3a\"], [0.8888888888888888, \"#fdca26\"], [1.0, \"#f0f921\"]], \"type\": \"surface\"}], \"table\": [{\"cells\": {\"fill\": {\"color\": \"#EBF0F8\"}, \"line\": {\"color\": \"white\"}}, \"header\": {\"fill\": {\"color\": \"#C8D4E3\"}, \"line\": {\"color\": \"white\"}}, \"type\": \"table\"}]}, \"layout\": {\"annotationdefaults\": {\"arrowcolor\": \"#2a3f5f\", \"arrowhead\": 0, \"arrowwidth\": 1}, \"coloraxis\": {\"colorbar\": {\"outlinewidth\": 0, \"ticks\": \"\"}}, \"colorscale\": {\"diverging\": [[0, \"#8e0152\"], [0.1, \"#c51b7d\"], [0.2, \"#de77ae\"], [0.3, \"#f1b6da\"], [0.4, \"#fde0ef\"], [0.5, \"#f7f7f7\"], [0.6, \"#e6f5d0\"], [0.7, \"#b8e186\"], [0.8, \"#7fbc41\"], [0.9, \"#4d9221\"], [1, \"#276419\"]], \"sequential\": [[0.0, \"#0d0887\"], [0.1111111111111111, \"#46039f\"], [0.2222222222222222, \"#7201a8\"], [0.3333333333333333, \"#9c179e\"], [0.4444444444444444, \"#bd3786\"], [0.5555555555555556, \"#d8576b\"], [0.6666666666666666, \"#ed7953\"], [0.7777777777777778, \"#fb9f3a\"], [0.8888888888888888, \"#fdca26\"], [1.0, \"#f0f921\"]], \"sequentialminus\": [[0.0, \"#0d0887\"], [0.1111111111111111, \"#46039f\"], [0.2222222222222222, \"#7201a8\"], [0.3333333333333333, \"#9c179e\"], [0.4444444444444444, \"#bd3786\"], [0.5555555555555556, \"#d8576b\"], [0.6666666666666666, \"#ed7953\"], [0.7777777777777778, \"#fb9f3a\"], [0.8888888888888888, \"#fdca26\"], [1.0, \"#f0f921\"]]}, \"colorway\": [\"#636efa\", \"#EF553B\", \"#00cc96\", \"#ab63fa\", \"#FFA15A\", \"#19d3f3\", \"#FF6692\", \"#B6E880\", \"#FF97FF\", \"#FECB52\"], \"font\": {\"color\": \"#2a3f5f\"}, \"geo\": {\"bgcolor\": \"white\", \"lakecolor\": \"white\", \"landcolor\": \"#E5ECF6\", \"showlakes\": true, \"showland\": true, \"subunitcolor\": \"white\"}, \"hoverlabel\": {\"align\": \"left\"}, \"hovermode\": \"closest\", \"mapbox\": {\"style\": \"light\"}, \"paper_bgcolor\": \"white\", \"plot_bgcolor\": \"#E5ECF6\", \"polar\": {\"angularaxis\": {\"gridcolor\": \"white\", \"linecolor\": \"white\", \"ticks\": \"\"}, \"bgcolor\": \"#E5ECF6\", \"radialaxis\": {\"gridcolor\": \"white\", \"linecolor\": \"white\", \"ticks\": \"\"}}, \"scene\": {\"xaxis\": {\"backgroundcolor\": \"#E5ECF6\", \"gridcolor\": \"white\", \"gridwidth\": 2, \"linecolor\": \"white\", \"showbackground\": true, \"ticks\": \"\", \"zerolinecolor\": \"white\"}, \"yaxis\": {\"backgroundcolor\": \"#E5ECF6\", \"gridcolor\": \"white\", \"gridwidth\": 2, \"linecolor\": \"white\", \"showbackground\": true, \"ticks\": \"\", \"zerolinecolor\": \"white\"}, \"zaxis\": {\"backgroundcolor\": \"#E5ECF6\", \"gridcolor\": \"white\", \"gridwidth\": 2, \"linecolor\": \"white\", \"showbackground\": true, \"ticks\": \"\", \"zerolinecolor\": \"white\"}}, \"shapedefaults\": {\"line\": {\"color\": \"#2a3f5f\"}}, \"ternary\": {\"aaxis\": {\"gridcolor\": \"white\", \"linecolor\": \"white\", \"ticks\": \"\"}, \"baxis\": {\"gridcolor\": \"white\", \"linecolor\": \"white\", \"ticks\": \"\"}, \"bgcolor\": \"#E5ECF6\", \"caxis\": {\"gridcolor\": \"white\", \"linecolor\": \"white\", \"ticks\": \"\"}}, \"title\": {\"x\": 0.05}, \"xaxis\": {\"automargin\": true, \"gridcolor\": \"white\", \"linecolor\": \"white\", \"ticks\": \"\", \"title\": {\"standoff\": 15}, \"zerolinecolor\": \"white\", \"zerolinewidth\": 2}, \"yaxis\": {\"automargin\": true, \"gridcolor\": \"white\", \"linecolor\": \"white\", \"ticks\": \"\", \"title\": {\"standoff\": 15}, \"zerolinecolor\": \"white\", \"zerolinewidth\": 2}}}, \"title\": {\"font\": {\"color\": \"#4D5663\"}}, \"xaxis\": {\"gridcolor\": \"#E1E5ED\", \"showgrid\": true, \"tickfont\": {\"color\": \"#4D5663\"}, \"title\": {\"font\": {\"color\": \"#4D5663\"}, \"text\": \"\"}, \"zerolinecolor\": \"#E1E5ED\"}, \"yaxis\": {\"gridcolor\": \"#E1E5ED\", \"showgrid\": true, \"tickfont\": {\"color\": \"#4D5663\"}, \"title\": {\"font\": {\"color\": \"#4D5663\"}, \"text\": \"\"}, \"zerolinecolor\": \"#E1E5ED\"}},\n",
       "                        {\"showLink\": true, \"linkText\": \"Export to plot.ly\", \"plotlyServerURL\": \"https://plot.ly\", \"responsive\": true}\n",
       "                    ).then(function(){\n",
       "                            \n",
       "var gd = document.getElementById('411ca498-43e0-42d7-93da-ef9eddeb922a');\n",
       "var x = new MutationObserver(function (mutations, observer) {{\n",
       "        var display = window.getComputedStyle(gd).display;\n",
       "        if (!display || display === 'none') {{\n",
       "            console.log([gd, 'removed!']);\n",
       "            Plotly.purge(gd);\n",
       "            observer.disconnect();\n",
       "        }}\n",
       "}});\n",
       "\n",
       "// Listen for the removal of the full notebook cells\n",
       "var notebookContainer = gd.closest('#notebook-container');\n",
       "if (notebookContainer) {{\n",
       "    x.observe(notebookContainer, {childList: true});\n",
       "}}\n",
       "\n",
       "// Listen for the clearing of the current output cell\n",
       "var outputEl = gd.closest('.output');\n",
       "if (outputEl) {{\n",
       "    x.observe(outputEl, {childList: true});\n",
       "}}\n",
       "\n",
       "                        })\n",
       "                };\n",
       "                });\n",
       "            </script>\n",
       "        </div>"
      ]
     },
     "metadata": {},
     "output_type": "display_data"
    }
   ],
   "source": [
    "df3 = pd.DataFrame({'x':[1,2,3,4,5],'y':[10,20,30,20,10],'z':[5,4,3,2,1]})\n",
    "df3.iplot(kind='surface',colorscale='rdylbu')"
   ]
  },
  {
   "cell_type": "markdown",
   "metadata": {},
   "source": [
    "## Spread"
   ]
  },
  {
   "cell_type": "code",
   "execution_count": 15,
   "metadata": {},
   "outputs": [
    {
     "name": "stderr",
     "output_type": "stream",
     "text": [
      "/home/agheavy/.pyenv/versions/3.7.6/lib/python3.7/site-packages/cufflinks/plotlytools.py:849: FutureWarning:\n",
      "\n",
      "The pandas.np module is deprecated and will be removed from pandas in a future version. Import numpy directly instead\n",
      "\n",
      "/home/agheavy/.pyenv/versions/3.7.6/lib/python3.7/site-packages/cufflinks/plotlytools.py:850: FutureWarning:\n",
      "\n",
      "The pandas.np module is deprecated and will be removed from pandas in a future version. Import numpy directly instead\n",
      "\n"
     ]
    },
    {
     "data": {
      "application/vnd.plotly.v1+json": {
       "config": {
        "linkText": "Export to plot.ly",
        "plotlyServerURL": "https://plot.ly",
        "showLink": true
       },
       "data": [
        {
         "line": {
          "color": "rgba(255, 153, 51, 1.0)",
          "dash": "solid",
          "shape": "linear",
          "width": 1.3
         },
         "mode": "lines",
         "name": "A",
         "text": "",
         "type": "scatter",
         "x": [
          0,
          1,
          2,
          3,
          4,
          5,
          6,
          7,
          8,
          9,
          10,
          11,
          12,
          13,
          14,
          15,
          16,
          17,
          18,
          19,
          20,
          21,
          22,
          23,
          24,
          25,
          26,
          27,
          28,
          29,
          30,
          31,
          32,
          33,
          34,
          35,
          36,
          37,
          38,
          39,
          40,
          41,
          42,
          43,
          44,
          45,
          46,
          47,
          48,
          49,
          50,
          51,
          52,
          53,
          54,
          55,
          56,
          57,
          58,
          59,
          60,
          61,
          62,
          63,
          64,
          65,
          66,
          67,
          68,
          69,
          70,
          71,
          72,
          73,
          74,
          75,
          76,
          77,
          78,
          79,
          80,
          81,
          82,
          83,
          84,
          85,
          86,
          87,
          88,
          89,
          90,
          91,
          92,
          93,
          94,
          95,
          96,
          97,
          98,
          99
         ],
         "y": [
          0.8425800230056536,
          0.8228729931602605,
          0.45302144958655327,
          -0.15464636949214794,
          -0.3344287501808655,
          -0.6155627897642467,
          -0.8511015145286904,
          -0.22416144352609133,
          0.6602592697073943,
          1.6688045668274765,
          -1.1078003079394538,
          0.5205314770180932,
          -0.3363048584250365,
          0.40602399155108443,
          0.19011255413451617,
          2.4654201650905123,
          0.32154357233462094,
          -0.8213877114714514,
          0.5107565293763973,
          -1.3839586003113933,
          -1.0639421497820791,
          0.6849377969963686,
          -1.1333905961531854,
          -0.11635118566959907,
          -0.37936734911283415,
          0.4456028260228318,
          1.9327013265029618,
          -0.024565439083912236,
          0.7526701692658325,
          -0.5662253860236415,
          0.8821763247769187,
          0.2805875093621268,
          -0.9788739014698855,
          0.3036651709603921,
          0.5396091606224961,
          0.6665514304418824,
          0.5352043387203083,
          1.2129258711535873,
          0.7240042780223538,
          -1.0098975715722636,
          -0.16289919477076262,
          -0.8154323532297832,
          -0.3977749740844525,
          0.7845287767499552,
          -0.5823264324213028,
          1.7668402955824636,
          -0.5784049432184615,
          -0.11684278517136609,
          0.2951817195596696,
          -1.9513260315146401,
          -0.629934701459229,
          0.045131028591535005,
          -0.8402131275960164,
          0.5006646482393786,
          1.7927717048719476,
          -0.6399442017860044,
          1.7017414053525006,
          0.5571691974779828,
          -1.0823590214650136,
          -1.6669125591790803,
          -1.1665984022067872,
          1.5447897360165155,
          0.49559664950232923,
          -0.7110348817342973,
          0.048815188290864814,
          -0.07622169384583687,
          -0.9396682102311819,
          0.9048619394581252,
          0.3236739195518902,
          0.9322713987437912,
          -0.3677385853043386,
          -1.0783725873956171,
          1.2426757883845556,
          1.7282300608014385,
          0.5351211848501362,
          0.7207300381574594,
          -0.6571632159603973,
          0.3005500199868126,
          -2.2034542653997344,
          -2.261749854662406,
          -0.4732251632090071,
          -0.5134968603809374,
          0.6522671412507076,
          -0.315077705434412,
          0.675942762735105,
          1.5233300660474078,
          -0.954080252681867,
          0.9823848551740675,
          -1.635832764245846,
          0.2167668557418693,
          -0.7951469007973236,
          1.1919912435334072,
          1.2511730130201058,
          -1.3838268497648982,
          -0.5664230216840095,
          -1.4987921435235554,
          -0.8066030673898453,
          1.092576357472236,
          -0.20879159797990765,
          0.22369880671706246
         ]
        },
        {
         "line": {
          "color": "rgba(55, 128, 191, 1.0)",
          "dash": "solid",
          "shape": "linear",
          "width": 1.3
         },
         "mode": "lines",
         "name": "B",
         "text": "",
         "type": "scatter",
         "x": [
          0,
          1,
          2,
          3,
          4,
          5,
          6,
          7,
          8,
          9,
          10,
          11,
          12,
          13,
          14,
          15,
          16,
          17,
          18,
          19,
          20,
          21,
          22,
          23,
          24,
          25,
          26,
          27,
          28,
          29,
          30,
          31,
          32,
          33,
          34,
          35,
          36,
          37,
          38,
          39,
          40,
          41,
          42,
          43,
          44,
          45,
          46,
          47,
          48,
          49,
          50,
          51,
          52,
          53,
          54,
          55,
          56,
          57,
          58,
          59,
          60,
          61,
          62,
          63,
          64,
          65,
          66,
          67,
          68,
          69,
          70,
          71,
          72,
          73,
          74,
          75,
          76,
          77,
          78,
          79,
          80,
          81,
          82,
          83,
          84,
          85,
          86,
          87,
          88,
          89,
          90,
          91,
          92,
          93,
          94,
          95,
          96,
          97,
          98,
          99
         ],
         "y": [
          0.09759749197282581,
          0.6137315514697458,
          -0.2854572156585551,
          0.12142749701404602,
          -0.30538017910705795,
          0.9653249896933419,
          0.30763722494900336,
          -1.1804135293053442,
          2.0108948250826093,
          2.3281200521482357,
          0.8375326746814203,
          -1.1552593469105479,
          0.8209178718438593,
          -2.1722914069362815,
          -0.19986657830185683,
          -0.7093964594384959,
          -0.37191912168682706,
          1.065137719776101,
          2.0031885770388995,
          0.43456347993737837,
          0.527346750628352,
          -1.2824861366308757,
          0.03924695575136877,
          -0.7168935257821382,
          -0.30359036230906783,
          -0.6962633344761804,
          0.4211274074392302,
          1.6871651877846425,
          -0.039050782188639416,
          2.072099683982022,
          0.5204468688348854,
          1.0164792926890849,
          -0.7316803836275722,
          -0.3898451347452699,
          0.6294922442320586,
          1.183797549303694,
          -0.921297878278392,
          0.222282348897835,
          0.9547244715510609,
          -0.8592356555646143,
          -0.8440219747360963,
          -1.4596730660029675,
          -0.3579668388348763,
          -1.4899713082696882,
          -2.3650778604752984,
          1.0468466219410333,
          0.9046954089969772,
          1.253496239045731,
          0.23066745133877534,
          0.42399151575975924,
          -0.5724448167613085,
          -0.0312127195328586,
          0.44684169836912685,
          1.661791445451631,
          0.39485216421711317,
          -0.9018174786830869,
          -0.2663074862302335,
          1.2333682595654787,
          0.13796620315491115,
          0.0057041245113695635,
          0.412917020734218,
          0.23865432191821495,
          0.5065339609050801,
          -0.6925694953378969,
          -0.026446794780587146,
          -0.06475640554797196,
          -0.3446106690484418,
          0.5569329770877339,
          -0.1738856363317943,
          1.4132900725586053,
          0.5334262689843003,
          -0.6694902766680653,
          -0.37074495041061745,
          -0.17119048891228544,
          -1.5647514632194899,
          0.004023378941902747,
          0.8810753994171026,
          -1.2184413372674996,
          -2.1481159031421484,
          -1.4962719748944955,
          0.38038407459807444,
          0.2765898772414553,
          -0.11068749614747805,
          -1.047817447159204,
          -0.2100501154288501,
          1.0337835973410112,
          0.7557620116787,
          -1.0507032147285573,
          -0.4880355055022291,
          2.187073071990288,
          -1.6687730112146275,
          0.5285813339439062,
          0.21622635990512282,
          0.5654349024962452,
          0.7680214651948842,
          1.124622659275688,
          -0.024373578774586648,
          -0.7540674874965095,
          1.3378437781960533,
          0.5837528107495575
         ]
        },
        {
         "connectgaps": false,
         "fill": "tozeroy",
         "line": {
          "color": "green",
          "dash": "solid",
          "shape": "linear",
          "width": 0.5
         },
         "mode": "lines",
         "name": "Spread",
         "showlegend": false,
         "type": "scatter",
         "x": [
          0,
          1,
          2,
          3,
          4,
          5,
          6,
          7,
          8,
          9,
          10,
          11,
          12,
          13,
          14,
          15,
          16,
          17,
          18,
          19,
          20,
          21,
          22,
          23,
          24,
          25,
          26,
          27,
          28,
          29,
          30,
          31,
          32,
          33,
          34,
          35,
          36,
          37,
          38,
          39,
          40,
          41,
          42,
          43,
          44,
          45,
          46,
          47,
          48,
          49,
          50,
          51,
          52,
          53,
          54,
          55,
          56,
          57,
          58,
          59,
          60,
          61,
          62,
          63,
          64,
          65,
          66,
          67,
          68,
          69,
          70,
          71,
          72,
          73,
          74,
          75,
          76,
          77,
          78,
          79,
          80,
          81,
          82,
          83,
          84,
          85,
          86,
          87,
          88,
          89,
          90,
          91,
          92,
          93,
          94,
          95,
          96,
          97,
          98,
          99
         ],
         "xaxis": "x2",
         "y": [
          0.7449825310328277,
          0.20914144169051474,
          0.7384786652451083,
          "",
          "",
          "",
          "",
          0.9562520857792528,
          "",
          "",
          "",
          1.675790823928641,
          "",
          2.578315398487366,
          0.389979132436373,
          3.1748166245290084,
          0.693462694021448,
          "",
          "",
          "",
          "",
          1.9674239336272443,
          "",
          0.6005423401125392,
          "",
          1.1418661604990121,
          1.5115739190637316,
          "",
          0.791720951454472,
          "",
          0.3617294559420332,
          "",
          "",
          0.693510305705662,
          "",
          "",
          1.4565022169987003,
          0.9906435222557524,
          "",
          "",
          0.6811227799653337,
          0.6442407127731843,
          "",
          2.2745000850196435,
          1.7827514280539956,
          0.7199936736414303,
          "",
          "",
          0.06451426822089426,
          "",
          "",
          0.07634374812439361,
          "",
          "",
          1.3979195406548344,
          0.2618732768970825,
          1.968048891582734,
          "",
          "",
          "",
          "",
          1.3061354140983006,
          "",
          "",
          0.07526198307145196,
          "",
          "",
          0.3479289623703913,
          0.4975595558836845,
          "",
          "",
          "",
          1.6134207387951731,
          1.899420549713724,
          2.099872648069626,
          0.7167066592155567,
          "",
          1.5189913572543121,
          "",
          "",
          "",
          "",
          0.7629546373981857,
          0.7327397417247921,
          0.8859928781639551,
          0.4895464687063966,
          "",
          2.033088069902625,
          "",
          "",
          0.8736261104173039,
          0.6634099095895011,
          1.034946653114983,
          "",
          "",
          "",
          "",
          1.8466438449687455,
          "",
          ""
         ],
         "yaxis": "y2"
        },
        {
         "connectgaps": false,
         "fill": "tozeroy",
         "line": {
          "color": "red",
          "dash": "solid",
          "shape": "linear",
          "width": 0.5
         },
         "mode": "lines",
         "name": "Spread",
         "showlegend": false,
         "type": "scatter",
         "x": [
          0,
          1,
          2,
          3,
          4,
          5,
          6,
          7,
          8,
          9,
          10,
          11,
          12,
          13,
          14,
          15,
          16,
          17,
          18,
          19,
          20,
          21,
          22,
          23,
          24,
          25,
          26,
          27,
          28,
          29,
          30,
          31,
          32,
          33,
          34,
          35,
          36,
          37,
          38,
          39,
          40,
          41,
          42,
          43,
          44,
          45,
          46,
          47,
          48,
          49,
          50,
          51,
          52,
          53,
          54,
          55,
          56,
          57,
          58,
          59,
          60,
          61,
          62,
          63,
          64,
          65,
          66,
          67,
          68,
          69,
          70,
          71,
          72,
          73,
          74,
          75,
          76,
          77,
          78,
          79,
          80,
          81,
          82,
          83,
          84,
          85,
          86,
          87,
          88,
          89,
          90,
          91,
          92,
          93,
          94,
          95,
          96,
          97,
          98,
          99
         ],
         "xaxis": "x2",
         "y": [
          "",
          "",
          "",
          -0.276073866506194,
          -0.02904857107380754,
          -1.5808877794575886,
          -1.1587387394776938,
          "",
          -1.350635555375215,
          -0.6593154853207592,
          -1.945332982620874,
          "",
          -1.1572227302688958,
          "",
          "",
          "",
          "",
          -1.8865254312475523,
          -1.4924320476625024,
          -1.8185220802487716,
          -1.5912889004104311,
          "",
          -1.1726375519045542,
          "",
          -0.07577698680376632,
          "",
          "",
          -1.7117306268685548,
          "",
          -2.6383250700056635,
          "",
          -0.735891783326958,
          -0.24719351784231336,
          "",
          -0.08988308360956254,
          -0.5172461188618117,
          "",
          "",
          -0.2307201935287071,
          -0.15066191600764922,
          "",
          "",
          -0.039808135249576215,
          "",
          "",
          "",
          -1.4831003522154387,
          -1.370339024217097,
          "",
          -2.3753175472743995,
          -0.05748988469792049,
          "",
          -1.2870548259651433,
          -1.1611267972122523,
          "",
          "",
          "",
          -0.6761990620874959,
          -1.2203252246199248,
          -1.67261668369045,
          -1.579515422941005,
          "",
          -0.010937311402750838,
          -0.018465386396400385,
          "",
          -0.011465288297864903,
          -0.5950575411827401,
          "",
          "",
          -0.4810186738148141,
          -0.901164854288639,
          -0.4088823107275519,
          "",
          "",
          "",
          "",
          -1.5382386153774998,
          "",
          -0.05533836225758604,
          -0.7654778797679107,
          -0.8536092378070815,
          -0.7900867376223928,
          "",
          "",
          "",
          "",
          -1.709842264360567,
          "",
          -1.1477972587436167,
          -1.9703062162484188,
          "",
          "",
          "",
          -1.9492617522611435,
          -1.3344444868788936,
          -2.6234148027992434,
          -0.7822294886152587,
          "",
          -1.5466353761759608,
          -0.3600540040324951
         ],
         "yaxis": "y2"
        }
       ],
       "layout": {
        "hovermode": "x",
        "legend": {
         "bgcolor": "#F5F6F9",
         "font": {
          "color": "#4D5663"
         }
        },
        "paper_bgcolor": "#F5F6F9",
        "plot_bgcolor": "#F5F6F9",
        "template": {
         "data": {
          "bar": [
           {
            "error_x": {
             "color": "#2a3f5f"
            },
            "error_y": {
             "color": "#2a3f5f"
            },
            "marker": {
             "line": {
              "color": "#E5ECF6",
              "width": 0.5
             }
            },
            "type": "bar"
           }
          ],
          "barpolar": [
           {
            "marker": {
             "line": {
              "color": "#E5ECF6",
              "width": 0.5
             }
            },
            "type": "barpolar"
           }
          ],
          "carpet": [
           {
            "aaxis": {
             "endlinecolor": "#2a3f5f",
             "gridcolor": "white",
             "linecolor": "white",
             "minorgridcolor": "white",
             "startlinecolor": "#2a3f5f"
            },
            "baxis": {
             "endlinecolor": "#2a3f5f",
             "gridcolor": "white",
             "linecolor": "white",
             "minorgridcolor": "white",
             "startlinecolor": "#2a3f5f"
            },
            "type": "carpet"
           }
          ],
          "choropleth": [
           {
            "colorbar": {
             "outlinewidth": 0,
             "ticks": ""
            },
            "type": "choropleth"
           }
          ],
          "contour": [
           {
            "colorbar": {
             "outlinewidth": 0,
             "ticks": ""
            },
            "colorscale": [
             [
              0,
              "#0d0887"
             ],
             [
              0.1111111111111111,
              "#46039f"
             ],
             [
              0.2222222222222222,
              "#7201a8"
             ],
             [
              0.3333333333333333,
              "#9c179e"
             ],
             [
              0.4444444444444444,
              "#bd3786"
             ],
             [
              0.5555555555555556,
              "#d8576b"
             ],
             [
              0.6666666666666666,
              "#ed7953"
             ],
             [
              0.7777777777777778,
              "#fb9f3a"
             ],
             [
              0.8888888888888888,
              "#fdca26"
             ],
             [
              1,
              "#f0f921"
             ]
            ],
            "type": "contour"
           }
          ],
          "contourcarpet": [
           {
            "colorbar": {
             "outlinewidth": 0,
             "ticks": ""
            },
            "type": "contourcarpet"
           }
          ],
          "heatmap": [
           {
            "colorbar": {
             "outlinewidth": 0,
             "ticks": ""
            },
            "colorscale": [
             [
              0,
              "#0d0887"
             ],
             [
              0.1111111111111111,
              "#46039f"
             ],
             [
              0.2222222222222222,
              "#7201a8"
             ],
             [
              0.3333333333333333,
              "#9c179e"
             ],
             [
              0.4444444444444444,
              "#bd3786"
             ],
             [
              0.5555555555555556,
              "#d8576b"
             ],
             [
              0.6666666666666666,
              "#ed7953"
             ],
             [
              0.7777777777777778,
              "#fb9f3a"
             ],
             [
              0.8888888888888888,
              "#fdca26"
             ],
             [
              1,
              "#f0f921"
             ]
            ],
            "type": "heatmap"
           }
          ],
          "heatmapgl": [
           {
            "colorbar": {
             "outlinewidth": 0,
             "ticks": ""
            },
            "colorscale": [
             [
              0,
              "#0d0887"
             ],
             [
              0.1111111111111111,
              "#46039f"
             ],
             [
              0.2222222222222222,
              "#7201a8"
             ],
             [
              0.3333333333333333,
              "#9c179e"
             ],
             [
              0.4444444444444444,
              "#bd3786"
             ],
             [
              0.5555555555555556,
              "#d8576b"
             ],
             [
              0.6666666666666666,
              "#ed7953"
             ],
             [
              0.7777777777777778,
              "#fb9f3a"
             ],
             [
              0.8888888888888888,
              "#fdca26"
             ],
             [
              1,
              "#f0f921"
             ]
            ],
            "type": "heatmapgl"
           }
          ],
          "histogram": [
           {
            "marker": {
             "colorbar": {
              "outlinewidth": 0,
              "ticks": ""
             }
            },
            "type": "histogram"
           }
          ],
          "histogram2d": [
           {
            "colorbar": {
             "outlinewidth": 0,
             "ticks": ""
            },
            "colorscale": [
             [
              0,
              "#0d0887"
             ],
             [
              0.1111111111111111,
              "#46039f"
             ],
             [
              0.2222222222222222,
              "#7201a8"
             ],
             [
              0.3333333333333333,
              "#9c179e"
             ],
             [
              0.4444444444444444,
              "#bd3786"
             ],
             [
              0.5555555555555556,
              "#d8576b"
             ],
             [
              0.6666666666666666,
              "#ed7953"
             ],
             [
              0.7777777777777778,
              "#fb9f3a"
             ],
             [
              0.8888888888888888,
              "#fdca26"
             ],
             [
              1,
              "#f0f921"
             ]
            ],
            "type": "histogram2d"
           }
          ],
          "histogram2dcontour": [
           {
            "colorbar": {
             "outlinewidth": 0,
             "ticks": ""
            },
            "colorscale": [
             [
              0,
              "#0d0887"
             ],
             [
              0.1111111111111111,
              "#46039f"
             ],
             [
              0.2222222222222222,
              "#7201a8"
             ],
             [
              0.3333333333333333,
              "#9c179e"
             ],
             [
              0.4444444444444444,
              "#bd3786"
             ],
             [
              0.5555555555555556,
              "#d8576b"
             ],
             [
              0.6666666666666666,
              "#ed7953"
             ],
             [
              0.7777777777777778,
              "#fb9f3a"
             ],
             [
              0.8888888888888888,
              "#fdca26"
             ],
             [
              1,
              "#f0f921"
             ]
            ],
            "type": "histogram2dcontour"
           }
          ],
          "mesh3d": [
           {
            "colorbar": {
             "outlinewidth": 0,
             "ticks": ""
            },
            "type": "mesh3d"
           }
          ],
          "parcoords": [
           {
            "line": {
             "colorbar": {
              "outlinewidth": 0,
              "ticks": ""
             }
            },
            "type": "parcoords"
           }
          ],
          "pie": [
           {
            "automargin": true,
            "type": "pie"
           }
          ],
          "scatter": [
           {
            "marker": {
             "colorbar": {
              "outlinewidth": 0,
              "ticks": ""
             }
            },
            "type": "scatter"
           }
          ],
          "scatter3d": [
           {
            "line": {
             "colorbar": {
              "outlinewidth": 0,
              "ticks": ""
             }
            },
            "marker": {
             "colorbar": {
              "outlinewidth": 0,
              "ticks": ""
             }
            },
            "type": "scatter3d"
           }
          ],
          "scattercarpet": [
           {
            "marker": {
             "colorbar": {
              "outlinewidth": 0,
              "ticks": ""
             }
            },
            "type": "scattercarpet"
           }
          ],
          "scattergeo": [
           {
            "marker": {
             "colorbar": {
              "outlinewidth": 0,
              "ticks": ""
             }
            },
            "type": "scattergeo"
           }
          ],
          "scattergl": [
           {
            "marker": {
             "colorbar": {
              "outlinewidth": 0,
              "ticks": ""
             }
            },
            "type": "scattergl"
           }
          ],
          "scattermapbox": [
           {
            "marker": {
             "colorbar": {
              "outlinewidth": 0,
              "ticks": ""
             }
            },
            "type": "scattermapbox"
           }
          ],
          "scatterpolar": [
           {
            "marker": {
             "colorbar": {
              "outlinewidth": 0,
              "ticks": ""
             }
            },
            "type": "scatterpolar"
           }
          ],
          "scatterpolargl": [
           {
            "marker": {
             "colorbar": {
              "outlinewidth": 0,
              "ticks": ""
             }
            },
            "type": "scatterpolargl"
           }
          ],
          "scatterternary": [
           {
            "marker": {
             "colorbar": {
              "outlinewidth": 0,
              "ticks": ""
             }
            },
            "type": "scatterternary"
           }
          ],
          "surface": [
           {
            "colorbar": {
             "outlinewidth": 0,
             "ticks": ""
            },
            "colorscale": [
             [
              0,
              "#0d0887"
             ],
             [
              0.1111111111111111,
              "#46039f"
             ],
             [
              0.2222222222222222,
              "#7201a8"
             ],
             [
              0.3333333333333333,
              "#9c179e"
             ],
             [
              0.4444444444444444,
              "#bd3786"
             ],
             [
              0.5555555555555556,
              "#d8576b"
             ],
             [
              0.6666666666666666,
              "#ed7953"
             ],
             [
              0.7777777777777778,
              "#fb9f3a"
             ],
             [
              0.8888888888888888,
              "#fdca26"
             ],
             [
              1,
              "#f0f921"
             ]
            ],
            "type": "surface"
           }
          ],
          "table": [
           {
            "cells": {
             "fill": {
              "color": "#EBF0F8"
             },
             "line": {
              "color": "white"
             }
            },
            "header": {
             "fill": {
              "color": "#C8D4E3"
             },
             "line": {
              "color": "white"
             }
            },
            "type": "table"
           }
          ]
         },
         "layout": {
          "annotationdefaults": {
           "arrowcolor": "#2a3f5f",
           "arrowhead": 0,
           "arrowwidth": 1
          },
          "coloraxis": {
           "colorbar": {
            "outlinewidth": 0,
            "ticks": ""
           }
          },
          "colorscale": {
           "diverging": [
            [
             0,
             "#8e0152"
            ],
            [
             0.1,
             "#c51b7d"
            ],
            [
             0.2,
             "#de77ae"
            ],
            [
             0.3,
             "#f1b6da"
            ],
            [
             0.4,
             "#fde0ef"
            ],
            [
             0.5,
             "#f7f7f7"
            ],
            [
             0.6,
             "#e6f5d0"
            ],
            [
             0.7,
             "#b8e186"
            ],
            [
             0.8,
             "#7fbc41"
            ],
            [
             0.9,
             "#4d9221"
            ],
            [
             1,
             "#276419"
            ]
           ],
           "sequential": [
            [
             0,
             "#0d0887"
            ],
            [
             0.1111111111111111,
             "#46039f"
            ],
            [
             0.2222222222222222,
             "#7201a8"
            ],
            [
             0.3333333333333333,
             "#9c179e"
            ],
            [
             0.4444444444444444,
             "#bd3786"
            ],
            [
             0.5555555555555556,
             "#d8576b"
            ],
            [
             0.6666666666666666,
             "#ed7953"
            ],
            [
             0.7777777777777778,
             "#fb9f3a"
            ],
            [
             0.8888888888888888,
             "#fdca26"
            ],
            [
             1,
             "#f0f921"
            ]
           ],
           "sequentialminus": [
            [
             0,
             "#0d0887"
            ],
            [
             0.1111111111111111,
             "#46039f"
            ],
            [
             0.2222222222222222,
             "#7201a8"
            ],
            [
             0.3333333333333333,
             "#9c179e"
            ],
            [
             0.4444444444444444,
             "#bd3786"
            ],
            [
             0.5555555555555556,
             "#d8576b"
            ],
            [
             0.6666666666666666,
             "#ed7953"
            ],
            [
             0.7777777777777778,
             "#fb9f3a"
            ],
            [
             0.8888888888888888,
             "#fdca26"
            ],
            [
             1,
             "#f0f921"
            ]
           ]
          },
          "colorway": [
           "#636efa",
           "#EF553B",
           "#00cc96",
           "#ab63fa",
           "#FFA15A",
           "#19d3f3",
           "#FF6692",
           "#B6E880",
           "#FF97FF",
           "#FECB52"
          ],
          "font": {
           "color": "#2a3f5f"
          },
          "geo": {
           "bgcolor": "white",
           "lakecolor": "white",
           "landcolor": "#E5ECF6",
           "showlakes": true,
           "showland": true,
           "subunitcolor": "white"
          },
          "hoverlabel": {
           "align": "left"
          },
          "hovermode": "closest",
          "mapbox": {
           "style": "light"
          },
          "paper_bgcolor": "white",
          "plot_bgcolor": "#E5ECF6",
          "polar": {
           "angularaxis": {
            "gridcolor": "white",
            "linecolor": "white",
            "ticks": ""
           },
           "bgcolor": "#E5ECF6",
           "radialaxis": {
            "gridcolor": "white",
            "linecolor": "white",
            "ticks": ""
           }
          },
          "scene": {
           "xaxis": {
            "backgroundcolor": "#E5ECF6",
            "gridcolor": "white",
            "gridwidth": 2,
            "linecolor": "white",
            "showbackground": true,
            "ticks": "",
            "zerolinecolor": "white"
           },
           "yaxis": {
            "backgroundcolor": "#E5ECF6",
            "gridcolor": "white",
            "gridwidth": 2,
            "linecolor": "white",
            "showbackground": true,
            "ticks": "",
            "zerolinecolor": "white"
           },
           "zaxis": {
            "backgroundcolor": "#E5ECF6",
            "gridcolor": "white",
            "gridwidth": 2,
            "linecolor": "white",
            "showbackground": true,
            "ticks": "",
            "zerolinecolor": "white"
           }
          },
          "shapedefaults": {
           "line": {
            "color": "#2a3f5f"
           }
          },
          "ternary": {
           "aaxis": {
            "gridcolor": "white",
            "linecolor": "white",
            "ticks": ""
           },
           "baxis": {
            "gridcolor": "white",
            "linecolor": "white",
            "ticks": ""
           },
           "bgcolor": "#E5ECF6",
           "caxis": {
            "gridcolor": "white",
            "linecolor": "white",
            "ticks": ""
           }
          },
          "title": {
           "x": 0.05
          },
          "xaxis": {
           "automargin": true,
           "gridcolor": "white",
           "linecolor": "white",
           "ticks": "",
           "title": {
            "standoff": 15
           },
           "zerolinecolor": "white",
           "zerolinewidth": 2
          },
          "yaxis": {
           "automargin": true,
           "gridcolor": "white",
           "linecolor": "white",
           "ticks": "",
           "title": {
            "standoff": 15
           },
           "zerolinecolor": "white",
           "zerolinewidth": 2
          }
         }
        },
        "title": {
         "font": {
          "color": "#4D5663"
         }
        },
        "xaxis": {
         "gridcolor": "#E1E5ED",
         "showgrid": true,
         "tickfont": {
          "color": "#4D5663"
         },
         "title": {
          "font": {
           "color": "#4D5663"
          },
          "text": ""
         },
         "zerolinecolor": "#E1E5ED"
        },
        "xaxis2": {
         "anchor": "y2",
         "gridcolor": "#E1E5ED",
         "showgrid": true,
         "showticklabels": false,
         "tickfont": {
          "color": "#4D5663"
         },
         "title": {
          "font": {
           "color": "#4D5663"
          },
          "text": ""
         },
         "zerolinecolor": "#E1E5ED"
        },
        "yaxis": {
         "domain": [
          0.3,
          1
         ],
         "gridcolor": "#E1E5ED",
         "showgrid": true,
         "tickfont": {
          "color": "#4D5663"
         },
         "title": {
          "font": {
           "color": "#4D5663"
          },
          "text": ""
         },
         "zerolinecolor": "#E1E5ED"
        },
        "yaxis2": {
         "domain": [
          0,
          0.25
         ],
         "gridcolor": "#E1E5ED",
         "showgrid": true,
         "tickfont": {
          "color": "#4D5663"
         },
         "title": {
          "font": {
           "color": "#4D5663"
          },
          "text": "Spread"
         },
         "zerolinecolor": "#E1E5ED"
        }
       }
      },
      "text/html": [
       "<div>\n",
       "        \n",
       "        \n",
       "            <div id=\"fa0ab3e5-abda-42c4-8542-07d1267da28b\" class=\"plotly-graph-div\" style=\"height:525px; width:100%;\"></div>\n",
       "            <script type=\"text/javascript\">\n",
       "                require([\"plotly\"], function(Plotly) {\n",
       "                    window.PLOTLYENV=window.PLOTLYENV || {};\n",
       "                    window.PLOTLYENV.BASE_URL='https://plot.ly';\n",
       "                    \n",
       "                if (document.getElementById(\"fa0ab3e5-abda-42c4-8542-07d1267da28b\")) {\n",
       "                    Plotly.newPlot(\n",
       "                        'fa0ab3e5-abda-42c4-8542-07d1267da28b',\n",
       "                        [{\"line\": {\"color\": \"rgba(255, 153, 51, 1.0)\", \"dash\": \"solid\", \"shape\": \"linear\", \"width\": 1.3}, \"mode\": \"lines\", \"name\": \"A\", \"text\": \"\", \"type\": \"scatter\", \"x\": [0, 1, 2, 3, 4, 5, 6, 7, 8, 9, 10, 11, 12, 13, 14, 15, 16, 17, 18, 19, 20, 21, 22, 23, 24, 25, 26, 27, 28, 29, 30, 31, 32, 33, 34, 35, 36, 37, 38, 39, 40, 41, 42, 43, 44, 45, 46, 47, 48, 49, 50, 51, 52, 53, 54, 55, 56, 57, 58, 59, 60, 61, 62, 63, 64, 65, 66, 67, 68, 69, 70, 71, 72, 73, 74, 75, 76, 77, 78, 79, 80, 81, 82, 83, 84, 85, 86, 87, 88, 89, 90, 91, 92, 93, 94, 95, 96, 97, 98, 99], \"y\": [0.8425800230056536, 0.8228729931602605, 0.45302144958655327, -0.15464636949214794, -0.3344287501808655, -0.6155627897642467, -0.8511015145286904, -0.22416144352609133, 0.6602592697073943, 1.6688045668274765, -1.1078003079394538, 0.5205314770180932, -0.3363048584250365, 0.40602399155108443, 0.19011255413451617, 2.4654201650905123, 0.32154357233462094, -0.8213877114714514, 0.5107565293763973, -1.3839586003113933, -1.0639421497820791, 0.6849377969963686, -1.1333905961531854, -0.11635118566959907, -0.37936734911283415, 0.4456028260228318, 1.9327013265029618, -0.024565439083912236, 0.7526701692658325, -0.5662253860236415, 0.8821763247769187, 0.2805875093621268, -0.9788739014698855, 0.3036651709603921, 0.5396091606224961, 0.6665514304418824, 0.5352043387203083, 1.2129258711535873, 0.7240042780223538, -1.0098975715722636, -0.16289919477076262, -0.8154323532297832, -0.3977749740844525, 0.7845287767499552, -0.5823264324213028, 1.7668402955824636, -0.5784049432184615, -0.11684278517136609, 0.2951817195596696, -1.9513260315146401, -0.629934701459229, 0.045131028591535005, -0.8402131275960164, 0.5006646482393786, 1.7927717048719476, -0.6399442017860044, 1.7017414053525006, 0.5571691974779828, -1.0823590214650136, -1.6669125591790803, -1.1665984022067872, 1.5447897360165155, 0.49559664950232923, -0.7110348817342973, 0.048815188290864814, -0.07622169384583687, -0.9396682102311819, 0.9048619394581252, 0.3236739195518902, 0.9322713987437912, -0.3677385853043386, -1.0783725873956171, 1.2426757883845556, 1.7282300608014385, 0.5351211848501362, 0.7207300381574594, -0.6571632159603973, 0.3005500199868126, -2.2034542653997344, -2.261749854662406, -0.4732251632090071, -0.5134968603809374, 0.6522671412507076, -0.315077705434412, 0.675942762735105, 1.5233300660474078, -0.954080252681867, 0.9823848551740675, -1.635832764245846, 0.2167668557418693, -0.7951469007973236, 1.1919912435334072, 1.2511730130201058, -1.3838268497648982, -0.5664230216840095, -1.4987921435235554, -0.8066030673898453, 1.092576357472236, -0.20879159797990765, 0.22369880671706246]}, {\"line\": {\"color\": \"rgba(55, 128, 191, 1.0)\", \"dash\": \"solid\", \"shape\": \"linear\", \"width\": 1.3}, \"mode\": \"lines\", \"name\": \"B\", \"text\": \"\", \"type\": \"scatter\", \"x\": [0, 1, 2, 3, 4, 5, 6, 7, 8, 9, 10, 11, 12, 13, 14, 15, 16, 17, 18, 19, 20, 21, 22, 23, 24, 25, 26, 27, 28, 29, 30, 31, 32, 33, 34, 35, 36, 37, 38, 39, 40, 41, 42, 43, 44, 45, 46, 47, 48, 49, 50, 51, 52, 53, 54, 55, 56, 57, 58, 59, 60, 61, 62, 63, 64, 65, 66, 67, 68, 69, 70, 71, 72, 73, 74, 75, 76, 77, 78, 79, 80, 81, 82, 83, 84, 85, 86, 87, 88, 89, 90, 91, 92, 93, 94, 95, 96, 97, 98, 99], \"y\": [0.09759749197282581, 0.6137315514697458, -0.2854572156585551, 0.12142749701404602, -0.30538017910705795, 0.9653249896933419, 0.30763722494900336, -1.1804135293053442, 2.0108948250826093, 2.3281200521482357, 0.8375326746814203, -1.1552593469105479, 0.8209178718438593, -2.1722914069362815, -0.19986657830185683, -0.7093964594384959, -0.37191912168682706, 1.065137719776101, 2.0031885770388995, 0.43456347993737837, 0.527346750628352, -1.2824861366308757, 0.03924695575136877, -0.7168935257821382, -0.30359036230906783, -0.6962633344761804, 0.4211274074392302, 1.6871651877846425, -0.039050782188639416, 2.072099683982022, 0.5204468688348854, 1.0164792926890849, -0.7316803836275722, -0.3898451347452699, 0.6294922442320586, 1.183797549303694, -0.921297878278392, 0.222282348897835, 0.9547244715510609, -0.8592356555646143, -0.8440219747360963, -1.4596730660029675, -0.3579668388348763, -1.4899713082696882, -2.3650778604752984, 1.0468466219410333, 0.9046954089969772, 1.253496239045731, 0.23066745133877534, 0.42399151575975924, -0.5724448167613085, -0.0312127195328586, 0.44684169836912685, 1.661791445451631, 0.39485216421711317, -0.9018174786830869, -0.2663074862302335, 1.2333682595654787, 0.13796620315491115, 0.0057041245113695635, 0.412917020734218, 0.23865432191821495, 0.5065339609050801, -0.6925694953378969, -0.026446794780587146, -0.06475640554797196, -0.3446106690484418, 0.5569329770877339, -0.1738856363317943, 1.4132900725586053, 0.5334262689843003, -0.6694902766680653, -0.37074495041061745, -0.17119048891228544, -1.5647514632194899, 0.004023378941902747, 0.8810753994171026, -1.2184413372674996, -2.1481159031421484, -1.4962719748944955, 0.38038407459807444, 0.2765898772414553, -0.11068749614747805, -1.047817447159204, -0.2100501154288501, 1.0337835973410112, 0.7557620116787, -1.0507032147285573, -0.4880355055022291, 2.187073071990288, -1.6687730112146275, 0.5285813339439062, 0.21622635990512282, 0.5654349024962452, 0.7680214651948842, 1.124622659275688, -0.024373578774586648, -0.7540674874965095, 1.3378437781960533, 0.5837528107495575]}, {\"connectgaps\": false, \"fill\": \"tozeroy\", \"line\": {\"color\": \"green\", \"dash\": \"solid\", \"shape\": \"linear\", \"width\": 0.5}, \"mode\": \"lines\", \"name\": \"Spread\", \"showlegend\": false, \"type\": \"scatter\", \"x\": [0, 1, 2, 3, 4, 5, 6, 7, 8, 9, 10, 11, 12, 13, 14, 15, 16, 17, 18, 19, 20, 21, 22, 23, 24, 25, 26, 27, 28, 29, 30, 31, 32, 33, 34, 35, 36, 37, 38, 39, 40, 41, 42, 43, 44, 45, 46, 47, 48, 49, 50, 51, 52, 53, 54, 55, 56, 57, 58, 59, 60, 61, 62, 63, 64, 65, 66, 67, 68, 69, 70, 71, 72, 73, 74, 75, 76, 77, 78, 79, 80, 81, 82, 83, 84, 85, 86, 87, 88, 89, 90, 91, 92, 93, 94, 95, 96, 97, 98, 99], \"xaxis\": \"x2\", \"y\": [0.7449825310328277, 0.20914144169051474, 0.7384786652451083, \"\", \"\", \"\", \"\", 0.9562520857792528, \"\", \"\", \"\", 1.675790823928641, \"\", 2.578315398487366, 0.389979132436373, 3.1748166245290084, 0.693462694021448, \"\", \"\", \"\", \"\", 1.9674239336272443, \"\", 0.6005423401125392, \"\", 1.1418661604990121, 1.5115739190637316, \"\", 0.791720951454472, \"\", 0.3617294559420332, \"\", \"\", 0.693510305705662, \"\", \"\", 1.4565022169987003, 0.9906435222557524, \"\", \"\", 0.6811227799653337, 0.6442407127731843, \"\", 2.2745000850196435, 1.7827514280539956, 0.7199936736414303, \"\", \"\", 0.06451426822089426, \"\", \"\", 0.07634374812439361, \"\", \"\", 1.3979195406548344, 0.2618732768970825, 1.968048891582734, \"\", \"\", \"\", \"\", 1.3061354140983006, \"\", \"\", 0.07526198307145196, \"\", \"\", 0.3479289623703913, 0.4975595558836845, \"\", \"\", \"\", 1.6134207387951731, 1.899420549713724, 2.099872648069626, 0.7167066592155567, \"\", 1.5189913572543121, \"\", \"\", \"\", \"\", 0.7629546373981857, 0.7327397417247921, 0.8859928781639551, 0.4895464687063966, \"\", 2.033088069902625, \"\", \"\", 0.8736261104173039, 0.6634099095895011, 1.034946653114983, \"\", \"\", \"\", \"\", 1.8466438449687455, \"\", \"\"], \"yaxis\": \"y2\"}, {\"connectgaps\": false, \"fill\": \"tozeroy\", \"line\": {\"color\": \"red\", \"dash\": \"solid\", \"shape\": \"linear\", \"width\": 0.5}, \"mode\": \"lines\", \"name\": \"Spread\", \"showlegend\": false, \"type\": \"scatter\", \"x\": [0, 1, 2, 3, 4, 5, 6, 7, 8, 9, 10, 11, 12, 13, 14, 15, 16, 17, 18, 19, 20, 21, 22, 23, 24, 25, 26, 27, 28, 29, 30, 31, 32, 33, 34, 35, 36, 37, 38, 39, 40, 41, 42, 43, 44, 45, 46, 47, 48, 49, 50, 51, 52, 53, 54, 55, 56, 57, 58, 59, 60, 61, 62, 63, 64, 65, 66, 67, 68, 69, 70, 71, 72, 73, 74, 75, 76, 77, 78, 79, 80, 81, 82, 83, 84, 85, 86, 87, 88, 89, 90, 91, 92, 93, 94, 95, 96, 97, 98, 99], \"xaxis\": \"x2\", \"y\": [\"\", \"\", \"\", -0.276073866506194, -0.02904857107380754, -1.5808877794575886, -1.1587387394776938, \"\", -1.350635555375215, -0.6593154853207592, -1.945332982620874, \"\", -1.1572227302688958, \"\", \"\", \"\", \"\", -1.8865254312475523, -1.4924320476625024, -1.8185220802487716, -1.5912889004104311, \"\", -1.1726375519045542, \"\", -0.07577698680376632, \"\", \"\", -1.7117306268685548, \"\", -2.6383250700056635, \"\", -0.735891783326958, -0.24719351784231336, \"\", -0.08988308360956254, -0.5172461188618117, \"\", \"\", -0.2307201935287071, -0.15066191600764922, \"\", \"\", -0.039808135249576215, \"\", \"\", \"\", -1.4831003522154387, -1.370339024217097, \"\", -2.3753175472743995, -0.05748988469792049, \"\", -1.2870548259651433, -1.1611267972122523, \"\", \"\", \"\", -0.6761990620874959, -1.2203252246199248, -1.67261668369045, -1.579515422941005, \"\", -0.010937311402750838, -0.018465386396400385, \"\", -0.011465288297864903, -0.5950575411827401, \"\", \"\", -0.4810186738148141, -0.901164854288639, -0.4088823107275519, \"\", \"\", \"\", \"\", -1.5382386153774998, \"\", -0.05533836225758604, -0.7654778797679107, -0.8536092378070815, -0.7900867376223928, \"\", \"\", \"\", \"\", -1.709842264360567, \"\", -1.1477972587436167, -1.9703062162484188, \"\", \"\", \"\", -1.9492617522611435, -1.3344444868788936, -2.6234148027992434, -0.7822294886152587, \"\", -1.5466353761759608, -0.3600540040324951], \"yaxis\": \"y2\"}],\n",
       "                        {\"hovermode\": \"x\", \"legend\": {\"bgcolor\": \"#F5F6F9\", \"font\": {\"color\": \"#4D5663\"}}, \"paper_bgcolor\": \"#F5F6F9\", \"plot_bgcolor\": \"#F5F6F9\", \"template\": {\"data\": {\"bar\": [{\"error_x\": {\"color\": \"#2a3f5f\"}, \"error_y\": {\"color\": \"#2a3f5f\"}, \"marker\": {\"line\": {\"color\": \"#E5ECF6\", \"width\": 0.5}}, \"type\": \"bar\"}], \"barpolar\": [{\"marker\": {\"line\": {\"color\": \"#E5ECF6\", \"width\": 0.5}}, \"type\": \"barpolar\"}], \"carpet\": [{\"aaxis\": {\"endlinecolor\": \"#2a3f5f\", \"gridcolor\": \"white\", \"linecolor\": \"white\", \"minorgridcolor\": \"white\", \"startlinecolor\": \"#2a3f5f\"}, \"baxis\": {\"endlinecolor\": \"#2a3f5f\", \"gridcolor\": \"white\", \"linecolor\": \"white\", \"minorgridcolor\": \"white\", \"startlinecolor\": \"#2a3f5f\"}, \"type\": \"carpet\"}], \"choropleth\": [{\"colorbar\": {\"outlinewidth\": 0, \"ticks\": \"\"}, \"type\": \"choropleth\"}], \"contour\": [{\"colorbar\": {\"outlinewidth\": 0, \"ticks\": \"\"}, \"colorscale\": [[0.0, \"#0d0887\"], [0.1111111111111111, \"#46039f\"], [0.2222222222222222, \"#7201a8\"], [0.3333333333333333, \"#9c179e\"], [0.4444444444444444, \"#bd3786\"], [0.5555555555555556, \"#d8576b\"], [0.6666666666666666, \"#ed7953\"], [0.7777777777777778, \"#fb9f3a\"], [0.8888888888888888, \"#fdca26\"], [1.0, \"#f0f921\"]], \"type\": \"contour\"}], \"contourcarpet\": [{\"colorbar\": {\"outlinewidth\": 0, \"ticks\": \"\"}, \"type\": \"contourcarpet\"}], \"heatmap\": [{\"colorbar\": {\"outlinewidth\": 0, \"ticks\": \"\"}, \"colorscale\": [[0.0, \"#0d0887\"], [0.1111111111111111, \"#46039f\"], [0.2222222222222222, \"#7201a8\"], [0.3333333333333333, \"#9c179e\"], [0.4444444444444444, \"#bd3786\"], [0.5555555555555556, \"#d8576b\"], [0.6666666666666666, \"#ed7953\"], [0.7777777777777778, \"#fb9f3a\"], [0.8888888888888888, \"#fdca26\"], [1.0, \"#f0f921\"]], \"type\": \"heatmap\"}], \"heatmapgl\": [{\"colorbar\": {\"outlinewidth\": 0, \"ticks\": \"\"}, \"colorscale\": [[0.0, \"#0d0887\"], [0.1111111111111111, \"#46039f\"], [0.2222222222222222, \"#7201a8\"], [0.3333333333333333, \"#9c179e\"], [0.4444444444444444, \"#bd3786\"], [0.5555555555555556, \"#d8576b\"], [0.6666666666666666, \"#ed7953\"], [0.7777777777777778, \"#fb9f3a\"], [0.8888888888888888, \"#fdca26\"], [1.0, \"#f0f921\"]], \"type\": \"heatmapgl\"}], \"histogram\": [{\"marker\": {\"colorbar\": {\"outlinewidth\": 0, \"ticks\": \"\"}}, \"type\": \"histogram\"}], \"histogram2d\": [{\"colorbar\": {\"outlinewidth\": 0, \"ticks\": \"\"}, \"colorscale\": [[0.0, \"#0d0887\"], [0.1111111111111111, \"#46039f\"], [0.2222222222222222, \"#7201a8\"], [0.3333333333333333, \"#9c179e\"], [0.4444444444444444, \"#bd3786\"], [0.5555555555555556, \"#d8576b\"], [0.6666666666666666, \"#ed7953\"], [0.7777777777777778, \"#fb9f3a\"], [0.8888888888888888, \"#fdca26\"], [1.0, \"#f0f921\"]], \"type\": \"histogram2d\"}], \"histogram2dcontour\": [{\"colorbar\": {\"outlinewidth\": 0, \"ticks\": \"\"}, \"colorscale\": [[0.0, \"#0d0887\"], [0.1111111111111111, \"#46039f\"], [0.2222222222222222, \"#7201a8\"], [0.3333333333333333, \"#9c179e\"], [0.4444444444444444, \"#bd3786\"], [0.5555555555555556, \"#d8576b\"], [0.6666666666666666, \"#ed7953\"], [0.7777777777777778, \"#fb9f3a\"], [0.8888888888888888, \"#fdca26\"], [1.0, \"#f0f921\"]], \"type\": \"histogram2dcontour\"}], \"mesh3d\": [{\"colorbar\": {\"outlinewidth\": 0, \"ticks\": \"\"}, \"type\": \"mesh3d\"}], \"parcoords\": [{\"line\": {\"colorbar\": {\"outlinewidth\": 0, \"ticks\": \"\"}}, \"type\": \"parcoords\"}], \"pie\": [{\"automargin\": true, \"type\": \"pie\"}], \"scatter\": [{\"marker\": {\"colorbar\": {\"outlinewidth\": 0, \"ticks\": \"\"}}, \"type\": \"scatter\"}], \"scatter3d\": [{\"line\": {\"colorbar\": {\"outlinewidth\": 0, \"ticks\": \"\"}}, \"marker\": {\"colorbar\": {\"outlinewidth\": 0, \"ticks\": \"\"}}, \"type\": \"scatter3d\"}], \"scattercarpet\": [{\"marker\": {\"colorbar\": {\"outlinewidth\": 0, \"ticks\": \"\"}}, \"type\": \"scattercarpet\"}], \"scattergeo\": [{\"marker\": {\"colorbar\": {\"outlinewidth\": 0, \"ticks\": \"\"}}, \"type\": \"scattergeo\"}], \"scattergl\": [{\"marker\": {\"colorbar\": {\"outlinewidth\": 0, \"ticks\": \"\"}}, \"type\": \"scattergl\"}], \"scattermapbox\": [{\"marker\": {\"colorbar\": {\"outlinewidth\": 0, \"ticks\": \"\"}}, \"type\": \"scattermapbox\"}], \"scatterpolar\": [{\"marker\": {\"colorbar\": {\"outlinewidth\": 0, \"ticks\": \"\"}}, \"type\": \"scatterpolar\"}], \"scatterpolargl\": [{\"marker\": {\"colorbar\": {\"outlinewidth\": 0, \"ticks\": \"\"}}, \"type\": \"scatterpolargl\"}], \"scatterternary\": [{\"marker\": {\"colorbar\": {\"outlinewidth\": 0, \"ticks\": \"\"}}, \"type\": \"scatterternary\"}], \"surface\": [{\"colorbar\": {\"outlinewidth\": 0, \"ticks\": \"\"}, \"colorscale\": [[0.0, \"#0d0887\"], [0.1111111111111111, \"#46039f\"], [0.2222222222222222, \"#7201a8\"], [0.3333333333333333, \"#9c179e\"], [0.4444444444444444, \"#bd3786\"], [0.5555555555555556, \"#d8576b\"], [0.6666666666666666, \"#ed7953\"], [0.7777777777777778, \"#fb9f3a\"], [0.8888888888888888, \"#fdca26\"], [1.0, \"#f0f921\"]], \"type\": \"surface\"}], \"table\": [{\"cells\": {\"fill\": {\"color\": \"#EBF0F8\"}, \"line\": {\"color\": \"white\"}}, \"header\": {\"fill\": {\"color\": \"#C8D4E3\"}, \"line\": {\"color\": \"white\"}}, \"type\": \"table\"}]}, \"layout\": {\"annotationdefaults\": {\"arrowcolor\": \"#2a3f5f\", \"arrowhead\": 0, \"arrowwidth\": 1}, \"coloraxis\": {\"colorbar\": {\"outlinewidth\": 0, \"ticks\": \"\"}}, \"colorscale\": {\"diverging\": [[0, \"#8e0152\"], [0.1, \"#c51b7d\"], [0.2, \"#de77ae\"], [0.3, \"#f1b6da\"], [0.4, \"#fde0ef\"], [0.5, \"#f7f7f7\"], [0.6, \"#e6f5d0\"], [0.7, \"#b8e186\"], [0.8, \"#7fbc41\"], [0.9, \"#4d9221\"], [1, \"#276419\"]], \"sequential\": [[0.0, \"#0d0887\"], [0.1111111111111111, \"#46039f\"], [0.2222222222222222, \"#7201a8\"], [0.3333333333333333, \"#9c179e\"], [0.4444444444444444, \"#bd3786\"], [0.5555555555555556, \"#d8576b\"], [0.6666666666666666, \"#ed7953\"], [0.7777777777777778, \"#fb9f3a\"], [0.8888888888888888, \"#fdca26\"], [1.0, \"#f0f921\"]], \"sequentialminus\": [[0.0, \"#0d0887\"], [0.1111111111111111, \"#46039f\"], [0.2222222222222222, \"#7201a8\"], [0.3333333333333333, \"#9c179e\"], [0.4444444444444444, \"#bd3786\"], [0.5555555555555556, \"#d8576b\"], [0.6666666666666666, \"#ed7953\"], [0.7777777777777778, \"#fb9f3a\"], [0.8888888888888888, \"#fdca26\"], [1.0, \"#f0f921\"]]}, \"colorway\": [\"#636efa\", \"#EF553B\", \"#00cc96\", \"#ab63fa\", \"#FFA15A\", \"#19d3f3\", \"#FF6692\", \"#B6E880\", \"#FF97FF\", \"#FECB52\"], \"font\": {\"color\": \"#2a3f5f\"}, \"geo\": {\"bgcolor\": \"white\", \"lakecolor\": \"white\", \"landcolor\": \"#E5ECF6\", \"showlakes\": true, \"showland\": true, \"subunitcolor\": \"white\"}, \"hoverlabel\": {\"align\": \"left\"}, \"hovermode\": \"closest\", \"mapbox\": {\"style\": \"light\"}, \"paper_bgcolor\": \"white\", \"plot_bgcolor\": \"#E5ECF6\", \"polar\": {\"angularaxis\": {\"gridcolor\": \"white\", \"linecolor\": \"white\", \"ticks\": \"\"}, \"bgcolor\": \"#E5ECF6\", \"radialaxis\": {\"gridcolor\": \"white\", \"linecolor\": \"white\", \"ticks\": \"\"}}, \"scene\": {\"xaxis\": {\"backgroundcolor\": \"#E5ECF6\", \"gridcolor\": \"white\", \"gridwidth\": 2, \"linecolor\": \"white\", \"showbackground\": true, \"ticks\": \"\", \"zerolinecolor\": \"white\"}, \"yaxis\": {\"backgroundcolor\": \"#E5ECF6\", \"gridcolor\": \"white\", \"gridwidth\": 2, \"linecolor\": \"white\", \"showbackground\": true, \"ticks\": \"\", \"zerolinecolor\": \"white\"}, \"zaxis\": {\"backgroundcolor\": \"#E5ECF6\", \"gridcolor\": \"white\", \"gridwidth\": 2, \"linecolor\": \"white\", \"showbackground\": true, \"ticks\": \"\", \"zerolinecolor\": \"white\"}}, \"shapedefaults\": {\"line\": {\"color\": \"#2a3f5f\"}}, \"ternary\": {\"aaxis\": {\"gridcolor\": \"white\", \"linecolor\": \"white\", \"ticks\": \"\"}, \"baxis\": {\"gridcolor\": \"white\", \"linecolor\": \"white\", \"ticks\": \"\"}, \"bgcolor\": \"#E5ECF6\", \"caxis\": {\"gridcolor\": \"white\", \"linecolor\": \"white\", \"ticks\": \"\"}}, \"title\": {\"x\": 0.05}, \"xaxis\": {\"automargin\": true, \"gridcolor\": \"white\", \"linecolor\": \"white\", \"ticks\": \"\", \"title\": {\"standoff\": 15}, \"zerolinecolor\": \"white\", \"zerolinewidth\": 2}, \"yaxis\": {\"automargin\": true, \"gridcolor\": \"white\", \"linecolor\": \"white\", \"ticks\": \"\", \"title\": {\"standoff\": 15}, \"zerolinecolor\": \"white\", \"zerolinewidth\": 2}}}, \"title\": {\"font\": {\"color\": \"#4D5663\"}}, \"xaxis\": {\"gridcolor\": \"#E1E5ED\", \"showgrid\": true, \"tickfont\": {\"color\": \"#4D5663\"}, \"title\": {\"font\": {\"color\": \"#4D5663\"}, \"text\": \"\"}, \"zerolinecolor\": \"#E1E5ED\"}, \"xaxis2\": {\"anchor\": \"y2\", \"gridcolor\": \"#E1E5ED\", \"showgrid\": true, \"showticklabels\": false, \"tickfont\": {\"color\": \"#4D5663\"}, \"title\": {\"font\": {\"color\": \"#4D5663\"}, \"text\": \"\"}, \"zerolinecolor\": \"#E1E5ED\"}, \"yaxis\": {\"domain\": [0.3, 1], \"gridcolor\": \"#E1E5ED\", \"showgrid\": true, \"tickfont\": {\"color\": \"#4D5663\"}, \"title\": {\"font\": {\"color\": \"#4D5663\"}, \"text\": \"\"}, \"zerolinecolor\": \"#E1E5ED\"}, \"yaxis2\": {\"domain\": [0, 0.25], \"gridcolor\": \"#E1E5ED\", \"showgrid\": true, \"tickfont\": {\"color\": \"#4D5663\"}, \"title\": {\"font\": {\"color\": \"#4D5663\"}, \"text\": \"Spread\"}, \"zerolinecolor\": \"#E1E5ED\"}},\n",
       "                        {\"showLink\": true, \"linkText\": \"Export to plot.ly\", \"plotlyServerURL\": \"https://plot.ly\", \"responsive\": true}\n",
       "                    ).then(function(){\n",
       "                            \n",
       "var gd = document.getElementById('fa0ab3e5-abda-42c4-8542-07d1267da28b');\n",
       "var x = new MutationObserver(function (mutations, observer) {{\n",
       "        var display = window.getComputedStyle(gd).display;\n",
       "        if (!display || display === 'none') {{\n",
       "            console.log([gd, 'removed!']);\n",
       "            Plotly.purge(gd);\n",
       "            observer.disconnect();\n",
       "        }}\n",
       "}});\n",
       "\n",
       "// Listen for the removal of the full notebook cells\n",
       "var notebookContainer = gd.closest('#notebook-container');\n",
       "if (notebookContainer) {{\n",
       "    x.observe(notebookContainer, {childList: true});\n",
       "}}\n",
       "\n",
       "// Listen for the clearing of the current output cell\n",
       "var outputEl = gd.closest('.output');\n",
       "if (outputEl) {{\n",
       "    x.observe(outputEl, {childList: true});\n",
       "}}\n",
       "\n",
       "                        })\n",
       "                };\n",
       "                });\n",
       "            </script>\n",
       "        </div>"
      ]
     },
     "metadata": {},
     "output_type": "display_data"
    }
   ],
   "source": [
    "df[['A','B']].iplot(kind='spread')"
   ]
  },
  {
   "cell_type": "markdown",
   "metadata": {},
   "source": [
    "## histogram"
   ]
  },
  {
   "cell_type": "code",
   "execution_count": 20,
   "metadata": {},
   "outputs": [
    {
     "data": {
      "application/vnd.plotly.v1+json": {
       "config": {
        "linkText": "Export to plot.ly",
        "plotlyServerURL": "https://plot.ly",
        "showLink": true
       },
       "data": [
        {
         "histfunc": "count",
         "histnorm": "",
         "marker": {
          "color": "rgba(255, 153, 51, 1.0)",
          "line": {
           "color": "#4D5663",
           "width": 1.3
          }
         },
         "name": "A",
         "nbinsx": 25,
         "opacity": 0.8,
         "orientation": "v",
         "type": "histogram",
         "x": [
          0.8425800230056536,
          0.8228729931602605,
          0.45302144958655327,
          -0.15464636949214794,
          -0.3344287501808655,
          -0.6155627897642467,
          -0.8511015145286904,
          -0.22416144352609133,
          0.6602592697073943,
          1.6688045668274765,
          -1.1078003079394538,
          0.5205314770180932,
          -0.3363048584250365,
          0.40602399155108443,
          0.19011255413451617,
          2.4654201650905123,
          0.32154357233462094,
          -0.8213877114714514,
          0.5107565293763973,
          -1.3839586003113933,
          -1.0639421497820791,
          0.6849377969963686,
          -1.1333905961531854,
          -0.11635118566959907,
          -0.37936734911283415,
          0.4456028260228318,
          1.9327013265029618,
          -0.024565439083912236,
          0.7526701692658325,
          -0.5662253860236415,
          0.8821763247769187,
          0.2805875093621268,
          -0.9788739014698855,
          0.3036651709603921,
          0.5396091606224961,
          0.6665514304418824,
          0.5352043387203083,
          1.2129258711535873,
          0.7240042780223538,
          -1.0098975715722636,
          -0.16289919477076262,
          -0.8154323532297832,
          -0.3977749740844525,
          0.7845287767499552,
          -0.5823264324213028,
          1.7668402955824636,
          -0.5784049432184615,
          -0.11684278517136609,
          0.2951817195596696,
          -1.9513260315146401,
          -0.629934701459229,
          0.045131028591535005,
          -0.8402131275960164,
          0.5006646482393786,
          1.7927717048719476,
          -0.6399442017860044,
          1.7017414053525006,
          0.5571691974779828,
          -1.0823590214650136,
          -1.6669125591790803,
          -1.1665984022067872,
          1.5447897360165155,
          0.49559664950232923,
          -0.7110348817342973,
          0.048815188290864814,
          -0.07622169384583687,
          -0.9396682102311819,
          0.9048619394581252,
          0.3236739195518902,
          0.9322713987437912,
          -0.3677385853043386,
          -1.0783725873956171,
          1.2426757883845556,
          1.7282300608014385,
          0.5351211848501362,
          0.7207300381574594,
          -0.6571632159603973,
          0.3005500199868126,
          -2.2034542653997344,
          -2.261749854662406,
          -0.4732251632090071,
          -0.5134968603809374,
          0.6522671412507076,
          -0.315077705434412,
          0.675942762735105,
          1.5233300660474078,
          -0.954080252681867,
          0.9823848551740675,
          -1.635832764245846,
          0.2167668557418693,
          -0.7951469007973236,
          1.1919912435334072,
          1.2511730130201058,
          -1.3838268497648982,
          -0.5664230216840095,
          -1.4987921435235554,
          -0.8066030673898453,
          1.092576357472236,
          -0.20879159797990765,
          0.22369880671706246
         ]
        }
       ],
       "layout": {
        "barmode": "overlay",
        "legend": {
         "bgcolor": "#F5F6F9",
         "font": {
          "color": "#4D5663"
         }
        },
        "paper_bgcolor": "#F5F6F9",
        "plot_bgcolor": "#F5F6F9",
        "template": {
         "data": {
          "bar": [
           {
            "error_x": {
             "color": "#2a3f5f"
            },
            "error_y": {
             "color": "#2a3f5f"
            },
            "marker": {
             "line": {
              "color": "#E5ECF6",
              "width": 0.5
             }
            },
            "type": "bar"
           }
          ],
          "barpolar": [
           {
            "marker": {
             "line": {
              "color": "#E5ECF6",
              "width": 0.5
             }
            },
            "type": "barpolar"
           }
          ],
          "carpet": [
           {
            "aaxis": {
             "endlinecolor": "#2a3f5f",
             "gridcolor": "white",
             "linecolor": "white",
             "minorgridcolor": "white",
             "startlinecolor": "#2a3f5f"
            },
            "baxis": {
             "endlinecolor": "#2a3f5f",
             "gridcolor": "white",
             "linecolor": "white",
             "minorgridcolor": "white",
             "startlinecolor": "#2a3f5f"
            },
            "type": "carpet"
           }
          ],
          "choropleth": [
           {
            "colorbar": {
             "outlinewidth": 0,
             "ticks": ""
            },
            "type": "choropleth"
           }
          ],
          "contour": [
           {
            "colorbar": {
             "outlinewidth": 0,
             "ticks": ""
            },
            "colorscale": [
             [
              0,
              "#0d0887"
             ],
             [
              0.1111111111111111,
              "#46039f"
             ],
             [
              0.2222222222222222,
              "#7201a8"
             ],
             [
              0.3333333333333333,
              "#9c179e"
             ],
             [
              0.4444444444444444,
              "#bd3786"
             ],
             [
              0.5555555555555556,
              "#d8576b"
             ],
             [
              0.6666666666666666,
              "#ed7953"
             ],
             [
              0.7777777777777778,
              "#fb9f3a"
             ],
             [
              0.8888888888888888,
              "#fdca26"
             ],
             [
              1,
              "#f0f921"
             ]
            ],
            "type": "contour"
           }
          ],
          "contourcarpet": [
           {
            "colorbar": {
             "outlinewidth": 0,
             "ticks": ""
            },
            "type": "contourcarpet"
           }
          ],
          "heatmap": [
           {
            "colorbar": {
             "outlinewidth": 0,
             "ticks": ""
            },
            "colorscale": [
             [
              0,
              "#0d0887"
             ],
             [
              0.1111111111111111,
              "#46039f"
             ],
             [
              0.2222222222222222,
              "#7201a8"
             ],
             [
              0.3333333333333333,
              "#9c179e"
             ],
             [
              0.4444444444444444,
              "#bd3786"
             ],
             [
              0.5555555555555556,
              "#d8576b"
             ],
             [
              0.6666666666666666,
              "#ed7953"
             ],
             [
              0.7777777777777778,
              "#fb9f3a"
             ],
             [
              0.8888888888888888,
              "#fdca26"
             ],
             [
              1,
              "#f0f921"
             ]
            ],
            "type": "heatmap"
           }
          ],
          "heatmapgl": [
           {
            "colorbar": {
             "outlinewidth": 0,
             "ticks": ""
            },
            "colorscale": [
             [
              0,
              "#0d0887"
             ],
             [
              0.1111111111111111,
              "#46039f"
             ],
             [
              0.2222222222222222,
              "#7201a8"
             ],
             [
              0.3333333333333333,
              "#9c179e"
             ],
             [
              0.4444444444444444,
              "#bd3786"
             ],
             [
              0.5555555555555556,
              "#d8576b"
             ],
             [
              0.6666666666666666,
              "#ed7953"
             ],
             [
              0.7777777777777778,
              "#fb9f3a"
             ],
             [
              0.8888888888888888,
              "#fdca26"
             ],
             [
              1,
              "#f0f921"
             ]
            ],
            "type": "heatmapgl"
           }
          ],
          "histogram": [
           {
            "marker": {
             "colorbar": {
              "outlinewidth": 0,
              "ticks": ""
             }
            },
            "type": "histogram"
           }
          ],
          "histogram2d": [
           {
            "colorbar": {
             "outlinewidth": 0,
             "ticks": ""
            },
            "colorscale": [
             [
              0,
              "#0d0887"
             ],
             [
              0.1111111111111111,
              "#46039f"
             ],
             [
              0.2222222222222222,
              "#7201a8"
             ],
             [
              0.3333333333333333,
              "#9c179e"
             ],
             [
              0.4444444444444444,
              "#bd3786"
             ],
             [
              0.5555555555555556,
              "#d8576b"
             ],
             [
              0.6666666666666666,
              "#ed7953"
             ],
             [
              0.7777777777777778,
              "#fb9f3a"
             ],
             [
              0.8888888888888888,
              "#fdca26"
             ],
             [
              1,
              "#f0f921"
             ]
            ],
            "type": "histogram2d"
           }
          ],
          "histogram2dcontour": [
           {
            "colorbar": {
             "outlinewidth": 0,
             "ticks": ""
            },
            "colorscale": [
             [
              0,
              "#0d0887"
             ],
             [
              0.1111111111111111,
              "#46039f"
             ],
             [
              0.2222222222222222,
              "#7201a8"
             ],
             [
              0.3333333333333333,
              "#9c179e"
             ],
             [
              0.4444444444444444,
              "#bd3786"
             ],
             [
              0.5555555555555556,
              "#d8576b"
             ],
             [
              0.6666666666666666,
              "#ed7953"
             ],
             [
              0.7777777777777778,
              "#fb9f3a"
             ],
             [
              0.8888888888888888,
              "#fdca26"
             ],
             [
              1,
              "#f0f921"
             ]
            ],
            "type": "histogram2dcontour"
           }
          ],
          "mesh3d": [
           {
            "colorbar": {
             "outlinewidth": 0,
             "ticks": ""
            },
            "type": "mesh3d"
           }
          ],
          "parcoords": [
           {
            "line": {
             "colorbar": {
              "outlinewidth": 0,
              "ticks": ""
             }
            },
            "type": "parcoords"
           }
          ],
          "pie": [
           {
            "automargin": true,
            "type": "pie"
           }
          ],
          "scatter": [
           {
            "marker": {
             "colorbar": {
              "outlinewidth": 0,
              "ticks": ""
             }
            },
            "type": "scatter"
           }
          ],
          "scatter3d": [
           {
            "line": {
             "colorbar": {
              "outlinewidth": 0,
              "ticks": ""
             }
            },
            "marker": {
             "colorbar": {
              "outlinewidth": 0,
              "ticks": ""
             }
            },
            "type": "scatter3d"
           }
          ],
          "scattercarpet": [
           {
            "marker": {
             "colorbar": {
              "outlinewidth": 0,
              "ticks": ""
             }
            },
            "type": "scattercarpet"
           }
          ],
          "scattergeo": [
           {
            "marker": {
             "colorbar": {
              "outlinewidth": 0,
              "ticks": ""
             }
            },
            "type": "scattergeo"
           }
          ],
          "scattergl": [
           {
            "marker": {
             "colorbar": {
              "outlinewidth": 0,
              "ticks": ""
             }
            },
            "type": "scattergl"
           }
          ],
          "scattermapbox": [
           {
            "marker": {
             "colorbar": {
              "outlinewidth": 0,
              "ticks": ""
             }
            },
            "type": "scattermapbox"
           }
          ],
          "scatterpolar": [
           {
            "marker": {
             "colorbar": {
              "outlinewidth": 0,
              "ticks": ""
             }
            },
            "type": "scatterpolar"
           }
          ],
          "scatterpolargl": [
           {
            "marker": {
             "colorbar": {
              "outlinewidth": 0,
              "ticks": ""
             }
            },
            "type": "scatterpolargl"
           }
          ],
          "scatterternary": [
           {
            "marker": {
             "colorbar": {
              "outlinewidth": 0,
              "ticks": ""
             }
            },
            "type": "scatterternary"
           }
          ],
          "surface": [
           {
            "colorbar": {
             "outlinewidth": 0,
             "ticks": ""
            },
            "colorscale": [
             [
              0,
              "#0d0887"
             ],
             [
              0.1111111111111111,
              "#46039f"
             ],
             [
              0.2222222222222222,
              "#7201a8"
             ],
             [
              0.3333333333333333,
              "#9c179e"
             ],
             [
              0.4444444444444444,
              "#bd3786"
             ],
             [
              0.5555555555555556,
              "#d8576b"
             ],
             [
              0.6666666666666666,
              "#ed7953"
             ],
             [
              0.7777777777777778,
              "#fb9f3a"
             ],
             [
              0.8888888888888888,
              "#fdca26"
             ],
             [
              1,
              "#f0f921"
             ]
            ],
            "type": "surface"
           }
          ],
          "table": [
           {
            "cells": {
             "fill": {
              "color": "#EBF0F8"
             },
             "line": {
              "color": "white"
             }
            },
            "header": {
             "fill": {
              "color": "#C8D4E3"
             },
             "line": {
              "color": "white"
             }
            },
            "type": "table"
           }
          ]
         },
         "layout": {
          "annotationdefaults": {
           "arrowcolor": "#2a3f5f",
           "arrowhead": 0,
           "arrowwidth": 1
          },
          "coloraxis": {
           "colorbar": {
            "outlinewidth": 0,
            "ticks": ""
           }
          },
          "colorscale": {
           "diverging": [
            [
             0,
             "#8e0152"
            ],
            [
             0.1,
             "#c51b7d"
            ],
            [
             0.2,
             "#de77ae"
            ],
            [
             0.3,
             "#f1b6da"
            ],
            [
             0.4,
             "#fde0ef"
            ],
            [
             0.5,
             "#f7f7f7"
            ],
            [
             0.6,
             "#e6f5d0"
            ],
            [
             0.7,
             "#b8e186"
            ],
            [
             0.8,
             "#7fbc41"
            ],
            [
             0.9,
             "#4d9221"
            ],
            [
             1,
             "#276419"
            ]
           ],
           "sequential": [
            [
             0,
             "#0d0887"
            ],
            [
             0.1111111111111111,
             "#46039f"
            ],
            [
             0.2222222222222222,
             "#7201a8"
            ],
            [
             0.3333333333333333,
             "#9c179e"
            ],
            [
             0.4444444444444444,
             "#bd3786"
            ],
            [
             0.5555555555555556,
             "#d8576b"
            ],
            [
             0.6666666666666666,
             "#ed7953"
            ],
            [
             0.7777777777777778,
             "#fb9f3a"
            ],
            [
             0.8888888888888888,
             "#fdca26"
            ],
            [
             1,
             "#f0f921"
            ]
           ],
           "sequentialminus": [
            [
             0,
             "#0d0887"
            ],
            [
             0.1111111111111111,
             "#46039f"
            ],
            [
             0.2222222222222222,
             "#7201a8"
            ],
            [
             0.3333333333333333,
             "#9c179e"
            ],
            [
             0.4444444444444444,
             "#bd3786"
            ],
            [
             0.5555555555555556,
             "#d8576b"
            ],
            [
             0.6666666666666666,
             "#ed7953"
            ],
            [
             0.7777777777777778,
             "#fb9f3a"
            ],
            [
             0.8888888888888888,
             "#fdca26"
            ],
            [
             1,
             "#f0f921"
            ]
           ]
          },
          "colorway": [
           "#636efa",
           "#EF553B",
           "#00cc96",
           "#ab63fa",
           "#FFA15A",
           "#19d3f3",
           "#FF6692",
           "#B6E880",
           "#FF97FF",
           "#FECB52"
          ],
          "font": {
           "color": "#2a3f5f"
          },
          "geo": {
           "bgcolor": "white",
           "lakecolor": "white",
           "landcolor": "#E5ECF6",
           "showlakes": true,
           "showland": true,
           "subunitcolor": "white"
          },
          "hoverlabel": {
           "align": "left"
          },
          "hovermode": "closest",
          "mapbox": {
           "style": "light"
          },
          "paper_bgcolor": "white",
          "plot_bgcolor": "#E5ECF6",
          "polar": {
           "angularaxis": {
            "gridcolor": "white",
            "linecolor": "white",
            "ticks": ""
           },
           "bgcolor": "#E5ECF6",
           "radialaxis": {
            "gridcolor": "white",
            "linecolor": "white",
            "ticks": ""
           }
          },
          "scene": {
           "xaxis": {
            "backgroundcolor": "#E5ECF6",
            "gridcolor": "white",
            "gridwidth": 2,
            "linecolor": "white",
            "showbackground": true,
            "ticks": "",
            "zerolinecolor": "white"
           },
           "yaxis": {
            "backgroundcolor": "#E5ECF6",
            "gridcolor": "white",
            "gridwidth": 2,
            "linecolor": "white",
            "showbackground": true,
            "ticks": "",
            "zerolinecolor": "white"
           },
           "zaxis": {
            "backgroundcolor": "#E5ECF6",
            "gridcolor": "white",
            "gridwidth": 2,
            "linecolor": "white",
            "showbackground": true,
            "ticks": "",
            "zerolinecolor": "white"
           }
          },
          "shapedefaults": {
           "line": {
            "color": "#2a3f5f"
           }
          },
          "ternary": {
           "aaxis": {
            "gridcolor": "white",
            "linecolor": "white",
            "ticks": ""
           },
           "baxis": {
            "gridcolor": "white",
            "linecolor": "white",
            "ticks": ""
           },
           "bgcolor": "#E5ECF6",
           "caxis": {
            "gridcolor": "white",
            "linecolor": "white",
            "ticks": ""
           }
          },
          "title": {
           "x": 0.05
          },
          "xaxis": {
           "automargin": true,
           "gridcolor": "white",
           "linecolor": "white",
           "ticks": "",
           "title": {
            "standoff": 15
           },
           "zerolinecolor": "white",
           "zerolinewidth": 2
          },
          "yaxis": {
           "automargin": true,
           "gridcolor": "white",
           "linecolor": "white",
           "ticks": "",
           "title": {
            "standoff": 15
           },
           "zerolinecolor": "white",
           "zerolinewidth": 2
          }
         }
        },
        "title": {
         "font": {
          "color": "#4D5663"
         }
        },
        "xaxis": {
         "gridcolor": "#E1E5ED",
         "showgrid": true,
         "tickfont": {
          "color": "#4D5663"
         },
         "title": {
          "font": {
           "color": "#4D5663"
          },
          "text": ""
         },
         "zerolinecolor": "#E1E5ED"
        },
        "yaxis": {
         "gridcolor": "#E1E5ED",
         "showgrid": true,
         "tickfont": {
          "color": "#4D5663"
         },
         "title": {
          "font": {
           "color": "#4D5663"
          },
          "text": ""
         },
         "zerolinecolor": "#E1E5ED"
        }
       }
      },
      "text/html": [
       "<div>\n",
       "        \n",
       "        \n",
       "            <div id=\"b36dbaa8-1937-4194-b3ec-e68b46ae7826\" class=\"plotly-graph-div\" style=\"height:525px; width:100%;\"></div>\n",
       "            <script type=\"text/javascript\">\n",
       "                require([\"plotly\"], function(Plotly) {\n",
       "                    window.PLOTLYENV=window.PLOTLYENV || {};\n",
       "                    window.PLOTLYENV.BASE_URL='https://plot.ly';\n",
       "                    \n",
       "                if (document.getElementById(\"b36dbaa8-1937-4194-b3ec-e68b46ae7826\")) {\n",
       "                    Plotly.newPlot(\n",
       "                        'b36dbaa8-1937-4194-b3ec-e68b46ae7826',\n",
       "                        [{\"histfunc\": \"count\", \"histnorm\": \"\", \"marker\": {\"color\": \"rgba(255, 153, 51, 1.0)\", \"line\": {\"color\": \"#4D5663\", \"width\": 1.3}}, \"name\": \"A\", \"nbinsx\": 25, \"opacity\": 0.8, \"orientation\": \"v\", \"type\": \"histogram\", \"x\": [0.8425800230056536, 0.8228729931602605, 0.45302144958655327, -0.15464636949214794, -0.3344287501808655, -0.6155627897642467, -0.8511015145286904, -0.22416144352609133, 0.6602592697073943, 1.6688045668274765, -1.1078003079394538, 0.5205314770180932, -0.3363048584250365, 0.40602399155108443, 0.19011255413451617, 2.4654201650905123, 0.32154357233462094, -0.8213877114714514, 0.5107565293763973, -1.3839586003113933, -1.0639421497820791, 0.6849377969963686, -1.1333905961531854, -0.11635118566959907, -0.37936734911283415, 0.4456028260228318, 1.9327013265029618, -0.024565439083912236, 0.7526701692658325, -0.5662253860236415, 0.8821763247769187, 0.2805875093621268, -0.9788739014698855, 0.3036651709603921, 0.5396091606224961, 0.6665514304418824, 0.5352043387203083, 1.2129258711535873, 0.7240042780223538, -1.0098975715722636, -0.16289919477076262, -0.8154323532297832, -0.3977749740844525, 0.7845287767499552, -0.5823264324213028, 1.7668402955824636, -0.5784049432184615, -0.11684278517136609, 0.2951817195596696, -1.9513260315146401, -0.629934701459229, 0.045131028591535005, -0.8402131275960164, 0.5006646482393786, 1.7927717048719476, -0.6399442017860044, 1.7017414053525006, 0.5571691974779828, -1.0823590214650136, -1.6669125591790803, -1.1665984022067872, 1.5447897360165155, 0.49559664950232923, -0.7110348817342973, 0.048815188290864814, -0.07622169384583687, -0.9396682102311819, 0.9048619394581252, 0.3236739195518902, 0.9322713987437912, -0.3677385853043386, -1.0783725873956171, 1.2426757883845556, 1.7282300608014385, 0.5351211848501362, 0.7207300381574594, -0.6571632159603973, 0.3005500199868126, -2.2034542653997344, -2.261749854662406, -0.4732251632090071, -0.5134968603809374, 0.6522671412507076, -0.315077705434412, 0.675942762735105, 1.5233300660474078, -0.954080252681867, 0.9823848551740675, -1.635832764245846, 0.2167668557418693, -0.7951469007973236, 1.1919912435334072, 1.2511730130201058, -1.3838268497648982, -0.5664230216840095, -1.4987921435235554, -0.8066030673898453, 1.092576357472236, -0.20879159797990765, 0.22369880671706246]}],\n",
       "                        {\"barmode\": \"overlay\", \"legend\": {\"bgcolor\": \"#F5F6F9\", \"font\": {\"color\": \"#4D5663\"}}, \"paper_bgcolor\": \"#F5F6F9\", \"plot_bgcolor\": \"#F5F6F9\", \"template\": {\"data\": {\"bar\": [{\"error_x\": {\"color\": \"#2a3f5f\"}, \"error_y\": {\"color\": \"#2a3f5f\"}, \"marker\": {\"line\": {\"color\": \"#E5ECF6\", \"width\": 0.5}}, \"type\": \"bar\"}], \"barpolar\": [{\"marker\": {\"line\": {\"color\": \"#E5ECF6\", \"width\": 0.5}}, \"type\": \"barpolar\"}], \"carpet\": [{\"aaxis\": {\"endlinecolor\": \"#2a3f5f\", \"gridcolor\": \"white\", \"linecolor\": \"white\", \"minorgridcolor\": \"white\", \"startlinecolor\": \"#2a3f5f\"}, \"baxis\": {\"endlinecolor\": \"#2a3f5f\", \"gridcolor\": \"white\", \"linecolor\": \"white\", \"minorgridcolor\": \"white\", \"startlinecolor\": \"#2a3f5f\"}, \"type\": \"carpet\"}], \"choropleth\": [{\"colorbar\": {\"outlinewidth\": 0, \"ticks\": \"\"}, \"type\": \"choropleth\"}], \"contour\": [{\"colorbar\": {\"outlinewidth\": 0, \"ticks\": \"\"}, \"colorscale\": [[0.0, \"#0d0887\"], [0.1111111111111111, \"#46039f\"], [0.2222222222222222, \"#7201a8\"], [0.3333333333333333, \"#9c179e\"], [0.4444444444444444, \"#bd3786\"], [0.5555555555555556, \"#d8576b\"], [0.6666666666666666, \"#ed7953\"], [0.7777777777777778, \"#fb9f3a\"], [0.8888888888888888, \"#fdca26\"], [1.0, \"#f0f921\"]], \"type\": \"contour\"}], \"contourcarpet\": [{\"colorbar\": {\"outlinewidth\": 0, \"ticks\": \"\"}, \"type\": \"contourcarpet\"}], \"heatmap\": [{\"colorbar\": {\"outlinewidth\": 0, \"ticks\": \"\"}, \"colorscale\": [[0.0, \"#0d0887\"], [0.1111111111111111, \"#46039f\"], [0.2222222222222222, \"#7201a8\"], [0.3333333333333333, \"#9c179e\"], [0.4444444444444444, \"#bd3786\"], [0.5555555555555556, \"#d8576b\"], [0.6666666666666666, \"#ed7953\"], [0.7777777777777778, \"#fb9f3a\"], [0.8888888888888888, \"#fdca26\"], [1.0, \"#f0f921\"]], \"type\": \"heatmap\"}], \"heatmapgl\": [{\"colorbar\": {\"outlinewidth\": 0, \"ticks\": \"\"}, \"colorscale\": [[0.0, \"#0d0887\"], [0.1111111111111111, \"#46039f\"], [0.2222222222222222, \"#7201a8\"], [0.3333333333333333, \"#9c179e\"], [0.4444444444444444, \"#bd3786\"], [0.5555555555555556, \"#d8576b\"], [0.6666666666666666, \"#ed7953\"], [0.7777777777777778, \"#fb9f3a\"], [0.8888888888888888, \"#fdca26\"], [1.0, \"#f0f921\"]], \"type\": \"heatmapgl\"}], \"histogram\": [{\"marker\": {\"colorbar\": {\"outlinewidth\": 0, \"ticks\": \"\"}}, \"type\": \"histogram\"}], \"histogram2d\": [{\"colorbar\": {\"outlinewidth\": 0, \"ticks\": \"\"}, \"colorscale\": [[0.0, \"#0d0887\"], [0.1111111111111111, \"#46039f\"], [0.2222222222222222, \"#7201a8\"], [0.3333333333333333, \"#9c179e\"], [0.4444444444444444, \"#bd3786\"], [0.5555555555555556, \"#d8576b\"], [0.6666666666666666, \"#ed7953\"], [0.7777777777777778, \"#fb9f3a\"], [0.8888888888888888, \"#fdca26\"], [1.0, \"#f0f921\"]], \"type\": \"histogram2d\"}], \"histogram2dcontour\": [{\"colorbar\": {\"outlinewidth\": 0, \"ticks\": \"\"}, \"colorscale\": [[0.0, \"#0d0887\"], [0.1111111111111111, \"#46039f\"], [0.2222222222222222, \"#7201a8\"], [0.3333333333333333, \"#9c179e\"], [0.4444444444444444, \"#bd3786\"], [0.5555555555555556, \"#d8576b\"], [0.6666666666666666, \"#ed7953\"], [0.7777777777777778, \"#fb9f3a\"], [0.8888888888888888, \"#fdca26\"], [1.0, \"#f0f921\"]], \"type\": \"histogram2dcontour\"}], \"mesh3d\": [{\"colorbar\": {\"outlinewidth\": 0, \"ticks\": \"\"}, \"type\": \"mesh3d\"}], \"parcoords\": [{\"line\": {\"colorbar\": {\"outlinewidth\": 0, \"ticks\": \"\"}}, \"type\": \"parcoords\"}], \"pie\": [{\"automargin\": true, \"type\": \"pie\"}], \"scatter\": [{\"marker\": {\"colorbar\": {\"outlinewidth\": 0, \"ticks\": \"\"}}, \"type\": \"scatter\"}], \"scatter3d\": [{\"line\": {\"colorbar\": {\"outlinewidth\": 0, \"ticks\": \"\"}}, \"marker\": {\"colorbar\": {\"outlinewidth\": 0, \"ticks\": \"\"}}, \"type\": \"scatter3d\"}], \"scattercarpet\": [{\"marker\": {\"colorbar\": {\"outlinewidth\": 0, \"ticks\": \"\"}}, \"type\": \"scattercarpet\"}], \"scattergeo\": [{\"marker\": {\"colorbar\": {\"outlinewidth\": 0, \"ticks\": \"\"}}, \"type\": \"scattergeo\"}], \"scattergl\": [{\"marker\": {\"colorbar\": {\"outlinewidth\": 0, \"ticks\": \"\"}}, \"type\": \"scattergl\"}], \"scattermapbox\": [{\"marker\": {\"colorbar\": {\"outlinewidth\": 0, \"ticks\": \"\"}}, \"type\": \"scattermapbox\"}], \"scatterpolar\": [{\"marker\": {\"colorbar\": {\"outlinewidth\": 0, \"ticks\": \"\"}}, \"type\": \"scatterpolar\"}], \"scatterpolargl\": [{\"marker\": {\"colorbar\": {\"outlinewidth\": 0, \"ticks\": \"\"}}, \"type\": \"scatterpolargl\"}], \"scatterternary\": [{\"marker\": {\"colorbar\": {\"outlinewidth\": 0, \"ticks\": \"\"}}, \"type\": \"scatterternary\"}], \"surface\": [{\"colorbar\": {\"outlinewidth\": 0, \"ticks\": \"\"}, \"colorscale\": [[0.0, \"#0d0887\"], [0.1111111111111111, \"#46039f\"], [0.2222222222222222, \"#7201a8\"], [0.3333333333333333, \"#9c179e\"], [0.4444444444444444, \"#bd3786\"], [0.5555555555555556, \"#d8576b\"], [0.6666666666666666, \"#ed7953\"], [0.7777777777777778, \"#fb9f3a\"], [0.8888888888888888, \"#fdca26\"], [1.0, \"#f0f921\"]], \"type\": \"surface\"}], \"table\": [{\"cells\": {\"fill\": {\"color\": \"#EBF0F8\"}, \"line\": {\"color\": \"white\"}}, \"header\": {\"fill\": {\"color\": \"#C8D4E3\"}, \"line\": {\"color\": \"white\"}}, \"type\": \"table\"}]}, \"layout\": {\"annotationdefaults\": {\"arrowcolor\": \"#2a3f5f\", \"arrowhead\": 0, \"arrowwidth\": 1}, \"coloraxis\": {\"colorbar\": {\"outlinewidth\": 0, \"ticks\": \"\"}}, \"colorscale\": {\"diverging\": [[0, \"#8e0152\"], [0.1, \"#c51b7d\"], [0.2, \"#de77ae\"], [0.3, \"#f1b6da\"], [0.4, \"#fde0ef\"], [0.5, \"#f7f7f7\"], [0.6, \"#e6f5d0\"], [0.7, \"#b8e186\"], [0.8, \"#7fbc41\"], [0.9, \"#4d9221\"], [1, \"#276419\"]], \"sequential\": [[0.0, \"#0d0887\"], [0.1111111111111111, \"#46039f\"], [0.2222222222222222, \"#7201a8\"], [0.3333333333333333, \"#9c179e\"], [0.4444444444444444, \"#bd3786\"], [0.5555555555555556, \"#d8576b\"], [0.6666666666666666, \"#ed7953\"], [0.7777777777777778, \"#fb9f3a\"], [0.8888888888888888, \"#fdca26\"], [1.0, \"#f0f921\"]], \"sequentialminus\": [[0.0, \"#0d0887\"], [0.1111111111111111, \"#46039f\"], [0.2222222222222222, \"#7201a8\"], [0.3333333333333333, \"#9c179e\"], [0.4444444444444444, \"#bd3786\"], [0.5555555555555556, \"#d8576b\"], [0.6666666666666666, \"#ed7953\"], [0.7777777777777778, \"#fb9f3a\"], [0.8888888888888888, \"#fdca26\"], [1.0, \"#f0f921\"]]}, \"colorway\": [\"#636efa\", \"#EF553B\", \"#00cc96\", \"#ab63fa\", \"#FFA15A\", \"#19d3f3\", \"#FF6692\", \"#B6E880\", \"#FF97FF\", \"#FECB52\"], \"font\": {\"color\": \"#2a3f5f\"}, \"geo\": {\"bgcolor\": \"white\", \"lakecolor\": \"white\", \"landcolor\": \"#E5ECF6\", \"showlakes\": true, \"showland\": true, \"subunitcolor\": \"white\"}, \"hoverlabel\": {\"align\": \"left\"}, \"hovermode\": \"closest\", \"mapbox\": {\"style\": \"light\"}, \"paper_bgcolor\": \"white\", \"plot_bgcolor\": \"#E5ECF6\", \"polar\": {\"angularaxis\": {\"gridcolor\": \"white\", \"linecolor\": \"white\", \"ticks\": \"\"}, \"bgcolor\": \"#E5ECF6\", \"radialaxis\": {\"gridcolor\": \"white\", \"linecolor\": \"white\", \"ticks\": \"\"}}, \"scene\": {\"xaxis\": {\"backgroundcolor\": \"#E5ECF6\", \"gridcolor\": \"white\", \"gridwidth\": 2, \"linecolor\": \"white\", \"showbackground\": true, \"ticks\": \"\", \"zerolinecolor\": \"white\"}, \"yaxis\": {\"backgroundcolor\": \"#E5ECF6\", \"gridcolor\": \"white\", \"gridwidth\": 2, \"linecolor\": \"white\", \"showbackground\": true, \"ticks\": \"\", \"zerolinecolor\": \"white\"}, \"zaxis\": {\"backgroundcolor\": \"#E5ECF6\", \"gridcolor\": \"white\", \"gridwidth\": 2, \"linecolor\": \"white\", \"showbackground\": true, \"ticks\": \"\", \"zerolinecolor\": \"white\"}}, \"shapedefaults\": {\"line\": {\"color\": \"#2a3f5f\"}}, \"ternary\": {\"aaxis\": {\"gridcolor\": \"white\", \"linecolor\": \"white\", \"ticks\": \"\"}, \"baxis\": {\"gridcolor\": \"white\", \"linecolor\": \"white\", \"ticks\": \"\"}, \"bgcolor\": \"#E5ECF6\", \"caxis\": {\"gridcolor\": \"white\", \"linecolor\": \"white\", \"ticks\": \"\"}}, \"title\": {\"x\": 0.05}, \"xaxis\": {\"automargin\": true, \"gridcolor\": \"white\", \"linecolor\": \"white\", \"ticks\": \"\", \"title\": {\"standoff\": 15}, \"zerolinecolor\": \"white\", \"zerolinewidth\": 2}, \"yaxis\": {\"automargin\": true, \"gridcolor\": \"white\", \"linecolor\": \"white\", \"ticks\": \"\", \"title\": {\"standoff\": 15}, \"zerolinecolor\": \"white\", \"zerolinewidth\": 2}}}, \"title\": {\"font\": {\"color\": \"#4D5663\"}}, \"xaxis\": {\"gridcolor\": \"#E1E5ED\", \"showgrid\": true, \"tickfont\": {\"color\": \"#4D5663\"}, \"title\": {\"font\": {\"color\": \"#4D5663\"}, \"text\": \"\"}, \"zerolinecolor\": \"#E1E5ED\"}, \"yaxis\": {\"gridcolor\": \"#E1E5ED\", \"showgrid\": true, \"tickfont\": {\"color\": \"#4D5663\"}, \"title\": {\"font\": {\"color\": \"#4D5663\"}, \"text\": \"\"}, \"zerolinecolor\": \"#E1E5ED\"}},\n",
       "                        {\"showLink\": true, \"linkText\": \"Export to plot.ly\", \"plotlyServerURL\": \"https://plot.ly\", \"responsive\": true}\n",
       "                    ).then(function(){\n",
       "                            \n",
       "var gd = document.getElementById('b36dbaa8-1937-4194-b3ec-e68b46ae7826');\n",
       "var x = new MutationObserver(function (mutations, observer) {{\n",
       "        var display = window.getComputedStyle(gd).display;\n",
       "        if (!display || display === 'none') {{\n",
       "            console.log([gd, 'removed!']);\n",
       "            Plotly.purge(gd);\n",
       "            observer.disconnect();\n",
       "        }}\n",
       "}});\n",
       "\n",
       "// Listen for the removal of the full notebook cells\n",
       "var notebookContainer = gd.closest('#notebook-container');\n",
       "if (notebookContainer) {{\n",
       "    x.observe(notebookContainer, {childList: true});\n",
       "}}\n",
       "\n",
       "// Listen for the clearing of the current output cell\n",
       "var outputEl = gd.closest('.output');\n",
       "if (outputEl) {{\n",
       "    x.observe(outputEl, {childList: true});\n",
       "}}\n",
       "\n",
       "                        })\n",
       "                };\n",
       "                });\n",
       "            </script>\n",
       "        </div>"
      ]
     },
     "metadata": {},
     "output_type": "display_data"
    }
   ],
   "source": [
    "df['A'].iplot(kind='hist',bins=25)"
   ]
  },
  {
   "cell_type": "code",
   "execution_count": 21,
   "metadata": {},
   "outputs": [
    {
     "data": {
      "application/vnd.plotly.v1+json": {
       "config": {
        "linkText": "Export to plot.ly",
        "plotlyServerURL": "https://plot.ly",
        "showLink": true
       },
       "data": [
        {
         "marker": {
          "color": [
           "rgb(255, 153, 51)",
           "rgb(55, 128, 191)",
           "rgb(50, 171, 96)",
           "rgb(128, 0, 128)",
           "rgb(219, 64, 82)",
           "rgb(0, 128, 128)",
           "rgb(255, 255, 51)",
           "rgb(128, 128, 0)",
           "rgb(251, 128, 114)",
           "rgb(128, 177, 211)"
          ],
          "line": {
           "width": 1.3
          },
          "size": [
           65,
           84,
           33,
           88,
           59,
           68,
           92,
           76,
           86,
           77,
           101,
           21,
           106,
           42,
           53,
           55,
           84,
           68,
           26,
           74,
           97,
           100,
           79,
           99,
           56,
           51,
           55,
           93,
           38,
           59,
           42,
           58,
           57,
           40,
           55,
           37,
           70,
           51,
           68,
           44,
           105,
           96,
           40,
           66,
           88,
           51,
           65,
           45,
           74,
           108,
           47,
           52,
           41,
           52,
           67,
           31,
           89,
           72,
           77,
           76,
           72,
           41,
           51,
           73,
           61,
           77,
           54,
           40,
           32,
           88,
           47,
           12,
           85,
           53,
           43,
           22,
           12,
           49,
           59,
           42,
           111,
           112,
           22,
           76,
           72,
           91,
           60,
           81,
           66,
           41,
           74,
           77,
           71,
           33,
           35,
           68,
           60,
           75,
           97,
           60
          ],
          "symbol": "circle"
         },
         "mode": "markers",
         "text": "",
         "type": "scatter",
         "x": [
          0.8425800230056536,
          0.8228729931602605,
          0.45302144958655327,
          -0.15464636949214794,
          -0.3344287501808655,
          -0.6155627897642467,
          -0.8511015145286904,
          -0.22416144352609133,
          0.6602592697073943,
          1.6688045668274765,
          -1.1078003079394538,
          0.5205314770180932,
          -0.3363048584250365,
          0.40602399155108443,
          0.19011255413451617,
          2.4654201650905123,
          0.32154357233462094,
          -0.8213877114714514,
          0.5107565293763973,
          -1.3839586003113933,
          -1.0639421497820791,
          0.6849377969963686,
          -1.1333905961531854,
          -0.11635118566959907,
          -0.37936734911283415,
          0.4456028260228318,
          1.9327013265029618,
          -0.024565439083912236,
          0.7526701692658325,
          -0.5662253860236415,
          0.8821763247769187,
          0.2805875093621268,
          -0.9788739014698855,
          0.3036651709603921,
          0.5396091606224961,
          0.6665514304418824,
          0.5352043387203083,
          1.2129258711535873,
          0.7240042780223538,
          -1.0098975715722636,
          -0.16289919477076262,
          -0.8154323532297832,
          -0.3977749740844525,
          0.7845287767499552,
          -0.5823264324213028,
          1.7668402955824636,
          -0.5784049432184615,
          -0.11684278517136609,
          0.2951817195596696,
          -1.9513260315146401,
          -0.629934701459229,
          0.045131028591535005,
          -0.8402131275960164,
          0.5006646482393786,
          1.7927717048719476,
          -0.6399442017860044,
          1.7017414053525006,
          0.5571691974779828,
          -1.0823590214650136,
          -1.6669125591790803,
          -1.1665984022067872,
          1.5447897360165155,
          0.49559664950232923,
          -0.7110348817342973,
          0.048815188290864814,
          -0.07622169384583687,
          -0.9396682102311819,
          0.9048619394581252,
          0.3236739195518902,
          0.9322713987437912,
          -0.3677385853043386,
          -1.0783725873956171,
          1.2426757883845556,
          1.7282300608014385,
          0.5351211848501362,
          0.7207300381574594,
          -0.6571632159603973,
          0.3005500199868126,
          -2.2034542653997344,
          -2.261749854662406,
          -0.4732251632090071,
          -0.5134968603809374,
          0.6522671412507076,
          -0.315077705434412,
          0.675942762735105,
          1.5233300660474078,
          -0.954080252681867,
          0.9823848551740675,
          -1.635832764245846,
          0.2167668557418693,
          -0.7951469007973236,
          1.1919912435334072,
          1.2511730130201058,
          -1.3838268497648982,
          -0.5664230216840095,
          -1.4987921435235554,
          -0.8066030673898453,
          1.092576357472236,
          -0.20879159797990765,
          0.22369880671706246
         ],
         "y": [
          0.09759749197282581,
          0.6137315514697458,
          -0.2854572156585551,
          0.12142749701404602,
          -0.30538017910705795,
          0.9653249896933419,
          0.30763722494900336,
          -1.1804135293053442,
          2.0108948250826093,
          2.3281200521482357,
          0.8375326746814203,
          -1.1552593469105479,
          0.8209178718438593,
          -2.1722914069362815,
          -0.19986657830185683,
          -0.7093964594384959,
          -0.37191912168682706,
          1.065137719776101,
          2.0031885770388995,
          0.43456347993737837,
          0.527346750628352,
          -1.2824861366308757,
          0.03924695575136877,
          -0.7168935257821382,
          -0.30359036230906783,
          -0.6962633344761804,
          0.4211274074392302,
          1.6871651877846425,
          -0.039050782188639416,
          2.072099683982022,
          0.5204468688348854,
          1.0164792926890849,
          -0.7316803836275722,
          -0.3898451347452699,
          0.6294922442320586,
          1.183797549303694,
          -0.921297878278392,
          0.222282348897835,
          0.9547244715510609,
          -0.8592356555646143,
          -0.8440219747360963,
          -1.4596730660029675,
          -0.3579668388348763,
          -1.4899713082696882,
          -2.3650778604752984,
          1.0468466219410333,
          0.9046954089969772,
          1.253496239045731,
          0.23066745133877534,
          0.42399151575975924,
          -0.5724448167613085,
          -0.0312127195328586,
          0.44684169836912685,
          1.661791445451631,
          0.39485216421711317,
          -0.9018174786830869,
          -0.2663074862302335,
          1.2333682595654787,
          0.13796620315491115,
          0.0057041245113695635,
          0.412917020734218,
          0.23865432191821495,
          0.5065339609050801,
          -0.6925694953378969,
          -0.026446794780587146,
          -0.06475640554797196,
          -0.3446106690484418,
          0.5569329770877339,
          -0.1738856363317943,
          1.4132900725586053,
          0.5334262689843003,
          -0.6694902766680653,
          -0.37074495041061745,
          -0.17119048891228544,
          -1.5647514632194899,
          0.004023378941902747,
          0.8810753994171026,
          -1.2184413372674996,
          -2.1481159031421484,
          -1.4962719748944955,
          0.38038407459807444,
          0.2765898772414553,
          -0.11068749614747805,
          -1.047817447159204,
          -0.2100501154288501,
          1.0337835973410112,
          0.7557620116787,
          -1.0507032147285573,
          -0.4880355055022291,
          2.187073071990288,
          -1.6687730112146275,
          0.5285813339439062,
          0.21622635990512282,
          0.5654349024962452,
          0.7680214651948842,
          1.124622659275688,
          -0.024373578774586648,
          -0.7540674874965095,
          1.3378437781960533,
          0.5837528107495575
         ]
        }
       ],
       "layout": {
        "legend": {
         "bgcolor": "#F5F6F9",
         "font": {
          "color": "#4D5663"
         }
        },
        "paper_bgcolor": "#F5F6F9",
        "plot_bgcolor": "#F5F6F9",
        "template": {
         "data": {
          "bar": [
           {
            "error_x": {
             "color": "#2a3f5f"
            },
            "error_y": {
             "color": "#2a3f5f"
            },
            "marker": {
             "line": {
              "color": "#E5ECF6",
              "width": 0.5
             }
            },
            "type": "bar"
           }
          ],
          "barpolar": [
           {
            "marker": {
             "line": {
              "color": "#E5ECF6",
              "width": 0.5
             }
            },
            "type": "barpolar"
           }
          ],
          "carpet": [
           {
            "aaxis": {
             "endlinecolor": "#2a3f5f",
             "gridcolor": "white",
             "linecolor": "white",
             "minorgridcolor": "white",
             "startlinecolor": "#2a3f5f"
            },
            "baxis": {
             "endlinecolor": "#2a3f5f",
             "gridcolor": "white",
             "linecolor": "white",
             "minorgridcolor": "white",
             "startlinecolor": "#2a3f5f"
            },
            "type": "carpet"
           }
          ],
          "choropleth": [
           {
            "colorbar": {
             "outlinewidth": 0,
             "ticks": ""
            },
            "type": "choropleth"
           }
          ],
          "contour": [
           {
            "colorbar": {
             "outlinewidth": 0,
             "ticks": ""
            },
            "colorscale": [
             [
              0,
              "#0d0887"
             ],
             [
              0.1111111111111111,
              "#46039f"
             ],
             [
              0.2222222222222222,
              "#7201a8"
             ],
             [
              0.3333333333333333,
              "#9c179e"
             ],
             [
              0.4444444444444444,
              "#bd3786"
             ],
             [
              0.5555555555555556,
              "#d8576b"
             ],
             [
              0.6666666666666666,
              "#ed7953"
             ],
             [
              0.7777777777777778,
              "#fb9f3a"
             ],
             [
              0.8888888888888888,
              "#fdca26"
             ],
             [
              1,
              "#f0f921"
             ]
            ],
            "type": "contour"
           }
          ],
          "contourcarpet": [
           {
            "colorbar": {
             "outlinewidth": 0,
             "ticks": ""
            },
            "type": "contourcarpet"
           }
          ],
          "heatmap": [
           {
            "colorbar": {
             "outlinewidth": 0,
             "ticks": ""
            },
            "colorscale": [
             [
              0,
              "#0d0887"
             ],
             [
              0.1111111111111111,
              "#46039f"
             ],
             [
              0.2222222222222222,
              "#7201a8"
             ],
             [
              0.3333333333333333,
              "#9c179e"
             ],
             [
              0.4444444444444444,
              "#bd3786"
             ],
             [
              0.5555555555555556,
              "#d8576b"
             ],
             [
              0.6666666666666666,
              "#ed7953"
             ],
             [
              0.7777777777777778,
              "#fb9f3a"
             ],
             [
              0.8888888888888888,
              "#fdca26"
             ],
             [
              1,
              "#f0f921"
             ]
            ],
            "type": "heatmap"
           }
          ],
          "heatmapgl": [
           {
            "colorbar": {
             "outlinewidth": 0,
             "ticks": ""
            },
            "colorscale": [
             [
              0,
              "#0d0887"
             ],
             [
              0.1111111111111111,
              "#46039f"
             ],
             [
              0.2222222222222222,
              "#7201a8"
             ],
             [
              0.3333333333333333,
              "#9c179e"
             ],
             [
              0.4444444444444444,
              "#bd3786"
             ],
             [
              0.5555555555555556,
              "#d8576b"
             ],
             [
              0.6666666666666666,
              "#ed7953"
             ],
             [
              0.7777777777777778,
              "#fb9f3a"
             ],
             [
              0.8888888888888888,
              "#fdca26"
             ],
             [
              1,
              "#f0f921"
             ]
            ],
            "type": "heatmapgl"
           }
          ],
          "histogram": [
           {
            "marker": {
             "colorbar": {
              "outlinewidth": 0,
              "ticks": ""
             }
            },
            "type": "histogram"
           }
          ],
          "histogram2d": [
           {
            "colorbar": {
             "outlinewidth": 0,
             "ticks": ""
            },
            "colorscale": [
             [
              0,
              "#0d0887"
             ],
             [
              0.1111111111111111,
              "#46039f"
             ],
             [
              0.2222222222222222,
              "#7201a8"
             ],
             [
              0.3333333333333333,
              "#9c179e"
             ],
             [
              0.4444444444444444,
              "#bd3786"
             ],
             [
              0.5555555555555556,
              "#d8576b"
             ],
             [
              0.6666666666666666,
              "#ed7953"
             ],
             [
              0.7777777777777778,
              "#fb9f3a"
             ],
             [
              0.8888888888888888,
              "#fdca26"
             ],
             [
              1,
              "#f0f921"
             ]
            ],
            "type": "histogram2d"
           }
          ],
          "histogram2dcontour": [
           {
            "colorbar": {
             "outlinewidth": 0,
             "ticks": ""
            },
            "colorscale": [
             [
              0,
              "#0d0887"
             ],
             [
              0.1111111111111111,
              "#46039f"
             ],
             [
              0.2222222222222222,
              "#7201a8"
             ],
             [
              0.3333333333333333,
              "#9c179e"
             ],
             [
              0.4444444444444444,
              "#bd3786"
             ],
             [
              0.5555555555555556,
              "#d8576b"
             ],
             [
              0.6666666666666666,
              "#ed7953"
             ],
             [
              0.7777777777777778,
              "#fb9f3a"
             ],
             [
              0.8888888888888888,
              "#fdca26"
             ],
             [
              1,
              "#f0f921"
             ]
            ],
            "type": "histogram2dcontour"
           }
          ],
          "mesh3d": [
           {
            "colorbar": {
             "outlinewidth": 0,
             "ticks": ""
            },
            "type": "mesh3d"
           }
          ],
          "parcoords": [
           {
            "line": {
             "colorbar": {
              "outlinewidth": 0,
              "ticks": ""
             }
            },
            "type": "parcoords"
           }
          ],
          "pie": [
           {
            "automargin": true,
            "type": "pie"
           }
          ],
          "scatter": [
           {
            "marker": {
             "colorbar": {
              "outlinewidth": 0,
              "ticks": ""
             }
            },
            "type": "scatter"
           }
          ],
          "scatter3d": [
           {
            "line": {
             "colorbar": {
              "outlinewidth": 0,
              "ticks": ""
             }
            },
            "marker": {
             "colorbar": {
              "outlinewidth": 0,
              "ticks": ""
             }
            },
            "type": "scatter3d"
           }
          ],
          "scattercarpet": [
           {
            "marker": {
             "colorbar": {
              "outlinewidth": 0,
              "ticks": ""
             }
            },
            "type": "scattercarpet"
           }
          ],
          "scattergeo": [
           {
            "marker": {
             "colorbar": {
              "outlinewidth": 0,
              "ticks": ""
             }
            },
            "type": "scattergeo"
           }
          ],
          "scattergl": [
           {
            "marker": {
             "colorbar": {
              "outlinewidth": 0,
              "ticks": ""
             }
            },
            "type": "scattergl"
           }
          ],
          "scattermapbox": [
           {
            "marker": {
             "colorbar": {
              "outlinewidth": 0,
              "ticks": ""
             }
            },
            "type": "scattermapbox"
           }
          ],
          "scatterpolar": [
           {
            "marker": {
             "colorbar": {
              "outlinewidth": 0,
              "ticks": ""
             }
            },
            "type": "scatterpolar"
           }
          ],
          "scatterpolargl": [
           {
            "marker": {
             "colorbar": {
              "outlinewidth": 0,
              "ticks": ""
             }
            },
            "type": "scatterpolargl"
           }
          ],
          "scatterternary": [
           {
            "marker": {
             "colorbar": {
              "outlinewidth": 0,
              "ticks": ""
             }
            },
            "type": "scatterternary"
           }
          ],
          "surface": [
           {
            "colorbar": {
             "outlinewidth": 0,
             "ticks": ""
            },
            "colorscale": [
             [
              0,
              "#0d0887"
             ],
             [
              0.1111111111111111,
              "#46039f"
             ],
             [
              0.2222222222222222,
              "#7201a8"
             ],
             [
              0.3333333333333333,
              "#9c179e"
             ],
             [
              0.4444444444444444,
              "#bd3786"
             ],
             [
              0.5555555555555556,
              "#d8576b"
             ],
             [
              0.6666666666666666,
              "#ed7953"
             ],
             [
              0.7777777777777778,
              "#fb9f3a"
             ],
             [
              0.8888888888888888,
              "#fdca26"
             ],
             [
              1,
              "#f0f921"
             ]
            ],
            "type": "surface"
           }
          ],
          "table": [
           {
            "cells": {
             "fill": {
              "color": "#EBF0F8"
             },
             "line": {
              "color": "white"
             }
            },
            "header": {
             "fill": {
              "color": "#C8D4E3"
             },
             "line": {
              "color": "white"
             }
            },
            "type": "table"
           }
          ]
         },
         "layout": {
          "annotationdefaults": {
           "arrowcolor": "#2a3f5f",
           "arrowhead": 0,
           "arrowwidth": 1
          },
          "coloraxis": {
           "colorbar": {
            "outlinewidth": 0,
            "ticks": ""
           }
          },
          "colorscale": {
           "diverging": [
            [
             0,
             "#8e0152"
            ],
            [
             0.1,
             "#c51b7d"
            ],
            [
             0.2,
             "#de77ae"
            ],
            [
             0.3,
             "#f1b6da"
            ],
            [
             0.4,
             "#fde0ef"
            ],
            [
             0.5,
             "#f7f7f7"
            ],
            [
             0.6,
             "#e6f5d0"
            ],
            [
             0.7,
             "#b8e186"
            ],
            [
             0.8,
             "#7fbc41"
            ],
            [
             0.9,
             "#4d9221"
            ],
            [
             1,
             "#276419"
            ]
           ],
           "sequential": [
            [
             0,
             "#0d0887"
            ],
            [
             0.1111111111111111,
             "#46039f"
            ],
            [
             0.2222222222222222,
             "#7201a8"
            ],
            [
             0.3333333333333333,
             "#9c179e"
            ],
            [
             0.4444444444444444,
             "#bd3786"
            ],
            [
             0.5555555555555556,
             "#d8576b"
            ],
            [
             0.6666666666666666,
             "#ed7953"
            ],
            [
             0.7777777777777778,
             "#fb9f3a"
            ],
            [
             0.8888888888888888,
             "#fdca26"
            ],
            [
             1,
             "#f0f921"
            ]
           ],
           "sequentialminus": [
            [
             0,
             "#0d0887"
            ],
            [
             0.1111111111111111,
             "#46039f"
            ],
            [
             0.2222222222222222,
             "#7201a8"
            ],
            [
             0.3333333333333333,
             "#9c179e"
            ],
            [
             0.4444444444444444,
             "#bd3786"
            ],
            [
             0.5555555555555556,
             "#d8576b"
            ],
            [
             0.6666666666666666,
             "#ed7953"
            ],
            [
             0.7777777777777778,
             "#fb9f3a"
            ],
            [
             0.8888888888888888,
             "#fdca26"
            ],
            [
             1,
             "#f0f921"
            ]
           ]
          },
          "colorway": [
           "#636efa",
           "#EF553B",
           "#00cc96",
           "#ab63fa",
           "#FFA15A",
           "#19d3f3",
           "#FF6692",
           "#B6E880",
           "#FF97FF",
           "#FECB52"
          ],
          "font": {
           "color": "#2a3f5f"
          },
          "geo": {
           "bgcolor": "white",
           "lakecolor": "white",
           "landcolor": "#E5ECF6",
           "showlakes": true,
           "showland": true,
           "subunitcolor": "white"
          },
          "hoverlabel": {
           "align": "left"
          },
          "hovermode": "closest",
          "mapbox": {
           "style": "light"
          },
          "paper_bgcolor": "white",
          "plot_bgcolor": "#E5ECF6",
          "polar": {
           "angularaxis": {
            "gridcolor": "white",
            "linecolor": "white",
            "ticks": ""
           },
           "bgcolor": "#E5ECF6",
           "radialaxis": {
            "gridcolor": "white",
            "linecolor": "white",
            "ticks": ""
           }
          },
          "scene": {
           "xaxis": {
            "backgroundcolor": "#E5ECF6",
            "gridcolor": "white",
            "gridwidth": 2,
            "linecolor": "white",
            "showbackground": true,
            "ticks": "",
            "zerolinecolor": "white"
           },
           "yaxis": {
            "backgroundcolor": "#E5ECF6",
            "gridcolor": "white",
            "gridwidth": 2,
            "linecolor": "white",
            "showbackground": true,
            "ticks": "",
            "zerolinecolor": "white"
           },
           "zaxis": {
            "backgroundcolor": "#E5ECF6",
            "gridcolor": "white",
            "gridwidth": 2,
            "linecolor": "white",
            "showbackground": true,
            "ticks": "",
            "zerolinecolor": "white"
           }
          },
          "shapedefaults": {
           "line": {
            "color": "#2a3f5f"
           }
          },
          "ternary": {
           "aaxis": {
            "gridcolor": "white",
            "linecolor": "white",
            "ticks": ""
           },
           "baxis": {
            "gridcolor": "white",
            "linecolor": "white",
            "ticks": ""
           },
           "bgcolor": "#E5ECF6",
           "caxis": {
            "gridcolor": "white",
            "linecolor": "white",
            "ticks": ""
           }
          },
          "title": {
           "x": 0.05
          },
          "xaxis": {
           "automargin": true,
           "gridcolor": "white",
           "linecolor": "white",
           "ticks": "",
           "title": {
            "standoff": 15
           },
           "zerolinecolor": "white",
           "zerolinewidth": 2
          },
          "yaxis": {
           "automargin": true,
           "gridcolor": "white",
           "linecolor": "white",
           "ticks": "",
           "title": {
            "standoff": 15
           },
           "zerolinecolor": "white",
           "zerolinewidth": 2
          }
         }
        },
        "title": {
         "font": {
          "color": "#4D5663"
         }
        },
        "xaxis": {
         "gridcolor": "#E1E5ED",
         "showgrid": true,
         "tickfont": {
          "color": "#4D5663"
         },
         "title": {
          "font": {
           "color": "#4D5663"
          },
          "text": ""
         },
         "zerolinecolor": "#E1E5ED"
        },
        "yaxis": {
         "gridcolor": "#E1E5ED",
         "showgrid": true,
         "tickfont": {
          "color": "#4D5663"
         },
         "title": {
          "font": {
           "color": "#4D5663"
          },
          "text": ""
         },
         "zerolinecolor": "#E1E5ED"
        }
       }
      },
      "text/html": [
       "<div>\n",
       "        \n",
       "        \n",
       "            <div id=\"06c510f1-11e7-4de7-a929-8e32dc1de577\" class=\"plotly-graph-div\" style=\"height:525px; width:100%;\"></div>\n",
       "            <script type=\"text/javascript\">\n",
       "                require([\"plotly\"], function(Plotly) {\n",
       "                    window.PLOTLYENV=window.PLOTLYENV || {};\n",
       "                    window.PLOTLYENV.BASE_URL='https://plot.ly';\n",
       "                    \n",
       "                if (document.getElementById(\"06c510f1-11e7-4de7-a929-8e32dc1de577\")) {\n",
       "                    Plotly.newPlot(\n",
       "                        '06c510f1-11e7-4de7-a929-8e32dc1de577',\n",
       "                        [{\"marker\": {\"color\": [\"rgb(255, 153, 51)\", \"rgb(55, 128, 191)\", \"rgb(50, 171, 96)\", \"rgb(128, 0, 128)\", \"rgb(219, 64, 82)\", \"rgb(0, 128, 128)\", \"rgb(255, 255, 51)\", \"rgb(128, 128, 0)\", \"rgb(251, 128, 114)\", \"rgb(128, 177, 211)\"], \"line\": {\"width\": 1.3}, \"size\": [65, 84, 33, 88, 59, 68, 92, 76, 86, 77, 101, 21, 106, 42, 53, 55, 84, 68, 26, 74, 97, 100, 79, 99, 56, 51, 55, 93, 38, 59, 42, 58, 57, 40, 55, 37, 70, 51, 68, 44, 105, 96, 40, 66, 88, 51, 65, 45, 74, 108, 47, 52, 41, 52, 67, 31, 89, 72, 77, 76, 72, 41, 51, 73, 61, 77, 54, 40, 32, 88, 47, 12, 85, 53, 43, 22, 12, 49, 59, 42, 111, 112, 22, 76, 72, 91, 60, 81, 66, 41, 74, 77, 71, 33, 35, 68, 60, 75, 97, 60], \"symbol\": \"circle\"}, \"mode\": \"markers\", \"text\": \"\", \"type\": \"scatter\", \"x\": [0.8425800230056536, 0.8228729931602605, 0.45302144958655327, -0.15464636949214794, -0.3344287501808655, -0.6155627897642467, -0.8511015145286904, -0.22416144352609133, 0.6602592697073943, 1.6688045668274765, -1.1078003079394538, 0.5205314770180932, -0.3363048584250365, 0.40602399155108443, 0.19011255413451617, 2.4654201650905123, 0.32154357233462094, -0.8213877114714514, 0.5107565293763973, -1.3839586003113933, -1.0639421497820791, 0.6849377969963686, -1.1333905961531854, -0.11635118566959907, -0.37936734911283415, 0.4456028260228318, 1.9327013265029618, -0.024565439083912236, 0.7526701692658325, -0.5662253860236415, 0.8821763247769187, 0.2805875093621268, -0.9788739014698855, 0.3036651709603921, 0.5396091606224961, 0.6665514304418824, 0.5352043387203083, 1.2129258711535873, 0.7240042780223538, -1.0098975715722636, -0.16289919477076262, -0.8154323532297832, -0.3977749740844525, 0.7845287767499552, -0.5823264324213028, 1.7668402955824636, -0.5784049432184615, -0.11684278517136609, 0.2951817195596696, -1.9513260315146401, -0.629934701459229, 0.045131028591535005, -0.8402131275960164, 0.5006646482393786, 1.7927717048719476, -0.6399442017860044, 1.7017414053525006, 0.5571691974779828, -1.0823590214650136, -1.6669125591790803, -1.1665984022067872, 1.5447897360165155, 0.49559664950232923, -0.7110348817342973, 0.048815188290864814, -0.07622169384583687, -0.9396682102311819, 0.9048619394581252, 0.3236739195518902, 0.9322713987437912, -0.3677385853043386, -1.0783725873956171, 1.2426757883845556, 1.7282300608014385, 0.5351211848501362, 0.7207300381574594, -0.6571632159603973, 0.3005500199868126, -2.2034542653997344, -2.261749854662406, -0.4732251632090071, -0.5134968603809374, 0.6522671412507076, -0.315077705434412, 0.675942762735105, 1.5233300660474078, -0.954080252681867, 0.9823848551740675, -1.635832764245846, 0.2167668557418693, -0.7951469007973236, 1.1919912435334072, 1.2511730130201058, -1.3838268497648982, -0.5664230216840095, -1.4987921435235554, -0.8066030673898453, 1.092576357472236, -0.20879159797990765, 0.22369880671706246], \"y\": [0.09759749197282581, 0.6137315514697458, -0.2854572156585551, 0.12142749701404602, -0.30538017910705795, 0.9653249896933419, 0.30763722494900336, -1.1804135293053442, 2.0108948250826093, 2.3281200521482357, 0.8375326746814203, -1.1552593469105479, 0.8209178718438593, -2.1722914069362815, -0.19986657830185683, -0.7093964594384959, -0.37191912168682706, 1.065137719776101, 2.0031885770388995, 0.43456347993737837, 0.527346750628352, -1.2824861366308757, 0.03924695575136877, -0.7168935257821382, -0.30359036230906783, -0.6962633344761804, 0.4211274074392302, 1.6871651877846425, -0.039050782188639416, 2.072099683982022, 0.5204468688348854, 1.0164792926890849, -0.7316803836275722, -0.3898451347452699, 0.6294922442320586, 1.183797549303694, -0.921297878278392, 0.222282348897835, 0.9547244715510609, -0.8592356555646143, -0.8440219747360963, -1.4596730660029675, -0.3579668388348763, -1.4899713082696882, -2.3650778604752984, 1.0468466219410333, 0.9046954089969772, 1.253496239045731, 0.23066745133877534, 0.42399151575975924, -0.5724448167613085, -0.0312127195328586, 0.44684169836912685, 1.661791445451631, 0.39485216421711317, -0.9018174786830869, -0.2663074862302335, 1.2333682595654787, 0.13796620315491115, 0.0057041245113695635, 0.412917020734218, 0.23865432191821495, 0.5065339609050801, -0.6925694953378969, -0.026446794780587146, -0.06475640554797196, -0.3446106690484418, 0.5569329770877339, -0.1738856363317943, 1.4132900725586053, 0.5334262689843003, -0.6694902766680653, -0.37074495041061745, -0.17119048891228544, -1.5647514632194899, 0.004023378941902747, 0.8810753994171026, -1.2184413372674996, -2.1481159031421484, -1.4962719748944955, 0.38038407459807444, 0.2765898772414553, -0.11068749614747805, -1.047817447159204, -0.2100501154288501, 1.0337835973410112, 0.7557620116787, -1.0507032147285573, -0.4880355055022291, 2.187073071990288, -1.6687730112146275, 0.5285813339439062, 0.21622635990512282, 0.5654349024962452, 0.7680214651948842, 1.124622659275688, -0.024373578774586648, -0.7540674874965095, 1.3378437781960533, 0.5837528107495575]}],\n",
       "                        {\"legend\": {\"bgcolor\": \"#F5F6F9\", \"font\": {\"color\": \"#4D5663\"}}, \"paper_bgcolor\": \"#F5F6F9\", \"plot_bgcolor\": \"#F5F6F9\", \"template\": {\"data\": {\"bar\": [{\"error_x\": {\"color\": \"#2a3f5f\"}, \"error_y\": {\"color\": \"#2a3f5f\"}, \"marker\": {\"line\": {\"color\": \"#E5ECF6\", \"width\": 0.5}}, \"type\": \"bar\"}], \"barpolar\": [{\"marker\": {\"line\": {\"color\": \"#E5ECF6\", \"width\": 0.5}}, \"type\": \"barpolar\"}], \"carpet\": [{\"aaxis\": {\"endlinecolor\": \"#2a3f5f\", \"gridcolor\": \"white\", \"linecolor\": \"white\", \"minorgridcolor\": \"white\", \"startlinecolor\": \"#2a3f5f\"}, \"baxis\": {\"endlinecolor\": \"#2a3f5f\", \"gridcolor\": \"white\", \"linecolor\": \"white\", \"minorgridcolor\": \"white\", \"startlinecolor\": \"#2a3f5f\"}, \"type\": \"carpet\"}], \"choropleth\": [{\"colorbar\": {\"outlinewidth\": 0, \"ticks\": \"\"}, \"type\": \"choropleth\"}], \"contour\": [{\"colorbar\": {\"outlinewidth\": 0, \"ticks\": \"\"}, \"colorscale\": [[0.0, \"#0d0887\"], [0.1111111111111111, \"#46039f\"], [0.2222222222222222, \"#7201a8\"], [0.3333333333333333, \"#9c179e\"], [0.4444444444444444, \"#bd3786\"], [0.5555555555555556, \"#d8576b\"], [0.6666666666666666, \"#ed7953\"], [0.7777777777777778, \"#fb9f3a\"], [0.8888888888888888, \"#fdca26\"], [1.0, \"#f0f921\"]], \"type\": \"contour\"}], \"contourcarpet\": [{\"colorbar\": {\"outlinewidth\": 0, \"ticks\": \"\"}, \"type\": \"contourcarpet\"}], \"heatmap\": [{\"colorbar\": {\"outlinewidth\": 0, \"ticks\": \"\"}, \"colorscale\": [[0.0, \"#0d0887\"], [0.1111111111111111, \"#46039f\"], [0.2222222222222222, \"#7201a8\"], [0.3333333333333333, \"#9c179e\"], [0.4444444444444444, \"#bd3786\"], [0.5555555555555556, \"#d8576b\"], [0.6666666666666666, \"#ed7953\"], [0.7777777777777778, \"#fb9f3a\"], [0.8888888888888888, \"#fdca26\"], [1.0, \"#f0f921\"]], \"type\": \"heatmap\"}], \"heatmapgl\": [{\"colorbar\": {\"outlinewidth\": 0, \"ticks\": \"\"}, \"colorscale\": [[0.0, \"#0d0887\"], [0.1111111111111111, \"#46039f\"], [0.2222222222222222, \"#7201a8\"], [0.3333333333333333, \"#9c179e\"], [0.4444444444444444, \"#bd3786\"], [0.5555555555555556, \"#d8576b\"], [0.6666666666666666, \"#ed7953\"], [0.7777777777777778, \"#fb9f3a\"], [0.8888888888888888, \"#fdca26\"], [1.0, \"#f0f921\"]], \"type\": \"heatmapgl\"}], \"histogram\": [{\"marker\": {\"colorbar\": {\"outlinewidth\": 0, \"ticks\": \"\"}}, \"type\": \"histogram\"}], \"histogram2d\": [{\"colorbar\": {\"outlinewidth\": 0, \"ticks\": \"\"}, \"colorscale\": [[0.0, \"#0d0887\"], [0.1111111111111111, \"#46039f\"], [0.2222222222222222, \"#7201a8\"], [0.3333333333333333, \"#9c179e\"], [0.4444444444444444, \"#bd3786\"], [0.5555555555555556, \"#d8576b\"], [0.6666666666666666, \"#ed7953\"], [0.7777777777777778, \"#fb9f3a\"], [0.8888888888888888, \"#fdca26\"], [1.0, \"#f0f921\"]], \"type\": \"histogram2d\"}], \"histogram2dcontour\": [{\"colorbar\": {\"outlinewidth\": 0, \"ticks\": \"\"}, \"colorscale\": [[0.0, \"#0d0887\"], [0.1111111111111111, \"#46039f\"], [0.2222222222222222, \"#7201a8\"], [0.3333333333333333, \"#9c179e\"], [0.4444444444444444, \"#bd3786\"], [0.5555555555555556, \"#d8576b\"], [0.6666666666666666, \"#ed7953\"], [0.7777777777777778, \"#fb9f3a\"], [0.8888888888888888, \"#fdca26\"], [1.0, \"#f0f921\"]], \"type\": \"histogram2dcontour\"}], \"mesh3d\": [{\"colorbar\": {\"outlinewidth\": 0, \"ticks\": \"\"}, \"type\": \"mesh3d\"}], \"parcoords\": [{\"line\": {\"colorbar\": {\"outlinewidth\": 0, \"ticks\": \"\"}}, \"type\": \"parcoords\"}], \"pie\": [{\"automargin\": true, \"type\": \"pie\"}], \"scatter\": [{\"marker\": {\"colorbar\": {\"outlinewidth\": 0, \"ticks\": \"\"}}, \"type\": \"scatter\"}], \"scatter3d\": [{\"line\": {\"colorbar\": {\"outlinewidth\": 0, \"ticks\": \"\"}}, \"marker\": {\"colorbar\": {\"outlinewidth\": 0, \"ticks\": \"\"}}, \"type\": \"scatter3d\"}], \"scattercarpet\": [{\"marker\": {\"colorbar\": {\"outlinewidth\": 0, \"ticks\": \"\"}}, \"type\": \"scattercarpet\"}], \"scattergeo\": [{\"marker\": {\"colorbar\": {\"outlinewidth\": 0, \"ticks\": \"\"}}, \"type\": \"scattergeo\"}], \"scattergl\": [{\"marker\": {\"colorbar\": {\"outlinewidth\": 0, \"ticks\": \"\"}}, \"type\": \"scattergl\"}], \"scattermapbox\": [{\"marker\": {\"colorbar\": {\"outlinewidth\": 0, \"ticks\": \"\"}}, \"type\": \"scattermapbox\"}], \"scatterpolar\": [{\"marker\": {\"colorbar\": {\"outlinewidth\": 0, \"ticks\": \"\"}}, \"type\": \"scatterpolar\"}], \"scatterpolargl\": [{\"marker\": {\"colorbar\": {\"outlinewidth\": 0, \"ticks\": \"\"}}, \"type\": \"scatterpolargl\"}], \"scatterternary\": [{\"marker\": {\"colorbar\": {\"outlinewidth\": 0, \"ticks\": \"\"}}, \"type\": \"scatterternary\"}], \"surface\": [{\"colorbar\": {\"outlinewidth\": 0, \"ticks\": \"\"}, \"colorscale\": [[0.0, \"#0d0887\"], [0.1111111111111111, \"#46039f\"], [0.2222222222222222, \"#7201a8\"], [0.3333333333333333, \"#9c179e\"], [0.4444444444444444, \"#bd3786\"], [0.5555555555555556, \"#d8576b\"], [0.6666666666666666, \"#ed7953\"], [0.7777777777777778, \"#fb9f3a\"], [0.8888888888888888, \"#fdca26\"], [1.0, \"#f0f921\"]], \"type\": \"surface\"}], \"table\": [{\"cells\": {\"fill\": {\"color\": \"#EBF0F8\"}, \"line\": {\"color\": \"white\"}}, \"header\": {\"fill\": {\"color\": \"#C8D4E3\"}, \"line\": {\"color\": \"white\"}}, \"type\": \"table\"}]}, \"layout\": {\"annotationdefaults\": {\"arrowcolor\": \"#2a3f5f\", \"arrowhead\": 0, \"arrowwidth\": 1}, \"coloraxis\": {\"colorbar\": {\"outlinewidth\": 0, \"ticks\": \"\"}}, \"colorscale\": {\"diverging\": [[0, \"#8e0152\"], [0.1, \"#c51b7d\"], [0.2, \"#de77ae\"], [0.3, \"#f1b6da\"], [0.4, \"#fde0ef\"], [0.5, \"#f7f7f7\"], [0.6, \"#e6f5d0\"], [0.7, \"#b8e186\"], [0.8, \"#7fbc41\"], [0.9, \"#4d9221\"], [1, \"#276419\"]], \"sequential\": [[0.0, \"#0d0887\"], [0.1111111111111111, \"#46039f\"], [0.2222222222222222, \"#7201a8\"], [0.3333333333333333, \"#9c179e\"], [0.4444444444444444, \"#bd3786\"], [0.5555555555555556, \"#d8576b\"], [0.6666666666666666, \"#ed7953\"], [0.7777777777777778, \"#fb9f3a\"], [0.8888888888888888, \"#fdca26\"], [1.0, \"#f0f921\"]], \"sequentialminus\": [[0.0, \"#0d0887\"], [0.1111111111111111, \"#46039f\"], [0.2222222222222222, \"#7201a8\"], [0.3333333333333333, \"#9c179e\"], [0.4444444444444444, \"#bd3786\"], [0.5555555555555556, \"#d8576b\"], [0.6666666666666666, \"#ed7953\"], [0.7777777777777778, \"#fb9f3a\"], [0.8888888888888888, \"#fdca26\"], [1.0, \"#f0f921\"]]}, \"colorway\": [\"#636efa\", \"#EF553B\", \"#00cc96\", \"#ab63fa\", \"#FFA15A\", \"#19d3f3\", \"#FF6692\", \"#B6E880\", \"#FF97FF\", \"#FECB52\"], \"font\": {\"color\": \"#2a3f5f\"}, \"geo\": {\"bgcolor\": \"white\", \"lakecolor\": \"white\", \"landcolor\": \"#E5ECF6\", \"showlakes\": true, \"showland\": true, \"subunitcolor\": \"white\"}, \"hoverlabel\": {\"align\": \"left\"}, \"hovermode\": \"closest\", \"mapbox\": {\"style\": \"light\"}, \"paper_bgcolor\": \"white\", \"plot_bgcolor\": \"#E5ECF6\", \"polar\": {\"angularaxis\": {\"gridcolor\": \"white\", \"linecolor\": \"white\", \"ticks\": \"\"}, \"bgcolor\": \"#E5ECF6\", \"radialaxis\": {\"gridcolor\": \"white\", \"linecolor\": \"white\", \"ticks\": \"\"}}, \"scene\": {\"xaxis\": {\"backgroundcolor\": \"#E5ECF6\", \"gridcolor\": \"white\", \"gridwidth\": 2, \"linecolor\": \"white\", \"showbackground\": true, \"ticks\": \"\", \"zerolinecolor\": \"white\"}, \"yaxis\": {\"backgroundcolor\": \"#E5ECF6\", \"gridcolor\": \"white\", \"gridwidth\": 2, \"linecolor\": \"white\", \"showbackground\": true, \"ticks\": \"\", \"zerolinecolor\": \"white\"}, \"zaxis\": {\"backgroundcolor\": \"#E5ECF6\", \"gridcolor\": \"white\", \"gridwidth\": 2, \"linecolor\": \"white\", \"showbackground\": true, \"ticks\": \"\", \"zerolinecolor\": \"white\"}}, \"shapedefaults\": {\"line\": {\"color\": \"#2a3f5f\"}}, \"ternary\": {\"aaxis\": {\"gridcolor\": \"white\", \"linecolor\": \"white\", \"ticks\": \"\"}, \"baxis\": {\"gridcolor\": \"white\", \"linecolor\": \"white\", \"ticks\": \"\"}, \"bgcolor\": \"#E5ECF6\", \"caxis\": {\"gridcolor\": \"white\", \"linecolor\": \"white\", \"ticks\": \"\"}}, \"title\": {\"x\": 0.05}, \"xaxis\": {\"automargin\": true, \"gridcolor\": \"white\", \"linecolor\": \"white\", \"ticks\": \"\", \"title\": {\"standoff\": 15}, \"zerolinecolor\": \"white\", \"zerolinewidth\": 2}, \"yaxis\": {\"automargin\": true, \"gridcolor\": \"white\", \"linecolor\": \"white\", \"ticks\": \"\", \"title\": {\"standoff\": 15}, \"zerolinecolor\": \"white\", \"zerolinewidth\": 2}}}, \"title\": {\"font\": {\"color\": \"#4D5663\"}}, \"xaxis\": {\"gridcolor\": \"#E1E5ED\", \"showgrid\": true, \"tickfont\": {\"color\": \"#4D5663\"}, \"title\": {\"font\": {\"color\": \"#4D5663\"}, \"text\": \"\"}, \"zerolinecolor\": \"#E1E5ED\"}, \"yaxis\": {\"gridcolor\": \"#E1E5ED\", \"showgrid\": true, \"tickfont\": {\"color\": \"#4D5663\"}, \"title\": {\"font\": {\"color\": \"#4D5663\"}, \"text\": \"\"}, \"zerolinecolor\": \"#E1E5ED\"}},\n",
       "                        {\"showLink\": true, \"linkText\": \"Export to plot.ly\", \"plotlyServerURL\": \"https://plot.ly\", \"responsive\": true}\n",
       "                    ).then(function(){\n",
       "                            \n",
       "var gd = document.getElementById('06c510f1-11e7-4de7-a929-8e32dc1de577');\n",
       "var x = new MutationObserver(function (mutations, observer) {{\n",
       "        var display = window.getComputedStyle(gd).display;\n",
       "        if (!display || display === 'none') {{\n",
       "            console.log([gd, 'removed!']);\n",
       "            Plotly.purge(gd);\n",
       "            observer.disconnect();\n",
       "        }}\n",
       "}});\n",
       "\n",
       "// Listen for the removal of the full notebook cells\n",
       "var notebookContainer = gd.closest('#notebook-container');\n",
       "if (notebookContainer) {{\n",
       "    x.observe(notebookContainer, {childList: true});\n",
       "}}\n",
       "\n",
       "// Listen for the clearing of the current output cell\n",
       "var outputEl = gd.closest('.output');\n",
       "if (outputEl) {{\n",
       "    x.observe(outputEl, {childList: true});\n",
       "}}\n",
       "\n",
       "                        })\n",
       "                };\n",
       "                });\n",
       "            </script>\n",
       "        </div>"
      ]
     },
     "metadata": {},
     "output_type": "display_data"
    }
   ],
   "source": [
    "df.iplot(kind='bubble',x='A',y='B',size='C')"
   ]
  },
  {
   "cell_type": "markdown",
   "metadata": {},
   "source": [
    "## scatter_matrix()\n",
    "\n",
    "Similar to sns.pairplot()"
   ]
  },
  {
   "cell_type": "code",
   "execution_count": 23,
   "metadata": {},
   "outputs": [
    {
     "data": {
      "application/vnd.plotly.v1+json": {
       "config": {
        "linkText": "Export to plot.ly",
        "plotlyServerURL": "https://plot.ly",
        "showLink": true
       },
       "data": [
        {
         "histfunc": "count",
         "histnorm": "",
         "marker": {
          "color": "rgba(255, 153, 51, 1.0)",
          "line": {
           "color": "#4D5663",
           "width": 1.3
          }
         },
         "name": "A",
         "nbinsx": 10,
         "opacity": 0.8,
         "orientation": "v",
         "type": "histogram",
         "x": [
          0.8425800230056536,
          0.8228729931602605,
          0.45302144958655327,
          -0.15464636949214794,
          -0.3344287501808655,
          -0.6155627897642467,
          -0.8511015145286904,
          -0.22416144352609133,
          0.6602592697073943,
          1.6688045668274765,
          -1.1078003079394538,
          0.5205314770180932,
          -0.3363048584250365,
          0.40602399155108443,
          0.19011255413451617,
          2.4654201650905123,
          0.32154357233462094,
          -0.8213877114714514,
          0.5107565293763973,
          -1.3839586003113933,
          -1.0639421497820791,
          0.6849377969963686,
          -1.1333905961531854,
          -0.11635118566959907,
          -0.37936734911283415,
          0.4456028260228318,
          1.9327013265029618,
          -0.024565439083912236,
          0.7526701692658325,
          -0.5662253860236415,
          0.8821763247769187,
          0.2805875093621268,
          -0.9788739014698855,
          0.3036651709603921,
          0.5396091606224961,
          0.6665514304418824,
          0.5352043387203083,
          1.2129258711535873,
          0.7240042780223538,
          -1.0098975715722636,
          -0.16289919477076262,
          -0.8154323532297832,
          -0.3977749740844525,
          0.7845287767499552,
          -0.5823264324213028,
          1.7668402955824636,
          -0.5784049432184615,
          -0.11684278517136609,
          0.2951817195596696,
          -1.9513260315146401,
          -0.629934701459229,
          0.045131028591535005,
          -0.8402131275960164,
          0.5006646482393786,
          1.7927717048719476,
          -0.6399442017860044,
          1.7017414053525006,
          0.5571691974779828,
          -1.0823590214650136,
          -1.6669125591790803,
          -1.1665984022067872,
          1.5447897360165155,
          0.49559664950232923,
          -0.7110348817342973,
          0.048815188290864814,
          -0.07622169384583687,
          -0.9396682102311819,
          0.9048619394581252,
          0.3236739195518902,
          0.9322713987437912,
          -0.3677385853043386,
          -1.0783725873956171,
          1.2426757883845556,
          1.7282300608014385,
          0.5351211848501362,
          0.7207300381574594,
          -0.6571632159603973,
          0.3005500199868126,
          -2.2034542653997344,
          -2.261749854662406,
          -0.4732251632090071,
          -0.5134968603809374,
          0.6522671412507076,
          -0.315077705434412,
          0.675942762735105,
          1.5233300660474078,
          -0.954080252681867,
          0.9823848551740675,
          -1.635832764245846,
          0.2167668557418693,
          -0.7951469007973236,
          1.1919912435334072,
          1.2511730130201058,
          -1.3838268497648982,
          -0.5664230216840095,
          -1.4987921435235554,
          -0.8066030673898453,
          1.092576357472236,
          -0.20879159797990765,
          0.22369880671706246
         ],
         "xaxis": "x",
         "yaxis": "y"
        },
        {
         "line": {
          "color": "rgba(128, 128, 128, 1.0)",
          "dash": "solid",
          "shape": "linear",
          "width": 1.3
         },
         "marker": {
          "size": 2,
          "symbol": "circle"
         },
         "mode": "markers",
         "name": "A",
         "text": "",
         "type": "scatter",
         "x": [
          0.09759749197282581,
          0.6137315514697458,
          -0.2854572156585551,
          0.12142749701404602,
          -0.30538017910705795,
          0.9653249896933419,
          0.30763722494900336,
          -1.1804135293053442,
          2.0108948250826093,
          2.3281200521482357,
          0.8375326746814203,
          -1.1552593469105479,
          0.8209178718438593,
          -2.1722914069362815,
          -0.19986657830185683,
          -0.7093964594384959,
          -0.37191912168682706,
          1.065137719776101,
          2.0031885770388995,
          0.43456347993737837,
          0.527346750628352,
          -1.2824861366308757,
          0.03924695575136877,
          -0.7168935257821382,
          -0.30359036230906783,
          -0.6962633344761804,
          0.4211274074392302,
          1.6871651877846425,
          -0.039050782188639416,
          2.072099683982022,
          0.5204468688348854,
          1.0164792926890849,
          -0.7316803836275722,
          -0.3898451347452699,
          0.6294922442320586,
          1.183797549303694,
          -0.921297878278392,
          0.222282348897835,
          0.9547244715510609,
          -0.8592356555646143,
          -0.8440219747360963,
          -1.4596730660029675,
          -0.3579668388348763,
          -1.4899713082696882,
          -2.3650778604752984,
          1.0468466219410333,
          0.9046954089969772,
          1.253496239045731,
          0.23066745133877534,
          0.42399151575975924,
          -0.5724448167613085,
          -0.0312127195328586,
          0.44684169836912685,
          1.661791445451631,
          0.39485216421711317,
          -0.9018174786830869,
          -0.2663074862302335,
          1.2333682595654787,
          0.13796620315491115,
          0.0057041245113695635,
          0.412917020734218,
          0.23865432191821495,
          0.5065339609050801,
          -0.6925694953378969,
          -0.026446794780587146,
          -0.06475640554797196,
          -0.3446106690484418,
          0.5569329770877339,
          -0.1738856363317943,
          1.4132900725586053,
          0.5334262689843003,
          -0.6694902766680653,
          -0.37074495041061745,
          -0.17119048891228544,
          -1.5647514632194899,
          0.004023378941902747,
          0.8810753994171026,
          -1.2184413372674996,
          -2.1481159031421484,
          -1.4962719748944955,
          0.38038407459807444,
          0.2765898772414553,
          -0.11068749614747805,
          -1.047817447159204,
          -0.2100501154288501,
          1.0337835973410112,
          0.7557620116787,
          -1.0507032147285573,
          -0.4880355055022291,
          2.187073071990288,
          -1.6687730112146275,
          0.5285813339439062,
          0.21622635990512282,
          0.5654349024962452,
          0.7680214651948842,
          1.124622659275688,
          -0.024373578774586648,
          -0.7540674874965095,
          1.3378437781960533,
          0.5837528107495575
         ],
         "xaxis": "x2",
         "y": [
          0.8425800230056536,
          0.8228729931602605,
          0.45302144958655327,
          -0.15464636949214794,
          -0.3344287501808655,
          -0.6155627897642467,
          -0.8511015145286904,
          -0.22416144352609133,
          0.6602592697073943,
          1.6688045668274765,
          -1.1078003079394538,
          0.5205314770180932,
          -0.3363048584250365,
          0.40602399155108443,
          0.19011255413451617,
          2.4654201650905123,
          0.32154357233462094,
          -0.8213877114714514,
          0.5107565293763973,
          -1.3839586003113933,
          -1.0639421497820791,
          0.6849377969963686,
          -1.1333905961531854,
          -0.11635118566959907,
          -0.37936734911283415,
          0.4456028260228318,
          1.9327013265029618,
          -0.024565439083912236,
          0.7526701692658325,
          -0.5662253860236415,
          0.8821763247769187,
          0.2805875093621268,
          -0.9788739014698855,
          0.3036651709603921,
          0.5396091606224961,
          0.6665514304418824,
          0.5352043387203083,
          1.2129258711535873,
          0.7240042780223538,
          -1.0098975715722636,
          -0.16289919477076262,
          -0.8154323532297832,
          -0.3977749740844525,
          0.7845287767499552,
          -0.5823264324213028,
          1.7668402955824636,
          -0.5784049432184615,
          -0.11684278517136609,
          0.2951817195596696,
          -1.9513260315146401,
          -0.629934701459229,
          0.045131028591535005,
          -0.8402131275960164,
          0.5006646482393786,
          1.7927717048719476,
          -0.6399442017860044,
          1.7017414053525006,
          0.5571691974779828,
          -1.0823590214650136,
          -1.6669125591790803,
          -1.1665984022067872,
          1.5447897360165155,
          0.49559664950232923,
          -0.7110348817342973,
          0.048815188290864814,
          -0.07622169384583687,
          -0.9396682102311819,
          0.9048619394581252,
          0.3236739195518902,
          0.9322713987437912,
          -0.3677385853043386,
          -1.0783725873956171,
          1.2426757883845556,
          1.7282300608014385,
          0.5351211848501362,
          0.7207300381574594,
          -0.6571632159603973,
          0.3005500199868126,
          -2.2034542653997344,
          -2.261749854662406,
          -0.4732251632090071,
          -0.5134968603809374,
          0.6522671412507076,
          -0.315077705434412,
          0.675942762735105,
          1.5233300660474078,
          -0.954080252681867,
          0.9823848551740675,
          -1.635832764245846,
          0.2167668557418693,
          -0.7951469007973236,
          1.1919912435334072,
          1.2511730130201058,
          -1.3838268497648982,
          -0.5664230216840095,
          -1.4987921435235554,
          -0.8066030673898453,
          1.092576357472236,
          -0.20879159797990765,
          0.22369880671706246
         ],
         "yaxis": "y2"
        },
        {
         "line": {
          "color": "rgba(128, 128, 128, 1.0)",
          "dash": "solid",
          "shape": "linear",
          "width": 1.3
         },
         "marker": {
          "size": 2,
          "symbol": "circle"
         },
         "mode": "markers",
         "name": "A",
         "text": "",
         "type": "scatter",
         "x": [
          0.24430933548097938,
          1.153157602825409,
          -1.2279459252863203,
          1.34340724612936,
          -0.041217502047060275,
          0.41171615392618505,
          1.5385559112446923,
          0.7648732837580414,
          1.2378221548680792,
          0.8511119537704597,
          1.9690704973099573,
          -1.8007532668730664,
          2.211973052243103,
          -0.7983479866474343,
          -0.29133270666818645,
          -0.2289200971962283,
          1.1412626871206657,
          0.3842870026485587,
          -1.6005022711784263,
          0.6692586074246968,
          1.7735671759213478,
          1.9066771495638766,
          0.9253219764391617,
          1.8582921789382436,
          -0.15884192047449688,
          -0.39439741097725123,
          -0.2131805015106247,
          1.5741254666344635,
          -1.0100141106641953,
          -0.03476626901184274,
          -0.8335710814137562,
          -0.0653294080398027,
          -0.12828440976953612,
          -0.9096442945756971,
          -0.22250174965853964,
          -1.0459393019196757,
          0.5022898453992217,
          -0.41463437973204087,
          0.38459399713052483,
          -0.7403464056984084,
          2.1359896146811814,
          1.734780254189919,
          -0.9025801865894815,
          0.3238163927053441,
          1.3472241632251434,
          -0.3945797957321719,
          0.2771037961882595,
          -0.6569062211767643,
          0.6674534973140019,
          2.293379398802492,
          -0.5841650469229548,
          -0.34249580540799407,
          -0.8634874002341889,
          -0.3259320769993883,
          0.33668399721733394,
          -1.3330431325215952,
          1.381662448939186,
          0.6183398648741613,
          0.809238047601535,
          0.7880679042469689,
          0.5842877879690729,
          -0.8706838222745634,
          -0.40908624865416454,
          0.6664524585549024,
          0.0747499839073245,
          0.8295433441676373,
          -0.2362185970845391,
          -0.9264137234251151,
          -1.2849226628774835,
          1.3655036094147055,
          -0.5625816562288798,
          -2.2635612706842365,
          1.2033885621650329,
          -0.28087317812398044,
          -0.7813035190340818,
          -1.7519181672150388,
          -2.228152552477639,
          -0.4907622535720897,
          -0.03653668122069601,
          -0.8108740162363595,
          2.4177594473685597,
          2.46316891258294,
          -1.7451934795051316,
          0.7691652719656158,
          0.5816674802232281,
          1.5052698101150037,
          0.047409094104972634,
          1.0377271562410213,
          0.29542513549251703,
          -0.8663848619675543,
          0.6700696195512402,
          0.8374786403455478,
          0.568879257414912,
          -1.2354708353599495,
          -1.1596129743241204,
          0.40109989839742444,
          0.03378650387113606,
          0.7485891058768023,
          1.770630426917514,
          0.005838117675093689
         ],
         "xaxis": "x3",
         "y": [
          0.8425800230056536,
          0.8228729931602605,
          0.45302144958655327,
          -0.15464636949214794,
          -0.3344287501808655,
          -0.6155627897642467,
          -0.8511015145286904,
          -0.22416144352609133,
          0.6602592697073943,
          1.6688045668274765,
          -1.1078003079394538,
          0.5205314770180932,
          -0.3363048584250365,
          0.40602399155108443,
          0.19011255413451617,
          2.4654201650905123,
          0.32154357233462094,
          -0.8213877114714514,
          0.5107565293763973,
          -1.3839586003113933,
          -1.0639421497820791,
          0.6849377969963686,
          -1.1333905961531854,
          -0.11635118566959907,
          -0.37936734911283415,
          0.4456028260228318,
          1.9327013265029618,
          -0.024565439083912236,
          0.7526701692658325,
          -0.5662253860236415,
          0.8821763247769187,
          0.2805875093621268,
          -0.9788739014698855,
          0.3036651709603921,
          0.5396091606224961,
          0.6665514304418824,
          0.5352043387203083,
          1.2129258711535873,
          0.7240042780223538,
          -1.0098975715722636,
          -0.16289919477076262,
          -0.8154323532297832,
          -0.3977749740844525,
          0.7845287767499552,
          -0.5823264324213028,
          1.7668402955824636,
          -0.5784049432184615,
          -0.11684278517136609,
          0.2951817195596696,
          -1.9513260315146401,
          -0.629934701459229,
          0.045131028591535005,
          -0.8402131275960164,
          0.5006646482393786,
          1.7927717048719476,
          -0.6399442017860044,
          1.7017414053525006,
          0.5571691974779828,
          -1.0823590214650136,
          -1.6669125591790803,
          -1.1665984022067872,
          1.5447897360165155,
          0.49559664950232923,
          -0.7110348817342973,
          0.048815188290864814,
          -0.07622169384583687,
          -0.9396682102311819,
          0.9048619394581252,
          0.3236739195518902,
          0.9322713987437912,
          -0.3677385853043386,
          -1.0783725873956171,
          1.2426757883845556,
          1.7282300608014385,
          0.5351211848501362,
          0.7207300381574594,
          -0.6571632159603973,
          0.3005500199868126,
          -2.2034542653997344,
          -2.261749854662406,
          -0.4732251632090071,
          -0.5134968603809374,
          0.6522671412507076,
          -0.315077705434412,
          0.675942762735105,
          1.5233300660474078,
          -0.954080252681867,
          0.9823848551740675,
          -1.635832764245846,
          0.2167668557418693,
          -0.7951469007973236,
          1.1919912435334072,
          1.2511730130201058,
          -1.3838268497648982,
          -0.5664230216840095,
          -1.4987921435235554,
          -0.8066030673898453,
          1.092576357472236,
          -0.20879159797990765,
          0.22369880671706246
         ],
         "yaxis": "y3"
        },
        {
         "line": {
          "color": "rgba(128, 128, 128, 1.0)",
          "dash": "solid",
          "shape": "linear",
          "width": 1.3
         },
         "marker": {
          "size": 2,
          "symbol": "circle"
         },
         "mode": "markers",
         "name": "A",
         "text": "",
         "type": "scatter",
         "x": [
          1.184062315155887,
          1.527483216771176,
          -1.0655051484545195,
          -0.6712804772540937,
          1.2371574403508276,
          1.2236238969124587,
          -0.28045735708845626,
          0.5369439714930251,
          -0.5638007803370333,
          0.68712613704467,
          -0.7287440735648303,
          -0.8952305631023365,
          0.3335254264840793,
          1.272238600063057,
          -1.3243852900837494,
          1.392162823999808,
          1.3001977211877824,
          -0.1542139604045163,
          0.33022950912113225,
          -1.9571234379781695,
          0.707180351643294,
          -1.249109612850024,
          1.2129536630531366,
          -1.0767534894287658,
          -1.3213062316384054,
          -1.4872244226905027,
          0.8397338356265742,
          -0.3915542509891903,
          -0.02477733133517658,
          1.7074401615142256,
          0.25729119013882734,
          -1.5100323633656736,
          -0.09753628257118523,
          0.3571576691260107,
          0.3853401782528403,
          -0.11556419449201895,
          1.9009948600521027,
          -2.411028782040256,
          -0.5594357347699908,
          -0.11278987704667931,
          -0.7465254935335087,
          -0.3676830048285222,
          0.3656382522253938,
          0.6606360733105158,
          1.4216595984196339,
          -0.4259169824157992,
          0.814969265296277,
          -0.495696993792867,
          -0.29919033881126783,
          1.0413642963182843,
          0.8476541736422291,
          -2.261162219489303,
          0.3203861626520892,
          -0.06977502458511345,
          -0.5283915208910475,
          -1.3028688036421616,
          0.20687433546990835,
          2.1293401958604528,
          -0.2140889080223543,
          0.29109948457084767,
          -0.3661037119211918,
          -1.0279872418856912,
          -0.9155602344639235,
          -2.3089877676430834,
          0.27632576778296936,
          0.19431709899160535,
          1.9114522640897547,
          1.5764762791456104,
          1.1657075545856808,
          0.928435488307569,
          -1.4845418793709166,
          -2.4076974875848656,
          -1.0240745445257948,
          -0.03118671284458697,
          -0.2191144485962299,
          -0.9446152419219586,
          0.08030568123631247,
          -0.6455931102542941,
          0.7635236364240873,
          -0.373200458556742,
          1.4865572238803655,
          3.168375539296968,
          -0.05542321652642558,
          1.140301099757501,
          -1.8174723416024499,
          -0.08071578336944459,
          1.2026104163099178,
          0.5039704657875177,
          -1.171311689434029,
          0.2617423451571207,
          0.568487315710609,
          0.06604297698075867,
          0.848213756418194,
          -0.18746021047415282,
          -0.6420253276627698,
          0.5556320263205276,
          1.0091823937409712,
          0.09966301567257936,
          -0.11011429558125099,
          0.4267380945547899
         ],
         "xaxis": "x4",
         "y": [
          0.8425800230056536,
          0.8228729931602605,
          0.45302144958655327,
          -0.15464636949214794,
          -0.3344287501808655,
          -0.6155627897642467,
          -0.8511015145286904,
          -0.22416144352609133,
          0.6602592697073943,
          1.6688045668274765,
          -1.1078003079394538,
          0.5205314770180932,
          -0.3363048584250365,
          0.40602399155108443,
          0.19011255413451617,
          2.4654201650905123,
          0.32154357233462094,
          -0.8213877114714514,
          0.5107565293763973,
          -1.3839586003113933,
          -1.0639421497820791,
          0.6849377969963686,
          -1.1333905961531854,
          -0.11635118566959907,
          -0.37936734911283415,
          0.4456028260228318,
          1.9327013265029618,
          -0.024565439083912236,
          0.7526701692658325,
          -0.5662253860236415,
          0.8821763247769187,
          0.2805875093621268,
          -0.9788739014698855,
          0.3036651709603921,
          0.5396091606224961,
          0.6665514304418824,
          0.5352043387203083,
          1.2129258711535873,
          0.7240042780223538,
          -1.0098975715722636,
          -0.16289919477076262,
          -0.8154323532297832,
          -0.3977749740844525,
          0.7845287767499552,
          -0.5823264324213028,
          1.7668402955824636,
          -0.5784049432184615,
          -0.11684278517136609,
          0.2951817195596696,
          -1.9513260315146401,
          -0.629934701459229,
          0.045131028591535005,
          -0.8402131275960164,
          0.5006646482393786,
          1.7927717048719476,
          -0.6399442017860044,
          1.7017414053525006,
          0.5571691974779828,
          -1.0823590214650136,
          -1.6669125591790803,
          -1.1665984022067872,
          1.5447897360165155,
          0.49559664950232923,
          -0.7110348817342973,
          0.048815188290864814,
          -0.07622169384583687,
          -0.9396682102311819,
          0.9048619394581252,
          0.3236739195518902,
          0.9322713987437912,
          -0.3677385853043386,
          -1.0783725873956171,
          1.2426757883845556,
          1.7282300608014385,
          0.5351211848501362,
          0.7207300381574594,
          -0.6571632159603973,
          0.3005500199868126,
          -2.2034542653997344,
          -2.261749854662406,
          -0.4732251632090071,
          -0.5134968603809374,
          0.6522671412507076,
          -0.315077705434412,
          0.675942762735105,
          1.5233300660474078,
          -0.954080252681867,
          0.9823848551740675,
          -1.635832764245846,
          0.2167668557418693,
          -0.7951469007973236,
          1.1919912435334072,
          1.2511730130201058,
          -1.3838268497648982,
          -0.5664230216840095,
          -1.4987921435235554,
          -0.8066030673898453,
          1.092576357472236,
          -0.20879159797990765,
          0.22369880671706246
         ],
         "yaxis": "y4"
        },
        {
         "line": {
          "color": "rgba(128, 128, 128, 1.0)",
          "dash": "solid",
          "shape": "linear",
          "width": 1.3
         },
         "marker": {
          "size": 2,
          "symbol": "circle"
         },
         "mode": "markers",
         "name": "B",
         "text": "",
         "type": "scatter",
         "x": [
          0.8425800230056536,
          0.8228729931602605,
          0.45302144958655327,
          -0.15464636949214794,
          -0.3344287501808655,
          -0.6155627897642467,
          -0.8511015145286904,
          -0.22416144352609133,
          0.6602592697073943,
          1.6688045668274765,
          -1.1078003079394538,
          0.5205314770180932,
          -0.3363048584250365,
          0.40602399155108443,
          0.19011255413451617,
          2.4654201650905123,
          0.32154357233462094,
          -0.8213877114714514,
          0.5107565293763973,
          -1.3839586003113933,
          -1.0639421497820791,
          0.6849377969963686,
          -1.1333905961531854,
          -0.11635118566959907,
          -0.37936734911283415,
          0.4456028260228318,
          1.9327013265029618,
          -0.024565439083912236,
          0.7526701692658325,
          -0.5662253860236415,
          0.8821763247769187,
          0.2805875093621268,
          -0.9788739014698855,
          0.3036651709603921,
          0.5396091606224961,
          0.6665514304418824,
          0.5352043387203083,
          1.2129258711535873,
          0.7240042780223538,
          -1.0098975715722636,
          -0.16289919477076262,
          -0.8154323532297832,
          -0.3977749740844525,
          0.7845287767499552,
          -0.5823264324213028,
          1.7668402955824636,
          -0.5784049432184615,
          -0.11684278517136609,
          0.2951817195596696,
          -1.9513260315146401,
          -0.629934701459229,
          0.045131028591535005,
          -0.8402131275960164,
          0.5006646482393786,
          1.7927717048719476,
          -0.6399442017860044,
          1.7017414053525006,
          0.5571691974779828,
          -1.0823590214650136,
          -1.6669125591790803,
          -1.1665984022067872,
          1.5447897360165155,
          0.49559664950232923,
          -0.7110348817342973,
          0.048815188290864814,
          -0.07622169384583687,
          -0.9396682102311819,
          0.9048619394581252,
          0.3236739195518902,
          0.9322713987437912,
          -0.3677385853043386,
          -1.0783725873956171,
          1.2426757883845556,
          1.7282300608014385,
          0.5351211848501362,
          0.7207300381574594,
          -0.6571632159603973,
          0.3005500199868126,
          -2.2034542653997344,
          -2.261749854662406,
          -0.4732251632090071,
          -0.5134968603809374,
          0.6522671412507076,
          -0.315077705434412,
          0.675942762735105,
          1.5233300660474078,
          -0.954080252681867,
          0.9823848551740675,
          -1.635832764245846,
          0.2167668557418693,
          -0.7951469007973236,
          1.1919912435334072,
          1.2511730130201058,
          -1.3838268497648982,
          -0.5664230216840095,
          -1.4987921435235554,
          -0.8066030673898453,
          1.092576357472236,
          -0.20879159797990765,
          0.22369880671706246
         ],
         "xaxis": "x5",
         "y": [
          0.09759749197282581,
          0.6137315514697458,
          -0.2854572156585551,
          0.12142749701404602,
          -0.30538017910705795,
          0.9653249896933419,
          0.30763722494900336,
          -1.1804135293053442,
          2.0108948250826093,
          2.3281200521482357,
          0.8375326746814203,
          -1.1552593469105479,
          0.8209178718438593,
          -2.1722914069362815,
          -0.19986657830185683,
          -0.7093964594384959,
          -0.37191912168682706,
          1.065137719776101,
          2.0031885770388995,
          0.43456347993737837,
          0.527346750628352,
          -1.2824861366308757,
          0.03924695575136877,
          -0.7168935257821382,
          -0.30359036230906783,
          -0.6962633344761804,
          0.4211274074392302,
          1.6871651877846425,
          -0.039050782188639416,
          2.072099683982022,
          0.5204468688348854,
          1.0164792926890849,
          -0.7316803836275722,
          -0.3898451347452699,
          0.6294922442320586,
          1.183797549303694,
          -0.921297878278392,
          0.222282348897835,
          0.9547244715510609,
          -0.8592356555646143,
          -0.8440219747360963,
          -1.4596730660029675,
          -0.3579668388348763,
          -1.4899713082696882,
          -2.3650778604752984,
          1.0468466219410333,
          0.9046954089969772,
          1.253496239045731,
          0.23066745133877534,
          0.42399151575975924,
          -0.5724448167613085,
          -0.0312127195328586,
          0.44684169836912685,
          1.661791445451631,
          0.39485216421711317,
          -0.9018174786830869,
          -0.2663074862302335,
          1.2333682595654787,
          0.13796620315491115,
          0.0057041245113695635,
          0.412917020734218,
          0.23865432191821495,
          0.5065339609050801,
          -0.6925694953378969,
          -0.026446794780587146,
          -0.06475640554797196,
          -0.3446106690484418,
          0.5569329770877339,
          -0.1738856363317943,
          1.4132900725586053,
          0.5334262689843003,
          -0.6694902766680653,
          -0.37074495041061745,
          -0.17119048891228544,
          -1.5647514632194899,
          0.004023378941902747,
          0.8810753994171026,
          -1.2184413372674996,
          -2.1481159031421484,
          -1.4962719748944955,
          0.38038407459807444,
          0.2765898772414553,
          -0.11068749614747805,
          -1.047817447159204,
          -0.2100501154288501,
          1.0337835973410112,
          0.7557620116787,
          -1.0507032147285573,
          -0.4880355055022291,
          2.187073071990288,
          -1.6687730112146275,
          0.5285813339439062,
          0.21622635990512282,
          0.5654349024962452,
          0.7680214651948842,
          1.124622659275688,
          -0.024373578774586648,
          -0.7540674874965095,
          1.3378437781960533,
          0.5837528107495575
         ],
         "yaxis": "y5"
        },
        {
         "histfunc": "count",
         "histnorm": "",
         "marker": {
          "color": "rgba(55, 128, 191, 1.0)",
          "line": {
           "color": "#4D5663",
           "width": 1.3
          }
         },
         "name": "B",
         "nbinsx": 10,
         "opacity": 0.8,
         "orientation": "v",
         "type": "histogram",
         "x": [
          0.09759749197282581,
          0.6137315514697458,
          -0.2854572156585551,
          0.12142749701404602,
          -0.30538017910705795,
          0.9653249896933419,
          0.30763722494900336,
          -1.1804135293053442,
          2.0108948250826093,
          2.3281200521482357,
          0.8375326746814203,
          -1.1552593469105479,
          0.8209178718438593,
          -2.1722914069362815,
          -0.19986657830185683,
          -0.7093964594384959,
          -0.37191912168682706,
          1.065137719776101,
          2.0031885770388995,
          0.43456347993737837,
          0.527346750628352,
          -1.2824861366308757,
          0.03924695575136877,
          -0.7168935257821382,
          -0.30359036230906783,
          -0.6962633344761804,
          0.4211274074392302,
          1.6871651877846425,
          -0.039050782188639416,
          2.072099683982022,
          0.5204468688348854,
          1.0164792926890849,
          -0.7316803836275722,
          -0.3898451347452699,
          0.6294922442320586,
          1.183797549303694,
          -0.921297878278392,
          0.222282348897835,
          0.9547244715510609,
          -0.8592356555646143,
          -0.8440219747360963,
          -1.4596730660029675,
          -0.3579668388348763,
          -1.4899713082696882,
          -2.3650778604752984,
          1.0468466219410333,
          0.9046954089969772,
          1.253496239045731,
          0.23066745133877534,
          0.42399151575975924,
          -0.5724448167613085,
          -0.0312127195328586,
          0.44684169836912685,
          1.661791445451631,
          0.39485216421711317,
          -0.9018174786830869,
          -0.2663074862302335,
          1.2333682595654787,
          0.13796620315491115,
          0.0057041245113695635,
          0.412917020734218,
          0.23865432191821495,
          0.5065339609050801,
          -0.6925694953378969,
          -0.026446794780587146,
          -0.06475640554797196,
          -0.3446106690484418,
          0.5569329770877339,
          -0.1738856363317943,
          1.4132900725586053,
          0.5334262689843003,
          -0.6694902766680653,
          -0.37074495041061745,
          -0.17119048891228544,
          -1.5647514632194899,
          0.004023378941902747,
          0.8810753994171026,
          -1.2184413372674996,
          -2.1481159031421484,
          -1.4962719748944955,
          0.38038407459807444,
          0.2765898772414553,
          -0.11068749614747805,
          -1.047817447159204,
          -0.2100501154288501,
          1.0337835973410112,
          0.7557620116787,
          -1.0507032147285573,
          -0.4880355055022291,
          2.187073071990288,
          -1.6687730112146275,
          0.5285813339439062,
          0.21622635990512282,
          0.5654349024962452,
          0.7680214651948842,
          1.124622659275688,
          -0.024373578774586648,
          -0.7540674874965095,
          1.3378437781960533,
          0.5837528107495575
         ],
         "xaxis": "x6",
         "yaxis": "y6"
        },
        {
         "line": {
          "color": "rgba(128, 128, 128, 1.0)",
          "dash": "solid",
          "shape": "linear",
          "width": 1.3
         },
         "marker": {
          "size": 2,
          "symbol": "circle"
         },
         "mode": "markers",
         "name": "B",
         "text": "",
         "type": "scatter",
         "x": [
          0.24430933548097938,
          1.153157602825409,
          -1.2279459252863203,
          1.34340724612936,
          -0.041217502047060275,
          0.41171615392618505,
          1.5385559112446923,
          0.7648732837580414,
          1.2378221548680792,
          0.8511119537704597,
          1.9690704973099573,
          -1.8007532668730664,
          2.211973052243103,
          -0.7983479866474343,
          -0.29133270666818645,
          -0.2289200971962283,
          1.1412626871206657,
          0.3842870026485587,
          -1.6005022711784263,
          0.6692586074246968,
          1.7735671759213478,
          1.9066771495638766,
          0.9253219764391617,
          1.8582921789382436,
          -0.15884192047449688,
          -0.39439741097725123,
          -0.2131805015106247,
          1.5741254666344635,
          -1.0100141106641953,
          -0.03476626901184274,
          -0.8335710814137562,
          -0.0653294080398027,
          -0.12828440976953612,
          -0.9096442945756971,
          -0.22250174965853964,
          -1.0459393019196757,
          0.5022898453992217,
          -0.41463437973204087,
          0.38459399713052483,
          -0.7403464056984084,
          2.1359896146811814,
          1.734780254189919,
          -0.9025801865894815,
          0.3238163927053441,
          1.3472241632251434,
          -0.3945797957321719,
          0.2771037961882595,
          -0.6569062211767643,
          0.6674534973140019,
          2.293379398802492,
          -0.5841650469229548,
          -0.34249580540799407,
          -0.8634874002341889,
          -0.3259320769993883,
          0.33668399721733394,
          -1.3330431325215952,
          1.381662448939186,
          0.6183398648741613,
          0.809238047601535,
          0.7880679042469689,
          0.5842877879690729,
          -0.8706838222745634,
          -0.40908624865416454,
          0.6664524585549024,
          0.0747499839073245,
          0.8295433441676373,
          -0.2362185970845391,
          -0.9264137234251151,
          -1.2849226628774835,
          1.3655036094147055,
          -0.5625816562288798,
          -2.2635612706842365,
          1.2033885621650329,
          -0.28087317812398044,
          -0.7813035190340818,
          -1.7519181672150388,
          -2.228152552477639,
          -0.4907622535720897,
          -0.03653668122069601,
          -0.8108740162363595,
          2.4177594473685597,
          2.46316891258294,
          -1.7451934795051316,
          0.7691652719656158,
          0.5816674802232281,
          1.5052698101150037,
          0.047409094104972634,
          1.0377271562410213,
          0.29542513549251703,
          -0.8663848619675543,
          0.6700696195512402,
          0.8374786403455478,
          0.568879257414912,
          -1.2354708353599495,
          -1.1596129743241204,
          0.40109989839742444,
          0.03378650387113606,
          0.7485891058768023,
          1.770630426917514,
          0.005838117675093689
         ],
         "xaxis": "x7",
         "y": [
          0.09759749197282581,
          0.6137315514697458,
          -0.2854572156585551,
          0.12142749701404602,
          -0.30538017910705795,
          0.9653249896933419,
          0.30763722494900336,
          -1.1804135293053442,
          2.0108948250826093,
          2.3281200521482357,
          0.8375326746814203,
          -1.1552593469105479,
          0.8209178718438593,
          -2.1722914069362815,
          -0.19986657830185683,
          -0.7093964594384959,
          -0.37191912168682706,
          1.065137719776101,
          2.0031885770388995,
          0.43456347993737837,
          0.527346750628352,
          -1.2824861366308757,
          0.03924695575136877,
          -0.7168935257821382,
          -0.30359036230906783,
          -0.6962633344761804,
          0.4211274074392302,
          1.6871651877846425,
          -0.039050782188639416,
          2.072099683982022,
          0.5204468688348854,
          1.0164792926890849,
          -0.7316803836275722,
          -0.3898451347452699,
          0.6294922442320586,
          1.183797549303694,
          -0.921297878278392,
          0.222282348897835,
          0.9547244715510609,
          -0.8592356555646143,
          -0.8440219747360963,
          -1.4596730660029675,
          -0.3579668388348763,
          -1.4899713082696882,
          -2.3650778604752984,
          1.0468466219410333,
          0.9046954089969772,
          1.253496239045731,
          0.23066745133877534,
          0.42399151575975924,
          -0.5724448167613085,
          -0.0312127195328586,
          0.44684169836912685,
          1.661791445451631,
          0.39485216421711317,
          -0.9018174786830869,
          -0.2663074862302335,
          1.2333682595654787,
          0.13796620315491115,
          0.0057041245113695635,
          0.412917020734218,
          0.23865432191821495,
          0.5065339609050801,
          -0.6925694953378969,
          -0.026446794780587146,
          -0.06475640554797196,
          -0.3446106690484418,
          0.5569329770877339,
          -0.1738856363317943,
          1.4132900725586053,
          0.5334262689843003,
          -0.6694902766680653,
          -0.37074495041061745,
          -0.17119048891228544,
          -1.5647514632194899,
          0.004023378941902747,
          0.8810753994171026,
          -1.2184413372674996,
          -2.1481159031421484,
          -1.4962719748944955,
          0.38038407459807444,
          0.2765898772414553,
          -0.11068749614747805,
          -1.047817447159204,
          -0.2100501154288501,
          1.0337835973410112,
          0.7557620116787,
          -1.0507032147285573,
          -0.4880355055022291,
          2.187073071990288,
          -1.6687730112146275,
          0.5285813339439062,
          0.21622635990512282,
          0.5654349024962452,
          0.7680214651948842,
          1.124622659275688,
          -0.024373578774586648,
          -0.7540674874965095,
          1.3378437781960533,
          0.5837528107495575
         ],
         "yaxis": "y7"
        },
        {
         "line": {
          "color": "rgba(128, 128, 128, 1.0)",
          "dash": "solid",
          "shape": "linear",
          "width": 1.3
         },
         "marker": {
          "size": 2,
          "symbol": "circle"
         },
         "mode": "markers",
         "name": "B",
         "text": "",
         "type": "scatter",
         "x": [
          1.184062315155887,
          1.527483216771176,
          -1.0655051484545195,
          -0.6712804772540937,
          1.2371574403508276,
          1.2236238969124587,
          -0.28045735708845626,
          0.5369439714930251,
          -0.5638007803370333,
          0.68712613704467,
          -0.7287440735648303,
          -0.8952305631023365,
          0.3335254264840793,
          1.272238600063057,
          -1.3243852900837494,
          1.392162823999808,
          1.3001977211877824,
          -0.1542139604045163,
          0.33022950912113225,
          -1.9571234379781695,
          0.707180351643294,
          -1.249109612850024,
          1.2129536630531366,
          -1.0767534894287658,
          -1.3213062316384054,
          -1.4872244226905027,
          0.8397338356265742,
          -0.3915542509891903,
          -0.02477733133517658,
          1.7074401615142256,
          0.25729119013882734,
          -1.5100323633656736,
          -0.09753628257118523,
          0.3571576691260107,
          0.3853401782528403,
          -0.11556419449201895,
          1.9009948600521027,
          -2.411028782040256,
          -0.5594357347699908,
          -0.11278987704667931,
          -0.7465254935335087,
          -0.3676830048285222,
          0.3656382522253938,
          0.6606360733105158,
          1.4216595984196339,
          -0.4259169824157992,
          0.814969265296277,
          -0.495696993792867,
          -0.29919033881126783,
          1.0413642963182843,
          0.8476541736422291,
          -2.261162219489303,
          0.3203861626520892,
          -0.06977502458511345,
          -0.5283915208910475,
          -1.3028688036421616,
          0.20687433546990835,
          2.1293401958604528,
          -0.2140889080223543,
          0.29109948457084767,
          -0.3661037119211918,
          -1.0279872418856912,
          -0.9155602344639235,
          -2.3089877676430834,
          0.27632576778296936,
          0.19431709899160535,
          1.9114522640897547,
          1.5764762791456104,
          1.1657075545856808,
          0.928435488307569,
          -1.4845418793709166,
          -2.4076974875848656,
          -1.0240745445257948,
          -0.03118671284458697,
          -0.2191144485962299,
          -0.9446152419219586,
          0.08030568123631247,
          -0.6455931102542941,
          0.7635236364240873,
          -0.373200458556742,
          1.4865572238803655,
          3.168375539296968,
          -0.05542321652642558,
          1.140301099757501,
          -1.8174723416024499,
          -0.08071578336944459,
          1.2026104163099178,
          0.5039704657875177,
          -1.171311689434029,
          0.2617423451571207,
          0.568487315710609,
          0.06604297698075867,
          0.848213756418194,
          -0.18746021047415282,
          -0.6420253276627698,
          0.5556320263205276,
          1.0091823937409712,
          0.09966301567257936,
          -0.11011429558125099,
          0.4267380945547899
         ],
         "xaxis": "x8",
         "y": [
          0.09759749197282581,
          0.6137315514697458,
          -0.2854572156585551,
          0.12142749701404602,
          -0.30538017910705795,
          0.9653249896933419,
          0.30763722494900336,
          -1.1804135293053442,
          2.0108948250826093,
          2.3281200521482357,
          0.8375326746814203,
          -1.1552593469105479,
          0.8209178718438593,
          -2.1722914069362815,
          -0.19986657830185683,
          -0.7093964594384959,
          -0.37191912168682706,
          1.065137719776101,
          2.0031885770388995,
          0.43456347993737837,
          0.527346750628352,
          -1.2824861366308757,
          0.03924695575136877,
          -0.7168935257821382,
          -0.30359036230906783,
          -0.6962633344761804,
          0.4211274074392302,
          1.6871651877846425,
          -0.039050782188639416,
          2.072099683982022,
          0.5204468688348854,
          1.0164792926890849,
          -0.7316803836275722,
          -0.3898451347452699,
          0.6294922442320586,
          1.183797549303694,
          -0.921297878278392,
          0.222282348897835,
          0.9547244715510609,
          -0.8592356555646143,
          -0.8440219747360963,
          -1.4596730660029675,
          -0.3579668388348763,
          -1.4899713082696882,
          -2.3650778604752984,
          1.0468466219410333,
          0.9046954089969772,
          1.253496239045731,
          0.23066745133877534,
          0.42399151575975924,
          -0.5724448167613085,
          -0.0312127195328586,
          0.44684169836912685,
          1.661791445451631,
          0.39485216421711317,
          -0.9018174786830869,
          -0.2663074862302335,
          1.2333682595654787,
          0.13796620315491115,
          0.0057041245113695635,
          0.412917020734218,
          0.23865432191821495,
          0.5065339609050801,
          -0.6925694953378969,
          -0.026446794780587146,
          -0.06475640554797196,
          -0.3446106690484418,
          0.5569329770877339,
          -0.1738856363317943,
          1.4132900725586053,
          0.5334262689843003,
          -0.6694902766680653,
          -0.37074495041061745,
          -0.17119048891228544,
          -1.5647514632194899,
          0.004023378941902747,
          0.8810753994171026,
          -1.2184413372674996,
          -2.1481159031421484,
          -1.4962719748944955,
          0.38038407459807444,
          0.2765898772414553,
          -0.11068749614747805,
          -1.047817447159204,
          -0.2100501154288501,
          1.0337835973410112,
          0.7557620116787,
          -1.0507032147285573,
          -0.4880355055022291,
          2.187073071990288,
          -1.6687730112146275,
          0.5285813339439062,
          0.21622635990512282,
          0.5654349024962452,
          0.7680214651948842,
          1.124622659275688,
          -0.024373578774586648,
          -0.7540674874965095,
          1.3378437781960533,
          0.5837528107495575
         ],
         "yaxis": "y8"
        },
        {
         "line": {
          "color": "rgba(128, 128, 128, 1.0)",
          "dash": "solid",
          "shape": "linear",
          "width": 1.3
         },
         "marker": {
          "size": 2,
          "symbol": "circle"
         },
         "mode": "markers",
         "name": "C",
         "text": "",
         "type": "scatter",
         "x": [
          0.8425800230056536,
          0.8228729931602605,
          0.45302144958655327,
          -0.15464636949214794,
          -0.3344287501808655,
          -0.6155627897642467,
          -0.8511015145286904,
          -0.22416144352609133,
          0.6602592697073943,
          1.6688045668274765,
          -1.1078003079394538,
          0.5205314770180932,
          -0.3363048584250365,
          0.40602399155108443,
          0.19011255413451617,
          2.4654201650905123,
          0.32154357233462094,
          -0.8213877114714514,
          0.5107565293763973,
          -1.3839586003113933,
          -1.0639421497820791,
          0.6849377969963686,
          -1.1333905961531854,
          -0.11635118566959907,
          -0.37936734911283415,
          0.4456028260228318,
          1.9327013265029618,
          -0.024565439083912236,
          0.7526701692658325,
          -0.5662253860236415,
          0.8821763247769187,
          0.2805875093621268,
          -0.9788739014698855,
          0.3036651709603921,
          0.5396091606224961,
          0.6665514304418824,
          0.5352043387203083,
          1.2129258711535873,
          0.7240042780223538,
          -1.0098975715722636,
          -0.16289919477076262,
          -0.8154323532297832,
          -0.3977749740844525,
          0.7845287767499552,
          -0.5823264324213028,
          1.7668402955824636,
          -0.5784049432184615,
          -0.11684278517136609,
          0.2951817195596696,
          -1.9513260315146401,
          -0.629934701459229,
          0.045131028591535005,
          -0.8402131275960164,
          0.5006646482393786,
          1.7927717048719476,
          -0.6399442017860044,
          1.7017414053525006,
          0.5571691974779828,
          -1.0823590214650136,
          -1.6669125591790803,
          -1.1665984022067872,
          1.5447897360165155,
          0.49559664950232923,
          -0.7110348817342973,
          0.048815188290864814,
          -0.07622169384583687,
          -0.9396682102311819,
          0.9048619394581252,
          0.3236739195518902,
          0.9322713987437912,
          -0.3677385853043386,
          -1.0783725873956171,
          1.2426757883845556,
          1.7282300608014385,
          0.5351211848501362,
          0.7207300381574594,
          -0.6571632159603973,
          0.3005500199868126,
          -2.2034542653997344,
          -2.261749854662406,
          -0.4732251632090071,
          -0.5134968603809374,
          0.6522671412507076,
          -0.315077705434412,
          0.675942762735105,
          1.5233300660474078,
          -0.954080252681867,
          0.9823848551740675,
          -1.635832764245846,
          0.2167668557418693,
          -0.7951469007973236,
          1.1919912435334072,
          1.2511730130201058,
          -1.3838268497648982,
          -0.5664230216840095,
          -1.4987921435235554,
          -0.8066030673898453,
          1.092576357472236,
          -0.20879159797990765,
          0.22369880671706246
         ],
         "xaxis": "x9",
         "y": [
          0.24430933548097938,
          1.153157602825409,
          -1.2279459252863203,
          1.34340724612936,
          -0.041217502047060275,
          0.41171615392618505,
          1.5385559112446923,
          0.7648732837580414,
          1.2378221548680792,
          0.8511119537704597,
          1.9690704973099573,
          -1.8007532668730664,
          2.211973052243103,
          -0.7983479866474343,
          -0.29133270666818645,
          -0.2289200971962283,
          1.1412626871206657,
          0.3842870026485587,
          -1.6005022711784263,
          0.6692586074246968,
          1.7735671759213478,
          1.9066771495638766,
          0.9253219764391617,
          1.8582921789382436,
          -0.15884192047449688,
          -0.39439741097725123,
          -0.2131805015106247,
          1.5741254666344635,
          -1.0100141106641953,
          -0.03476626901184274,
          -0.8335710814137562,
          -0.0653294080398027,
          -0.12828440976953612,
          -0.9096442945756971,
          -0.22250174965853964,
          -1.0459393019196757,
          0.5022898453992217,
          -0.41463437973204087,
          0.38459399713052483,
          -0.7403464056984084,
          2.1359896146811814,
          1.734780254189919,
          -0.9025801865894815,
          0.3238163927053441,
          1.3472241632251434,
          -0.3945797957321719,
          0.2771037961882595,
          -0.6569062211767643,
          0.6674534973140019,
          2.293379398802492,
          -0.5841650469229548,
          -0.34249580540799407,
          -0.8634874002341889,
          -0.3259320769993883,
          0.33668399721733394,
          -1.3330431325215952,
          1.381662448939186,
          0.6183398648741613,
          0.809238047601535,
          0.7880679042469689,
          0.5842877879690729,
          -0.8706838222745634,
          -0.40908624865416454,
          0.6664524585549024,
          0.0747499839073245,
          0.8295433441676373,
          -0.2362185970845391,
          -0.9264137234251151,
          -1.2849226628774835,
          1.3655036094147055,
          -0.5625816562288798,
          -2.2635612706842365,
          1.2033885621650329,
          -0.28087317812398044,
          -0.7813035190340818,
          -1.7519181672150388,
          -2.228152552477639,
          -0.4907622535720897,
          -0.03653668122069601,
          -0.8108740162363595,
          2.4177594473685597,
          2.46316891258294,
          -1.7451934795051316,
          0.7691652719656158,
          0.5816674802232281,
          1.5052698101150037,
          0.047409094104972634,
          1.0377271562410213,
          0.29542513549251703,
          -0.8663848619675543,
          0.6700696195512402,
          0.8374786403455478,
          0.568879257414912,
          -1.2354708353599495,
          -1.1596129743241204,
          0.40109989839742444,
          0.03378650387113606,
          0.7485891058768023,
          1.770630426917514,
          0.005838117675093689
         ],
         "yaxis": "y9"
        },
        {
         "line": {
          "color": "rgba(128, 128, 128, 1.0)",
          "dash": "solid",
          "shape": "linear",
          "width": 1.3
         },
         "marker": {
          "size": 2,
          "symbol": "circle"
         },
         "mode": "markers",
         "name": "C",
         "text": "",
         "type": "scatter",
         "x": [
          0.09759749197282581,
          0.6137315514697458,
          -0.2854572156585551,
          0.12142749701404602,
          -0.30538017910705795,
          0.9653249896933419,
          0.30763722494900336,
          -1.1804135293053442,
          2.0108948250826093,
          2.3281200521482357,
          0.8375326746814203,
          -1.1552593469105479,
          0.8209178718438593,
          -2.1722914069362815,
          -0.19986657830185683,
          -0.7093964594384959,
          -0.37191912168682706,
          1.065137719776101,
          2.0031885770388995,
          0.43456347993737837,
          0.527346750628352,
          -1.2824861366308757,
          0.03924695575136877,
          -0.7168935257821382,
          -0.30359036230906783,
          -0.6962633344761804,
          0.4211274074392302,
          1.6871651877846425,
          -0.039050782188639416,
          2.072099683982022,
          0.5204468688348854,
          1.0164792926890849,
          -0.7316803836275722,
          -0.3898451347452699,
          0.6294922442320586,
          1.183797549303694,
          -0.921297878278392,
          0.222282348897835,
          0.9547244715510609,
          -0.8592356555646143,
          -0.8440219747360963,
          -1.4596730660029675,
          -0.3579668388348763,
          -1.4899713082696882,
          -2.3650778604752984,
          1.0468466219410333,
          0.9046954089969772,
          1.253496239045731,
          0.23066745133877534,
          0.42399151575975924,
          -0.5724448167613085,
          -0.0312127195328586,
          0.44684169836912685,
          1.661791445451631,
          0.39485216421711317,
          -0.9018174786830869,
          -0.2663074862302335,
          1.2333682595654787,
          0.13796620315491115,
          0.0057041245113695635,
          0.412917020734218,
          0.23865432191821495,
          0.5065339609050801,
          -0.6925694953378969,
          -0.026446794780587146,
          -0.06475640554797196,
          -0.3446106690484418,
          0.5569329770877339,
          -0.1738856363317943,
          1.4132900725586053,
          0.5334262689843003,
          -0.6694902766680653,
          -0.37074495041061745,
          -0.17119048891228544,
          -1.5647514632194899,
          0.004023378941902747,
          0.8810753994171026,
          -1.2184413372674996,
          -2.1481159031421484,
          -1.4962719748944955,
          0.38038407459807444,
          0.2765898772414553,
          -0.11068749614747805,
          -1.047817447159204,
          -0.2100501154288501,
          1.0337835973410112,
          0.7557620116787,
          -1.0507032147285573,
          -0.4880355055022291,
          2.187073071990288,
          -1.6687730112146275,
          0.5285813339439062,
          0.21622635990512282,
          0.5654349024962452,
          0.7680214651948842,
          1.124622659275688,
          -0.024373578774586648,
          -0.7540674874965095,
          1.3378437781960533,
          0.5837528107495575
         ],
         "xaxis": "x10",
         "y": [
          0.24430933548097938,
          1.153157602825409,
          -1.2279459252863203,
          1.34340724612936,
          -0.041217502047060275,
          0.41171615392618505,
          1.5385559112446923,
          0.7648732837580414,
          1.2378221548680792,
          0.8511119537704597,
          1.9690704973099573,
          -1.8007532668730664,
          2.211973052243103,
          -0.7983479866474343,
          -0.29133270666818645,
          -0.2289200971962283,
          1.1412626871206657,
          0.3842870026485587,
          -1.6005022711784263,
          0.6692586074246968,
          1.7735671759213478,
          1.9066771495638766,
          0.9253219764391617,
          1.8582921789382436,
          -0.15884192047449688,
          -0.39439741097725123,
          -0.2131805015106247,
          1.5741254666344635,
          -1.0100141106641953,
          -0.03476626901184274,
          -0.8335710814137562,
          -0.0653294080398027,
          -0.12828440976953612,
          -0.9096442945756971,
          -0.22250174965853964,
          -1.0459393019196757,
          0.5022898453992217,
          -0.41463437973204087,
          0.38459399713052483,
          -0.7403464056984084,
          2.1359896146811814,
          1.734780254189919,
          -0.9025801865894815,
          0.3238163927053441,
          1.3472241632251434,
          -0.3945797957321719,
          0.2771037961882595,
          -0.6569062211767643,
          0.6674534973140019,
          2.293379398802492,
          -0.5841650469229548,
          -0.34249580540799407,
          -0.8634874002341889,
          -0.3259320769993883,
          0.33668399721733394,
          -1.3330431325215952,
          1.381662448939186,
          0.6183398648741613,
          0.809238047601535,
          0.7880679042469689,
          0.5842877879690729,
          -0.8706838222745634,
          -0.40908624865416454,
          0.6664524585549024,
          0.0747499839073245,
          0.8295433441676373,
          -0.2362185970845391,
          -0.9264137234251151,
          -1.2849226628774835,
          1.3655036094147055,
          -0.5625816562288798,
          -2.2635612706842365,
          1.2033885621650329,
          -0.28087317812398044,
          -0.7813035190340818,
          -1.7519181672150388,
          -2.228152552477639,
          -0.4907622535720897,
          -0.03653668122069601,
          -0.8108740162363595,
          2.4177594473685597,
          2.46316891258294,
          -1.7451934795051316,
          0.7691652719656158,
          0.5816674802232281,
          1.5052698101150037,
          0.047409094104972634,
          1.0377271562410213,
          0.29542513549251703,
          -0.8663848619675543,
          0.6700696195512402,
          0.8374786403455478,
          0.568879257414912,
          -1.2354708353599495,
          -1.1596129743241204,
          0.40109989839742444,
          0.03378650387113606,
          0.7485891058768023,
          1.770630426917514,
          0.005838117675093689
         ],
         "yaxis": "y10"
        },
        {
         "histfunc": "count",
         "histnorm": "",
         "marker": {
          "color": "rgba(50, 171, 96, 1.0)",
          "line": {
           "color": "#4D5663",
           "width": 1.3
          }
         },
         "name": "C",
         "nbinsx": 10,
         "opacity": 0.8,
         "orientation": "v",
         "type": "histogram",
         "x": [
          0.24430933548097938,
          1.153157602825409,
          -1.2279459252863203,
          1.34340724612936,
          -0.041217502047060275,
          0.41171615392618505,
          1.5385559112446923,
          0.7648732837580414,
          1.2378221548680792,
          0.8511119537704597,
          1.9690704973099573,
          -1.8007532668730664,
          2.211973052243103,
          -0.7983479866474343,
          -0.29133270666818645,
          -0.2289200971962283,
          1.1412626871206657,
          0.3842870026485587,
          -1.6005022711784263,
          0.6692586074246968,
          1.7735671759213478,
          1.9066771495638766,
          0.9253219764391617,
          1.8582921789382436,
          -0.15884192047449688,
          -0.39439741097725123,
          -0.2131805015106247,
          1.5741254666344635,
          -1.0100141106641953,
          -0.03476626901184274,
          -0.8335710814137562,
          -0.0653294080398027,
          -0.12828440976953612,
          -0.9096442945756971,
          -0.22250174965853964,
          -1.0459393019196757,
          0.5022898453992217,
          -0.41463437973204087,
          0.38459399713052483,
          -0.7403464056984084,
          2.1359896146811814,
          1.734780254189919,
          -0.9025801865894815,
          0.3238163927053441,
          1.3472241632251434,
          -0.3945797957321719,
          0.2771037961882595,
          -0.6569062211767643,
          0.6674534973140019,
          2.293379398802492,
          -0.5841650469229548,
          -0.34249580540799407,
          -0.8634874002341889,
          -0.3259320769993883,
          0.33668399721733394,
          -1.3330431325215952,
          1.381662448939186,
          0.6183398648741613,
          0.809238047601535,
          0.7880679042469689,
          0.5842877879690729,
          -0.8706838222745634,
          -0.40908624865416454,
          0.6664524585549024,
          0.0747499839073245,
          0.8295433441676373,
          -0.2362185970845391,
          -0.9264137234251151,
          -1.2849226628774835,
          1.3655036094147055,
          -0.5625816562288798,
          -2.2635612706842365,
          1.2033885621650329,
          -0.28087317812398044,
          -0.7813035190340818,
          -1.7519181672150388,
          -2.228152552477639,
          -0.4907622535720897,
          -0.03653668122069601,
          -0.8108740162363595,
          2.4177594473685597,
          2.46316891258294,
          -1.7451934795051316,
          0.7691652719656158,
          0.5816674802232281,
          1.5052698101150037,
          0.047409094104972634,
          1.0377271562410213,
          0.29542513549251703,
          -0.8663848619675543,
          0.6700696195512402,
          0.8374786403455478,
          0.568879257414912,
          -1.2354708353599495,
          -1.1596129743241204,
          0.40109989839742444,
          0.03378650387113606,
          0.7485891058768023,
          1.770630426917514,
          0.005838117675093689
         ],
         "xaxis": "x11",
         "yaxis": "y11"
        },
        {
         "line": {
          "color": "rgba(128, 128, 128, 1.0)",
          "dash": "solid",
          "shape": "linear",
          "width": 1.3
         },
         "marker": {
          "size": 2,
          "symbol": "circle"
         },
         "mode": "markers",
         "name": "C",
         "text": "",
         "type": "scatter",
         "x": [
          1.184062315155887,
          1.527483216771176,
          -1.0655051484545195,
          -0.6712804772540937,
          1.2371574403508276,
          1.2236238969124587,
          -0.28045735708845626,
          0.5369439714930251,
          -0.5638007803370333,
          0.68712613704467,
          -0.7287440735648303,
          -0.8952305631023365,
          0.3335254264840793,
          1.272238600063057,
          -1.3243852900837494,
          1.392162823999808,
          1.3001977211877824,
          -0.1542139604045163,
          0.33022950912113225,
          -1.9571234379781695,
          0.707180351643294,
          -1.249109612850024,
          1.2129536630531366,
          -1.0767534894287658,
          -1.3213062316384054,
          -1.4872244226905027,
          0.8397338356265742,
          -0.3915542509891903,
          -0.02477733133517658,
          1.7074401615142256,
          0.25729119013882734,
          -1.5100323633656736,
          -0.09753628257118523,
          0.3571576691260107,
          0.3853401782528403,
          -0.11556419449201895,
          1.9009948600521027,
          -2.411028782040256,
          -0.5594357347699908,
          -0.11278987704667931,
          -0.7465254935335087,
          -0.3676830048285222,
          0.3656382522253938,
          0.6606360733105158,
          1.4216595984196339,
          -0.4259169824157992,
          0.814969265296277,
          -0.495696993792867,
          -0.29919033881126783,
          1.0413642963182843,
          0.8476541736422291,
          -2.261162219489303,
          0.3203861626520892,
          -0.06977502458511345,
          -0.5283915208910475,
          -1.3028688036421616,
          0.20687433546990835,
          2.1293401958604528,
          -0.2140889080223543,
          0.29109948457084767,
          -0.3661037119211918,
          -1.0279872418856912,
          -0.9155602344639235,
          -2.3089877676430834,
          0.27632576778296936,
          0.19431709899160535,
          1.9114522640897547,
          1.5764762791456104,
          1.1657075545856808,
          0.928435488307569,
          -1.4845418793709166,
          -2.4076974875848656,
          -1.0240745445257948,
          -0.03118671284458697,
          -0.2191144485962299,
          -0.9446152419219586,
          0.08030568123631247,
          -0.6455931102542941,
          0.7635236364240873,
          -0.373200458556742,
          1.4865572238803655,
          3.168375539296968,
          -0.05542321652642558,
          1.140301099757501,
          -1.8174723416024499,
          -0.08071578336944459,
          1.2026104163099178,
          0.5039704657875177,
          -1.171311689434029,
          0.2617423451571207,
          0.568487315710609,
          0.06604297698075867,
          0.848213756418194,
          -0.18746021047415282,
          -0.6420253276627698,
          0.5556320263205276,
          1.0091823937409712,
          0.09966301567257936,
          -0.11011429558125099,
          0.4267380945547899
         ],
         "xaxis": "x12",
         "y": [
          0.24430933548097938,
          1.153157602825409,
          -1.2279459252863203,
          1.34340724612936,
          -0.041217502047060275,
          0.41171615392618505,
          1.5385559112446923,
          0.7648732837580414,
          1.2378221548680792,
          0.8511119537704597,
          1.9690704973099573,
          -1.8007532668730664,
          2.211973052243103,
          -0.7983479866474343,
          -0.29133270666818645,
          -0.2289200971962283,
          1.1412626871206657,
          0.3842870026485587,
          -1.6005022711784263,
          0.6692586074246968,
          1.7735671759213478,
          1.9066771495638766,
          0.9253219764391617,
          1.8582921789382436,
          -0.15884192047449688,
          -0.39439741097725123,
          -0.2131805015106247,
          1.5741254666344635,
          -1.0100141106641953,
          -0.03476626901184274,
          -0.8335710814137562,
          -0.0653294080398027,
          -0.12828440976953612,
          -0.9096442945756971,
          -0.22250174965853964,
          -1.0459393019196757,
          0.5022898453992217,
          -0.41463437973204087,
          0.38459399713052483,
          -0.7403464056984084,
          2.1359896146811814,
          1.734780254189919,
          -0.9025801865894815,
          0.3238163927053441,
          1.3472241632251434,
          -0.3945797957321719,
          0.2771037961882595,
          -0.6569062211767643,
          0.6674534973140019,
          2.293379398802492,
          -0.5841650469229548,
          -0.34249580540799407,
          -0.8634874002341889,
          -0.3259320769993883,
          0.33668399721733394,
          -1.3330431325215952,
          1.381662448939186,
          0.6183398648741613,
          0.809238047601535,
          0.7880679042469689,
          0.5842877879690729,
          -0.8706838222745634,
          -0.40908624865416454,
          0.6664524585549024,
          0.0747499839073245,
          0.8295433441676373,
          -0.2362185970845391,
          -0.9264137234251151,
          -1.2849226628774835,
          1.3655036094147055,
          -0.5625816562288798,
          -2.2635612706842365,
          1.2033885621650329,
          -0.28087317812398044,
          -0.7813035190340818,
          -1.7519181672150388,
          -2.228152552477639,
          -0.4907622535720897,
          -0.03653668122069601,
          -0.8108740162363595,
          2.4177594473685597,
          2.46316891258294,
          -1.7451934795051316,
          0.7691652719656158,
          0.5816674802232281,
          1.5052698101150037,
          0.047409094104972634,
          1.0377271562410213,
          0.29542513549251703,
          -0.8663848619675543,
          0.6700696195512402,
          0.8374786403455478,
          0.568879257414912,
          -1.2354708353599495,
          -1.1596129743241204,
          0.40109989839742444,
          0.03378650387113606,
          0.7485891058768023,
          1.770630426917514,
          0.005838117675093689
         ],
         "yaxis": "y12"
        },
        {
         "line": {
          "color": "rgba(128, 128, 128, 1.0)",
          "dash": "solid",
          "shape": "linear",
          "width": 1.3
         },
         "marker": {
          "size": 2,
          "symbol": "circle"
         },
         "mode": "markers",
         "name": "D",
         "text": "",
         "type": "scatter",
         "x": [
          0.8425800230056536,
          0.8228729931602605,
          0.45302144958655327,
          -0.15464636949214794,
          -0.3344287501808655,
          -0.6155627897642467,
          -0.8511015145286904,
          -0.22416144352609133,
          0.6602592697073943,
          1.6688045668274765,
          -1.1078003079394538,
          0.5205314770180932,
          -0.3363048584250365,
          0.40602399155108443,
          0.19011255413451617,
          2.4654201650905123,
          0.32154357233462094,
          -0.8213877114714514,
          0.5107565293763973,
          -1.3839586003113933,
          -1.0639421497820791,
          0.6849377969963686,
          -1.1333905961531854,
          -0.11635118566959907,
          -0.37936734911283415,
          0.4456028260228318,
          1.9327013265029618,
          -0.024565439083912236,
          0.7526701692658325,
          -0.5662253860236415,
          0.8821763247769187,
          0.2805875093621268,
          -0.9788739014698855,
          0.3036651709603921,
          0.5396091606224961,
          0.6665514304418824,
          0.5352043387203083,
          1.2129258711535873,
          0.7240042780223538,
          -1.0098975715722636,
          -0.16289919477076262,
          -0.8154323532297832,
          -0.3977749740844525,
          0.7845287767499552,
          -0.5823264324213028,
          1.7668402955824636,
          -0.5784049432184615,
          -0.11684278517136609,
          0.2951817195596696,
          -1.9513260315146401,
          -0.629934701459229,
          0.045131028591535005,
          -0.8402131275960164,
          0.5006646482393786,
          1.7927717048719476,
          -0.6399442017860044,
          1.7017414053525006,
          0.5571691974779828,
          -1.0823590214650136,
          -1.6669125591790803,
          -1.1665984022067872,
          1.5447897360165155,
          0.49559664950232923,
          -0.7110348817342973,
          0.048815188290864814,
          -0.07622169384583687,
          -0.9396682102311819,
          0.9048619394581252,
          0.3236739195518902,
          0.9322713987437912,
          -0.3677385853043386,
          -1.0783725873956171,
          1.2426757883845556,
          1.7282300608014385,
          0.5351211848501362,
          0.7207300381574594,
          -0.6571632159603973,
          0.3005500199868126,
          -2.2034542653997344,
          -2.261749854662406,
          -0.4732251632090071,
          -0.5134968603809374,
          0.6522671412507076,
          -0.315077705434412,
          0.675942762735105,
          1.5233300660474078,
          -0.954080252681867,
          0.9823848551740675,
          -1.635832764245846,
          0.2167668557418693,
          -0.7951469007973236,
          1.1919912435334072,
          1.2511730130201058,
          -1.3838268497648982,
          -0.5664230216840095,
          -1.4987921435235554,
          -0.8066030673898453,
          1.092576357472236,
          -0.20879159797990765,
          0.22369880671706246
         ],
         "xaxis": "x13",
         "y": [
          1.184062315155887,
          1.527483216771176,
          -1.0655051484545195,
          -0.6712804772540937,
          1.2371574403508276,
          1.2236238969124587,
          -0.28045735708845626,
          0.5369439714930251,
          -0.5638007803370333,
          0.68712613704467,
          -0.7287440735648303,
          -0.8952305631023365,
          0.3335254264840793,
          1.272238600063057,
          -1.3243852900837494,
          1.392162823999808,
          1.3001977211877824,
          -0.1542139604045163,
          0.33022950912113225,
          -1.9571234379781695,
          0.707180351643294,
          -1.249109612850024,
          1.2129536630531366,
          -1.0767534894287658,
          -1.3213062316384054,
          -1.4872244226905027,
          0.8397338356265742,
          -0.3915542509891903,
          -0.02477733133517658,
          1.7074401615142256,
          0.25729119013882734,
          -1.5100323633656736,
          -0.09753628257118523,
          0.3571576691260107,
          0.3853401782528403,
          -0.11556419449201895,
          1.9009948600521027,
          -2.411028782040256,
          -0.5594357347699908,
          -0.11278987704667931,
          -0.7465254935335087,
          -0.3676830048285222,
          0.3656382522253938,
          0.6606360733105158,
          1.4216595984196339,
          -0.4259169824157992,
          0.814969265296277,
          -0.495696993792867,
          -0.29919033881126783,
          1.0413642963182843,
          0.8476541736422291,
          -2.261162219489303,
          0.3203861626520892,
          -0.06977502458511345,
          -0.5283915208910475,
          -1.3028688036421616,
          0.20687433546990835,
          2.1293401958604528,
          -0.2140889080223543,
          0.29109948457084767,
          -0.3661037119211918,
          -1.0279872418856912,
          -0.9155602344639235,
          -2.3089877676430834,
          0.27632576778296936,
          0.19431709899160535,
          1.9114522640897547,
          1.5764762791456104,
          1.1657075545856808,
          0.928435488307569,
          -1.4845418793709166,
          -2.4076974875848656,
          -1.0240745445257948,
          -0.03118671284458697,
          -0.2191144485962299,
          -0.9446152419219586,
          0.08030568123631247,
          -0.6455931102542941,
          0.7635236364240873,
          -0.373200458556742,
          1.4865572238803655,
          3.168375539296968,
          -0.05542321652642558,
          1.140301099757501,
          -1.8174723416024499,
          -0.08071578336944459,
          1.2026104163099178,
          0.5039704657875177,
          -1.171311689434029,
          0.2617423451571207,
          0.568487315710609,
          0.06604297698075867,
          0.848213756418194,
          -0.18746021047415282,
          -0.6420253276627698,
          0.5556320263205276,
          1.0091823937409712,
          0.09966301567257936,
          -0.11011429558125099,
          0.4267380945547899
         ],
         "yaxis": "y13"
        },
        {
         "line": {
          "color": "rgba(128, 128, 128, 1.0)",
          "dash": "solid",
          "shape": "linear",
          "width": 1.3
         },
         "marker": {
          "size": 2,
          "symbol": "circle"
         },
         "mode": "markers",
         "name": "D",
         "text": "",
         "type": "scatter",
         "x": [
          0.09759749197282581,
          0.6137315514697458,
          -0.2854572156585551,
          0.12142749701404602,
          -0.30538017910705795,
          0.9653249896933419,
          0.30763722494900336,
          -1.1804135293053442,
          2.0108948250826093,
          2.3281200521482357,
          0.8375326746814203,
          -1.1552593469105479,
          0.8209178718438593,
          -2.1722914069362815,
          -0.19986657830185683,
          -0.7093964594384959,
          -0.37191912168682706,
          1.065137719776101,
          2.0031885770388995,
          0.43456347993737837,
          0.527346750628352,
          -1.2824861366308757,
          0.03924695575136877,
          -0.7168935257821382,
          -0.30359036230906783,
          -0.6962633344761804,
          0.4211274074392302,
          1.6871651877846425,
          -0.039050782188639416,
          2.072099683982022,
          0.5204468688348854,
          1.0164792926890849,
          -0.7316803836275722,
          -0.3898451347452699,
          0.6294922442320586,
          1.183797549303694,
          -0.921297878278392,
          0.222282348897835,
          0.9547244715510609,
          -0.8592356555646143,
          -0.8440219747360963,
          -1.4596730660029675,
          -0.3579668388348763,
          -1.4899713082696882,
          -2.3650778604752984,
          1.0468466219410333,
          0.9046954089969772,
          1.253496239045731,
          0.23066745133877534,
          0.42399151575975924,
          -0.5724448167613085,
          -0.0312127195328586,
          0.44684169836912685,
          1.661791445451631,
          0.39485216421711317,
          -0.9018174786830869,
          -0.2663074862302335,
          1.2333682595654787,
          0.13796620315491115,
          0.0057041245113695635,
          0.412917020734218,
          0.23865432191821495,
          0.5065339609050801,
          -0.6925694953378969,
          -0.026446794780587146,
          -0.06475640554797196,
          -0.3446106690484418,
          0.5569329770877339,
          -0.1738856363317943,
          1.4132900725586053,
          0.5334262689843003,
          -0.6694902766680653,
          -0.37074495041061745,
          -0.17119048891228544,
          -1.5647514632194899,
          0.004023378941902747,
          0.8810753994171026,
          -1.2184413372674996,
          -2.1481159031421484,
          -1.4962719748944955,
          0.38038407459807444,
          0.2765898772414553,
          -0.11068749614747805,
          -1.047817447159204,
          -0.2100501154288501,
          1.0337835973410112,
          0.7557620116787,
          -1.0507032147285573,
          -0.4880355055022291,
          2.187073071990288,
          -1.6687730112146275,
          0.5285813339439062,
          0.21622635990512282,
          0.5654349024962452,
          0.7680214651948842,
          1.124622659275688,
          -0.024373578774586648,
          -0.7540674874965095,
          1.3378437781960533,
          0.5837528107495575
         ],
         "xaxis": "x14",
         "y": [
          1.184062315155887,
          1.527483216771176,
          -1.0655051484545195,
          -0.6712804772540937,
          1.2371574403508276,
          1.2236238969124587,
          -0.28045735708845626,
          0.5369439714930251,
          -0.5638007803370333,
          0.68712613704467,
          -0.7287440735648303,
          -0.8952305631023365,
          0.3335254264840793,
          1.272238600063057,
          -1.3243852900837494,
          1.392162823999808,
          1.3001977211877824,
          -0.1542139604045163,
          0.33022950912113225,
          -1.9571234379781695,
          0.707180351643294,
          -1.249109612850024,
          1.2129536630531366,
          -1.0767534894287658,
          -1.3213062316384054,
          -1.4872244226905027,
          0.8397338356265742,
          -0.3915542509891903,
          -0.02477733133517658,
          1.7074401615142256,
          0.25729119013882734,
          -1.5100323633656736,
          -0.09753628257118523,
          0.3571576691260107,
          0.3853401782528403,
          -0.11556419449201895,
          1.9009948600521027,
          -2.411028782040256,
          -0.5594357347699908,
          -0.11278987704667931,
          -0.7465254935335087,
          -0.3676830048285222,
          0.3656382522253938,
          0.6606360733105158,
          1.4216595984196339,
          -0.4259169824157992,
          0.814969265296277,
          -0.495696993792867,
          -0.29919033881126783,
          1.0413642963182843,
          0.8476541736422291,
          -2.261162219489303,
          0.3203861626520892,
          -0.06977502458511345,
          -0.5283915208910475,
          -1.3028688036421616,
          0.20687433546990835,
          2.1293401958604528,
          -0.2140889080223543,
          0.29109948457084767,
          -0.3661037119211918,
          -1.0279872418856912,
          -0.9155602344639235,
          -2.3089877676430834,
          0.27632576778296936,
          0.19431709899160535,
          1.9114522640897547,
          1.5764762791456104,
          1.1657075545856808,
          0.928435488307569,
          -1.4845418793709166,
          -2.4076974875848656,
          -1.0240745445257948,
          -0.03118671284458697,
          -0.2191144485962299,
          -0.9446152419219586,
          0.08030568123631247,
          -0.6455931102542941,
          0.7635236364240873,
          -0.373200458556742,
          1.4865572238803655,
          3.168375539296968,
          -0.05542321652642558,
          1.140301099757501,
          -1.8174723416024499,
          -0.08071578336944459,
          1.2026104163099178,
          0.5039704657875177,
          -1.171311689434029,
          0.2617423451571207,
          0.568487315710609,
          0.06604297698075867,
          0.848213756418194,
          -0.18746021047415282,
          -0.6420253276627698,
          0.5556320263205276,
          1.0091823937409712,
          0.09966301567257936,
          -0.11011429558125099,
          0.4267380945547899
         ],
         "yaxis": "y14"
        },
        {
         "line": {
          "color": "rgba(128, 128, 128, 1.0)",
          "dash": "solid",
          "shape": "linear",
          "width": 1.3
         },
         "marker": {
          "size": 2,
          "symbol": "circle"
         },
         "mode": "markers",
         "name": "D",
         "text": "",
         "type": "scatter",
         "x": [
          0.24430933548097938,
          1.153157602825409,
          -1.2279459252863203,
          1.34340724612936,
          -0.041217502047060275,
          0.41171615392618505,
          1.5385559112446923,
          0.7648732837580414,
          1.2378221548680792,
          0.8511119537704597,
          1.9690704973099573,
          -1.8007532668730664,
          2.211973052243103,
          -0.7983479866474343,
          -0.29133270666818645,
          -0.2289200971962283,
          1.1412626871206657,
          0.3842870026485587,
          -1.6005022711784263,
          0.6692586074246968,
          1.7735671759213478,
          1.9066771495638766,
          0.9253219764391617,
          1.8582921789382436,
          -0.15884192047449688,
          -0.39439741097725123,
          -0.2131805015106247,
          1.5741254666344635,
          -1.0100141106641953,
          -0.03476626901184274,
          -0.8335710814137562,
          -0.0653294080398027,
          -0.12828440976953612,
          -0.9096442945756971,
          -0.22250174965853964,
          -1.0459393019196757,
          0.5022898453992217,
          -0.41463437973204087,
          0.38459399713052483,
          -0.7403464056984084,
          2.1359896146811814,
          1.734780254189919,
          -0.9025801865894815,
          0.3238163927053441,
          1.3472241632251434,
          -0.3945797957321719,
          0.2771037961882595,
          -0.6569062211767643,
          0.6674534973140019,
          2.293379398802492,
          -0.5841650469229548,
          -0.34249580540799407,
          -0.8634874002341889,
          -0.3259320769993883,
          0.33668399721733394,
          -1.3330431325215952,
          1.381662448939186,
          0.6183398648741613,
          0.809238047601535,
          0.7880679042469689,
          0.5842877879690729,
          -0.8706838222745634,
          -0.40908624865416454,
          0.6664524585549024,
          0.0747499839073245,
          0.8295433441676373,
          -0.2362185970845391,
          -0.9264137234251151,
          -1.2849226628774835,
          1.3655036094147055,
          -0.5625816562288798,
          -2.2635612706842365,
          1.2033885621650329,
          -0.28087317812398044,
          -0.7813035190340818,
          -1.7519181672150388,
          -2.228152552477639,
          -0.4907622535720897,
          -0.03653668122069601,
          -0.8108740162363595,
          2.4177594473685597,
          2.46316891258294,
          -1.7451934795051316,
          0.7691652719656158,
          0.5816674802232281,
          1.5052698101150037,
          0.047409094104972634,
          1.0377271562410213,
          0.29542513549251703,
          -0.8663848619675543,
          0.6700696195512402,
          0.8374786403455478,
          0.568879257414912,
          -1.2354708353599495,
          -1.1596129743241204,
          0.40109989839742444,
          0.03378650387113606,
          0.7485891058768023,
          1.770630426917514,
          0.005838117675093689
         ],
         "xaxis": "x15",
         "y": [
          1.184062315155887,
          1.527483216771176,
          -1.0655051484545195,
          -0.6712804772540937,
          1.2371574403508276,
          1.2236238969124587,
          -0.28045735708845626,
          0.5369439714930251,
          -0.5638007803370333,
          0.68712613704467,
          -0.7287440735648303,
          -0.8952305631023365,
          0.3335254264840793,
          1.272238600063057,
          -1.3243852900837494,
          1.392162823999808,
          1.3001977211877824,
          -0.1542139604045163,
          0.33022950912113225,
          -1.9571234379781695,
          0.707180351643294,
          -1.249109612850024,
          1.2129536630531366,
          -1.0767534894287658,
          -1.3213062316384054,
          -1.4872244226905027,
          0.8397338356265742,
          -0.3915542509891903,
          -0.02477733133517658,
          1.7074401615142256,
          0.25729119013882734,
          -1.5100323633656736,
          -0.09753628257118523,
          0.3571576691260107,
          0.3853401782528403,
          -0.11556419449201895,
          1.9009948600521027,
          -2.411028782040256,
          -0.5594357347699908,
          -0.11278987704667931,
          -0.7465254935335087,
          -0.3676830048285222,
          0.3656382522253938,
          0.6606360733105158,
          1.4216595984196339,
          -0.4259169824157992,
          0.814969265296277,
          -0.495696993792867,
          -0.29919033881126783,
          1.0413642963182843,
          0.8476541736422291,
          -2.261162219489303,
          0.3203861626520892,
          -0.06977502458511345,
          -0.5283915208910475,
          -1.3028688036421616,
          0.20687433546990835,
          2.1293401958604528,
          -0.2140889080223543,
          0.29109948457084767,
          -0.3661037119211918,
          -1.0279872418856912,
          -0.9155602344639235,
          -2.3089877676430834,
          0.27632576778296936,
          0.19431709899160535,
          1.9114522640897547,
          1.5764762791456104,
          1.1657075545856808,
          0.928435488307569,
          -1.4845418793709166,
          -2.4076974875848656,
          -1.0240745445257948,
          -0.03118671284458697,
          -0.2191144485962299,
          -0.9446152419219586,
          0.08030568123631247,
          -0.6455931102542941,
          0.7635236364240873,
          -0.373200458556742,
          1.4865572238803655,
          3.168375539296968,
          -0.05542321652642558,
          1.140301099757501,
          -1.8174723416024499,
          -0.08071578336944459,
          1.2026104163099178,
          0.5039704657875177,
          -1.171311689434029,
          0.2617423451571207,
          0.568487315710609,
          0.06604297698075867,
          0.848213756418194,
          -0.18746021047415282,
          -0.6420253276627698,
          0.5556320263205276,
          1.0091823937409712,
          0.09966301567257936,
          -0.11011429558125099,
          0.4267380945547899
         ],
         "yaxis": "y15"
        },
        {
         "histfunc": "count",
         "histnorm": "",
         "marker": {
          "color": "rgba(128, 0, 128, 1.0)",
          "line": {
           "color": "#4D5663",
           "width": 1.3
          }
         },
         "name": "D",
         "nbinsx": 10,
         "opacity": 0.8,
         "orientation": "v",
         "type": "histogram",
         "x": [
          1.184062315155887,
          1.527483216771176,
          -1.0655051484545195,
          -0.6712804772540937,
          1.2371574403508276,
          1.2236238969124587,
          -0.28045735708845626,
          0.5369439714930251,
          -0.5638007803370333,
          0.68712613704467,
          -0.7287440735648303,
          -0.8952305631023365,
          0.3335254264840793,
          1.272238600063057,
          -1.3243852900837494,
          1.392162823999808,
          1.3001977211877824,
          -0.1542139604045163,
          0.33022950912113225,
          -1.9571234379781695,
          0.707180351643294,
          -1.249109612850024,
          1.2129536630531366,
          -1.0767534894287658,
          -1.3213062316384054,
          -1.4872244226905027,
          0.8397338356265742,
          -0.3915542509891903,
          -0.02477733133517658,
          1.7074401615142256,
          0.25729119013882734,
          -1.5100323633656736,
          -0.09753628257118523,
          0.3571576691260107,
          0.3853401782528403,
          -0.11556419449201895,
          1.9009948600521027,
          -2.411028782040256,
          -0.5594357347699908,
          -0.11278987704667931,
          -0.7465254935335087,
          -0.3676830048285222,
          0.3656382522253938,
          0.6606360733105158,
          1.4216595984196339,
          -0.4259169824157992,
          0.814969265296277,
          -0.495696993792867,
          -0.29919033881126783,
          1.0413642963182843,
          0.8476541736422291,
          -2.261162219489303,
          0.3203861626520892,
          -0.06977502458511345,
          -0.5283915208910475,
          -1.3028688036421616,
          0.20687433546990835,
          2.1293401958604528,
          -0.2140889080223543,
          0.29109948457084767,
          -0.3661037119211918,
          -1.0279872418856912,
          -0.9155602344639235,
          -2.3089877676430834,
          0.27632576778296936,
          0.19431709899160535,
          1.9114522640897547,
          1.5764762791456104,
          1.1657075545856808,
          0.928435488307569,
          -1.4845418793709166,
          -2.4076974875848656,
          -1.0240745445257948,
          -0.03118671284458697,
          -0.2191144485962299,
          -0.9446152419219586,
          0.08030568123631247,
          -0.6455931102542941,
          0.7635236364240873,
          -0.373200458556742,
          1.4865572238803655,
          3.168375539296968,
          -0.05542321652642558,
          1.140301099757501,
          -1.8174723416024499,
          -0.08071578336944459,
          1.2026104163099178,
          0.5039704657875177,
          -1.171311689434029,
          0.2617423451571207,
          0.568487315710609,
          0.06604297698075867,
          0.848213756418194,
          -0.18746021047415282,
          -0.6420253276627698,
          0.5556320263205276,
          1.0091823937409712,
          0.09966301567257936,
          -0.11011429558125099,
          0.4267380945547899
         ],
         "xaxis": "x16",
         "yaxis": "y16"
        }
       ],
       "layout": {
        "bargap": 0.02,
        "legend": {
         "bgcolor": "#F5F6F9",
         "font": {
          "color": "#4D5663"
         }
        },
        "paper_bgcolor": "#F5F6F9",
        "plot_bgcolor": "#F5F6F9",
        "showlegend": false,
        "template": {
         "data": {
          "bar": [
           {
            "error_x": {
             "color": "#2a3f5f"
            },
            "error_y": {
             "color": "#2a3f5f"
            },
            "marker": {
             "line": {
              "color": "#E5ECF6",
              "width": 0.5
             }
            },
            "type": "bar"
           }
          ],
          "barpolar": [
           {
            "marker": {
             "line": {
              "color": "#E5ECF6",
              "width": 0.5
             }
            },
            "type": "barpolar"
           }
          ],
          "carpet": [
           {
            "aaxis": {
             "endlinecolor": "#2a3f5f",
             "gridcolor": "white",
             "linecolor": "white",
             "minorgridcolor": "white",
             "startlinecolor": "#2a3f5f"
            },
            "baxis": {
             "endlinecolor": "#2a3f5f",
             "gridcolor": "white",
             "linecolor": "white",
             "minorgridcolor": "white",
             "startlinecolor": "#2a3f5f"
            },
            "type": "carpet"
           }
          ],
          "choropleth": [
           {
            "colorbar": {
             "outlinewidth": 0,
             "ticks": ""
            },
            "type": "choropleth"
           }
          ],
          "contour": [
           {
            "colorbar": {
             "outlinewidth": 0,
             "ticks": ""
            },
            "colorscale": [
             [
              0,
              "#0d0887"
             ],
             [
              0.1111111111111111,
              "#46039f"
             ],
             [
              0.2222222222222222,
              "#7201a8"
             ],
             [
              0.3333333333333333,
              "#9c179e"
             ],
             [
              0.4444444444444444,
              "#bd3786"
             ],
             [
              0.5555555555555556,
              "#d8576b"
             ],
             [
              0.6666666666666666,
              "#ed7953"
             ],
             [
              0.7777777777777778,
              "#fb9f3a"
             ],
             [
              0.8888888888888888,
              "#fdca26"
             ],
             [
              1,
              "#f0f921"
             ]
            ],
            "type": "contour"
           }
          ],
          "contourcarpet": [
           {
            "colorbar": {
             "outlinewidth": 0,
             "ticks": ""
            },
            "type": "contourcarpet"
           }
          ],
          "heatmap": [
           {
            "colorbar": {
             "outlinewidth": 0,
             "ticks": ""
            },
            "colorscale": [
             [
              0,
              "#0d0887"
             ],
             [
              0.1111111111111111,
              "#46039f"
             ],
             [
              0.2222222222222222,
              "#7201a8"
             ],
             [
              0.3333333333333333,
              "#9c179e"
             ],
             [
              0.4444444444444444,
              "#bd3786"
             ],
             [
              0.5555555555555556,
              "#d8576b"
             ],
             [
              0.6666666666666666,
              "#ed7953"
             ],
             [
              0.7777777777777778,
              "#fb9f3a"
             ],
             [
              0.8888888888888888,
              "#fdca26"
             ],
             [
              1,
              "#f0f921"
             ]
            ],
            "type": "heatmap"
           }
          ],
          "heatmapgl": [
           {
            "colorbar": {
             "outlinewidth": 0,
             "ticks": ""
            },
            "colorscale": [
             [
              0,
              "#0d0887"
             ],
             [
              0.1111111111111111,
              "#46039f"
             ],
             [
              0.2222222222222222,
              "#7201a8"
             ],
             [
              0.3333333333333333,
              "#9c179e"
             ],
             [
              0.4444444444444444,
              "#bd3786"
             ],
             [
              0.5555555555555556,
              "#d8576b"
             ],
             [
              0.6666666666666666,
              "#ed7953"
             ],
             [
              0.7777777777777778,
              "#fb9f3a"
             ],
             [
              0.8888888888888888,
              "#fdca26"
             ],
             [
              1,
              "#f0f921"
             ]
            ],
            "type": "heatmapgl"
           }
          ],
          "histogram": [
           {
            "marker": {
             "colorbar": {
              "outlinewidth": 0,
              "ticks": ""
             }
            },
            "type": "histogram"
           }
          ],
          "histogram2d": [
           {
            "colorbar": {
             "outlinewidth": 0,
             "ticks": ""
            },
            "colorscale": [
             [
              0,
              "#0d0887"
             ],
             [
              0.1111111111111111,
              "#46039f"
             ],
             [
              0.2222222222222222,
              "#7201a8"
             ],
             [
              0.3333333333333333,
              "#9c179e"
             ],
             [
              0.4444444444444444,
              "#bd3786"
             ],
             [
              0.5555555555555556,
              "#d8576b"
             ],
             [
              0.6666666666666666,
              "#ed7953"
             ],
             [
              0.7777777777777778,
              "#fb9f3a"
             ],
             [
              0.8888888888888888,
              "#fdca26"
             ],
             [
              1,
              "#f0f921"
             ]
            ],
            "type": "histogram2d"
           }
          ],
          "histogram2dcontour": [
           {
            "colorbar": {
             "outlinewidth": 0,
             "ticks": ""
            },
            "colorscale": [
             [
              0,
              "#0d0887"
             ],
             [
              0.1111111111111111,
              "#46039f"
             ],
             [
              0.2222222222222222,
              "#7201a8"
             ],
             [
              0.3333333333333333,
              "#9c179e"
             ],
             [
              0.4444444444444444,
              "#bd3786"
             ],
             [
              0.5555555555555556,
              "#d8576b"
             ],
             [
              0.6666666666666666,
              "#ed7953"
             ],
             [
              0.7777777777777778,
              "#fb9f3a"
             ],
             [
              0.8888888888888888,
              "#fdca26"
             ],
             [
              1,
              "#f0f921"
             ]
            ],
            "type": "histogram2dcontour"
           }
          ],
          "mesh3d": [
           {
            "colorbar": {
             "outlinewidth": 0,
             "ticks": ""
            },
            "type": "mesh3d"
           }
          ],
          "parcoords": [
           {
            "line": {
             "colorbar": {
              "outlinewidth": 0,
              "ticks": ""
             }
            },
            "type": "parcoords"
           }
          ],
          "pie": [
           {
            "automargin": true,
            "type": "pie"
           }
          ],
          "scatter": [
           {
            "marker": {
             "colorbar": {
              "outlinewidth": 0,
              "ticks": ""
             }
            },
            "type": "scatter"
           }
          ],
          "scatter3d": [
           {
            "line": {
             "colorbar": {
              "outlinewidth": 0,
              "ticks": ""
             }
            },
            "marker": {
             "colorbar": {
              "outlinewidth": 0,
              "ticks": ""
             }
            },
            "type": "scatter3d"
           }
          ],
          "scattercarpet": [
           {
            "marker": {
             "colorbar": {
              "outlinewidth": 0,
              "ticks": ""
             }
            },
            "type": "scattercarpet"
           }
          ],
          "scattergeo": [
           {
            "marker": {
             "colorbar": {
              "outlinewidth": 0,
              "ticks": ""
             }
            },
            "type": "scattergeo"
           }
          ],
          "scattergl": [
           {
            "marker": {
             "colorbar": {
              "outlinewidth": 0,
              "ticks": ""
             }
            },
            "type": "scattergl"
           }
          ],
          "scattermapbox": [
           {
            "marker": {
             "colorbar": {
              "outlinewidth": 0,
              "ticks": ""
             }
            },
            "type": "scattermapbox"
           }
          ],
          "scatterpolar": [
           {
            "marker": {
             "colorbar": {
              "outlinewidth": 0,
              "ticks": ""
             }
            },
            "type": "scatterpolar"
           }
          ],
          "scatterpolargl": [
           {
            "marker": {
             "colorbar": {
              "outlinewidth": 0,
              "ticks": ""
             }
            },
            "type": "scatterpolargl"
           }
          ],
          "scatterternary": [
           {
            "marker": {
             "colorbar": {
              "outlinewidth": 0,
              "ticks": ""
             }
            },
            "type": "scatterternary"
           }
          ],
          "surface": [
           {
            "colorbar": {
             "outlinewidth": 0,
             "ticks": ""
            },
            "colorscale": [
             [
              0,
              "#0d0887"
             ],
             [
              0.1111111111111111,
              "#46039f"
             ],
             [
              0.2222222222222222,
              "#7201a8"
             ],
             [
              0.3333333333333333,
              "#9c179e"
             ],
             [
              0.4444444444444444,
              "#bd3786"
             ],
             [
              0.5555555555555556,
              "#d8576b"
             ],
             [
              0.6666666666666666,
              "#ed7953"
             ],
             [
              0.7777777777777778,
              "#fb9f3a"
             ],
             [
              0.8888888888888888,
              "#fdca26"
             ],
             [
              1,
              "#f0f921"
             ]
            ],
            "type": "surface"
           }
          ],
          "table": [
           {
            "cells": {
             "fill": {
              "color": "#EBF0F8"
             },
             "line": {
              "color": "white"
             }
            },
            "header": {
             "fill": {
              "color": "#C8D4E3"
             },
             "line": {
              "color": "white"
             }
            },
            "type": "table"
           }
          ]
         },
         "layout": {
          "annotationdefaults": {
           "arrowcolor": "#2a3f5f",
           "arrowhead": 0,
           "arrowwidth": 1
          },
          "coloraxis": {
           "colorbar": {
            "outlinewidth": 0,
            "ticks": ""
           }
          },
          "colorscale": {
           "diverging": [
            [
             0,
             "#8e0152"
            ],
            [
             0.1,
             "#c51b7d"
            ],
            [
             0.2,
             "#de77ae"
            ],
            [
             0.3,
             "#f1b6da"
            ],
            [
             0.4,
             "#fde0ef"
            ],
            [
             0.5,
             "#f7f7f7"
            ],
            [
             0.6,
             "#e6f5d0"
            ],
            [
             0.7,
             "#b8e186"
            ],
            [
             0.8,
             "#7fbc41"
            ],
            [
             0.9,
             "#4d9221"
            ],
            [
             1,
             "#276419"
            ]
           ],
           "sequential": [
            [
             0,
             "#0d0887"
            ],
            [
             0.1111111111111111,
             "#46039f"
            ],
            [
             0.2222222222222222,
             "#7201a8"
            ],
            [
             0.3333333333333333,
             "#9c179e"
            ],
            [
             0.4444444444444444,
             "#bd3786"
            ],
            [
             0.5555555555555556,
             "#d8576b"
            ],
            [
             0.6666666666666666,
             "#ed7953"
            ],
            [
             0.7777777777777778,
             "#fb9f3a"
            ],
            [
             0.8888888888888888,
             "#fdca26"
            ],
            [
             1,
             "#f0f921"
            ]
           ],
           "sequentialminus": [
            [
             0,
             "#0d0887"
            ],
            [
             0.1111111111111111,
             "#46039f"
            ],
            [
             0.2222222222222222,
             "#7201a8"
            ],
            [
             0.3333333333333333,
             "#9c179e"
            ],
            [
             0.4444444444444444,
             "#bd3786"
            ],
            [
             0.5555555555555556,
             "#d8576b"
            ],
            [
             0.6666666666666666,
             "#ed7953"
            ],
            [
             0.7777777777777778,
             "#fb9f3a"
            ],
            [
             0.8888888888888888,
             "#fdca26"
            ],
            [
             1,
             "#f0f921"
            ]
           ]
          },
          "colorway": [
           "#636efa",
           "#EF553B",
           "#00cc96",
           "#ab63fa",
           "#FFA15A",
           "#19d3f3",
           "#FF6692",
           "#B6E880",
           "#FF97FF",
           "#FECB52"
          ],
          "font": {
           "color": "#2a3f5f"
          },
          "geo": {
           "bgcolor": "white",
           "lakecolor": "white",
           "landcolor": "#E5ECF6",
           "showlakes": true,
           "showland": true,
           "subunitcolor": "white"
          },
          "hoverlabel": {
           "align": "left"
          },
          "hovermode": "closest",
          "mapbox": {
           "style": "light"
          },
          "paper_bgcolor": "white",
          "plot_bgcolor": "#E5ECF6",
          "polar": {
           "angularaxis": {
            "gridcolor": "white",
            "linecolor": "white",
            "ticks": ""
           },
           "bgcolor": "#E5ECF6",
           "radialaxis": {
            "gridcolor": "white",
            "linecolor": "white",
            "ticks": ""
           }
          },
          "scene": {
           "xaxis": {
            "backgroundcolor": "#E5ECF6",
            "gridcolor": "white",
            "gridwidth": 2,
            "linecolor": "white",
            "showbackground": true,
            "ticks": "",
            "zerolinecolor": "white"
           },
           "yaxis": {
            "backgroundcolor": "#E5ECF6",
            "gridcolor": "white",
            "gridwidth": 2,
            "linecolor": "white",
            "showbackground": true,
            "ticks": "",
            "zerolinecolor": "white"
           },
           "zaxis": {
            "backgroundcolor": "#E5ECF6",
            "gridcolor": "white",
            "gridwidth": 2,
            "linecolor": "white",
            "showbackground": true,
            "ticks": "",
            "zerolinecolor": "white"
           }
          },
          "shapedefaults": {
           "line": {
            "color": "#2a3f5f"
           }
          },
          "ternary": {
           "aaxis": {
            "gridcolor": "white",
            "linecolor": "white",
            "ticks": ""
           },
           "baxis": {
            "gridcolor": "white",
            "linecolor": "white",
            "ticks": ""
           },
           "bgcolor": "#E5ECF6",
           "caxis": {
            "gridcolor": "white",
            "linecolor": "white",
            "ticks": ""
           }
          },
          "title": {
           "x": 0.05
          },
          "xaxis": {
           "automargin": true,
           "gridcolor": "white",
           "linecolor": "white",
           "ticks": "",
           "title": {
            "standoff": 15
           },
           "zerolinecolor": "white",
           "zerolinewidth": 2
          },
          "yaxis": {
           "automargin": true,
           "gridcolor": "white",
           "linecolor": "white",
           "ticks": "",
           "title": {
            "standoff": 15
           },
           "zerolinecolor": "white",
           "zerolinewidth": 2
          }
         }
        },
        "title": {
         "font": {
          "color": "#4D5663"
         }
        },
        "xaxis": {
         "anchor": "y",
         "domain": [
          0,
          0.2125
         ],
         "gridcolor": "#E1E5ED",
         "showgrid": false,
         "tickfont": {
          "color": "#4D5663"
         },
         "title": {
          "font": {
           "color": "#4D5663"
          },
          "text": ""
         },
         "zerolinecolor": "#E1E5ED"
        },
        "xaxis10": {
         "anchor": "y10",
         "domain": [
          0.2625,
          0.475
         ],
         "gridcolor": "#E1E5ED",
         "showgrid": false,
         "tickfont": {
          "color": "#4D5663"
         },
         "title": {
          "font": {
           "color": "#4D5663"
          },
          "text": ""
         },
         "zerolinecolor": "#E1E5ED"
        },
        "xaxis11": {
         "anchor": "y11",
         "domain": [
          0.525,
          0.7375
         ],
         "gridcolor": "#E1E5ED",
         "showgrid": false,
         "tickfont": {
          "color": "#4D5663"
         },
         "title": {
          "font": {
           "color": "#4D5663"
          },
          "text": ""
         },
         "zerolinecolor": "#E1E5ED"
        },
        "xaxis12": {
         "anchor": "y12",
         "domain": [
          0.7875,
          1
         ],
         "gridcolor": "#E1E5ED",
         "showgrid": false,
         "tickfont": {
          "color": "#4D5663"
         },
         "title": {
          "font": {
           "color": "#4D5663"
          },
          "text": ""
         },
         "zerolinecolor": "#E1E5ED"
        },
        "xaxis13": {
         "anchor": "y13",
         "domain": [
          0,
          0.2125
         ],
         "gridcolor": "#E1E5ED",
         "showgrid": false,
         "tickfont": {
          "color": "#4D5663"
         },
         "title": {
          "font": {
           "color": "#4D5663"
          },
          "text": ""
         },
         "zerolinecolor": "#E1E5ED"
        },
        "xaxis14": {
         "anchor": "y14",
         "domain": [
          0.2625,
          0.475
         ],
         "gridcolor": "#E1E5ED",
         "showgrid": false,
         "tickfont": {
          "color": "#4D5663"
         },
         "title": {
          "font": {
           "color": "#4D5663"
          },
          "text": ""
         },
         "zerolinecolor": "#E1E5ED"
        },
        "xaxis15": {
         "anchor": "y15",
         "domain": [
          0.525,
          0.7375
         ],
         "gridcolor": "#E1E5ED",
         "showgrid": false,
         "tickfont": {
          "color": "#4D5663"
         },
         "title": {
          "font": {
           "color": "#4D5663"
          },
          "text": ""
         },
         "zerolinecolor": "#E1E5ED"
        },
        "xaxis16": {
         "anchor": "y16",
         "domain": [
          0.7875,
          1
         ],
         "gridcolor": "#E1E5ED",
         "showgrid": false,
         "tickfont": {
          "color": "#4D5663"
         },
         "title": {
          "font": {
           "color": "#4D5663"
          },
          "text": ""
         },
         "zerolinecolor": "#E1E5ED"
        },
        "xaxis2": {
         "anchor": "y2",
         "domain": [
          0.2625,
          0.475
         ],
         "gridcolor": "#E1E5ED",
         "showgrid": false,
         "tickfont": {
          "color": "#4D5663"
         },
         "title": {
          "font": {
           "color": "#4D5663"
          },
          "text": ""
         },
         "zerolinecolor": "#E1E5ED"
        },
        "xaxis3": {
         "anchor": "y3",
         "domain": [
          0.525,
          0.7375
         ],
         "gridcolor": "#E1E5ED",
         "showgrid": false,
         "tickfont": {
          "color": "#4D5663"
         },
         "title": {
          "font": {
           "color": "#4D5663"
          },
          "text": ""
         },
         "zerolinecolor": "#E1E5ED"
        },
        "xaxis4": {
         "anchor": "y4",
         "domain": [
          0.7875,
          1
         ],
         "gridcolor": "#E1E5ED",
         "showgrid": false,
         "tickfont": {
          "color": "#4D5663"
         },
         "title": {
          "font": {
           "color": "#4D5663"
          },
          "text": ""
         },
         "zerolinecolor": "#E1E5ED"
        },
        "xaxis5": {
         "anchor": "y5",
         "domain": [
          0,
          0.2125
         ],
         "gridcolor": "#E1E5ED",
         "showgrid": false,
         "tickfont": {
          "color": "#4D5663"
         },
         "title": {
          "font": {
           "color": "#4D5663"
          },
          "text": ""
         },
         "zerolinecolor": "#E1E5ED"
        },
        "xaxis6": {
         "anchor": "y6",
         "domain": [
          0.2625,
          0.475
         ],
         "gridcolor": "#E1E5ED",
         "showgrid": false,
         "tickfont": {
          "color": "#4D5663"
         },
         "title": {
          "font": {
           "color": "#4D5663"
          },
          "text": ""
         },
         "zerolinecolor": "#E1E5ED"
        },
        "xaxis7": {
         "anchor": "y7",
         "domain": [
          0.525,
          0.7375
         ],
         "gridcolor": "#E1E5ED",
         "showgrid": false,
         "tickfont": {
          "color": "#4D5663"
         },
         "title": {
          "font": {
           "color": "#4D5663"
          },
          "text": ""
         },
         "zerolinecolor": "#E1E5ED"
        },
        "xaxis8": {
         "anchor": "y8",
         "domain": [
          0.7875,
          1
         ],
         "gridcolor": "#E1E5ED",
         "showgrid": false,
         "tickfont": {
          "color": "#4D5663"
         },
         "title": {
          "font": {
           "color": "#4D5663"
          },
          "text": ""
         },
         "zerolinecolor": "#E1E5ED"
        },
        "xaxis9": {
         "anchor": "y9",
         "domain": [
          0,
          0.2125
         ],
         "gridcolor": "#E1E5ED",
         "showgrid": false,
         "tickfont": {
          "color": "#4D5663"
         },
         "title": {
          "font": {
           "color": "#4D5663"
          },
          "text": ""
         },
         "zerolinecolor": "#E1E5ED"
        },
        "yaxis": {
         "anchor": "x",
         "domain": [
          0.8025,
          1
         ],
         "gridcolor": "#E1E5ED",
         "showgrid": false,
         "tickfont": {
          "color": "#4D5663"
         },
         "title": {
          "font": {
           "color": "#4D5663"
          },
          "text": ""
         },
         "zerolinecolor": "#E1E5ED"
        },
        "yaxis10": {
         "anchor": "x10",
         "domain": [
          0.2675,
          0.465
         ],
         "gridcolor": "#E1E5ED",
         "showgrid": false,
         "tickfont": {
          "color": "#4D5663"
         },
         "title": {
          "font": {
           "color": "#4D5663"
          },
          "text": ""
         },
         "zerolinecolor": "#E1E5ED"
        },
        "yaxis11": {
         "anchor": "x11",
         "domain": [
          0.2675,
          0.465
         ],
         "gridcolor": "#E1E5ED",
         "showgrid": false,
         "tickfont": {
          "color": "#4D5663"
         },
         "title": {
          "font": {
           "color": "#4D5663"
          },
          "text": ""
         },
         "zerolinecolor": "#E1E5ED"
        },
        "yaxis12": {
         "anchor": "x12",
         "domain": [
          0.2675,
          0.465
         ],
         "gridcolor": "#E1E5ED",
         "showgrid": false,
         "tickfont": {
          "color": "#4D5663"
         },
         "title": {
          "font": {
           "color": "#4D5663"
          },
          "text": ""
         },
         "zerolinecolor": "#E1E5ED"
        },
        "yaxis13": {
         "anchor": "x13",
         "domain": [
          0,
          0.1975
         ],
         "gridcolor": "#E1E5ED",
         "showgrid": false,
         "tickfont": {
          "color": "#4D5663"
         },
         "title": {
          "font": {
           "color": "#4D5663"
          },
          "text": ""
         },
         "zerolinecolor": "#E1E5ED"
        },
        "yaxis14": {
         "anchor": "x14",
         "domain": [
          0,
          0.1975
         ],
         "gridcolor": "#E1E5ED",
         "showgrid": false,
         "tickfont": {
          "color": "#4D5663"
         },
         "title": {
          "font": {
           "color": "#4D5663"
          },
          "text": ""
         },
         "zerolinecolor": "#E1E5ED"
        },
        "yaxis15": {
         "anchor": "x15",
         "domain": [
          0,
          0.1975
         ],
         "gridcolor": "#E1E5ED",
         "showgrid": false,
         "tickfont": {
          "color": "#4D5663"
         },
         "title": {
          "font": {
           "color": "#4D5663"
          },
          "text": ""
         },
         "zerolinecolor": "#E1E5ED"
        },
        "yaxis16": {
         "anchor": "x16",
         "domain": [
          0,
          0.1975
         ],
         "gridcolor": "#E1E5ED",
         "showgrid": false,
         "tickfont": {
          "color": "#4D5663"
         },
         "title": {
          "font": {
           "color": "#4D5663"
          },
          "text": ""
         },
         "zerolinecolor": "#E1E5ED"
        },
        "yaxis2": {
         "anchor": "x2",
         "domain": [
          0.8025,
          1
         ],
         "gridcolor": "#E1E5ED",
         "showgrid": false,
         "tickfont": {
          "color": "#4D5663"
         },
         "title": {
          "font": {
           "color": "#4D5663"
          },
          "text": ""
         },
         "zerolinecolor": "#E1E5ED"
        },
        "yaxis3": {
         "anchor": "x3",
         "domain": [
          0.8025,
          1
         ],
         "gridcolor": "#E1E5ED",
         "showgrid": false,
         "tickfont": {
          "color": "#4D5663"
         },
         "title": {
          "font": {
           "color": "#4D5663"
          },
          "text": ""
         },
         "zerolinecolor": "#E1E5ED"
        },
        "yaxis4": {
         "anchor": "x4",
         "domain": [
          0.8025,
          1
         ],
         "gridcolor": "#E1E5ED",
         "showgrid": false,
         "tickfont": {
          "color": "#4D5663"
         },
         "title": {
          "font": {
           "color": "#4D5663"
          },
          "text": ""
         },
         "zerolinecolor": "#E1E5ED"
        },
        "yaxis5": {
         "anchor": "x5",
         "domain": [
          0.535,
          0.7325
         ],
         "gridcolor": "#E1E5ED",
         "showgrid": false,
         "tickfont": {
          "color": "#4D5663"
         },
         "title": {
          "font": {
           "color": "#4D5663"
          },
          "text": ""
         },
         "zerolinecolor": "#E1E5ED"
        },
        "yaxis6": {
         "anchor": "x6",
         "domain": [
          0.535,
          0.7325
         ],
         "gridcolor": "#E1E5ED",
         "showgrid": false,
         "tickfont": {
          "color": "#4D5663"
         },
         "title": {
          "font": {
           "color": "#4D5663"
          },
          "text": ""
         },
         "zerolinecolor": "#E1E5ED"
        },
        "yaxis7": {
         "anchor": "x7",
         "domain": [
          0.535,
          0.7325
         ],
         "gridcolor": "#E1E5ED",
         "showgrid": false,
         "tickfont": {
          "color": "#4D5663"
         },
         "title": {
          "font": {
           "color": "#4D5663"
          },
          "text": ""
         },
         "zerolinecolor": "#E1E5ED"
        },
        "yaxis8": {
         "anchor": "x8",
         "domain": [
          0.535,
          0.7325
         ],
         "gridcolor": "#E1E5ED",
         "showgrid": false,
         "tickfont": {
          "color": "#4D5663"
         },
         "title": {
          "font": {
           "color": "#4D5663"
          },
          "text": ""
         },
         "zerolinecolor": "#E1E5ED"
        },
        "yaxis9": {
         "anchor": "x9",
         "domain": [
          0.2675,
          0.465
         ],
         "gridcolor": "#E1E5ED",
         "showgrid": false,
         "tickfont": {
          "color": "#4D5663"
         },
         "title": {
          "font": {
           "color": "#4D5663"
          },
          "text": ""
         },
         "zerolinecolor": "#E1E5ED"
        }
       }
      },
      "text/html": [
       "<div>\n",
       "        \n",
       "        \n",
       "            <div id=\"096dd599-7aa4-4074-ad14-5afcfaf6c5bd\" class=\"plotly-graph-div\" style=\"height:525px; width:100%;\"></div>\n",
       "            <script type=\"text/javascript\">\n",
       "                require([\"plotly\"], function(Plotly) {\n",
       "                    window.PLOTLYENV=window.PLOTLYENV || {};\n",
       "                    window.PLOTLYENV.BASE_URL='https://plot.ly';\n",
       "                    \n",
       "                if (document.getElementById(\"096dd599-7aa4-4074-ad14-5afcfaf6c5bd\")) {\n",
       "                    Plotly.newPlot(\n",
       "                        '096dd599-7aa4-4074-ad14-5afcfaf6c5bd',\n",
       "                        [{\"histfunc\": \"count\", \"histnorm\": \"\", \"marker\": {\"color\": \"rgba(255, 153, 51, 1.0)\", \"line\": {\"color\": \"#4D5663\", \"width\": 1.3}}, \"name\": \"A\", \"nbinsx\": 10, \"opacity\": 0.8, \"orientation\": \"v\", \"type\": \"histogram\", \"x\": [0.8425800230056536, 0.8228729931602605, 0.45302144958655327, -0.15464636949214794, -0.3344287501808655, -0.6155627897642467, -0.8511015145286904, -0.22416144352609133, 0.6602592697073943, 1.6688045668274765, -1.1078003079394538, 0.5205314770180932, -0.3363048584250365, 0.40602399155108443, 0.19011255413451617, 2.4654201650905123, 0.32154357233462094, -0.8213877114714514, 0.5107565293763973, -1.3839586003113933, -1.0639421497820791, 0.6849377969963686, -1.1333905961531854, -0.11635118566959907, -0.37936734911283415, 0.4456028260228318, 1.9327013265029618, -0.024565439083912236, 0.7526701692658325, -0.5662253860236415, 0.8821763247769187, 0.2805875093621268, -0.9788739014698855, 0.3036651709603921, 0.5396091606224961, 0.6665514304418824, 0.5352043387203083, 1.2129258711535873, 0.7240042780223538, -1.0098975715722636, -0.16289919477076262, -0.8154323532297832, -0.3977749740844525, 0.7845287767499552, -0.5823264324213028, 1.7668402955824636, -0.5784049432184615, -0.11684278517136609, 0.2951817195596696, -1.9513260315146401, -0.629934701459229, 0.045131028591535005, -0.8402131275960164, 0.5006646482393786, 1.7927717048719476, -0.6399442017860044, 1.7017414053525006, 0.5571691974779828, -1.0823590214650136, -1.6669125591790803, -1.1665984022067872, 1.5447897360165155, 0.49559664950232923, -0.7110348817342973, 0.048815188290864814, -0.07622169384583687, -0.9396682102311819, 0.9048619394581252, 0.3236739195518902, 0.9322713987437912, -0.3677385853043386, -1.0783725873956171, 1.2426757883845556, 1.7282300608014385, 0.5351211848501362, 0.7207300381574594, -0.6571632159603973, 0.3005500199868126, -2.2034542653997344, -2.261749854662406, -0.4732251632090071, -0.5134968603809374, 0.6522671412507076, -0.315077705434412, 0.675942762735105, 1.5233300660474078, -0.954080252681867, 0.9823848551740675, -1.635832764245846, 0.2167668557418693, -0.7951469007973236, 1.1919912435334072, 1.2511730130201058, -1.3838268497648982, -0.5664230216840095, -1.4987921435235554, -0.8066030673898453, 1.092576357472236, -0.20879159797990765, 0.22369880671706246], \"xaxis\": \"x\", \"yaxis\": \"y\"}, {\"line\": {\"color\": \"rgba(128, 128, 128, 1.0)\", \"dash\": \"solid\", \"shape\": \"linear\", \"width\": 1.3}, \"marker\": {\"size\": 2, \"symbol\": \"circle\"}, \"mode\": \"markers\", \"name\": \"A\", \"text\": \"\", \"type\": \"scatter\", \"x\": [0.09759749197282581, 0.6137315514697458, -0.2854572156585551, 0.12142749701404602, -0.30538017910705795, 0.9653249896933419, 0.30763722494900336, -1.1804135293053442, 2.0108948250826093, 2.3281200521482357, 0.8375326746814203, -1.1552593469105479, 0.8209178718438593, -2.1722914069362815, -0.19986657830185683, -0.7093964594384959, -0.37191912168682706, 1.065137719776101, 2.0031885770388995, 0.43456347993737837, 0.527346750628352, -1.2824861366308757, 0.03924695575136877, -0.7168935257821382, -0.30359036230906783, -0.6962633344761804, 0.4211274074392302, 1.6871651877846425, -0.039050782188639416, 2.072099683982022, 0.5204468688348854, 1.0164792926890849, -0.7316803836275722, -0.3898451347452699, 0.6294922442320586, 1.183797549303694, -0.921297878278392, 0.222282348897835, 0.9547244715510609, -0.8592356555646143, -0.8440219747360963, -1.4596730660029675, -0.3579668388348763, -1.4899713082696882, -2.3650778604752984, 1.0468466219410333, 0.9046954089969772, 1.253496239045731, 0.23066745133877534, 0.42399151575975924, -0.5724448167613085, -0.0312127195328586, 0.44684169836912685, 1.661791445451631, 0.39485216421711317, -0.9018174786830869, -0.2663074862302335, 1.2333682595654787, 0.13796620315491115, 0.0057041245113695635, 0.412917020734218, 0.23865432191821495, 0.5065339609050801, -0.6925694953378969, -0.026446794780587146, -0.06475640554797196, -0.3446106690484418, 0.5569329770877339, -0.1738856363317943, 1.4132900725586053, 0.5334262689843003, -0.6694902766680653, -0.37074495041061745, -0.17119048891228544, -1.5647514632194899, 0.004023378941902747, 0.8810753994171026, -1.2184413372674996, -2.1481159031421484, -1.4962719748944955, 0.38038407459807444, 0.2765898772414553, -0.11068749614747805, -1.047817447159204, -0.2100501154288501, 1.0337835973410112, 0.7557620116787, -1.0507032147285573, -0.4880355055022291, 2.187073071990288, -1.6687730112146275, 0.5285813339439062, 0.21622635990512282, 0.5654349024962452, 0.7680214651948842, 1.124622659275688, -0.024373578774586648, -0.7540674874965095, 1.3378437781960533, 0.5837528107495575], \"xaxis\": \"x2\", \"y\": [0.8425800230056536, 0.8228729931602605, 0.45302144958655327, -0.15464636949214794, -0.3344287501808655, -0.6155627897642467, -0.8511015145286904, -0.22416144352609133, 0.6602592697073943, 1.6688045668274765, -1.1078003079394538, 0.5205314770180932, -0.3363048584250365, 0.40602399155108443, 0.19011255413451617, 2.4654201650905123, 0.32154357233462094, -0.8213877114714514, 0.5107565293763973, -1.3839586003113933, -1.0639421497820791, 0.6849377969963686, -1.1333905961531854, -0.11635118566959907, -0.37936734911283415, 0.4456028260228318, 1.9327013265029618, -0.024565439083912236, 0.7526701692658325, -0.5662253860236415, 0.8821763247769187, 0.2805875093621268, -0.9788739014698855, 0.3036651709603921, 0.5396091606224961, 0.6665514304418824, 0.5352043387203083, 1.2129258711535873, 0.7240042780223538, -1.0098975715722636, -0.16289919477076262, -0.8154323532297832, -0.3977749740844525, 0.7845287767499552, -0.5823264324213028, 1.7668402955824636, -0.5784049432184615, -0.11684278517136609, 0.2951817195596696, -1.9513260315146401, -0.629934701459229, 0.045131028591535005, -0.8402131275960164, 0.5006646482393786, 1.7927717048719476, -0.6399442017860044, 1.7017414053525006, 0.5571691974779828, -1.0823590214650136, -1.6669125591790803, -1.1665984022067872, 1.5447897360165155, 0.49559664950232923, -0.7110348817342973, 0.048815188290864814, -0.07622169384583687, -0.9396682102311819, 0.9048619394581252, 0.3236739195518902, 0.9322713987437912, -0.3677385853043386, -1.0783725873956171, 1.2426757883845556, 1.7282300608014385, 0.5351211848501362, 0.7207300381574594, -0.6571632159603973, 0.3005500199868126, -2.2034542653997344, -2.261749854662406, -0.4732251632090071, -0.5134968603809374, 0.6522671412507076, -0.315077705434412, 0.675942762735105, 1.5233300660474078, -0.954080252681867, 0.9823848551740675, -1.635832764245846, 0.2167668557418693, -0.7951469007973236, 1.1919912435334072, 1.2511730130201058, -1.3838268497648982, -0.5664230216840095, -1.4987921435235554, -0.8066030673898453, 1.092576357472236, -0.20879159797990765, 0.22369880671706246], \"yaxis\": \"y2\"}, {\"line\": {\"color\": \"rgba(128, 128, 128, 1.0)\", \"dash\": \"solid\", \"shape\": \"linear\", \"width\": 1.3}, \"marker\": {\"size\": 2, \"symbol\": \"circle\"}, \"mode\": \"markers\", \"name\": \"A\", \"text\": \"\", \"type\": \"scatter\", \"x\": [0.24430933548097938, 1.153157602825409, -1.2279459252863203, 1.34340724612936, -0.041217502047060275, 0.41171615392618505, 1.5385559112446923, 0.7648732837580414, 1.2378221548680792, 0.8511119537704597, 1.9690704973099573, -1.8007532668730664, 2.211973052243103, -0.7983479866474343, -0.29133270666818645, -0.2289200971962283, 1.1412626871206657, 0.3842870026485587, -1.6005022711784263, 0.6692586074246968, 1.7735671759213478, 1.9066771495638766, 0.9253219764391617, 1.8582921789382436, -0.15884192047449688, -0.39439741097725123, -0.2131805015106247, 1.5741254666344635, -1.0100141106641953, -0.03476626901184274, -0.8335710814137562, -0.0653294080398027, -0.12828440976953612, -0.9096442945756971, -0.22250174965853964, -1.0459393019196757, 0.5022898453992217, -0.41463437973204087, 0.38459399713052483, -0.7403464056984084, 2.1359896146811814, 1.734780254189919, -0.9025801865894815, 0.3238163927053441, 1.3472241632251434, -0.3945797957321719, 0.2771037961882595, -0.6569062211767643, 0.6674534973140019, 2.293379398802492, -0.5841650469229548, -0.34249580540799407, -0.8634874002341889, -0.3259320769993883, 0.33668399721733394, -1.3330431325215952, 1.381662448939186, 0.6183398648741613, 0.809238047601535, 0.7880679042469689, 0.5842877879690729, -0.8706838222745634, -0.40908624865416454, 0.6664524585549024, 0.0747499839073245, 0.8295433441676373, -0.2362185970845391, -0.9264137234251151, -1.2849226628774835, 1.3655036094147055, -0.5625816562288798, -2.2635612706842365, 1.2033885621650329, -0.28087317812398044, -0.7813035190340818, -1.7519181672150388, -2.228152552477639, -0.4907622535720897, -0.03653668122069601, -0.8108740162363595, 2.4177594473685597, 2.46316891258294, -1.7451934795051316, 0.7691652719656158, 0.5816674802232281, 1.5052698101150037, 0.047409094104972634, 1.0377271562410213, 0.29542513549251703, -0.8663848619675543, 0.6700696195512402, 0.8374786403455478, 0.568879257414912, -1.2354708353599495, -1.1596129743241204, 0.40109989839742444, 0.03378650387113606, 0.7485891058768023, 1.770630426917514, 0.005838117675093689], \"xaxis\": \"x3\", \"y\": [0.8425800230056536, 0.8228729931602605, 0.45302144958655327, -0.15464636949214794, -0.3344287501808655, -0.6155627897642467, -0.8511015145286904, -0.22416144352609133, 0.6602592697073943, 1.6688045668274765, -1.1078003079394538, 0.5205314770180932, -0.3363048584250365, 0.40602399155108443, 0.19011255413451617, 2.4654201650905123, 0.32154357233462094, -0.8213877114714514, 0.5107565293763973, -1.3839586003113933, -1.0639421497820791, 0.6849377969963686, -1.1333905961531854, -0.11635118566959907, -0.37936734911283415, 0.4456028260228318, 1.9327013265029618, -0.024565439083912236, 0.7526701692658325, -0.5662253860236415, 0.8821763247769187, 0.2805875093621268, -0.9788739014698855, 0.3036651709603921, 0.5396091606224961, 0.6665514304418824, 0.5352043387203083, 1.2129258711535873, 0.7240042780223538, -1.0098975715722636, -0.16289919477076262, -0.8154323532297832, -0.3977749740844525, 0.7845287767499552, -0.5823264324213028, 1.7668402955824636, -0.5784049432184615, -0.11684278517136609, 0.2951817195596696, -1.9513260315146401, -0.629934701459229, 0.045131028591535005, -0.8402131275960164, 0.5006646482393786, 1.7927717048719476, -0.6399442017860044, 1.7017414053525006, 0.5571691974779828, -1.0823590214650136, -1.6669125591790803, -1.1665984022067872, 1.5447897360165155, 0.49559664950232923, -0.7110348817342973, 0.048815188290864814, -0.07622169384583687, -0.9396682102311819, 0.9048619394581252, 0.3236739195518902, 0.9322713987437912, -0.3677385853043386, -1.0783725873956171, 1.2426757883845556, 1.7282300608014385, 0.5351211848501362, 0.7207300381574594, -0.6571632159603973, 0.3005500199868126, -2.2034542653997344, -2.261749854662406, -0.4732251632090071, -0.5134968603809374, 0.6522671412507076, -0.315077705434412, 0.675942762735105, 1.5233300660474078, -0.954080252681867, 0.9823848551740675, -1.635832764245846, 0.2167668557418693, -0.7951469007973236, 1.1919912435334072, 1.2511730130201058, -1.3838268497648982, -0.5664230216840095, -1.4987921435235554, -0.8066030673898453, 1.092576357472236, -0.20879159797990765, 0.22369880671706246], \"yaxis\": \"y3\"}, {\"line\": {\"color\": \"rgba(128, 128, 128, 1.0)\", \"dash\": \"solid\", \"shape\": \"linear\", \"width\": 1.3}, \"marker\": {\"size\": 2, \"symbol\": \"circle\"}, \"mode\": \"markers\", \"name\": \"A\", \"text\": \"\", \"type\": \"scatter\", \"x\": [1.184062315155887, 1.527483216771176, -1.0655051484545195, -0.6712804772540937, 1.2371574403508276, 1.2236238969124587, -0.28045735708845626, 0.5369439714930251, -0.5638007803370333, 0.68712613704467, -0.7287440735648303, -0.8952305631023365, 0.3335254264840793, 1.272238600063057, -1.3243852900837494, 1.392162823999808, 1.3001977211877824, -0.1542139604045163, 0.33022950912113225, -1.9571234379781695, 0.707180351643294, -1.249109612850024, 1.2129536630531366, -1.0767534894287658, -1.3213062316384054, -1.4872244226905027, 0.8397338356265742, -0.3915542509891903, -0.02477733133517658, 1.7074401615142256, 0.25729119013882734, -1.5100323633656736, -0.09753628257118523, 0.3571576691260107, 0.3853401782528403, -0.11556419449201895, 1.9009948600521027, -2.411028782040256, -0.5594357347699908, -0.11278987704667931, -0.7465254935335087, -0.3676830048285222, 0.3656382522253938, 0.6606360733105158, 1.4216595984196339, -0.4259169824157992, 0.814969265296277, -0.495696993792867, -0.29919033881126783, 1.0413642963182843, 0.8476541736422291, -2.261162219489303, 0.3203861626520892, -0.06977502458511345, -0.5283915208910475, -1.3028688036421616, 0.20687433546990835, 2.1293401958604528, -0.2140889080223543, 0.29109948457084767, -0.3661037119211918, -1.0279872418856912, -0.9155602344639235, -2.3089877676430834, 0.27632576778296936, 0.19431709899160535, 1.9114522640897547, 1.5764762791456104, 1.1657075545856808, 0.928435488307569, -1.4845418793709166, -2.4076974875848656, -1.0240745445257948, -0.03118671284458697, -0.2191144485962299, -0.9446152419219586, 0.08030568123631247, -0.6455931102542941, 0.7635236364240873, -0.373200458556742, 1.4865572238803655, 3.168375539296968, -0.05542321652642558, 1.140301099757501, -1.8174723416024499, -0.08071578336944459, 1.2026104163099178, 0.5039704657875177, -1.171311689434029, 0.2617423451571207, 0.568487315710609, 0.06604297698075867, 0.848213756418194, -0.18746021047415282, -0.6420253276627698, 0.5556320263205276, 1.0091823937409712, 0.09966301567257936, -0.11011429558125099, 0.4267380945547899], \"xaxis\": \"x4\", \"y\": [0.8425800230056536, 0.8228729931602605, 0.45302144958655327, -0.15464636949214794, -0.3344287501808655, -0.6155627897642467, -0.8511015145286904, -0.22416144352609133, 0.6602592697073943, 1.6688045668274765, -1.1078003079394538, 0.5205314770180932, -0.3363048584250365, 0.40602399155108443, 0.19011255413451617, 2.4654201650905123, 0.32154357233462094, -0.8213877114714514, 0.5107565293763973, -1.3839586003113933, -1.0639421497820791, 0.6849377969963686, -1.1333905961531854, -0.11635118566959907, -0.37936734911283415, 0.4456028260228318, 1.9327013265029618, -0.024565439083912236, 0.7526701692658325, -0.5662253860236415, 0.8821763247769187, 0.2805875093621268, -0.9788739014698855, 0.3036651709603921, 0.5396091606224961, 0.6665514304418824, 0.5352043387203083, 1.2129258711535873, 0.7240042780223538, -1.0098975715722636, -0.16289919477076262, -0.8154323532297832, -0.3977749740844525, 0.7845287767499552, -0.5823264324213028, 1.7668402955824636, -0.5784049432184615, -0.11684278517136609, 0.2951817195596696, -1.9513260315146401, -0.629934701459229, 0.045131028591535005, -0.8402131275960164, 0.5006646482393786, 1.7927717048719476, -0.6399442017860044, 1.7017414053525006, 0.5571691974779828, -1.0823590214650136, -1.6669125591790803, -1.1665984022067872, 1.5447897360165155, 0.49559664950232923, -0.7110348817342973, 0.048815188290864814, -0.07622169384583687, -0.9396682102311819, 0.9048619394581252, 0.3236739195518902, 0.9322713987437912, -0.3677385853043386, -1.0783725873956171, 1.2426757883845556, 1.7282300608014385, 0.5351211848501362, 0.7207300381574594, -0.6571632159603973, 0.3005500199868126, -2.2034542653997344, -2.261749854662406, -0.4732251632090071, -0.5134968603809374, 0.6522671412507076, -0.315077705434412, 0.675942762735105, 1.5233300660474078, -0.954080252681867, 0.9823848551740675, -1.635832764245846, 0.2167668557418693, -0.7951469007973236, 1.1919912435334072, 1.2511730130201058, -1.3838268497648982, -0.5664230216840095, -1.4987921435235554, -0.8066030673898453, 1.092576357472236, -0.20879159797990765, 0.22369880671706246], \"yaxis\": \"y4\"}, {\"line\": {\"color\": \"rgba(128, 128, 128, 1.0)\", \"dash\": \"solid\", \"shape\": \"linear\", \"width\": 1.3}, \"marker\": {\"size\": 2, \"symbol\": \"circle\"}, \"mode\": \"markers\", \"name\": \"B\", \"text\": \"\", \"type\": \"scatter\", \"x\": [0.8425800230056536, 0.8228729931602605, 0.45302144958655327, -0.15464636949214794, -0.3344287501808655, -0.6155627897642467, -0.8511015145286904, -0.22416144352609133, 0.6602592697073943, 1.6688045668274765, -1.1078003079394538, 0.5205314770180932, -0.3363048584250365, 0.40602399155108443, 0.19011255413451617, 2.4654201650905123, 0.32154357233462094, -0.8213877114714514, 0.5107565293763973, -1.3839586003113933, -1.0639421497820791, 0.6849377969963686, -1.1333905961531854, -0.11635118566959907, -0.37936734911283415, 0.4456028260228318, 1.9327013265029618, -0.024565439083912236, 0.7526701692658325, -0.5662253860236415, 0.8821763247769187, 0.2805875093621268, -0.9788739014698855, 0.3036651709603921, 0.5396091606224961, 0.6665514304418824, 0.5352043387203083, 1.2129258711535873, 0.7240042780223538, -1.0098975715722636, -0.16289919477076262, -0.8154323532297832, -0.3977749740844525, 0.7845287767499552, -0.5823264324213028, 1.7668402955824636, -0.5784049432184615, -0.11684278517136609, 0.2951817195596696, -1.9513260315146401, -0.629934701459229, 0.045131028591535005, -0.8402131275960164, 0.5006646482393786, 1.7927717048719476, -0.6399442017860044, 1.7017414053525006, 0.5571691974779828, -1.0823590214650136, -1.6669125591790803, -1.1665984022067872, 1.5447897360165155, 0.49559664950232923, -0.7110348817342973, 0.048815188290864814, -0.07622169384583687, -0.9396682102311819, 0.9048619394581252, 0.3236739195518902, 0.9322713987437912, -0.3677385853043386, -1.0783725873956171, 1.2426757883845556, 1.7282300608014385, 0.5351211848501362, 0.7207300381574594, -0.6571632159603973, 0.3005500199868126, -2.2034542653997344, -2.261749854662406, -0.4732251632090071, -0.5134968603809374, 0.6522671412507076, -0.315077705434412, 0.675942762735105, 1.5233300660474078, -0.954080252681867, 0.9823848551740675, -1.635832764245846, 0.2167668557418693, -0.7951469007973236, 1.1919912435334072, 1.2511730130201058, -1.3838268497648982, -0.5664230216840095, -1.4987921435235554, -0.8066030673898453, 1.092576357472236, -0.20879159797990765, 0.22369880671706246], \"xaxis\": \"x5\", \"y\": [0.09759749197282581, 0.6137315514697458, -0.2854572156585551, 0.12142749701404602, -0.30538017910705795, 0.9653249896933419, 0.30763722494900336, -1.1804135293053442, 2.0108948250826093, 2.3281200521482357, 0.8375326746814203, -1.1552593469105479, 0.8209178718438593, -2.1722914069362815, -0.19986657830185683, -0.7093964594384959, -0.37191912168682706, 1.065137719776101, 2.0031885770388995, 0.43456347993737837, 0.527346750628352, -1.2824861366308757, 0.03924695575136877, -0.7168935257821382, -0.30359036230906783, -0.6962633344761804, 0.4211274074392302, 1.6871651877846425, -0.039050782188639416, 2.072099683982022, 0.5204468688348854, 1.0164792926890849, -0.7316803836275722, -0.3898451347452699, 0.6294922442320586, 1.183797549303694, -0.921297878278392, 0.222282348897835, 0.9547244715510609, -0.8592356555646143, -0.8440219747360963, -1.4596730660029675, -0.3579668388348763, -1.4899713082696882, -2.3650778604752984, 1.0468466219410333, 0.9046954089969772, 1.253496239045731, 0.23066745133877534, 0.42399151575975924, -0.5724448167613085, -0.0312127195328586, 0.44684169836912685, 1.661791445451631, 0.39485216421711317, -0.9018174786830869, -0.2663074862302335, 1.2333682595654787, 0.13796620315491115, 0.0057041245113695635, 0.412917020734218, 0.23865432191821495, 0.5065339609050801, -0.6925694953378969, -0.026446794780587146, -0.06475640554797196, -0.3446106690484418, 0.5569329770877339, -0.1738856363317943, 1.4132900725586053, 0.5334262689843003, -0.6694902766680653, -0.37074495041061745, -0.17119048891228544, -1.5647514632194899, 0.004023378941902747, 0.8810753994171026, -1.2184413372674996, -2.1481159031421484, -1.4962719748944955, 0.38038407459807444, 0.2765898772414553, -0.11068749614747805, -1.047817447159204, -0.2100501154288501, 1.0337835973410112, 0.7557620116787, -1.0507032147285573, -0.4880355055022291, 2.187073071990288, -1.6687730112146275, 0.5285813339439062, 0.21622635990512282, 0.5654349024962452, 0.7680214651948842, 1.124622659275688, -0.024373578774586648, -0.7540674874965095, 1.3378437781960533, 0.5837528107495575], \"yaxis\": \"y5\"}, {\"histfunc\": \"count\", \"histnorm\": \"\", \"marker\": {\"color\": \"rgba(55, 128, 191, 1.0)\", \"line\": {\"color\": \"#4D5663\", \"width\": 1.3}}, \"name\": \"B\", \"nbinsx\": 10, \"opacity\": 0.8, \"orientation\": \"v\", \"type\": \"histogram\", \"x\": [0.09759749197282581, 0.6137315514697458, -0.2854572156585551, 0.12142749701404602, -0.30538017910705795, 0.9653249896933419, 0.30763722494900336, -1.1804135293053442, 2.0108948250826093, 2.3281200521482357, 0.8375326746814203, -1.1552593469105479, 0.8209178718438593, -2.1722914069362815, -0.19986657830185683, -0.7093964594384959, -0.37191912168682706, 1.065137719776101, 2.0031885770388995, 0.43456347993737837, 0.527346750628352, -1.2824861366308757, 0.03924695575136877, -0.7168935257821382, -0.30359036230906783, -0.6962633344761804, 0.4211274074392302, 1.6871651877846425, -0.039050782188639416, 2.072099683982022, 0.5204468688348854, 1.0164792926890849, -0.7316803836275722, -0.3898451347452699, 0.6294922442320586, 1.183797549303694, -0.921297878278392, 0.222282348897835, 0.9547244715510609, -0.8592356555646143, -0.8440219747360963, -1.4596730660029675, -0.3579668388348763, -1.4899713082696882, -2.3650778604752984, 1.0468466219410333, 0.9046954089969772, 1.253496239045731, 0.23066745133877534, 0.42399151575975924, -0.5724448167613085, -0.0312127195328586, 0.44684169836912685, 1.661791445451631, 0.39485216421711317, -0.9018174786830869, -0.2663074862302335, 1.2333682595654787, 0.13796620315491115, 0.0057041245113695635, 0.412917020734218, 0.23865432191821495, 0.5065339609050801, -0.6925694953378969, -0.026446794780587146, -0.06475640554797196, -0.3446106690484418, 0.5569329770877339, -0.1738856363317943, 1.4132900725586053, 0.5334262689843003, -0.6694902766680653, -0.37074495041061745, -0.17119048891228544, -1.5647514632194899, 0.004023378941902747, 0.8810753994171026, -1.2184413372674996, -2.1481159031421484, -1.4962719748944955, 0.38038407459807444, 0.2765898772414553, -0.11068749614747805, -1.047817447159204, -0.2100501154288501, 1.0337835973410112, 0.7557620116787, -1.0507032147285573, -0.4880355055022291, 2.187073071990288, -1.6687730112146275, 0.5285813339439062, 0.21622635990512282, 0.5654349024962452, 0.7680214651948842, 1.124622659275688, -0.024373578774586648, -0.7540674874965095, 1.3378437781960533, 0.5837528107495575], \"xaxis\": \"x6\", \"yaxis\": \"y6\"}, {\"line\": {\"color\": \"rgba(128, 128, 128, 1.0)\", \"dash\": \"solid\", \"shape\": \"linear\", \"width\": 1.3}, \"marker\": {\"size\": 2, \"symbol\": \"circle\"}, \"mode\": \"markers\", \"name\": \"B\", \"text\": \"\", \"type\": \"scatter\", \"x\": [0.24430933548097938, 1.153157602825409, -1.2279459252863203, 1.34340724612936, -0.041217502047060275, 0.41171615392618505, 1.5385559112446923, 0.7648732837580414, 1.2378221548680792, 0.8511119537704597, 1.9690704973099573, -1.8007532668730664, 2.211973052243103, -0.7983479866474343, -0.29133270666818645, -0.2289200971962283, 1.1412626871206657, 0.3842870026485587, -1.6005022711784263, 0.6692586074246968, 1.7735671759213478, 1.9066771495638766, 0.9253219764391617, 1.8582921789382436, -0.15884192047449688, -0.39439741097725123, -0.2131805015106247, 1.5741254666344635, -1.0100141106641953, -0.03476626901184274, -0.8335710814137562, -0.0653294080398027, -0.12828440976953612, -0.9096442945756971, -0.22250174965853964, -1.0459393019196757, 0.5022898453992217, -0.41463437973204087, 0.38459399713052483, -0.7403464056984084, 2.1359896146811814, 1.734780254189919, -0.9025801865894815, 0.3238163927053441, 1.3472241632251434, -0.3945797957321719, 0.2771037961882595, -0.6569062211767643, 0.6674534973140019, 2.293379398802492, -0.5841650469229548, -0.34249580540799407, -0.8634874002341889, -0.3259320769993883, 0.33668399721733394, -1.3330431325215952, 1.381662448939186, 0.6183398648741613, 0.809238047601535, 0.7880679042469689, 0.5842877879690729, -0.8706838222745634, -0.40908624865416454, 0.6664524585549024, 0.0747499839073245, 0.8295433441676373, -0.2362185970845391, -0.9264137234251151, -1.2849226628774835, 1.3655036094147055, -0.5625816562288798, -2.2635612706842365, 1.2033885621650329, -0.28087317812398044, -0.7813035190340818, -1.7519181672150388, -2.228152552477639, -0.4907622535720897, -0.03653668122069601, -0.8108740162363595, 2.4177594473685597, 2.46316891258294, -1.7451934795051316, 0.7691652719656158, 0.5816674802232281, 1.5052698101150037, 0.047409094104972634, 1.0377271562410213, 0.29542513549251703, -0.8663848619675543, 0.6700696195512402, 0.8374786403455478, 0.568879257414912, -1.2354708353599495, -1.1596129743241204, 0.40109989839742444, 0.03378650387113606, 0.7485891058768023, 1.770630426917514, 0.005838117675093689], \"xaxis\": \"x7\", \"y\": [0.09759749197282581, 0.6137315514697458, -0.2854572156585551, 0.12142749701404602, -0.30538017910705795, 0.9653249896933419, 0.30763722494900336, -1.1804135293053442, 2.0108948250826093, 2.3281200521482357, 0.8375326746814203, -1.1552593469105479, 0.8209178718438593, -2.1722914069362815, -0.19986657830185683, -0.7093964594384959, -0.37191912168682706, 1.065137719776101, 2.0031885770388995, 0.43456347993737837, 0.527346750628352, -1.2824861366308757, 0.03924695575136877, -0.7168935257821382, -0.30359036230906783, -0.6962633344761804, 0.4211274074392302, 1.6871651877846425, -0.039050782188639416, 2.072099683982022, 0.5204468688348854, 1.0164792926890849, -0.7316803836275722, -0.3898451347452699, 0.6294922442320586, 1.183797549303694, -0.921297878278392, 0.222282348897835, 0.9547244715510609, -0.8592356555646143, -0.8440219747360963, -1.4596730660029675, -0.3579668388348763, -1.4899713082696882, -2.3650778604752984, 1.0468466219410333, 0.9046954089969772, 1.253496239045731, 0.23066745133877534, 0.42399151575975924, -0.5724448167613085, -0.0312127195328586, 0.44684169836912685, 1.661791445451631, 0.39485216421711317, -0.9018174786830869, -0.2663074862302335, 1.2333682595654787, 0.13796620315491115, 0.0057041245113695635, 0.412917020734218, 0.23865432191821495, 0.5065339609050801, -0.6925694953378969, -0.026446794780587146, -0.06475640554797196, -0.3446106690484418, 0.5569329770877339, -0.1738856363317943, 1.4132900725586053, 0.5334262689843003, -0.6694902766680653, -0.37074495041061745, -0.17119048891228544, -1.5647514632194899, 0.004023378941902747, 0.8810753994171026, -1.2184413372674996, -2.1481159031421484, -1.4962719748944955, 0.38038407459807444, 0.2765898772414553, -0.11068749614747805, -1.047817447159204, -0.2100501154288501, 1.0337835973410112, 0.7557620116787, -1.0507032147285573, -0.4880355055022291, 2.187073071990288, -1.6687730112146275, 0.5285813339439062, 0.21622635990512282, 0.5654349024962452, 0.7680214651948842, 1.124622659275688, -0.024373578774586648, -0.7540674874965095, 1.3378437781960533, 0.5837528107495575], \"yaxis\": \"y7\"}, {\"line\": {\"color\": \"rgba(128, 128, 128, 1.0)\", \"dash\": \"solid\", \"shape\": \"linear\", \"width\": 1.3}, \"marker\": {\"size\": 2, \"symbol\": \"circle\"}, \"mode\": \"markers\", \"name\": \"B\", \"text\": \"\", \"type\": \"scatter\", \"x\": [1.184062315155887, 1.527483216771176, -1.0655051484545195, -0.6712804772540937, 1.2371574403508276, 1.2236238969124587, -0.28045735708845626, 0.5369439714930251, -0.5638007803370333, 0.68712613704467, -0.7287440735648303, -0.8952305631023365, 0.3335254264840793, 1.272238600063057, -1.3243852900837494, 1.392162823999808, 1.3001977211877824, -0.1542139604045163, 0.33022950912113225, -1.9571234379781695, 0.707180351643294, -1.249109612850024, 1.2129536630531366, -1.0767534894287658, -1.3213062316384054, -1.4872244226905027, 0.8397338356265742, -0.3915542509891903, -0.02477733133517658, 1.7074401615142256, 0.25729119013882734, -1.5100323633656736, -0.09753628257118523, 0.3571576691260107, 0.3853401782528403, -0.11556419449201895, 1.9009948600521027, -2.411028782040256, -0.5594357347699908, -0.11278987704667931, -0.7465254935335087, -0.3676830048285222, 0.3656382522253938, 0.6606360733105158, 1.4216595984196339, -0.4259169824157992, 0.814969265296277, -0.495696993792867, -0.29919033881126783, 1.0413642963182843, 0.8476541736422291, -2.261162219489303, 0.3203861626520892, -0.06977502458511345, -0.5283915208910475, -1.3028688036421616, 0.20687433546990835, 2.1293401958604528, -0.2140889080223543, 0.29109948457084767, -0.3661037119211918, -1.0279872418856912, -0.9155602344639235, -2.3089877676430834, 0.27632576778296936, 0.19431709899160535, 1.9114522640897547, 1.5764762791456104, 1.1657075545856808, 0.928435488307569, -1.4845418793709166, -2.4076974875848656, -1.0240745445257948, -0.03118671284458697, -0.2191144485962299, -0.9446152419219586, 0.08030568123631247, -0.6455931102542941, 0.7635236364240873, -0.373200458556742, 1.4865572238803655, 3.168375539296968, -0.05542321652642558, 1.140301099757501, -1.8174723416024499, -0.08071578336944459, 1.2026104163099178, 0.5039704657875177, -1.171311689434029, 0.2617423451571207, 0.568487315710609, 0.06604297698075867, 0.848213756418194, -0.18746021047415282, -0.6420253276627698, 0.5556320263205276, 1.0091823937409712, 0.09966301567257936, -0.11011429558125099, 0.4267380945547899], \"xaxis\": \"x8\", \"y\": [0.09759749197282581, 0.6137315514697458, -0.2854572156585551, 0.12142749701404602, -0.30538017910705795, 0.9653249896933419, 0.30763722494900336, -1.1804135293053442, 2.0108948250826093, 2.3281200521482357, 0.8375326746814203, -1.1552593469105479, 0.8209178718438593, -2.1722914069362815, -0.19986657830185683, -0.7093964594384959, -0.37191912168682706, 1.065137719776101, 2.0031885770388995, 0.43456347993737837, 0.527346750628352, -1.2824861366308757, 0.03924695575136877, -0.7168935257821382, -0.30359036230906783, -0.6962633344761804, 0.4211274074392302, 1.6871651877846425, -0.039050782188639416, 2.072099683982022, 0.5204468688348854, 1.0164792926890849, -0.7316803836275722, -0.3898451347452699, 0.6294922442320586, 1.183797549303694, -0.921297878278392, 0.222282348897835, 0.9547244715510609, -0.8592356555646143, -0.8440219747360963, -1.4596730660029675, -0.3579668388348763, -1.4899713082696882, -2.3650778604752984, 1.0468466219410333, 0.9046954089969772, 1.253496239045731, 0.23066745133877534, 0.42399151575975924, -0.5724448167613085, -0.0312127195328586, 0.44684169836912685, 1.661791445451631, 0.39485216421711317, -0.9018174786830869, -0.2663074862302335, 1.2333682595654787, 0.13796620315491115, 0.0057041245113695635, 0.412917020734218, 0.23865432191821495, 0.5065339609050801, -0.6925694953378969, -0.026446794780587146, -0.06475640554797196, -0.3446106690484418, 0.5569329770877339, -0.1738856363317943, 1.4132900725586053, 0.5334262689843003, -0.6694902766680653, -0.37074495041061745, -0.17119048891228544, -1.5647514632194899, 0.004023378941902747, 0.8810753994171026, -1.2184413372674996, -2.1481159031421484, -1.4962719748944955, 0.38038407459807444, 0.2765898772414553, -0.11068749614747805, -1.047817447159204, -0.2100501154288501, 1.0337835973410112, 0.7557620116787, -1.0507032147285573, -0.4880355055022291, 2.187073071990288, -1.6687730112146275, 0.5285813339439062, 0.21622635990512282, 0.5654349024962452, 0.7680214651948842, 1.124622659275688, -0.024373578774586648, -0.7540674874965095, 1.3378437781960533, 0.5837528107495575], \"yaxis\": \"y8\"}, {\"line\": {\"color\": \"rgba(128, 128, 128, 1.0)\", \"dash\": \"solid\", \"shape\": \"linear\", \"width\": 1.3}, \"marker\": {\"size\": 2, \"symbol\": \"circle\"}, \"mode\": \"markers\", \"name\": \"C\", \"text\": \"\", \"type\": \"scatter\", \"x\": [0.8425800230056536, 0.8228729931602605, 0.45302144958655327, -0.15464636949214794, -0.3344287501808655, -0.6155627897642467, -0.8511015145286904, -0.22416144352609133, 0.6602592697073943, 1.6688045668274765, -1.1078003079394538, 0.5205314770180932, -0.3363048584250365, 0.40602399155108443, 0.19011255413451617, 2.4654201650905123, 0.32154357233462094, -0.8213877114714514, 0.5107565293763973, -1.3839586003113933, -1.0639421497820791, 0.6849377969963686, -1.1333905961531854, -0.11635118566959907, -0.37936734911283415, 0.4456028260228318, 1.9327013265029618, -0.024565439083912236, 0.7526701692658325, -0.5662253860236415, 0.8821763247769187, 0.2805875093621268, -0.9788739014698855, 0.3036651709603921, 0.5396091606224961, 0.6665514304418824, 0.5352043387203083, 1.2129258711535873, 0.7240042780223538, -1.0098975715722636, -0.16289919477076262, -0.8154323532297832, -0.3977749740844525, 0.7845287767499552, -0.5823264324213028, 1.7668402955824636, -0.5784049432184615, -0.11684278517136609, 0.2951817195596696, -1.9513260315146401, -0.629934701459229, 0.045131028591535005, -0.8402131275960164, 0.5006646482393786, 1.7927717048719476, -0.6399442017860044, 1.7017414053525006, 0.5571691974779828, -1.0823590214650136, -1.6669125591790803, -1.1665984022067872, 1.5447897360165155, 0.49559664950232923, -0.7110348817342973, 0.048815188290864814, -0.07622169384583687, -0.9396682102311819, 0.9048619394581252, 0.3236739195518902, 0.9322713987437912, -0.3677385853043386, -1.0783725873956171, 1.2426757883845556, 1.7282300608014385, 0.5351211848501362, 0.7207300381574594, -0.6571632159603973, 0.3005500199868126, -2.2034542653997344, -2.261749854662406, -0.4732251632090071, -0.5134968603809374, 0.6522671412507076, -0.315077705434412, 0.675942762735105, 1.5233300660474078, -0.954080252681867, 0.9823848551740675, -1.635832764245846, 0.2167668557418693, -0.7951469007973236, 1.1919912435334072, 1.2511730130201058, -1.3838268497648982, -0.5664230216840095, -1.4987921435235554, -0.8066030673898453, 1.092576357472236, -0.20879159797990765, 0.22369880671706246], \"xaxis\": \"x9\", \"y\": [0.24430933548097938, 1.153157602825409, -1.2279459252863203, 1.34340724612936, -0.041217502047060275, 0.41171615392618505, 1.5385559112446923, 0.7648732837580414, 1.2378221548680792, 0.8511119537704597, 1.9690704973099573, -1.8007532668730664, 2.211973052243103, -0.7983479866474343, -0.29133270666818645, -0.2289200971962283, 1.1412626871206657, 0.3842870026485587, -1.6005022711784263, 0.6692586074246968, 1.7735671759213478, 1.9066771495638766, 0.9253219764391617, 1.8582921789382436, -0.15884192047449688, -0.39439741097725123, -0.2131805015106247, 1.5741254666344635, -1.0100141106641953, -0.03476626901184274, -0.8335710814137562, -0.0653294080398027, -0.12828440976953612, -0.9096442945756971, -0.22250174965853964, -1.0459393019196757, 0.5022898453992217, -0.41463437973204087, 0.38459399713052483, -0.7403464056984084, 2.1359896146811814, 1.734780254189919, -0.9025801865894815, 0.3238163927053441, 1.3472241632251434, -0.3945797957321719, 0.2771037961882595, -0.6569062211767643, 0.6674534973140019, 2.293379398802492, -0.5841650469229548, -0.34249580540799407, -0.8634874002341889, -0.3259320769993883, 0.33668399721733394, -1.3330431325215952, 1.381662448939186, 0.6183398648741613, 0.809238047601535, 0.7880679042469689, 0.5842877879690729, -0.8706838222745634, -0.40908624865416454, 0.6664524585549024, 0.0747499839073245, 0.8295433441676373, -0.2362185970845391, -0.9264137234251151, -1.2849226628774835, 1.3655036094147055, -0.5625816562288798, -2.2635612706842365, 1.2033885621650329, -0.28087317812398044, -0.7813035190340818, -1.7519181672150388, -2.228152552477639, -0.4907622535720897, -0.03653668122069601, -0.8108740162363595, 2.4177594473685597, 2.46316891258294, -1.7451934795051316, 0.7691652719656158, 0.5816674802232281, 1.5052698101150037, 0.047409094104972634, 1.0377271562410213, 0.29542513549251703, -0.8663848619675543, 0.6700696195512402, 0.8374786403455478, 0.568879257414912, -1.2354708353599495, -1.1596129743241204, 0.40109989839742444, 0.03378650387113606, 0.7485891058768023, 1.770630426917514, 0.005838117675093689], \"yaxis\": \"y9\"}, {\"line\": {\"color\": \"rgba(128, 128, 128, 1.0)\", \"dash\": \"solid\", \"shape\": \"linear\", \"width\": 1.3}, \"marker\": {\"size\": 2, \"symbol\": \"circle\"}, \"mode\": \"markers\", \"name\": \"C\", \"text\": \"\", \"type\": \"scatter\", \"x\": [0.09759749197282581, 0.6137315514697458, -0.2854572156585551, 0.12142749701404602, -0.30538017910705795, 0.9653249896933419, 0.30763722494900336, -1.1804135293053442, 2.0108948250826093, 2.3281200521482357, 0.8375326746814203, -1.1552593469105479, 0.8209178718438593, -2.1722914069362815, -0.19986657830185683, -0.7093964594384959, -0.37191912168682706, 1.065137719776101, 2.0031885770388995, 0.43456347993737837, 0.527346750628352, -1.2824861366308757, 0.03924695575136877, -0.7168935257821382, -0.30359036230906783, -0.6962633344761804, 0.4211274074392302, 1.6871651877846425, -0.039050782188639416, 2.072099683982022, 0.5204468688348854, 1.0164792926890849, -0.7316803836275722, -0.3898451347452699, 0.6294922442320586, 1.183797549303694, -0.921297878278392, 0.222282348897835, 0.9547244715510609, -0.8592356555646143, -0.8440219747360963, -1.4596730660029675, -0.3579668388348763, -1.4899713082696882, -2.3650778604752984, 1.0468466219410333, 0.9046954089969772, 1.253496239045731, 0.23066745133877534, 0.42399151575975924, -0.5724448167613085, -0.0312127195328586, 0.44684169836912685, 1.661791445451631, 0.39485216421711317, -0.9018174786830869, -0.2663074862302335, 1.2333682595654787, 0.13796620315491115, 0.0057041245113695635, 0.412917020734218, 0.23865432191821495, 0.5065339609050801, -0.6925694953378969, -0.026446794780587146, -0.06475640554797196, -0.3446106690484418, 0.5569329770877339, -0.1738856363317943, 1.4132900725586053, 0.5334262689843003, -0.6694902766680653, -0.37074495041061745, -0.17119048891228544, -1.5647514632194899, 0.004023378941902747, 0.8810753994171026, -1.2184413372674996, -2.1481159031421484, -1.4962719748944955, 0.38038407459807444, 0.2765898772414553, -0.11068749614747805, -1.047817447159204, -0.2100501154288501, 1.0337835973410112, 0.7557620116787, -1.0507032147285573, -0.4880355055022291, 2.187073071990288, -1.6687730112146275, 0.5285813339439062, 0.21622635990512282, 0.5654349024962452, 0.7680214651948842, 1.124622659275688, -0.024373578774586648, -0.7540674874965095, 1.3378437781960533, 0.5837528107495575], \"xaxis\": \"x10\", \"y\": [0.24430933548097938, 1.153157602825409, -1.2279459252863203, 1.34340724612936, -0.041217502047060275, 0.41171615392618505, 1.5385559112446923, 0.7648732837580414, 1.2378221548680792, 0.8511119537704597, 1.9690704973099573, -1.8007532668730664, 2.211973052243103, -0.7983479866474343, -0.29133270666818645, -0.2289200971962283, 1.1412626871206657, 0.3842870026485587, -1.6005022711784263, 0.6692586074246968, 1.7735671759213478, 1.9066771495638766, 0.9253219764391617, 1.8582921789382436, -0.15884192047449688, -0.39439741097725123, -0.2131805015106247, 1.5741254666344635, -1.0100141106641953, -0.03476626901184274, -0.8335710814137562, -0.0653294080398027, -0.12828440976953612, -0.9096442945756971, -0.22250174965853964, -1.0459393019196757, 0.5022898453992217, -0.41463437973204087, 0.38459399713052483, -0.7403464056984084, 2.1359896146811814, 1.734780254189919, -0.9025801865894815, 0.3238163927053441, 1.3472241632251434, -0.3945797957321719, 0.2771037961882595, -0.6569062211767643, 0.6674534973140019, 2.293379398802492, -0.5841650469229548, -0.34249580540799407, -0.8634874002341889, -0.3259320769993883, 0.33668399721733394, -1.3330431325215952, 1.381662448939186, 0.6183398648741613, 0.809238047601535, 0.7880679042469689, 0.5842877879690729, -0.8706838222745634, -0.40908624865416454, 0.6664524585549024, 0.0747499839073245, 0.8295433441676373, -0.2362185970845391, -0.9264137234251151, -1.2849226628774835, 1.3655036094147055, -0.5625816562288798, -2.2635612706842365, 1.2033885621650329, -0.28087317812398044, -0.7813035190340818, -1.7519181672150388, -2.228152552477639, -0.4907622535720897, -0.03653668122069601, -0.8108740162363595, 2.4177594473685597, 2.46316891258294, -1.7451934795051316, 0.7691652719656158, 0.5816674802232281, 1.5052698101150037, 0.047409094104972634, 1.0377271562410213, 0.29542513549251703, -0.8663848619675543, 0.6700696195512402, 0.8374786403455478, 0.568879257414912, -1.2354708353599495, -1.1596129743241204, 0.40109989839742444, 0.03378650387113606, 0.7485891058768023, 1.770630426917514, 0.005838117675093689], \"yaxis\": \"y10\"}, {\"histfunc\": \"count\", \"histnorm\": \"\", \"marker\": {\"color\": \"rgba(50, 171, 96, 1.0)\", \"line\": {\"color\": \"#4D5663\", \"width\": 1.3}}, \"name\": \"C\", \"nbinsx\": 10, \"opacity\": 0.8, \"orientation\": \"v\", \"type\": \"histogram\", \"x\": [0.24430933548097938, 1.153157602825409, -1.2279459252863203, 1.34340724612936, -0.041217502047060275, 0.41171615392618505, 1.5385559112446923, 0.7648732837580414, 1.2378221548680792, 0.8511119537704597, 1.9690704973099573, -1.8007532668730664, 2.211973052243103, -0.7983479866474343, -0.29133270666818645, -0.2289200971962283, 1.1412626871206657, 0.3842870026485587, -1.6005022711784263, 0.6692586074246968, 1.7735671759213478, 1.9066771495638766, 0.9253219764391617, 1.8582921789382436, -0.15884192047449688, -0.39439741097725123, -0.2131805015106247, 1.5741254666344635, -1.0100141106641953, -0.03476626901184274, -0.8335710814137562, -0.0653294080398027, -0.12828440976953612, -0.9096442945756971, -0.22250174965853964, -1.0459393019196757, 0.5022898453992217, -0.41463437973204087, 0.38459399713052483, -0.7403464056984084, 2.1359896146811814, 1.734780254189919, -0.9025801865894815, 0.3238163927053441, 1.3472241632251434, -0.3945797957321719, 0.2771037961882595, -0.6569062211767643, 0.6674534973140019, 2.293379398802492, -0.5841650469229548, -0.34249580540799407, -0.8634874002341889, -0.3259320769993883, 0.33668399721733394, -1.3330431325215952, 1.381662448939186, 0.6183398648741613, 0.809238047601535, 0.7880679042469689, 0.5842877879690729, -0.8706838222745634, -0.40908624865416454, 0.6664524585549024, 0.0747499839073245, 0.8295433441676373, -0.2362185970845391, -0.9264137234251151, -1.2849226628774835, 1.3655036094147055, -0.5625816562288798, -2.2635612706842365, 1.2033885621650329, -0.28087317812398044, -0.7813035190340818, -1.7519181672150388, -2.228152552477639, -0.4907622535720897, -0.03653668122069601, -0.8108740162363595, 2.4177594473685597, 2.46316891258294, -1.7451934795051316, 0.7691652719656158, 0.5816674802232281, 1.5052698101150037, 0.047409094104972634, 1.0377271562410213, 0.29542513549251703, -0.8663848619675543, 0.6700696195512402, 0.8374786403455478, 0.568879257414912, -1.2354708353599495, -1.1596129743241204, 0.40109989839742444, 0.03378650387113606, 0.7485891058768023, 1.770630426917514, 0.005838117675093689], \"xaxis\": \"x11\", \"yaxis\": \"y11\"}, {\"line\": {\"color\": \"rgba(128, 128, 128, 1.0)\", \"dash\": \"solid\", \"shape\": \"linear\", \"width\": 1.3}, \"marker\": {\"size\": 2, \"symbol\": \"circle\"}, \"mode\": \"markers\", \"name\": \"C\", \"text\": \"\", \"type\": \"scatter\", \"x\": [1.184062315155887, 1.527483216771176, -1.0655051484545195, -0.6712804772540937, 1.2371574403508276, 1.2236238969124587, -0.28045735708845626, 0.5369439714930251, -0.5638007803370333, 0.68712613704467, -0.7287440735648303, -0.8952305631023365, 0.3335254264840793, 1.272238600063057, -1.3243852900837494, 1.392162823999808, 1.3001977211877824, -0.1542139604045163, 0.33022950912113225, -1.9571234379781695, 0.707180351643294, -1.249109612850024, 1.2129536630531366, -1.0767534894287658, -1.3213062316384054, -1.4872244226905027, 0.8397338356265742, -0.3915542509891903, -0.02477733133517658, 1.7074401615142256, 0.25729119013882734, -1.5100323633656736, -0.09753628257118523, 0.3571576691260107, 0.3853401782528403, -0.11556419449201895, 1.9009948600521027, -2.411028782040256, -0.5594357347699908, -0.11278987704667931, -0.7465254935335087, -0.3676830048285222, 0.3656382522253938, 0.6606360733105158, 1.4216595984196339, -0.4259169824157992, 0.814969265296277, -0.495696993792867, -0.29919033881126783, 1.0413642963182843, 0.8476541736422291, -2.261162219489303, 0.3203861626520892, -0.06977502458511345, -0.5283915208910475, -1.3028688036421616, 0.20687433546990835, 2.1293401958604528, -0.2140889080223543, 0.29109948457084767, -0.3661037119211918, -1.0279872418856912, -0.9155602344639235, -2.3089877676430834, 0.27632576778296936, 0.19431709899160535, 1.9114522640897547, 1.5764762791456104, 1.1657075545856808, 0.928435488307569, -1.4845418793709166, -2.4076974875848656, -1.0240745445257948, -0.03118671284458697, -0.2191144485962299, -0.9446152419219586, 0.08030568123631247, -0.6455931102542941, 0.7635236364240873, -0.373200458556742, 1.4865572238803655, 3.168375539296968, -0.05542321652642558, 1.140301099757501, -1.8174723416024499, -0.08071578336944459, 1.2026104163099178, 0.5039704657875177, -1.171311689434029, 0.2617423451571207, 0.568487315710609, 0.06604297698075867, 0.848213756418194, -0.18746021047415282, -0.6420253276627698, 0.5556320263205276, 1.0091823937409712, 0.09966301567257936, -0.11011429558125099, 0.4267380945547899], \"xaxis\": \"x12\", \"y\": [0.24430933548097938, 1.153157602825409, -1.2279459252863203, 1.34340724612936, -0.041217502047060275, 0.41171615392618505, 1.5385559112446923, 0.7648732837580414, 1.2378221548680792, 0.8511119537704597, 1.9690704973099573, -1.8007532668730664, 2.211973052243103, -0.7983479866474343, -0.29133270666818645, -0.2289200971962283, 1.1412626871206657, 0.3842870026485587, -1.6005022711784263, 0.6692586074246968, 1.7735671759213478, 1.9066771495638766, 0.9253219764391617, 1.8582921789382436, -0.15884192047449688, -0.39439741097725123, -0.2131805015106247, 1.5741254666344635, -1.0100141106641953, -0.03476626901184274, -0.8335710814137562, -0.0653294080398027, -0.12828440976953612, -0.9096442945756971, -0.22250174965853964, -1.0459393019196757, 0.5022898453992217, -0.41463437973204087, 0.38459399713052483, -0.7403464056984084, 2.1359896146811814, 1.734780254189919, -0.9025801865894815, 0.3238163927053441, 1.3472241632251434, -0.3945797957321719, 0.2771037961882595, -0.6569062211767643, 0.6674534973140019, 2.293379398802492, -0.5841650469229548, -0.34249580540799407, -0.8634874002341889, -0.3259320769993883, 0.33668399721733394, -1.3330431325215952, 1.381662448939186, 0.6183398648741613, 0.809238047601535, 0.7880679042469689, 0.5842877879690729, -0.8706838222745634, -0.40908624865416454, 0.6664524585549024, 0.0747499839073245, 0.8295433441676373, -0.2362185970845391, -0.9264137234251151, -1.2849226628774835, 1.3655036094147055, -0.5625816562288798, -2.2635612706842365, 1.2033885621650329, -0.28087317812398044, -0.7813035190340818, -1.7519181672150388, -2.228152552477639, -0.4907622535720897, -0.03653668122069601, -0.8108740162363595, 2.4177594473685597, 2.46316891258294, -1.7451934795051316, 0.7691652719656158, 0.5816674802232281, 1.5052698101150037, 0.047409094104972634, 1.0377271562410213, 0.29542513549251703, -0.8663848619675543, 0.6700696195512402, 0.8374786403455478, 0.568879257414912, -1.2354708353599495, -1.1596129743241204, 0.40109989839742444, 0.03378650387113606, 0.7485891058768023, 1.770630426917514, 0.005838117675093689], \"yaxis\": \"y12\"}, {\"line\": {\"color\": \"rgba(128, 128, 128, 1.0)\", \"dash\": \"solid\", \"shape\": \"linear\", \"width\": 1.3}, \"marker\": {\"size\": 2, \"symbol\": \"circle\"}, \"mode\": \"markers\", \"name\": \"D\", \"text\": \"\", \"type\": \"scatter\", \"x\": [0.8425800230056536, 0.8228729931602605, 0.45302144958655327, -0.15464636949214794, -0.3344287501808655, -0.6155627897642467, -0.8511015145286904, -0.22416144352609133, 0.6602592697073943, 1.6688045668274765, -1.1078003079394538, 0.5205314770180932, -0.3363048584250365, 0.40602399155108443, 0.19011255413451617, 2.4654201650905123, 0.32154357233462094, -0.8213877114714514, 0.5107565293763973, -1.3839586003113933, -1.0639421497820791, 0.6849377969963686, -1.1333905961531854, -0.11635118566959907, -0.37936734911283415, 0.4456028260228318, 1.9327013265029618, -0.024565439083912236, 0.7526701692658325, -0.5662253860236415, 0.8821763247769187, 0.2805875093621268, -0.9788739014698855, 0.3036651709603921, 0.5396091606224961, 0.6665514304418824, 0.5352043387203083, 1.2129258711535873, 0.7240042780223538, -1.0098975715722636, -0.16289919477076262, -0.8154323532297832, -0.3977749740844525, 0.7845287767499552, -0.5823264324213028, 1.7668402955824636, -0.5784049432184615, -0.11684278517136609, 0.2951817195596696, -1.9513260315146401, -0.629934701459229, 0.045131028591535005, -0.8402131275960164, 0.5006646482393786, 1.7927717048719476, -0.6399442017860044, 1.7017414053525006, 0.5571691974779828, -1.0823590214650136, -1.6669125591790803, -1.1665984022067872, 1.5447897360165155, 0.49559664950232923, -0.7110348817342973, 0.048815188290864814, -0.07622169384583687, -0.9396682102311819, 0.9048619394581252, 0.3236739195518902, 0.9322713987437912, -0.3677385853043386, -1.0783725873956171, 1.2426757883845556, 1.7282300608014385, 0.5351211848501362, 0.7207300381574594, -0.6571632159603973, 0.3005500199868126, -2.2034542653997344, -2.261749854662406, -0.4732251632090071, -0.5134968603809374, 0.6522671412507076, -0.315077705434412, 0.675942762735105, 1.5233300660474078, -0.954080252681867, 0.9823848551740675, -1.635832764245846, 0.2167668557418693, -0.7951469007973236, 1.1919912435334072, 1.2511730130201058, -1.3838268497648982, -0.5664230216840095, -1.4987921435235554, -0.8066030673898453, 1.092576357472236, -0.20879159797990765, 0.22369880671706246], \"xaxis\": \"x13\", \"y\": [1.184062315155887, 1.527483216771176, -1.0655051484545195, -0.6712804772540937, 1.2371574403508276, 1.2236238969124587, -0.28045735708845626, 0.5369439714930251, -0.5638007803370333, 0.68712613704467, -0.7287440735648303, -0.8952305631023365, 0.3335254264840793, 1.272238600063057, -1.3243852900837494, 1.392162823999808, 1.3001977211877824, -0.1542139604045163, 0.33022950912113225, -1.9571234379781695, 0.707180351643294, -1.249109612850024, 1.2129536630531366, -1.0767534894287658, -1.3213062316384054, -1.4872244226905027, 0.8397338356265742, -0.3915542509891903, -0.02477733133517658, 1.7074401615142256, 0.25729119013882734, -1.5100323633656736, -0.09753628257118523, 0.3571576691260107, 0.3853401782528403, -0.11556419449201895, 1.9009948600521027, -2.411028782040256, -0.5594357347699908, -0.11278987704667931, -0.7465254935335087, -0.3676830048285222, 0.3656382522253938, 0.6606360733105158, 1.4216595984196339, -0.4259169824157992, 0.814969265296277, -0.495696993792867, -0.29919033881126783, 1.0413642963182843, 0.8476541736422291, -2.261162219489303, 0.3203861626520892, -0.06977502458511345, -0.5283915208910475, -1.3028688036421616, 0.20687433546990835, 2.1293401958604528, -0.2140889080223543, 0.29109948457084767, -0.3661037119211918, -1.0279872418856912, -0.9155602344639235, -2.3089877676430834, 0.27632576778296936, 0.19431709899160535, 1.9114522640897547, 1.5764762791456104, 1.1657075545856808, 0.928435488307569, -1.4845418793709166, -2.4076974875848656, -1.0240745445257948, -0.03118671284458697, -0.2191144485962299, -0.9446152419219586, 0.08030568123631247, -0.6455931102542941, 0.7635236364240873, -0.373200458556742, 1.4865572238803655, 3.168375539296968, -0.05542321652642558, 1.140301099757501, -1.8174723416024499, -0.08071578336944459, 1.2026104163099178, 0.5039704657875177, -1.171311689434029, 0.2617423451571207, 0.568487315710609, 0.06604297698075867, 0.848213756418194, -0.18746021047415282, -0.6420253276627698, 0.5556320263205276, 1.0091823937409712, 0.09966301567257936, -0.11011429558125099, 0.4267380945547899], \"yaxis\": \"y13\"}, {\"line\": {\"color\": \"rgba(128, 128, 128, 1.0)\", \"dash\": \"solid\", \"shape\": \"linear\", \"width\": 1.3}, \"marker\": {\"size\": 2, \"symbol\": \"circle\"}, \"mode\": \"markers\", \"name\": \"D\", \"text\": \"\", \"type\": \"scatter\", \"x\": [0.09759749197282581, 0.6137315514697458, -0.2854572156585551, 0.12142749701404602, -0.30538017910705795, 0.9653249896933419, 0.30763722494900336, -1.1804135293053442, 2.0108948250826093, 2.3281200521482357, 0.8375326746814203, -1.1552593469105479, 0.8209178718438593, -2.1722914069362815, -0.19986657830185683, -0.7093964594384959, -0.37191912168682706, 1.065137719776101, 2.0031885770388995, 0.43456347993737837, 0.527346750628352, -1.2824861366308757, 0.03924695575136877, -0.7168935257821382, -0.30359036230906783, -0.6962633344761804, 0.4211274074392302, 1.6871651877846425, -0.039050782188639416, 2.072099683982022, 0.5204468688348854, 1.0164792926890849, -0.7316803836275722, -0.3898451347452699, 0.6294922442320586, 1.183797549303694, -0.921297878278392, 0.222282348897835, 0.9547244715510609, -0.8592356555646143, -0.8440219747360963, -1.4596730660029675, -0.3579668388348763, -1.4899713082696882, -2.3650778604752984, 1.0468466219410333, 0.9046954089969772, 1.253496239045731, 0.23066745133877534, 0.42399151575975924, -0.5724448167613085, -0.0312127195328586, 0.44684169836912685, 1.661791445451631, 0.39485216421711317, -0.9018174786830869, -0.2663074862302335, 1.2333682595654787, 0.13796620315491115, 0.0057041245113695635, 0.412917020734218, 0.23865432191821495, 0.5065339609050801, -0.6925694953378969, -0.026446794780587146, -0.06475640554797196, -0.3446106690484418, 0.5569329770877339, -0.1738856363317943, 1.4132900725586053, 0.5334262689843003, -0.6694902766680653, -0.37074495041061745, -0.17119048891228544, -1.5647514632194899, 0.004023378941902747, 0.8810753994171026, -1.2184413372674996, -2.1481159031421484, -1.4962719748944955, 0.38038407459807444, 0.2765898772414553, -0.11068749614747805, -1.047817447159204, -0.2100501154288501, 1.0337835973410112, 0.7557620116787, -1.0507032147285573, -0.4880355055022291, 2.187073071990288, -1.6687730112146275, 0.5285813339439062, 0.21622635990512282, 0.5654349024962452, 0.7680214651948842, 1.124622659275688, -0.024373578774586648, -0.7540674874965095, 1.3378437781960533, 0.5837528107495575], \"xaxis\": \"x14\", \"y\": [1.184062315155887, 1.527483216771176, -1.0655051484545195, -0.6712804772540937, 1.2371574403508276, 1.2236238969124587, -0.28045735708845626, 0.5369439714930251, -0.5638007803370333, 0.68712613704467, -0.7287440735648303, -0.8952305631023365, 0.3335254264840793, 1.272238600063057, -1.3243852900837494, 1.392162823999808, 1.3001977211877824, -0.1542139604045163, 0.33022950912113225, -1.9571234379781695, 0.707180351643294, -1.249109612850024, 1.2129536630531366, -1.0767534894287658, -1.3213062316384054, -1.4872244226905027, 0.8397338356265742, -0.3915542509891903, -0.02477733133517658, 1.7074401615142256, 0.25729119013882734, -1.5100323633656736, -0.09753628257118523, 0.3571576691260107, 0.3853401782528403, -0.11556419449201895, 1.9009948600521027, -2.411028782040256, -0.5594357347699908, -0.11278987704667931, -0.7465254935335087, -0.3676830048285222, 0.3656382522253938, 0.6606360733105158, 1.4216595984196339, -0.4259169824157992, 0.814969265296277, -0.495696993792867, -0.29919033881126783, 1.0413642963182843, 0.8476541736422291, -2.261162219489303, 0.3203861626520892, -0.06977502458511345, -0.5283915208910475, -1.3028688036421616, 0.20687433546990835, 2.1293401958604528, -0.2140889080223543, 0.29109948457084767, -0.3661037119211918, -1.0279872418856912, -0.9155602344639235, -2.3089877676430834, 0.27632576778296936, 0.19431709899160535, 1.9114522640897547, 1.5764762791456104, 1.1657075545856808, 0.928435488307569, -1.4845418793709166, -2.4076974875848656, -1.0240745445257948, -0.03118671284458697, -0.2191144485962299, -0.9446152419219586, 0.08030568123631247, -0.6455931102542941, 0.7635236364240873, -0.373200458556742, 1.4865572238803655, 3.168375539296968, -0.05542321652642558, 1.140301099757501, -1.8174723416024499, -0.08071578336944459, 1.2026104163099178, 0.5039704657875177, -1.171311689434029, 0.2617423451571207, 0.568487315710609, 0.06604297698075867, 0.848213756418194, -0.18746021047415282, -0.6420253276627698, 0.5556320263205276, 1.0091823937409712, 0.09966301567257936, -0.11011429558125099, 0.4267380945547899], \"yaxis\": \"y14\"}, {\"line\": {\"color\": \"rgba(128, 128, 128, 1.0)\", \"dash\": \"solid\", \"shape\": \"linear\", \"width\": 1.3}, \"marker\": {\"size\": 2, \"symbol\": \"circle\"}, \"mode\": \"markers\", \"name\": \"D\", \"text\": \"\", \"type\": \"scatter\", \"x\": [0.24430933548097938, 1.153157602825409, -1.2279459252863203, 1.34340724612936, -0.041217502047060275, 0.41171615392618505, 1.5385559112446923, 0.7648732837580414, 1.2378221548680792, 0.8511119537704597, 1.9690704973099573, -1.8007532668730664, 2.211973052243103, -0.7983479866474343, -0.29133270666818645, -0.2289200971962283, 1.1412626871206657, 0.3842870026485587, -1.6005022711784263, 0.6692586074246968, 1.7735671759213478, 1.9066771495638766, 0.9253219764391617, 1.8582921789382436, -0.15884192047449688, -0.39439741097725123, -0.2131805015106247, 1.5741254666344635, -1.0100141106641953, -0.03476626901184274, -0.8335710814137562, -0.0653294080398027, -0.12828440976953612, -0.9096442945756971, -0.22250174965853964, -1.0459393019196757, 0.5022898453992217, -0.41463437973204087, 0.38459399713052483, -0.7403464056984084, 2.1359896146811814, 1.734780254189919, -0.9025801865894815, 0.3238163927053441, 1.3472241632251434, -0.3945797957321719, 0.2771037961882595, -0.6569062211767643, 0.6674534973140019, 2.293379398802492, -0.5841650469229548, -0.34249580540799407, -0.8634874002341889, -0.3259320769993883, 0.33668399721733394, -1.3330431325215952, 1.381662448939186, 0.6183398648741613, 0.809238047601535, 0.7880679042469689, 0.5842877879690729, -0.8706838222745634, -0.40908624865416454, 0.6664524585549024, 0.0747499839073245, 0.8295433441676373, -0.2362185970845391, -0.9264137234251151, -1.2849226628774835, 1.3655036094147055, -0.5625816562288798, -2.2635612706842365, 1.2033885621650329, -0.28087317812398044, -0.7813035190340818, -1.7519181672150388, -2.228152552477639, -0.4907622535720897, -0.03653668122069601, -0.8108740162363595, 2.4177594473685597, 2.46316891258294, -1.7451934795051316, 0.7691652719656158, 0.5816674802232281, 1.5052698101150037, 0.047409094104972634, 1.0377271562410213, 0.29542513549251703, -0.8663848619675543, 0.6700696195512402, 0.8374786403455478, 0.568879257414912, -1.2354708353599495, -1.1596129743241204, 0.40109989839742444, 0.03378650387113606, 0.7485891058768023, 1.770630426917514, 0.005838117675093689], \"xaxis\": \"x15\", \"y\": [1.184062315155887, 1.527483216771176, -1.0655051484545195, -0.6712804772540937, 1.2371574403508276, 1.2236238969124587, -0.28045735708845626, 0.5369439714930251, -0.5638007803370333, 0.68712613704467, -0.7287440735648303, -0.8952305631023365, 0.3335254264840793, 1.272238600063057, -1.3243852900837494, 1.392162823999808, 1.3001977211877824, -0.1542139604045163, 0.33022950912113225, -1.9571234379781695, 0.707180351643294, -1.249109612850024, 1.2129536630531366, -1.0767534894287658, -1.3213062316384054, -1.4872244226905027, 0.8397338356265742, -0.3915542509891903, -0.02477733133517658, 1.7074401615142256, 0.25729119013882734, -1.5100323633656736, -0.09753628257118523, 0.3571576691260107, 0.3853401782528403, -0.11556419449201895, 1.9009948600521027, -2.411028782040256, -0.5594357347699908, -0.11278987704667931, -0.7465254935335087, -0.3676830048285222, 0.3656382522253938, 0.6606360733105158, 1.4216595984196339, -0.4259169824157992, 0.814969265296277, -0.495696993792867, -0.29919033881126783, 1.0413642963182843, 0.8476541736422291, -2.261162219489303, 0.3203861626520892, -0.06977502458511345, -0.5283915208910475, -1.3028688036421616, 0.20687433546990835, 2.1293401958604528, -0.2140889080223543, 0.29109948457084767, -0.3661037119211918, -1.0279872418856912, -0.9155602344639235, -2.3089877676430834, 0.27632576778296936, 0.19431709899160535, 1.9114522640897547, 1.5764762791456104, 1.1657075545856808, 0.928435488307569, -1.4845418793709166, -2.4076974875848656, -1.0240745445257948, -0.03118671284458697, -0.2191144485962299, -0.9446152419219586, 0.08030568123631247, -0.6455931102542941, 0.7635236364240873, -0.373200458556742, 1.4865572238803655, 3.168375539296968, -0.05542321652642558, 1.140301099757501, -1.8174723416024499, -0.08071578336944459, 1.2026104163099178, 0.5039704657875177, -1.171311689434029, 0.2617423451571207, 0.568487315710609, 0.06604297698075867, 0.848213756418194, -0.18746021047415282, -0.6420253276627698, 0.5556320263205276, 1.0091823937409712, 0.09966301567257936, -0.11011429558125099, 0.4267380945547899], \"yaxis\": \"y15\"}, {\"histfunc\": \"count\", \"histnorm\": \"\", \"marker\": {\"color\": \"rgba(128, 0, 128, 1.0)\", \"line\": {\"color\": \"#4D5663\", \"width\": 1.3}}, \"name\": \"D\", \"nbinsx\": 10, \"opacity\": 0.8, \"orientation\": \"v\", \"type\": \"histogram\", \"x\": [1.184062315155887, 1.527483216771176, -1.0655051484545195, -0.6712804772540937, 1.2371574403508276, 1.2236238969124587, -0.28045735708845626, 0.5369439714930251, -0.5638007803370333, 0.68712613704467, -0.7287440735648303, -0.8952305631023365, 0.3335254264840793, 1.272238600063057, -1.3243852900837494, 1.392162823999808, 1.3001977211877824, -0.1542139604045163, 0.33022950912113225, -1.9571234379781695, 0.707180351643294, -1.249109612850024, 1.2129536630531366, -1.0767534894287658, -1.3213062316384054, -1.4872244226905027, 0.8397338356265742, -0.3915542509891903, -0.02477733133517658, 1.7074401615142256, 0.25729119013882734, -1.5100323633656736, -0.09753628257118523, 0.3571576691260107, 0.3853401782528403, -0.11556419449201895, 1.9009948600521027, -2.411028782040256, -0.5594357347699908, -0.11278987704667931, -0.7465254935335087, -0.3676830048285222, 0.3656382522253938, 0.6606360733105158, 1.4216595984196339, -0.4259169824157992, 0.814969265296277, -0.495696993792867, -0.29919033881126783, 1.0413642963182843, 0.8476541736422291, -2.261162219489303, 0.3203861626520892, -0.06977502458511345, -0.5283915208910475, -1.3028688036421616, 0.20687433546990835, 2.1293401958604528, -0.2140889080223543, 0.29109948457084767, -0.3661037119211918, -1.0279872418856912, -0.9155602344639235, -2.3089877676430834, 0.27632576778296936, 0.19431709899160535, 1.9114522640897547, 1.5764762791456104, 1.1657075545856808, 0.928435488307569, -1.4845418793709166, -2.4076974875848656, -1.0240745445257948, -0.03118671284458697, -0.2191144485962299, -0.9446152419219586, 0.08030568123631247, -0.6455931102542941, 0.7635236364240873, -0.373200458556742, 1.4865572238803655, 3.168375539296968, -0.05542321652642558, 1.140301099757501, -1.8174723416024499, -0.08071578336944459, 1.2026104163099178, 0.5039704657875177, -1.171311689434029, 0.2617423451571207, 0.568487315710609, 0.06604297698075867, 0.848213756418194, -0.18746021047415282, -0.6420253276627698, 0.5556320263205276, 1.0091823937409712, 0.09966301567257936, -0.11011429558125099, 0.4267380945547899], \"xaxis\": \"x16\", \"yaxis\": \"y16\"}],\n",
       "                        {\"bargap\": 0.02, \"legend\": {\"bgcolor\": \"#F5F6F9\", \"font\": {\"color\": \"#4D5663\"}}, \"paper_bgcolor\": \"#F5F6F9\", \"plot_bgcolor\": \"#F5F6F9\", \"showlegend\": false, \"template\": {\"data\": {\"bar\": [{\"error_x\": {\"color\": \"#2a3f5f\"}, \"error_y\": {\"color\": \"#2a3f5f\"}, \"marker\": {\"line\": {\"color\": \"#E5ECF6\", \"width\": 0.5}}, \"type\": \"bar\"}], \"barpolar\": [{\"marker\": {\"line\": {\"color\": \"#E5ECF6\", \"width\": 0.5}}, \"type\": \"barpolar\"}], \"carpet\": [{\"aaxis\": {\"endlinecolor\": \"#2a3f5f\", \"gridcolor\": \"white\", \"linecolor\": \"white\", \"minorgridcolor\": \"white\", \"startlinecolor\": \"#2a3f5f\"}, \"baxis\": {\"endlinecolor\": \"#2a3f5f\", \"gridcolor\": \"white\", \"linecolor\": \"white\", \"minorgridcolor\": \"white\", \"startlinecolor\": \"#2a3f5f\"}, \"type\": \"carpet\"}], \"choropleth\": [{\"colorbar\": {\"outlinewidth\": 0, \"ticks\": \"\"}, \"type\": \"choropleth\"}], \"contour\": [{\"colorbar\": {\"outlinewidth\": 0, \"ticks\": \"\"}, \"colorscale\": [[0.0, \"#0d0887\"], [0.1111111111111111, \"#46039f\"], [0.2222222222222222, \"#7201a8\"], [0.3333333333333333, \"#9c179e\"], [0.4444444444444444, \"#bd3786\"], [0.5555555555555556, \"#d8576b\"], [0.6666666666666666, \"#ed7953\"], [0.7777777777777778, \"#fb9f3a\"], [0.8888888888888888, \"#fdca26\"], [1.0, \"#f0f921\"]], \"type\": \"contour\"}], \"contourcarpet\": [{\"colorbar\": {\"outlinewidth\": 0, \"ticks\": \"\"}, \"type\": \"contourcarpet\"}], \"heatmap\": [{\"colorbar\": {\"outlinewidth\": 0, \"ticks\": \"\"}, \"colorscale\": [[0.0, \"#0d0887\"], [0.1111111111111111, \"#46039f\"], [0.2222222222222222, \"#7201a8\"], [0.3333333333333333, \"#9c179e\"], [0.4444444444444444, \"#bd3786\"], [0.5555555555555556, \"#d8576b\"], [0.6666666666666666, \"#ed7953\"], [0.7777777777777778, \"#fb9f3a\"], [0.8888888888888888, \"#fdca26\"], [1.0, \"#f0f921\"]], \"type\": \"heatmap\"}], \"heatmapgl\": [{\"colorbar\": {\"outlinewidth\": 0, \"ticks\": \"\"}, \"colorscale\": [[0.0, \"#0d0887\"], [0.1111111111111111, \"#46039f\"], [0.2222222222222222, \"#7201a8\"], [0.3333333333333333, \"#9c179e\"], [0.4444444444444444, \"#bd3786\"], [0.5555555555555556, \"#d8576b\"], [0.6666666666666666, \"#ed7953\"], [0.7777777777777778, \"#fb9f3a\"], [0.8888888888888888, \"#fdca26\"], [1.0, \"#f0f921\"]], \"type\": \"heatmapgl\"}], \"histogram\": [{\"marker\": {\"colorbar\": {\"outlinewidth\": 0, \"ticks\": \"\"}}, \"type\": \"histogram\"}], \"histogram2d\": [{\"colorbar\": {\"outlinewidth\": 0, \"ticks\": \"\"}, \"colorscale\": [[0.0, \"#0d0887\"], [0.1111111111111111, \"#46039f\"], [0.2222222222222222, \"#7201a8\"], [0.3333333333333333, \"#9c179e\"], [0.4444444444444444, \"#bd3786\"], [0.5555555555555556, \"#d8576b\"], [0.6666666666666666, \"#ed7953\"], [0.7777777777777778, \"#fb9f3a\"], [0.8888888888888888, \"#fdca26\"], [1.0, \"#f0f921\"]], \"type\": \"histogram2d\"}], \"histogram2dcontour\": [{\"colorbar\": {\"outlinewidth\": 0, \"ticks\": \"\"}, \"colorscale\": [[0.0, \"#0d0887\"], [0.1111111111111111, \"#46039f\"], [0.2222222222222222, \"#7201a8\"], [0.3333333333333333, \"#9c179e\"], [0.4444444444444444, \"#bd3786\"], [0.5555555555555556, \"#d8576b\"], [0.6666666666666666, \"#ed7953\"], [0.7777777777777778, \"#fb9f3a\"], [0.8888888888888888, \"#fdca26\"], [1.0, \"#f0f921\"]], \"type\": \"histogram2dcontour\"}], \"mesh3d\": [{\"colorbar\": {\"outlinewidth\": 0, \"ticks\": \"\"}, \"type\": \"mesh3d\"}], \"parcoords\": [{\"line\": {\"colorbar\": {\"outlinewidth\": 0, \"ticks\": \"\"}}, \"type\": \"parcoords\"}], \"pie\": [{\"automargin\": true, \"type\": \"pie\"}], \"scatter\": [{\"marker\": {\"colorbar\": {\"outlinewidth\": 0, \"ticks\": \"\"}}, \"type\": \"scatter\"}], \"scatter3d\": [{\"line\": {\"colorbar\": {\"outlinewidth\": 0, \"ticks\": \"\"}}, \"marker\": {\"colorbar\": {\"outlinewidth\": 0, \"ticks\": \"\"}}, \"type\": \"scatter3d\"}], \"scattercarpet\": [{\"marker\": {\"colorbar\": {\"outlinewidth\": 0, \"ticks\": \"\"}}, \"type\": \"scattercarpet\"}], \"scattergeo\": [{\"marker\": {\"colorbar\": {\"outlinewidth\": 0, \"ticks\": \"\"}}, \"type\": \"scattergeo\"}], \"scattergl\": [{\"marker\": {\"colorbar\": {\"outlinewidth\": 0, \"ticks\": \"\"}}, \"type\": \"scattergl\"}], \"scattermapbox\": [{\"marker\": {\"colorbar\": {\"outlinewidth\": 0, \"ticks\": \"\"}}, \"type\": \"scattermapbox\"}], \"scatterpolar\": [{\"marker\": {\"colorbar\": {\"outlinewidth\": 0, \"ticks\": \"\"}}, \"type\": \"scatterpolar\"}], \"scatterpolargl\": [{\"marker\": {\"colorbar\": {\"outlinewidth\": 0, \"ticks\": \"\"}}, \"type\": \"scatterpolargl\"}], \"scatterternary\": [{\"marker\": {\"colorbar\": {\"outlinewidth\": 0, \"ticks\": \"\"}}, \"type\": \"scatterternary\"}], \"surface\": [{\"colorbar\": {\"outlinewidth\": 0, \"ticks\": \"\"}, \"colorscale\": [[0.0, \"#0d0887\"], [0.1111111111111111, \"#46039f\"], [0.2222222222222222, \"#7201a8\"], [0.3333333333333333, \"#9c179e\"], [0.4444444444444444, \"#bd3786\"], [0.5555555555555556, \"#d8576b\"], [0.6666666666666666, \"#ed7953\"], [0.7777777777777778, \"#fb9f3a\"], [0.8888888888888888, \"#fdca26\"], [1.0, \"#f0f921\"]], \"type\": \"surface\"}], \"table\": [{\"cells\": {\"fill\": {\"color\": \"#EBF0F8\"}, \"line\": {\"color\": \"white\"}}, \"header\": {\"fill\": {\"color\": \"#C8D4E3\"}, \"line\": {\"color\": \"white\"}}, \"type\": \"table\"}]}, \"layout\": {\"annotationdefaults\": {\"arrowcolor\": \"#2a3f5f\", \"arrowhead\": 0, \"arrowwidth\": 1}, \"coloraxis\": {\"colorbar\": {\"outlinewidth\": 0, \"ticks\": \"\"}}, \"colorscale\": {\"diverging\": [[0, \"#8e0152\"], [0.1, \"#c51b7d\"], [0.2, \"#de77ae\"], [0.3, \"#f1b6da\"], [0.4, \"#fde0ef\"], [0.5, \"#f7f7f7\"], [0.6, \"#e6f5d0\"], [0.7, \"#b8e186\"], [0.8, \"#7fbc41\"], [0.9, \"#4d9221\"], [1, \"#276419\"]], \"sequential\": [[0.0, \"#0d0887\"], [0.1111111111111111, \"#46039f\"], [0.2222222222222222, \"#7201a8\"], [0.3333333333333333, \"#9c179e\"], [0.4444444444444444, \"#bd3786\"], [0.5555555555555556, \"#d8576b\"], [0.6666666666666666, \"#ed7953\"], [0.7777777777777778, \"#fb9f3a\"], [0.8888888888888888, \"#fdca26\"], [1.0, \"#f0f921\"]], \"sequentialminus\": [[0.0, \"#0d0887\"], [0.1111111111111111, \"#46039f\"], [0.2222222222222222, \"#7201a8\"], [0.3333333333333333, \"#9c179e\"], [0.4444444444444444, \"#bd3786\"], [0.5555555555555556, \"#d8576b\"], [0.6666666666666666, \"#ed7953\"], [0.7777777777777778, \"#fb9f3a\"], [0.8888888888888888, \"#fdca26\"], [1.0, \"#f0f921\"]]}, \"colorway\": [\"#636efa\", \"#EF553B\", \"#00cc96\", \"#ab63fa\", \"#FFA15A\", \"#19d3f3\", \"#FF6692\", \"#B6E880\", \"#FF97FF\", \"#FECB52\"], \"font\": {\"color\": \"#2a3f5f\"}, \"geo\": {\"bgcolor\": \"white\", \"lakecolor\": \"white\", \"landcolor\": \"#E5ECF6\", \"showlakes\": true, \"showland\": true, \"subunitcolor\": \"white\"}, \"hoverlabel\": {\"align\": \"left\"}, \"hovermode\": \"closest\", \"mapbox\": {\"style\": \"light\"}, \"paper_bgcolor\": \"white\", \"plot_bgcolor\": \"#E5ECF6\", \"polar\": {\"angularaxis\": {\"gridcolor\": \"white\", \"linecolor\": \"white\", \"ticks\": \"\"}, \"bgcolor\": \"#E5ECF6\", \"radialaxis\": {\"gridcolor\": \"white\", \"linecolor\": \"white\", \"ticks\": \"\"}}, \"scene\": {\"xaxis\": {\"backgroundcolor\": \"#E5ECF6\", \"gridcolor\": \"white\", \"gridwidth\": 2, \"linecolor\": \"white\", \"showbackground\": true, \"ticks\": \"\", \"zerolinecolor\": \"white\"}, \"yaxis\": {\"backgroundcolor\": \"#E5ECF6\", \"gridcolor\": \"white\", \"gridwidth\": 2, \"linecolor\": \"white\", \"showbackground\": true, \"ticks\": \"\", \"zerolinecolor\": \"white\"}, \"zaxis\": {\"backgroundcolor\": \"#E5ECF6\", \"gridcolor\": \"white\", \"gridwidth\": 2, \"linecolor\": \"white\", \"showbackground\": true, \"ticks\": \"\", \"zerolinecolor\": \"white\"}}, \"shapedefaults\": {\"line\": {\"color\": \"#2a3f5f\"}}, \"ternary\": {\"aaxis\": {\"gridcolor\": \"white\", \"linecolor\": \"white\", \"ticks\": \"\"}, \"baxis\": {\"gridcolor\": \"white\", \"linecolor\": \"white\", \"ticks\": \"\"}, \"bgcolor\": \"#E5ECF6\", \"caxis\": {\"gridcolor\": \"white\", \"linecolor\": \"white\", \"ticks\": \"\"}}, \"title\": {\"x\": 0.05}, \"xaxis\": {\"automargin\": true, \"gridcolor\": \"white\", \"linecolor\": \"white\", \"ticks\": \"\", \"title\": {\"standoff\": 15}, \"zerolinecolor\": \"white\", \"zerolinewidth\": 2}, \"yaxis\": {\"automargin\": true, \"gridcolor\": \"white\", \"linecolor\": \"white\", \"ticks\": \"\", \"title\": {\"standoff\": 15}, \"zerolinecolor\": \"white\", \"zerolinewidth\": 2}}}, \"title\": {\"font\": {\"color\": \"#4D5663\"}}, \"xaxis\": {\"anchor\": \"y\", \"domain\": [0.0, 0.2125], \"gridcolor\": \"#E1E5ED\", \"showgrid\": false, \"tickfont\": {\"color\": \"#4D5663\"}, \"title\": {\"font\": {\"color\": \"#4D5663\"}, \"text\": \"\"}, \"zerolinecolor\": \"#E1E5ED\"}, \"xaxis10\": {\"anchor\": \"y10\", \"domain\": [0.2625, 0.475], \"gridcolor\": \"#E1E5ED\", \"showgrid\": false, \"tickfont\": {\"color\": \"#4D5663\"}, \"title\": {\"font\": {\"color\": \"#4D5663\"}, \"text\": \"\"}, \"zerolinecolor\": \"#E1E5ED\"}, \"xaxis11\": {\"anchor\": \"y11\", \"domain\": [0.525, 0.7375], \"gridcolor\": \"#E1E5ED\", \"showgrid\": false, \"tickfont\": {\"color\": \"#4D5663\"}, \"title\": {\"font\": {\"color\": \"#4D5663\"}, \"text\": \"\"}, \"zerolinecolor\": \"#E1E5ED\"}, \"xaxis12\": {\"anchor\": \"y12\", \"domain\": [0.7875, 1.0], \"gridcolor\": \"#E1E5ED\", \"showgrid\": false, \"tickfont\": {\"color\": \"#4D5663\"}, \"title\": {\"font\": {\"color\": \"#4D5663\"}, \"text\": \"\"}, \"zerolinecolor\": \"#E1E5ED\"}, \"xaxis13\": {\"anchor\": \"y13\", \"domain\": [0.0, 0.2125], \"gridcolor\": \"#E1E5ED\", \"showgrid\": false, \"tickfont\": {\"color\": \"#4D5663\"}, \"title\": {\"font\": {\"color\": \"#4D5663\"}, \"text\": \"\"}, \"zerolinecolor\": \"#E1E5ED\"}, \"xaxis14\": {\"anchor\": \"y14\", \"domain\": [0.2625, 0.475], \"gridcolor\": \"#E1E5ED\", \"showgrid\": false, \"tickfont\": {\"color\": \"#4D5663\"}, \"title\": {\"font\": {\"color\": \"#4D5663\"}, \"text\": \"\"}, \"zerolinecolor\": \"#E1E5ED\"}, \"xaxis15\": {\"anchor\": \"y15\", \"domain\": [0.525, 0.7375], \"gridcolor\": \"#E1E5ED\", \"showgrid\": false, \"tickfont\": {\"color\": \"#4D5663\"}, \"title\": {\"font\": {\"color\": \"#4D5663\"}, \"text\": \"\"}, \"zerolinecolor\": \"#E1E5ED\"}, \"xaxis16\": {\"anchor\": \"y16\", \"domain\": [0.7875, 1.0], \"gridcolor\": \"#E1E5ED\", \"showgrid\": false, \"tickfont\": {\"color\": \"#4D5663\"}, \"title\": {\"font\": {\"color\": \"#4D5663\"}, \"text\": \"\"}, \"zerolinecolor\": \"#E1E5ED\"}, \"xaxis2\": {\"anchor\": \"y2\", \"domain\": [0.2625, 0.475], \"gridcolor\": \"#E1E5ED\", \"showgrid\": false, \"tickfont\": {\"color\": \"#4D5663\"}, \"title\": {\"font\": {\"color\": \"#4D5663\"}, \"text\": \"\"}, \"zerolinecolor\": \"#E1E5ED\"}, \"xaxis3\": {\"anchor\": \"y3\", \"domain\": [0.525, 0.7375], \"gridcolor\": \"#E1E5ED\", \"showgrid\": false, \"tickfont\": {\"color\": \"#4D5663\"}, \"title\": {\"font\": {\"color\": \"#4D5663\"}, \"text\": \"\"}, \"zerolinecolor\": \"#E1E5ED\"}, \"xaxis4\": {\"anchor\": \"y4\", \"domain\": [0.7875, 1.0], \"gridcolor\": \"#E1E5ED\", \"showgrid\": false, \"tickfont\": {\"color\": \"#4D5663\"}, \"title\": {\"font\": {\"color\": \"#4D5663\"}, \"text\": \"\"}, \"zerolinecolor\": \"#E1E5ED\"}, \"xaxis5\": {\"anchor\": \"y5\", \"domain\": [0.0, 0.2125], \"gridcolor\": \"#E1E5ED\", \"showgrid\": false, \"tickfont\": {\"color\": \"#4D5663\"}, \"title\": {\"font\": {\"color\": \"#4D5663\"}, \"text\": \"\"}, \"zerolinecolor\": \"#E1E5ED\"}, \"xaxis6\": {\"anchor\": \"y6\", \"domain\": [0.2625, 0.475], \"gridcolor\": \"#E1E5ED\", \"showgrid\": false, \"tickfont\": {\"color\": \"#4D5663\"}, \"title\": {\"font\": {\"color\": \"#4D5663\"}, \"text\": \"\"}, \"zerolinecolor\": \"#E1E5ED\"}, \"xaxis7\": {\"anchor\": \"y7\", \"domain\": [0.525, 0.7375], \"gridcolor\": \"#E1E5ED\", \"showgrid\": false, \"tickfont\": {\"color\": \"#4D5663\"}, \"title\": {\"font\": {\"color\": \"#4D5663\"}, \"text\": \"\"}, \"zerolinecolor\": \"#E1E5ED\"}, \"xaxis8\": {\"anchor\": \"y8\", \"domain\": [0.7875, 1.0], \"gridcolor\": \"#E1E5ED\", \"showgrid\": false, \"tickfont\": {\"color\": \"#4D5663\"}, \"title\": {\"font\": {\"color\": \"#4D5663\"}, \"text\": \"\"}, \"zerolinecolor\": \"#E1E5ED\"}, \"xaxis9\": {\"anchor\": \"y9\", \"domain\": [0.0, 0.2125], \"gridcolor\": \"#E1E5ED\", \"showgrid\": false, \"tickfont\": {\"color\": \"#4D5663\"}, \"title\": {\"font\": {\"color\": \"#4D5663\"}, \"text\": \"\"}, \"zerolinecolor\": \"#E1E5ED\"}, \"yaxis\": {\"anchor\": \"x\", \"domain\": [0.8025, 1.0], \"gridcolor\": \"#E1E5ED\", \"showgrid\": false, \"tickfont\": {\"color\": \"#4D5663\"}, \"title\": {\"font\": {\"color\": \"#4D5663\"}, \"text\": \"\"}, \"zerolinecolor\": \"#E1E5ED\"}, \"yaxis10\": {\"anchor\": \"x10\", \"domain\": [0.2675, 0.465], \"gridcolor\": \"#E1E5ED\", \"showgrid\": false, \"tickfont\": {\"color\": \"#4D5663\"}, \"title\": {\"font\": {\"color\": \"#4D5663\"}, \"text\": \"\"}, \"zerolinecolor\": \"#E1E5ED\"}, \"yaxis11\": {\"anchor\": \"x11\", \"domain\": [0.2675, 0.465], \"gridcolor\": \"#E1E5ED\", \"showgrid\": false, \"tickfont\": {\"color\": \"#4D5663\"}, \"title\": {\"font\": {\"color\": \"#4D5663\"}, \"text\": \"\"}, \"zerolinecolor\": \"#E1E5ED\"}, \"yaxis12\": {\"anchor\": \"x12\", \"domain\": [0.2675, 0.465], \"gridcolor\": \"#E1E5ED\", \"showgrid\": false, \"tickfont\": {\"color\": \"#4D5663\"}, \"title\": {\"font\": {\"color\": \"#4D5663\"}, \"text\": \"\"}, \"zerolinecolor\": \"#E1E5ED\"}, \"yaxis13\": {\"anchor\": \"x13\", \"domain\": [0.0, 0.1975], \"gridcolor\": \"#E1E5ED\", \"showgrid\": false, \"tickfont\": {\"color\": \"#4D5663\"}, \"title\": {\"font\": {\"color\": \"#4D5663\"}, \"text\": \"\"}, \"zerolinecolor\": \"#E1E5ED\"}, \"yaxis14\": {\"anchor\": \"x14\", \"domain\": [0.0, 0.1975], \"gridcolor\": \"#E1E5ED\", \"showgrid\": false, \"tickfont\": {\"color\": \"#4D5663\"}, \"title\": {\"font\": {\"color\": \"#4D5663\"}, \"text\": \"\"}, \"zerolinecolor\": \"#E1E5ED\"}, \"yaxis15\": {\"anchor\": \"x15\", \"domain\": [0.0, 0.1975], \"gridcolor\": \"#E1E5ED\", \"showgrid\": false, \"tickfont\": {\"color\": \"#4D5663\"}, \"title\": {\"font\": {\"color\": \"#4D5663\"}, \"text\": \"\"}, \"zerolinecolor\": \"#E1E5ED\"}, \"yaxis16\": {\"anchor\": \"x16\", \"domain\": [0.0, 0.1975], \"gridcolor\": \"#E1E5ED\", \"showgrid\": false, \"tickfont\": {\"color\": \"#4D5663\"}, \"title\": {\"font\": {\"color\": \"#4D5663\"}, \"text\": \"\"}, \"zerolinecolor\": \"#E1E5ED\"}, \"yaxis2\": {\"anchor\": \"x2\", \"domain\": [0.8025, 1.0], \"gridcolor\": \"#E1E5ED\", \"showgrid\": false, \"tickfont\": {\"color\": \"#4D5663\"}, \"title\": {\"font\": {\"color\": \"#4D5663\"}, \"text\": \"\"}, \"zerolinecolor\": \"#E1E5ED\"}, \"yaxis3\": {\"anchor\": \"x3\", \"domain\": [0.8025, 1.0], \"gridcolor\": \"#E1E5ED\", \"showgrid\": false, \"tickfont\": {\"color\": \"#4D5663\"}, \"title\": {\"font\": {\"color\": \"#4D5663\"}, \"text\": \"\"}, \"zerolinecolor\": \"#E1E5ED\"}, \"yaxis4\": {\"anchor\": \"x4\", \"domain\": [0.8025, 1.0], \"gridcolor\": \"#E1E5ED\", \"showgrid\": false, \"tickfont\": {\"color\": \"#4D5663\"}, \"title\": {\"font\": {\"color\": \"#4D5663\"}, \"text\": \"\"}, \"zerolinecolor\": \"#E1E5ED\"}, \"yaxis5\": {\"anchor\": \"x5\", \"domain\": [0.535, 0.7325], \"gridcolor\": \"#E1E5ED\", \"showgrid\": false, \"tickfont\": {\"color\": \"#4D5663\"}, \"title\": {\"font\": {\"color\": \"#4D5663\"}, \"text\": \"\"}, \"zerolinecolor\": \"#E1E5ED\"}, \"yaxis6\": {\"anchor\": \"x6\", \"domain\": [0.535, 0.7325], \"gridcolor\": \"#E1E5ED\", \"showgrid\": false, \"tickfont\": {\"color\": \"#4D5663\"}, \"title\": {\"font\": {\"color\": \"#4D5663\"}, \"text\": \"\"}, \"zerolinecolor\": \"#E1E5ED\"}, \"yaxis7\": {\"anchor\": \"x7\", \"domain\": [0.535, 0.7325], \"gridcolor\": \"#E1E5ED\", \"showgrid\": false, \"tickfont\": {\"color\": \"#4D5663\"}, \"title\": {\"font\": {\"color\": \"#4D5663\"}, \"text\": \"\"}, \"zerolinecolor\": \"#E1E5ED\"}, \"yaxis8\": {\"anchor\": \"x8\", \"domain\": [0.535, 0.7325], \"gridcolor\": \"#E1E5ED\", \"showgrid\": false, \"tickfont\": {\"color\": \"#4D5663\"}, \"title\": {\"font\": {\"color\": \"#4D5663\"}, \"text\": \"\"}, \"zerolinecolor\": \"#E1E5ED\"}, \"yaxis9\": {\"anchor\": \"x9\", \"domain\": [0.2675, 0.465], \"gridcolor\": \"#E1E5ED\", \"showgrid\": false, \"tickfont\": {\"color\": \"#4D5663\"}, \"title\": {\"font\": {\"color\": \"#4D5663\"}, \"text\": \"\"}, \"zerolinecolor\": \"#E1E5ED\"}},\n",
       "                        {\"showLink\": true, \"linkText\": \"Export to plot.ly\", \"plotlyServerURL\": \"https://plot.ly\", \"responsive\": true}\n",
       "                    ).then(function(){\n",
       "                            \n",
       "var gd = document.getElementById('096dd599-7aa4-4074-ad14-5afcfaf6c5bd');\n",
       "var x = new MutationObserver(function (mutations, observer) {{\n",
       "        var display = window.getComputedStyle(gd).display;\n",
       "        if (!display || display === 'none') {{\n",
       "            console.log([gd, 'removed!']);\n",
       "            Plotly.purge(gd);\n",
       "            observer.disconnect();\n",
       "        }}\n",
       "}});\n",
       "\n",
       "// Listen for the removal of the full notebook cells\n",
       "var notebookContainer = gd.closest('#notebook-container');\n",
       "if (notebookContainer) {{\n",
       "    x.observe(notebookContainer, {childList: true});\n",
       "}}\n",
       "\n",
       "// Listen for the clearing of the current output cell\n",
       "var outputEl = gd.closest('.output');\n",
       "if (outputEl) {{\n",
       "    x.observe(outputEl, {childList: true});\n",
       "}}\n",
       "\n",
       "                        })\n",
       "                };\n",
       "                });\n",
       "            </script>\n",
       "        </div>"
      ]
     },
     "metadata": {},
     "output_type": "display_data"
    }
   ],
   "source": [
    "df.scatter_matrix()"
   ]
  },
  {
   "cell_type": "markdown",
   "metadata": {
    "collapsed": true
   },
   "source": [
    "# Great Job!"
   ]
  }
 ],
 "metadata": {
  "kernelspec": {
   "display_name": "Python 3",
   "language": "python",
   "name": "python3"
  },
  "language_info": {
   "codemirror_mode": {
    "name": "ipython",
    "version": 3
   },
   "file_extension": ".py",
   "mimetype": "text/x-python",
   "name": "python",
   "nbconvert_exporter": "python",
   "pygments_lexer": "ipython3",
   "version": "3.7.6"
  }
 },
 "nbformat": 4,
 "nbformat_minor": 1
}
