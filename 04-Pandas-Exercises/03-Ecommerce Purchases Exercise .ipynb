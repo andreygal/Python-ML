{
 "cells": [
  {
   "cell_type": "markdown",
   "metadata": {},
   "source": [
    "___\n",
    "\n",
    "<a href='http://www.pieriandata.com'> <img src='../../Pierian_Data_Logo.png' /></a>\n",
    "___\n",
    "# Ecommerce Purchases Exercise\n",
    "\n",
    "In this Exercise you will be given some Fake Data about some purchases done through Amazon! Just go ahead and follow the directions and try your best to answer the questions and complete the tasks. Feel free to reference the solutions. Most of the tasks can be solved in different ways. For the most part, the questions get progressively harder.\n",
    "\n",
    "Please excuse anything that doesn't make \"Real-World\" sense in the dataframe, all the data is fake and made-up.\n",
    "\n",
    "Also note that all of these questions can be answered with one line of code.\n",
    "____\n",
    "** Import pandas and read in the Ecommerce Purchases csv file and set it to a DataFrame called ecom. **"
   ]
  },
  {
   "cell_type": "code",
   "execution_count": 1,
   "metadata": {},
   "outputs": [],
   "source": [
    "import pandas as pd\n"
   ]
  },
  {
   "cell_type": "code",
   "execution_count": 2,
   "metadata": {},
   "outputs": [
    {
     "data": {
      "text/plain": "                                                Address    Lot AM or PM  \\\n0     16629 Pace Camp Apt. 448\\nAlexisborough, NE 77...  46 in       PM   \n1     9374 Jasmine Spurs Suite 508\\nSouth John, TN 8...  28 rn       PM   \n2                      Unit 0065 Box 5052\\nDPO AP 27450  94 vE       PM   \n3                 7780 Julia Fords\\nNew Stacy, WA 45798  36 vm       PM   \n4     23012 Munoz Drive Suite 337\\nNew Cynthia, TX 5...  20 IE       AM   \n...                                                 ...    ...      ...   \n9995      966 Castaneda Locks\\nWest Juliafurt, CO 96415  92 XI       PM   \n9996  832 Curtis Dam Suite 785\\nNorth Edwardburgh, T...  41 JY       AM   \n9997              Unit 4434 Box 6343\\nDPO AE 28026-0283  74 Zh       AM   \n9998               0096 English Rest\\nRoystad, IA 12457  74 cL       PM   \n9999     40674 Barrett Stravenue\\nGrimesville, WI 79682  64 Hr       AM   \n\n                                           Browser Info  \\\n0     Opera/9.56.(X11; Linux x86_64; sl-SI) Presto/2...   \n1     Opera/8.93.(Windows 98; Win 9x 4.90; en-US) Pr...   \n2     Mozilla/5.0 (compatible; MSIE 9.0; Windows NT ...   \n3     Mozilla/5.0 (Macintosh; Intel Mac OS X 10_8_0 ...   \n4     Opera/9.58.(X11; Linux x86_64; it-IT) Presto/2...   \n...                                                 ...   \n9995  Mozilla/5.0 (Windows NT 5.1) AppleWebKit/5352 ...   \n9996  Mozilla/5.0 (compatible; MSIE 9.0; Windows NT ...   \n9997  Mozilla/5.0 (Macintosh; U; Intel Mac OS X 10_7...   \n9998  Mozilla/5.0 (Macintosh; Intel Mac OS X 10_8_8;...   \n9999  Mozilla/5.0 (X11; Linux i686; rv:1.9.5.20) Gec...   \n\n                              Company       Credit Card CC Exp Date  \\\n0                     Martinez-Herman  6011929061123406       02/20   \n1     Fletcher, Richards and Whitaker  3337758169645356       11/18   \n2          Simpson, Williams and Pham      675957666125       08/19   \n3     Williams, Marshall and Buchanan  6011578504430710       02/24   \n4           Brown, Watson and Andrews  6011456623207998       10/25   \n...                               ...               ...         ...   \n9995                    Randall-Sloan   342945015358701       03/22   \n9996         Hale, Collins and Wilson   210033169205009       07/25   \n9997                     Anderson Ltd  6011539787356311       05/21   \n9998                         Cook Inc   180003348082930       11/17   \n9999                       Greene Inc  4139972901927273       02/19   \n\n      CC Security Code                  CC Provider  \\\n0                  900                 JCB 16 digit   \n1                  561                   Mastercard   \n2                  699                 JCB 16 digit   \n3                  384                     Discover   \n4                  678  Diners Club / Carte Blanche   \n...                ...                          ...   \n9995               838                 JCB 15 digit   \n9996               207                 JCB 16 digit   \n9997                 1                VISA 16 digit   \n9998               987             American Express   \n9999               302                 JCB 15 digit   \n\n                               Email                                     Job  \\\n0                  pdunlap@yahoo.com  Scientist, product/process development   \n1                 anthony41@reed.com                       Drilling engineer   \n2     amymiller@morales-harrison.com                Customer service manager   \n3        brent16@olson-robinson.info                       Drilling engineer   \n4        christopherwright@gmail.com                             Fine artist   \n...                              ...                                     ...   \n9995          iscott@wade-garner.com                              Printmaker   \n9996              mary85@hotmail.com                         Energy engineer   \n9997               tyler16@gmail.com                      Veterinary surgeon   \n9998         elizabethmoore@reid.net                Local government officer   \n9999           rachelford@vaughn.com                  Embryologist, clinical   \n\n           IP Address Language  Purchase Price  \n0     149.146.147.205       el           98.14  \n1        15.160.41.51       fr           70.73  \n2      132.207.160.22       de            0.95  \n3        30.250.74.19       es           78.04  \n4        24.140.33.94       es           77.82  \n...               ...      ...             ...  \n9995    29.73.197.114       it           82.21  \n9996   121.133.168.51       pt           25.63  \n9997    156.210.0.254       el           83.98  \n9998     55.78.26.143       es           38.84  \n9999  176.119.198.199       el           67.59  \n\n[10000 rows x 14 columns]",
      "text/html": "<div>\n<style scoped>\n    .dataframe tbody tr th:only-of-type {\n        vertical-align: middle;\n    }\n\n    .dataframe tbody tr th {\n        vertical-align: top;\n    }\n\n    .dataframe thead th {\n        text-align: right;\n    }\n</style>\n<table border=\"1\" class=\"dataframe\">\n  <thead>\n    <tr style=\"text-align: right;\">\n      <th></th>\n      <th>Address</th>\n      <th>Lot</th>\n      <th>AM or PM</th>\n      <th>Browser Info</th>\n      <th>Company</th>\n      <th>Credit Card</th>\n      <th>CC Exp Date</th>\n      <th>CC Security Code</th>\n      <th>CC Provider</th>\n      <th>Email</th>\n      <th>Job</th>\n      <th>IP Address</th>\n      <th>Language</th>\n      <th>Purchase Price</th>\n    </tr>\n  </thead>\n  <tbody>\n    <tr>\n      <th>0</th>\n      <td>16629 Pace Camp Apt. 448\\nAlexisborough, NE 77...</td>\n      <td>46 in</td>\n      <td>PM</td>\n      <td>Opera/9.56.(X11; Linux x86_64; sl-SI) Presto/2...</td>\n      <td>Martinez-Herman</td>\n      <td>6011929061123406</td>\n      <td>02/20</td>\n      <td>900</td>\n      <td>JCB 16 digit</td>\n      <td>pdunlap@yahoo.com</td>\n      <td>Scientist, product/process development</td>\n      <td>149.146.147.205</td>\n      <td>el</td>\n      <td>98.14</td>\n    </tr>\n    <tr>\n      <th>1</th>\n      <td>9374 Jasmine Spurs Suite 508\\nSouth John, TN 8...</td>\n      <td>28 rn</td>\n      <td>PM</td>\n      <td>Opera/8.93.(Windows 98; Win 9x 4.90; en-US) Pr...</td>\n      <td>Fletcher, Richards and Whitaker</td>\n      <td>3337758169645356</td>\n      <td>11/18</td>\n      <td>561</td>\n      <td>Mastercard</td>\n      <td>anthony41@reed.com</td>\n      <td>Drilling engineer</td>\n      <td>15.160.41.51</td>\n      <td>fr</td>\n      <td>70.73</td>\n    </tr>\n    <tr>\n      <th>2</th>\n      <td>Unit 0065 Box 5052\\nDPO AP 27450</td>\n      <td>94 vE</td>\n      <td>PM</td>\n      <td>Mozilla/5.0 (compatible; MSIE 9.0; Windows NT ...</td>\n      <td>Simpson, Williams and Pham</td>\n      <td>675957666125</td>\n      <td>08/19</td>\n      <td>699</td>\n      <td>JCB 16 digit</td>\n      <td>amymiller@morales-harrison.com</td>\n      <td>Customer service manager</td>\n      <td>132.207.160.22</td>\n      <td>de</td>\n      <td>0.95</td>\n    </tr>\n    <tr>\n      <th>3</th>\n      <td>7780 Julia Fords\\nNew Stacy, WA 45798</td>\n      <td>36 vm</td>\n      <td>PM</td>\n      <td>Mozilla/5.0 (Macintosh; Intel Mac OS X 10_8_0 ...</td>\n      <td>Williams, Marshall and Buchanan</td>\n      <td>6011578504430710</td>\n      <td>02/24</td>\n      <td>384</td>\n      <td>Discover</td>\n      <td>brent16@olson-robinson.info</td>\n      <td>Drilling engineer</td>\n      <td>30.250.74.19</td>\n      <td>es</td>\n      <td>78.04</td>\n    </tr>\n    <tr>\n      <th>4</th>\n      <td>23012 Munoz Drive Suite 337\\nNew Cynthia, TX 5...</td>\n      <td>20 IE</td>\n      <td>AM</td>\n      <td>Opera/9.58.(X11; Linux x86_64; it-IT) Presto/2...</td>\n      <td>Brown, Watson and Andrews</td>\n      <td>6011456623207998</td>\n      <td>10/25</td>\n      <td>678</td>\n      <td>Diners Club / Carte Blanche</td>\n      <td>christopherwright@gmail.com</td>\n      <td>Fine artist</td>\n      <td>24.140.33.94</td>\n      <td>es</td>\n      <td>77.82</td>\n    </tr>\n    <tr>\n      <th>...</th>\n      <td>...</td>\n      <td>...</td>\n      <td>...</td>\n      <td>...</td>\n      <td>...</td>\n      <td>...</td>\n      <td>...</td>\n      <td>...</td>\n      <td>...</td>\n      <td>...</td>\n      <td>...</td>\n      <td>...</td>\n      <td>...</td>\n      <td>...</td>\n    </tr>\n    <tr>\n      <th>9995</th>\n      <td>966 Castaneda Locks\\nWest Juliafurt, CO 96415</td>\n      <td>92 XI</td>\n      <td>PM</td>\n      <td>Mozilla/5.0 (Windows NT 5.1) AppleWebKit/5352 ...</td>\n      <td>Randall-Sloan</td>\n      <td>342945015358701</td>\n      <td>03/22</td>\n      <td>838</td>\n      <td>JCB 15 digit</td>\n      <td>iscott@wade-garner.com</td>\n      <td>Printmaker</td>\n      <td>29.73.197.114</td>\n      <td>it</td>\n      <td>82.21</td>\n    </tr>\n    <tr>\n      <th>9996</th>\n      <td>832 Curtis Dam Suite 785\\nNorth Edwardburgh, T...</td>\n      <td>41 JY</td>\n      <td>AM</td>\n      <td>Mozilla/5.0 (compatible; MSIE 9.0; Windows NT ...</td>\n      <td>Hale, Collins and Wilson</td>\n      <td>210033169205009</td>\n      <td>07/25</td>\n      <td>207</td>\n      <td>JCB 16 digit</td>\n      <td>mary85@hotmail.com</td>\n      <td>Energy engineer</td>\n      <td>121.133.168.51</td>\n      <td>pt</td>\n      <td>25.63</td>\n    </tr>\n    <tr>\n      <th>9997</th>\n      <td>Unit 4434 Box 6343\\nDPO AE 28026-0283</td>\n      <td>74 Zh</td>\n      <td>AM</td>\n      <td>Mozilla/5.0 (Macintosh; U; Intel Mac OS X 10_7...</td>\n      <td>Anderson Ltd</td>\n      <td>6011539787356311</td>\n      <td>05/21</td>\n      <td>1</td>\n      <td>VISA 16 digit</td>\n      <td>tyler16@gmail.com</td>\n      <td>Veterinary surgeon</td>\n      <td>156.210.0.254</td>\n      <td>el</td>\n      <td>83.98</td>\n    </tr>\n    <tr>\n      <th>9998</th>\n      <td>0096 English Rest\\nRoystad, IA 12457</td>\n      <td>74 cL</td>\n      <td>PM</td>\n      <td>Mozilla/5.0 (Macintosh; Intel Mac OS X 10_8_8;...</td>\n      <td>Cook Inc</td>\n      <td>180003348082930</td>\n      <td>11/17</td>\n      <td>987</td>\n      <td>American Express</td>\n      <td>elizabethmoore@reid.net</td>\n      <td>Local government officer</td>\n      <td>55.78.26.143</td>\n      <td>es</td>\n      <td>38.84</td>\n    </tr>\n    <tr>\n      <th>9999</th>\n      <td>40674 Barrett Stravenue\\nGrimesville, WI 79682</td>\n      <td>64 Hr</td>\n      <td>AM</td>\n      <td>Mozilla/5.0 (X11; Linux i686; rv:1.9.5.20) Gec...</td>\n      <td>Greene Inc</td>\n      <td>4139972901927273</td>\n      <td>02/19</td>\n      <td>302</td>\n      <td>JCB 15 digit</td>\n      <td>rachelford@vaughn.com</td>\n      <td>Embryologist, clinical</td>\n      <td>176.119.198.199</td>\n      <td>el</td>\n      <td>67.59</td>\n    </tr>\n  </tbody>\n</table>\n<p>10000 rows × 14 columns</p>\n</div>"
     },
     "execution_count": 2,
     "metadata": {},
     "output_type": "execute_result"
    }
   ],
   "source": [
    "pur = pd.read_csv('Ecommerce Purchases')\n",
    "pur"
   ]
  },
  {
   "cell_type": "markdown",
   "metadata": {},
   "source": [
    "**Check the head of the DataFrame.**"
   ]
  },
  {
   "cell_type": "code",
   "execution_count": 3,
   "metadata": {},
   "outputs": [
    {
     "data": {
      "text/plain": "                                             Address    Lot AM or PM  \\\n0  16629 Pace Camp Apt. 448\\nAlexisborough, NE 77...  46 in       PM   \n\n                                        Browser Info          Company  \\\n0  Opera/9.56.(X11; Linux x86_64; sl-SI) Presto/2...  Martinez-Herman   \n\n        Credit Card CC Exp Date  CC Security Code   CC Provider  \\\n0  6011929061123406       02/20               900  JCB 16 digit   \n\n               Email                                     Job       IP Address  \\\n0  pdunlap@yahoo.com  Scientist, product/process development  149.146.147.205   \n\n  Language  Purchase Price  \n0       el           98.14  ",
      "text/html": "<div>\n<style scoped>\n    .dataframe tbody tr th:only-of-type {\n        vertical-align: middle;\n    }\n\n    .dataframe tbody tr th {\n        vertical-align: top;\n    }\n\n    .dataframe thead th {\n        text-align: right;\n    }\n</style>\n<table border=\"1\" class=\"dataframe\">\n  <thead>\n    <tr style=\"text-align: right;\">\n      <th></th>\n      <th>Address</th>\n      <th>Lot</th>\n      <th>AM or PM</th>\n      <th>Browser Info</th>\n      <th>Company</th>\n      <th>Credit Card</th>\n      <th>CC Exp Date</th>\n      <th>CC Security Code</th>\n      <th>CC Provider</th>\n      <th>Email</th>\n      <th>Job</th>\n      <th>IP Address</th>\n      <th>Language</th>\n      <th>Purchase Price</th>\n    </tr>\n  </thead>\n  <tbody>\n    <tr>\n      <th>0</th>\n      <td>16629 Pace Camp Apt. 448\\nAlexisborough, NE 77...</td>\n      <td>46 in</td>\n      <td>PM</td>\n      <td>Opera/9.56.(X11; Linux x86_64; sl-SI) Presto/2...</td>\n      <td>Martinez-Herman</td>\n      <td>6011929061123406</td>\n      <td>02/20</td>\n      <td>900</td>\n      <td>JCB 16 digit</td>\n      <td>pdunlap@yahoo.com</td>\n      <td>Scientist, product/process development</td>\n      <td>149.146.147.205</td>\n      <td>el</td>\n      <td>98.14</td>\n    </tr>\n  </tbody>\n</table>\n</div>"
     },
     "execution_count": 3,
     "metadata": {},
     "output_type": "execute_result"
    }
   ],
   "source": [
    "pur.head(1)"
   ]
  },
  {
   "cell_type": "markdown",
   "metadata": {},
   "source": [
    "** How many rows and columns are there? **"
   ]
  },
  {
   "cell_type": "code",
   "execution_count": 4,
   "metadata": {},
   "outputs": [
    {
     "ename": "SyntaxError",
     "evalue": "invalid syntax (<ipython-input-4-9fbca30e2464>, line 1)",
     "output_type": "error",
     "traceback": [
      "\u001B[0;36m  File \u001B[0;32m\"<ipython-input-4-9fbca30e2464>\"\u001B[0;36m, line \u001B[0;32m1\u001B[0m\n\u001B[0;31m    pur.info()49265352426728534926535242672853\u001B[0m\n\u001B[0m                                             ^\u001B[0m\n\u001B[0;31mSyntaxError\u001B[0m\u001B[0;31m:\u001B[0m invalid syntax\n"
     ]
    }
   ],
   "source": [
    "pur.info()49265352426728534926535242672853"
   ]
  },
  {
   "cell_type": "markdown",
   "metadata": {},
   "source": [
    "** What is the average Purchase Price? **"
   ]
  },
  {
   "cell_type": "code",
   "execution_count": null,
   "metadata": {},
   "outputs": [],
   "source": [
    "pur['Purchase Price'].mean()"
   ]
  },
  {
   "cell_type": "markdown",
   "metadata": {},
   "source": [
    "** What were the highest and lowest purchase prices? **"
   ]
  },
  {
   "cell_type": "code",
   "execution_count": null,
   "metadata": {},
   "outputs": [],
   "source": [
    "pur['Purchase Price'].min()"
   ]
  },
  {
   "cell_type": "code",
   "execution_count": null,
   "metadata": {},
   "outputs": [],
   "source": [
    "pur['Purchase Price'].max()"
   ]
  },
  {
   "cell_type": "markdown",
   "metadata": {},
   "source": [
    "** How many people have English 'en' as their Language of choice on the website? **"
   ]
  },
  {
   "cell_type": "code",
   "execution_count": null,
   "metadata": {},
   "outputs": [],
   "source": [
    "(pur['Language'] == 'en').sum()"
   ]
  },
  {
   "cell_type": "markdown",
   "metadata": {},
   "source": [
    "** How many people have the job title of \"Lawyer\" ? **\n"
   ]
  },
  {
   "cell_type": "code",
   "execution_count": null,
   "metadata": {},
   "outputs": [],
   "source": [
    "(pur['Job'] == 'Lawyer').sum()"
   ]
  },
  {
   "cell_type": "markdown",
   "metadata": {},
   "source": [
    "** How many people made the purchase during the AM and how many people made the purchase during PM ? **\n",
    "\n",
    "**(Hint: Check out [value_counts()](http://pandas.pydata.org/pandas-docs/stable/generated/pandas.Series.value_counts.html) ) **"
   ]
  },
  {
   "cell_type": "code",
   "execution_count": null,
   "metadata": {},
   "outputs": [],
   "source": [
    "pur['AM or PM'].value_counts()"
   ]
  },
  {
   "cell_type": "markdown",
   "metadata": {},
   "source": [
    "** What are the 5 most common Job Titles? **"
   ]
  },
  {
   "cell_type": "code",
   "execution_count": null,
   "metadata": {},
   "outputs": [],
   "source": [
    "pur['Job'].value_counts().head(5)"
   ]
  },
  {
   "cell_type": "markdown",
   "metadata": {},
   "source": [
    "** Someone made a purchase that came from Lot: \"90 WT\" , what was the Purchase Price for this transaction? **"
   ]
  },
  {
   "cell_type": "code",
   "execution_count": null,
   "metadata": {},
   "outputs": [],
   "source": [
    "pur[pur['Lot'] == '90 WT']['Purchase Price']"
   ]
  },
  {
   "cell_type": "markdown",
   "metadata": {},
   "source": [
    "** What is the email of the person with the following Credit Card Number: 4926535242672853 **"
   ]
  },
  {
   "cell_type": "code",
   "execution_count": null,
   "metadata": {},
   "outputs": [],
   "source": [
    "pur[pur['Credit Card'] == 4926535242672853]['Email']"
   ]
  },
  {
   "cell_type": "markdown",
   "metadata": {},
   "source": [
    "4926535242672853\n",
    "** How many people have American Express as their Credit Card Provider *and* made a purchase above $95 ?**"
   ]
  },
  {
   "cell_type": "code",
   "execution_count": null,
   "metadata": {},
   "outputs": [],
   "source": [
    "((pur['CC Provider'] == 'American Express') & (pur['Purchase Price'] > 95)).sum()\n"
   ]
  },
  {
   "cell_type": "markdown",
   "metadata": {},
   "source": [
    "** Hard: How many people have a credit card that expires in 2025? **"
   ]
  },
  {
   "cell_type": "code",
   "execution_count": null,
   "metadata": {},
   "outputs": [],
   "source": [
    "4926535242672853\n"
   ]
  },
  {
   "cell_type": "markdown",
   "metadata": {},
   "source": [
    "** Hard: What are the top 5 most popular email providers/hosts (e.g. gmail.com, yahoo.com, etc...) **"
   ]
  },
  {
   "cell_type": "code",
   "execution_count": null,
   "metadata": {},
   "outputs": [],
   "source": []
  },
  {
   "cell_type": "markdown",
   "metadata": {},
   "source": [
    "# Great Job!"
   ]
  }
 ],
 "metadata": {
  "kernelspec": {
   "display_name": "Python 3",
   "language": "python",
   "name": "python3"
  },
  "language_info": {
   "codemirror_mode": {
    "name": "ipython",
    "version": 3
   },
   "file_extension": ".py",
   "mimetype": "text/x-python",
   "name": "python",
   "nbconvert_exporter": "python",
   "pygments_lexer": "ipython3",
   "version": "3.7.6"
  }
 },
 "nbformat": 4,
 "nbformat_minor": 1
}